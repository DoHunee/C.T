{
 "cells": [
  {
   "cell_type": "code",
   "execution_count": 5,
   "id": "cfe1d82e",
   "metadata": {},
   "outputs": [],
   "source": [
    "# 영어점수 직업만족도 회귀분석  (Do it 파이썬 생활프로그래밍) 초판 2020: 218페이지\n",
    "import os, re, usecsv\n",
    "import numpy as np\n",
    "\n",
    "# 데이터프레임 다루기 \n",
    "import pandas as pd\n",
    "# 기초 통계분석 패키지\n",
    "from scipy import stats\n",
    "# 그래프 그리기  \n",
    "import matplotlib.pyplot as plt\n",
    "#회귀분석 가능 패키지\n",
    "import statsmodels.api as sm\n",
    "import statsmodels.formula.api as smf"
   ]
  },
  {
   "cell_type": "code",
   "execution_count": 7,
   "id": "a2cdc5b6",
   "metadata": {},
   "outputs": [],
   "source": [
    "# 직업만족도\n",
    "# survey 변수들:  name sex  income  English  jobSatisfaction  stress\n",
    "df = pd.read_csv(\"survey.csv\")\n",
    "\n",
    "# 독립표본 t-검정\n",
    "# 변수생성\n",
    "male = df.income[df.sex == \"m\"] # 남성\n",
    "female = df.income[df.sex == \"f\"] # 여성\n",
    "\n",
    "#Levene의 등분산 검정 \n",
    "l_result = stats.levene(male, female)"
   ]
  },
  {
   "cell_type": "code",
   "execution_count": 8,
   "id": "0f5dd2ca",
   "metadata": {},
   "outputs": [
    {
     "name": "stdout",
     "output_type": "stream",
     "text": [
      "P value는 0.258716 로 95 수준에서 유의하지 않음\n",
      "남성 4285.64 여성 4333.11 \n",
      "등분산검정 결과 LeveneResult(F) : 1.348 \n",
      "p-value : 0.259\n"
     ]
    }
   ],
   "source": [
    "# 유의 수준 표시하기 \n",
    "if l_result[1] > .05:\n",
    "    print('P value는 %f 로 95 수준에서 유의하지 않음' % l_result[1])\n",
    "else :\n",
    "    print('P value는 %f 로 95 percent 수준에서 유의함' % l_result[1])\n",
    "\n",
    "print( '남성', round(male.mean(),2), '여성',round(female.mean(),2),'\\n등분산검정 결과 LeveneResult(F) : %.3f \\np-value : %.3f' % (l_result)) \n"
   ]
  },
  {
   "cell_type": "code",
   "execution_count": 9,
   "id": "06ca905c",
   "metadata": {},
   "outputs": [
    {
     "name": "stdout",
     "output_type": "stream",
     "text": [
      "                            OLS Regression Results                            \n",
      "==============================================================================\n",
      "Dep. Variable:        jobSatisfaction   R-squared:                       0.187\n",
      "Model:                            OLS   Adj. R-squared:                  0.059\n",
      "Method:                 Least Squares   F-statistic:                     1.458\n",
      "Date:                Fri, 21 Apr 2023   Prob (F-statistic):              0.258\n",
      "Time:                        14:16:35   Log-Likelihood:                -35.038\n",
      "No. Observations:                  23   AIC:                             78.08\n",
      "Df Residuals:                      19   BIC:                             82.62\n",
      "Df Model:                           3                                         \n",
      "Covariance Type:            nonrobust                                         \n",
      "==============================================================================\n",
      "                 coef    std err          t      P>|t|      [0.025      0.975]\n",
      "------------------------------------------------------------------------------\n",
      "Intercept      4.9159      1.712      2.871      0.010       1.333       8.499\n",
      "English       -0.0064      0.003     -1.931      0.069      -0.013       0.001\n",
      "stress         0.2141      0.187      1.145      0.266      -0.177       0.606\n",
      "income         0.0004      0.000      1.125      0.275      -0.000       0.001\n",
      "==============================================================================\n",
      "Omnibus:                        0.278   Durbin-Watson:                   0.989\n",
      "Prob(Omnibus):                  0.870   Jarque-Bera (JB):                0.457\n",
      "Skew:                          -0.036   Prob(JB):                        0.796\n",
      "Kurtosis:                       2.313   Cond. No.                     3.00e+04\n",
      "==============================================================================\n",
      "\n",
      "Notes:\n",
      "[1] Standard Errors assume that the covariance matrix of the errors is correctly specified.\n",
      "[2] The condition number is large,  3e+04. This might indicate that there are\n",
      "strong multicollinearity or other numerical problems.\n"
     ]
    }
   ],
   "source": [
    "# 가상의 분석자료로 회귀분석 결과 구하기 \n",
    "model = smf.ols(formula = 'jobSatisfaction ~ English + stress + income', data = df)\n",
    "result = model.fit()\n",
    "print(result.summary())"
   ]
  },
  {
   "cell_type": "code",
   "execution_count": null,
   "id": "ebdac10b",
   "metadata": {},
   "outputs": [],
   "source": []
  }
 ],
 "metadata": {
  "kernelspec": {
   "display_name": "Python 3",
   "language": "python",
   "name": "python3"
  },
  "language_info": {
   "codemirror_mode": {
    "name": "ipython",
    "version": 3
   },
   "file_extension": ".py",
   "mimetype": "text/x-python",
   "name": "python",
   "nbconvert_exporter": "python",
   "pygments_lexer": "ipython3",
   "version": "3.8.8"
  }
 },
 "nbformat": 4,
 "nbformat_minor": 5
}
