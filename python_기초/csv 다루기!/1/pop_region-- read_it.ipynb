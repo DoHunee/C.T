{
 "cells": [
  {
   "cell_type": "code",
   "execution_count": 1,
   "id": "92a4b84c",
   "metadata": {},
   "outputs": [],
   "source": [
    "import csv, os, re\n",
    "# 아래 작은 따옴표 안에 경로를 추가해줍니다. \n",
    "def opencsv(filename):\n",
    "    f=open(filename, 'r')\n",
    "    reader=csv.reader(f)\n",
    "    output=[]\n",
    "    for i in reader:\n",
    "        output.append(i)\n",
    "    return output\n"
   ]
  },
  {
   "cell_type": "code",
   "execution_count": 2,
   "id": "7dcc3ea5",
   "metadata": {},
   "outputs": [],
   "source": [
    "total = opencsv('pop_region.csv')\n",
    "def crease(figure):\n",
    "    if re.search('-',figure):\n",
    "        return \"감소\"\n",
    "    else: \n",
    "        return \"증가\"\n",
    "start_year = total[0][1]\n",
    "end_year = total[0][3]"
   ]
  },
  {
   "cell_type": "code",
   "execution_count": 3,
   "id": "9295f089",
   "metadata": {},
   "outputs": [],
   "source": [
    "with open('read_it.txt','w') as f:\n",
    "    for i in total[2:]:\n",
    "        creasing = crease(i[-2])\n",
    "        f.write('\\n%s의 %s년 인구는 %s명(%s)으로 %s년 %s명(%s)에 비하여 %s명 %s함, 점유율 변동(%s)' % (i[0], end_year, i[3],i[4],start_year,i[1],i[2],re.sub('-','',i[-2]), creasing, i[-1]))\n"
   ]
  },
  {
   "cell_type": "code",
   "execution_count": null,
   "id": "b2e2d9d0",
   "metadata": {},
   "outputs": [],
   "source": []
  }
 ],
 "metadata": {
  "kernelspec": {
   "display_name": "Python 3",
   "language": "python",
   "name": "python3"
  },
  "language_info": {
   "codemirror_mode": {
    "name": "ipython",
    "version": 3
   },
   "file_extension": ".py",
   "mimetype": "text/x-python",
   "name": "python",
   "nbconvert_exporter": "python",
   "pygments_lexer": "ipython3",
   "version": "3.8.8"
  }
 },
 "nbformat": 4,
 "nbformat_minor": 5
}
