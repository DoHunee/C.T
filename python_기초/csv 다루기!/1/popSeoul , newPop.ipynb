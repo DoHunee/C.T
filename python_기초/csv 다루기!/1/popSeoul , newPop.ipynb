{
 "cells": [
  {
   "cell_type": "code",
   "execution_count": 8,
   "id": "43feb02e",
   "metadata": {},
   "outputs": [
    {
     "name": "stdout",
     "output_type": "stream",
     "text": [
      "[['Gu', 'Korean', 'Foreigner', 'Senior'], ['Total', 9740398.0, 285529.0, 1468146.0], ['Jongrogu', 151767.0, 11093.0, 27394.0], ['Jongru', 126409.0, 10254.0, 23025.0]]\n"
     ]
    }
   ],
   "source": [
    "import os, re\t\t## os 모듈과 re 모듈은 항상 필요하기 때문에 먼저 임포트 합니다\n",
    "import usecsv\t\t## usecsv 모듈을 임포트 합니다\t\t\n",
    "\n",
    "# 파일 열기 \n",
    "total = usecsv.opencsv('popSeoul.csv')\t\n",
    "\n",
    "# 콤마 등을 제거하는 함수 usecsv.switch를 사용합니다. \n",
    "newPop = usecsv.switch(total)\t\n",
    "# 4번째 구까지만 시험으로 출력해봅니다. \n",
    "print(newPop[:4])\n"
   ]
  },
  {
   "cell_type": "code",
   "execution_count": 9,
   "id": "f01f7a4b",
   "metadata": {},
   "outputs": [
    {
     "name": "stdout",
     "output_type": "stream",
     "text": [
      "Total 2.8\n",
      "Jongrogu 6.8\n",
      "Jongru 7.5\n",
      "Yongsangu 6.6\n",
      "Seongdonggu 2.6\n",
      "Kwangjingu 4.2\n",
      "Dongdaemoongu 4.7\n",
      "Jungranggu 1.2\n",
      "Seongbukgu 2.8\n",
      "Gangbukgu 1.2\n",
      "Dobonggu 0.7\n",
      "Nowonggu 0.8\n",
      "Eunpyonggu 0.9\n",
      "Seodaemungu 4.3\n",
      "Mapogu 3.1\n",
      "Yangcheongu 0.9\n",
      "Gangseogu 1.1\n",
      "Gurogu 7.5\n",
      "Guemcheongu 7.7\n",
      "Youngdeungpogu 8.5\n",
      "Dongjakgu 3.1\n",
      "Kwanakgu 3.4\n",
      "Seoucheogu 1.0\n",
      "Gangnamgu 0.9\n",
      "Songpagu 1.0\n",
      "Gangdonggu 1.0\n"
     ]
    }
   ],
   "source": [
    "## 한 번 루프가 돌고 나면 foreign을 다시 지정해주어야 하므로 \n",
    "## foreign을 0으로 먼저 지정합니다\n",
    "for i in newPop:\n",
    "    foreign = 0\n",
    "    try:\n",
    "        foreign = round(i[2] / (i[1] + i[2]) * 100, 1)\n",
    "        print(i[0], foreign)\n",
    "## i[0]에는 지역구 이름이 저장되어 있고, foreign은 공식대로 우리가 계산한 외국인 비율입니다\n",
    "    except:\n",
    "        pass\n"
   ]
  },
  {
   "cell_type": "code",
   "execution_count": 10,
   "id": "91644ada",
   "metadata": {},
   "outputs": [],
   "source": [
    "new = [['구', '한국인', '외국인', '외국인 비율(%)']]   \n",
    "# 등록외국인의 비율이 3이 넘을 때만 넘을 때만 출력합니다. \n",
    "for i in newPop:\n",
    "        foreign = 0 \n",
    "        try:\n",
    "            foreign = round(i[2] / (i[1] + i[2]) * 100, 1)\n",
    "            if foreign > 3:\t\t \n",
    "                new.append([i[0], i[1],i[2],foreign])\n",
    "        except:\n",
    "            pass\n",
    "\n",
    "# 3% 넘는 구만 파일로 저장하기\n",
    "usecsv.writecsv('newPop.csv',new)"
   ]
  },
  {
   "cell_type": "code",
   "execution_count": null,
   "id": "990b9273",
   "metadata": {},
   "outputs": [],
   "source": []
  }
 ],
 "metadata": {
  "kernelspec": {
   "display_name": "Python 3",
   "language": "python",
   "name": "python3"
  },
  "language_info": {
   "codemirror_mode": {
    "name": "ipython",
    "version": 3
   },
   "file_extension": ".py",
   "mimetype": "text/x-python",
   "name": "python",
   "nbconvert_exporter": "python",
   "pygments_lexer": "ipython3",
   "version": "3.8.8"
  }
 },
 "nbformat": 4,
 "nbformat_minor": 5
}
