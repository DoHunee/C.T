{
 "cells": [
  {
   "cell_type": "code",
   "execution_count": null,
   "id": "345ef192",
   "metadata": {},
   "outputs": [],
   "source": [
    "import csv, os, re\n",
    "\n",
    "# opencsv is a method, which can open csv-style files\n",
    "# you can simply use it by putting the name of the file. \n",
    "# if you want to open \"a.csv\", then after \"import usecsv\"\n",
    "# opencsv('a.csv') or a = opencsv('a.csv')  \n",
    "\n",
    "def opencsv(filename):\n",
    "    f=open(filename, 'r')\n",
    "    reader=csv.reader(f)\n",
    "    output=[]\n",
    "    for i in reader:\n",
    "        output.append(i)\n",
    "    return output\n",
    "\t\n",
    "# writecsv is a method, which can change your csv-style list data into a new csv file \n",
    "# if you want to change a list, like a = [[1,2,3],[2,3,4]] into a csv file\n",
    "# after import usecsv, then \"writecsv('a.csv', a)\n",
    "\n",
    "def writecsv(filename, the_list):\n",
    "    with open(filename,'w',newline='') as f:\n",
    "        a=csv.writer(f, delimiter=',')\n",
    "        a.writerows(the_list)\n",
    "\n",
    "# switch is a method, which can change the element that can be changed into figure style into float\n",
    "# as you change a csv file into a csv style, all the elements are of string style\n",
    "# if you want to change it into float or integer, you can use the method of switch.\n",
    "# By changing them into the data of float, you can use it as figure. \n",
    "# a = [['1','2','3'],['2','3',5']] \n",
    "# b = switch(a)\n",
    "# b = [[1.0,2.0,3.0],[2.0,3.0,5.0]]\n",
    "\n",
    "def switch(listName):\n",
    "    for i in listName:        \n",
    "        for j in i:\n",
    "            try:\n",
    "                i[i.index(j)] = float(re.sub(',','',j))\n",
    "            except:\n",
    "                pass\n",
    "    return listName\n"
   ]
  },
  {
   "cell_type": "code",
   "execution_count": 1,
   "id": "ae8870a7",
   "metadata": {},
   "outputs": [],
   "source": [
    "import csv, os, re\n",
    "\n",
    "# opencsv is a method, which can open csv-style files\n",
    "# you can simply use it by putting the name of the file. \n",
    "# if you want to open \"a.csv\", then after \"import usecsv\"\n",
    "# opencsv('a.csv') or a = opencsv('a.csv')  \n",
    "\n",
    "def opencsv(filename):\n",
    "    f=open(filename, 'r')\n",
    "    reader=csv.reader(f)\n",
    "    output=[]\n",
    "    for i in reader:\n",
    "        output.append(i)\n",
    "    return output"
   ]
  },
  {
   "cell_type": "code",
   "execution_count": 2,
   "id": "0202792b",
   "metadata": {},
   "outputs": [],
   "source": [
    "def writecsv(filename, the_list):\n",
    "    with open(filename,'w',newline='') as f:\n",
    "        a=csv.writer(f, delimiter=',')\n",
    "        a.writerows(the_list)\n"
   ]
  },
  {
   "cell_type": "code",
   "execution_count": 3,
   "id": "ca17f7e6",
   "metadata": {},
   "outputs": [],
   "source": [
    "\n",
    "def switch(listName):\n",
    "    for i in listName:        \n",
    "        for j in i:\n",
    "            try:\n",
    "                i[i.index(j)] = float(re.sub(',','',j))\n",
    "            except:\n",
    "                pass\n",
    "    return listName\n"
   ]
  },
  {
   "cell_type": "code",
   "execution_count": null,
   "id": "37cabcbb",
   "metadata": {},
   "outputs": [],
   "source": []
  }
 ],
 "metadata": {
  "kernelspec": {
   "display_name": "Python 3",
   "language": "python",
   "name": "python3"
  },
  "language_info": {
   "codemirror_mode": {
    "name": "ipython",
    "version": 3
   },
   "file_extension": ".py",
   "mimetype": "text/x-python",
   "name": "python",
   "nbconvert_exporter": "python",
   "pygments_lexer": "ipython3",
   "version": "3.8.8"
  }
 },
 "nbformat": 4,
 "nbformat_minor": 5
}
