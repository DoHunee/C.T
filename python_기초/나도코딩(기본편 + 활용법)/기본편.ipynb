{
 "cells": [
  {
   "cell_type": "markdown",
   "id": "f188fb0e",
   "metadata": {},
   "source": [
    "# 1.변수와 데이터형"
   ]
  },
  {
   "cell_type": "code",
   "execution_count": 1,
   "id": "93fe3c0e",
   "metadata": {},
   "outputs": [
    {
     "name": "stdout",
     "output_type": "stream",
     "text": [
      "100+100\n"
     ]
    }
   ],
   "source": [
    "print(\"100+100\")"
   ]
  },
  {
   "cell_type": "code",
   "execution_count": 2,
   "id": "86ef20a6",
   "metadata": {},
   "outputs": [
    {
     "name": "stdout",
     "output_type": "stream",
     "text": [
      "200\n"
     ]
    }
   ],
   "source": [
    "print(\"%d\" %(100+100))"
   ]
  },
  {
   "cell_type": "code",
   "execution_count": 5,
   "id": "9783befa",
   "metadata": {},
   "outputs": [
    {
     "name": "stdout",
     "output_type": "stream",
     "text": [
      "2005\n"
     ]
    }
   ],
   "source": [
    "print(\"%d%d\" %(100+100 , 3+2))"
   ]
  },
  {
   "cell_type": "code",
   "execution_count": 7,
   "id": "eeb9b93f",
   "metadata": {},
   "outputs": [
    {
     "name": "stdout",
     "output_type": "stream",
     "text": [
      "200        5\n"
     ]
    }
   ],
   "source": [
    "print(\"%d        %d\" %(100+100 , 3+2))"
   ]
  },
  {
   "cell_type": "code",
   "execution_count": 13,
   "id": "0f15034f",
   "metadata": {},
   "outputs": [
    {
     "ename": "TypeError",
     "evalue": "not enough arguments for format string",
     "output_type": "error",
     "traceback": [
      "\u001b[1;31m---------------------------------------------------------------------------\u001b[0m",
      "\u001b[1;31mTypeError\u001b[0m                                 Traceback (most recent call last)",
      "\u001b[1;32m<ipython-input-13-9d0232068133>\u001b[0m in \u001b[0;36m<module>\u001b[1;34m\u001b[0m\n\u001b[0;32m      1\u001b[0m \u001b[1;31m#이러면 오류\u001b[0m\u001b[1;33m\u001b[0m\u001b[1;33m\u001b[0m\u001b[1;33m\u001b[0m\u001b[0m\n\u001b[1;32m----> 2\u001b[1;33m \u001b[0mprint\u001b[0m\u001b[1;33m(\u001b[0m\u001b[1;34m\"%d%d\"\u001b[0m \u001b[1;33m%\u001b[0m\u001b[1;33m(\u001b[0m\u001b[1;36m100\u001b[0m\u001b[1;33m+\u001b[0m\u001b[1;36m200\u001b[0m\u001b[1;33m)\u001b[0m\u001b[1;33m)\u001b[0m\u001b[1;33m\u001b[0m\u001b[1;33m\u001b[0m\u001b[0m\n\u001b[0m",
      "\u001b[1;31mTypeError\u001b[0m: not enough arguments for format string"
     ]
    }
   ],
   "source": [
    "#이러면 오류\n",
    "print(\"%d%d\" %(100+200))"
   ]
  },
  {
   "cell_type": "code",
   "execution_count": 8,
   "id": "9e9f010f",
   "metadata": {},
   "outputs": [
    {
     "name": "stdout",
     "output_type": "stream",
     "text": [
      "100\n"
     ]
    }
   ],
   "source": [
    "print(\"%d\" %(100.5))"
   ]
  },
  {
   "cell_type": "code",
   "execution_count": 9,
   "id": "21508dfc",
   "metadata": {},
   "outputs": [
    {
     "name": "stdout",
     "output_type": "stream",
     "text": [
      "100.500000\n"
     ]
    }
   ],
   "source": [
    "print(\"%f\" %(100.5))"
   ]
  },
  {
   "cell_type": "markdown",
   "id": "79a8f90d",
   "metadata": {},
   "source": [
    "#### 여러 표기법"
   ]
  },
  {
   "cell_type": "code",
   "execution_count": 26,
   "id": "41dc4098",
   "metadata": {},
   "outputs": [
    {
     "name": "stdout",
     "output_type": "stream",
     "text": [
      "    *\n",
      "    *\n"
     ]
    }
   ],
   "source": [
    "##5개 공간에 끝에서부터 표현\n",
    "##서식을 이용한 다양한 프린트 방법!\n",
    "print(\"%5s\" %\"*\")\n",
    "print(\"%s\" %\"    *\")\n",
    "#똑같은건데 표현법 다양하게 해서 표현해본기\n"
   ]
  },
  {
   "cell_type": "code",
   "execution_count": 19,
   "id": "570e56ac",
   "metadata": {},
   "outputs": [
    {
     "name": "stdout",
     "output_type": "stream",
     "text": [
      "123\n",
      "  123\n",
      "00123\n",
      "123.450000\n",
      "  123.5\n",
      "123.450\n",
      "python\n",
      "    python\n"
     ]
    }
   ],
   "source": [
    "print(\"%d\" %123 )\n",
    "print(\"%5d\" %123)    #5공간을 만들고 오른쪽부터!\n",
    "print(\"%05d\" %123)  #비워있는 자리를 0으로 채워라\n",
    "\n",
    "print(\"%f\" %123.45 )   #그냥 f를 사용하면 소수점6자리까지\n",
    "print(\"%7.1f\" %123.45) #7공간을 만든후에 소수점1자리까지\n",
    "print(\"%7.3f\" %123.45) #7공간을 만든후에 소수점3자리까지\n",
    "\n",
    "print(\"%s\" %\"python\" )   \n",
    "print(\"%10s\" %\"python\" )   #10칸 생성"
   ]
  },
  {
   "cell_type": "code",
   "execution_count": 18,
   "id": "235bf4e2",
   "metadata": {},
   "outputs": [
    {
     "name": "stdout",
     "output_type": "stream",
     "text": [
      "200  100  300\n",
      "100  200  300\n",
      "300  200  100\n"
     ]
    }
   ],
   "source": [
    "print(\"{1:d}  {0:d}  {2:d}\".format(100,200,300))\n",
    "print(\"{0:d}  {1:d}  {2:d}\".format(100,200,300))\n",
    "print(\"{2:d}  {1:d}  {0:d}\".format(100,200,300))"
   ]
  },
  {
   "cell_type": "code",
   "execution_count": 27,
   "id": "34b183b5",
   "metadata": {},
   "outputs": [
    {
     "name": "stdout",
     "output_type": "stream",
     "text": [
      "\\n은 즐바꿈입니다\n",
      "\\n은 줄바꿈입니다\n"
     ]
    }
   ],
   "source": [
    "print(\"\\\\n은 즐바꿈입니다\")\n",
    "print(r\"\\n은 줄바꿈입니다\")"
   ]
  },
  {
   "cell_type": "code",
   "execution_count": 24,
   "id": "f2e6b4cc",
   "metadata": {},
   "outputs": [
    {
     "name": "stdout",
     "output_type": "stream",
     "text": [
      "한 행. 또 한 행\n",
      "\n",
      "한 행. \n",
      "또 한 행\n"
     ]
    }
   ],
   "source": [
    "print(\"한 행. 또 한 행\\n\")\n",
    "print(\"한 행. \\n또 한 행\")"
   ]
  },
  {
   "cell_type": "code",
   "execution_count": 25,
   "id": "5998a955",
   "metadata": {},
   "outputs": [
    {
     "name": "stdout",
     "output_type": "stream",
     "text": [
      "한 행. 또 한 행\n",
      "\n",
      "한 행. \t또 \t한 행\n",
      "한 행. 또 한 행\b\n",
      "한 행. 또 한\b 행\\\\\\\n",
      "한 행. 또 한 행'\n",
      "한 행. 또 한 행\"\n",
      "한 행. 또 한\b \t행\\\\\\\n"
     ]
    }
   ],
   "source": [
    "print(\"한 행. 또 한 행\\n\")\n",
    "print(\"한 행. \\t또 \\t한 행\")   # \\t\n",
    "print(\"한 행. 또 한 행\\b\")\n",
    "print(\"한 행. 또 한\\b 행\\\\\\\\\\\\\") #  \\b\n",
    "print(\"한 행. 또 한 행\\'\")\n",
    "print(\"한 행. 또 한 행\\\"\")\n",
    "print(\"한 행. 또 한\\b \\t행\\\\\\\\\\\\\")\n"
   ]
  },
  {
   "cell_type": "code",
   "execution_count": 28,
   "id": "e21fb24e",
   "metadata": {},
   "outputs": [
    {
     "data": {
      "text/plain": [
       "(bool, int, float, str)"
      ]
     },
     "execution_count": 28,
     "metadata": {},
     "output_type": "execute_result"
    }
   ],
   "source": [
    "#파이썬은 C/C++, 자바 등과는 달리 변수를 선언하지 않아도 되지만 \n",
    "#긴 코드를 작성할 때는 사용될 변수를 미리 계획적으로 준비하는 것이 더 효율적\n",
    "#bool은 참 거짓을 판단하는 값\n",
    "boolVar =True\n",
    "intVar = 0\n",
    "floatVar=0.0\n",
    "strVar=\"\"\n",
    "type(boolVar),type(intVar),type(floatVar),type(strVar)\n"
   ]
  },
  {
   "cell_type": "code",
   "execution_count": 6,
   "id": "f47312e0",
   "metadata": {},
   "outputs": [
    {
     "data": {
      "text/plain": [
       "float"
      ]
     },
     "execution_count": 6,
     "metadata": {},
     "output_type": "execute_result"
    }
   ],
   "source": [
    "a=True\n",
    "type(a)\n",
    "\n",
    "a=10.01\n",
    "type(a)\n",
    "\n",
    "#알아서 타입이 바뀐다"
   ]
  },
  {
   "cell_type": "code",
   "execution_count": 34,
   "id": "46c5682e",
   "metadata": {},
   "outputs": [
    {
     "name": "stdout",
     "output_type": "stream",
     "text": [
      "메인 함수 부분이 실행됩니다\n",
      "함수 호출\n",
      "변수값: 100\n"
     ]
    }
   ],
   "source": [
    "def myFunc():\n",
    "    print(\"함수 호출\")\n",
    "\n",
    "    \n",
    "a =100\n",
    "\n",
    "\n",
    "if __name__ == '__main__':\n",
    "    print(\"메인 함수 부분이 실행됩니다\")\n",
    "    myFunc()\n",
    "    print(\"변수값:\",a)"
   ]
  },
  {
   "cell_type": "code",
   "execution_count": 33,
   "id": "ed07a35a",
   "metadata": {},
   "outputs": [
    {
     "name": "stdout",
     "output_type": "stream",
     "text": [
      "a\n",
      "a\t\n",
      "b와\n",
      "cd&d&d\n",
      "c d\n"
     ]
    }
   ],
   "source": [
    "#주의\n",
    "print(\"a\")\n",
    "print(\"a\",end=\"\\t\\n\")\n",
    "print(\"b\",end=\"와\\n\")\n",
    "print(\"cd\",\"d\",\"d\",sep=\"&\")  ##sep은 어떤것으로 분리할지 표현\n",
    "print(\"c\",\"d\") #한칸 분리\n"
   ]
  },
  {
   "cell_type": "markdown",
   "id": "79b418f5",
   "metadata": {},
   "source": [
    "### -------------------------------------------------------------------------------------------\n",
    "# 2.연산자"
   ]
  },
  {
   "cell_type": "code",
   "execution_count": 30,
   "id": "c7e9f0a9",
   "metadata": {},
   "outputs": [],
   "source": [
    "##  2e5  == 2^(10^5)\n",
    "## a**2 = a^2\n",
    "## a//b 몫\n",
    "## a%b 나머지 \n"
   ]
  },
  {
   "cell_type": "code",
   "execution_count": 32,
   "id": "8fee55e4",
   "metadata": {},
   "outputs": [
    {
     "name": "stdout",
     "output_type": "stream",
     "text": [
      "200000.0\n",
      "32\n"
     ]
    }
   ],
   "source": [
    "print(2e5)   # 2 * 10^5\n",
    "print(2**5)  # 2 * 5\n"
   ]
  },
  {
   "cell_type": "code",
   "execution_count": 35,
   "id": "bc21554a",
   "metadata": {},
   "outputs": [
    {
     "name": "stdout",
     "output_type": "stream",
     "text": [
      "1\n",
      "14\n",
      "1.5\n"
     ]
    }
   ],
   "source": [
    "#우선순위\n",
    "a,b,c=2,3,4\n",
    "print(a+b-c)\n",
    "print(a+b*c)\n",
    "print(a*b/c)"
   ]
  },
  {
   "cell_type": "code",
   "execution_count": 36,
   "id": "332f4480",
   "metadata": {},
   "outputs": [
    {
     "name": "stdout",
     "output_type": "stream",
     "text": [
      "101\n",
      "101.123\n",
      "100000000000000\n"
     ]
    }
   ],
   "source": [
    "#문자얄 슷자로 구성시\n",
    "#int나 float함수 사용해서 정수나 실수로 변환\n",
    "\n",
    "s1,s2,s3=\"100\",\"100.123\",\"99999999999999\"\n",
    "print(int(s1)+1)\n",
    "print(float(s2)+1)\n",
    "print(int(s3)+1)"
   ]
  },
  {
   "cell_type": "code",
   "execution_count": 37,
   "id": "d54790f7",
   "metadata": {},
   "outputs": [
    {
     "data": {
      "text/plain": [
       "'100.1231'"
      ]
     },
     "execution_count": 37,
     "metadata": {},
     "output_type": "execute_result"
    }
   ],
   "source": [
    "#숫자>>문자열변환시  str 함수 사용\n",
    "a=100;b=100.123\n",
    "str(a)+'1';str(b)+'1'"
   ]
  },
  {
   "cell_type": "code",
   "execution_count": 40,
   "id": "3e7b4435",
   "metadata": {},
   "outputs": [
    {
     "name": "stdout",
     "output_type": "stream",
     "text": [
      "1001\n",
      "100.1231\n"
     ]
    }
   ],
   "source": [
    "#숫자>>문자열변환시  str 함수 사용\n",
    "a=100\n",
    "b=100.123\n",
    "print(str(a)+'1')  ## str (100 + 1 )\n",
    "print(str(b)+'1')  ## str (100.23 + 1 )"
   ]
  },
  {
   "cell_type": "markdown",
   "id": "f7a26456",
   "metadata": {},
   "source": [
    "### <산술,관계 연산자>"
   ]
  },
  {
   "cell_type": "code",
   "execution_count": 41,
   "id": "ef7f5a37",
   "metadata": {},
   "outputs": [
    {
     "name": "stdout",
     "output_type": "stream",
     "text": [
      "15\n",
      "10\n",
      "50\n",
      "10.0\n",
      "2.0\n",
      "2.0\n",
      "32.0\n"
     ]
    }
   ],
   "source": [
    "#산술연산자\n",
    "a=10\n",
    "a+=5;print(a)  #a = a + 3\n",
    "a-=5;print(a)  #a = a - 3\n",
    "a*=5;print(a)  #a = a * 3\n",
    "a/=5;print(a)  #a = a / 3\n",
    "a//=5;print(a) #a = a // 3\n",
    "a%=5;print(a)  #a = a % 3\n",
    "a**=5;print(a)  #a = a ** 3"
   ]
  },
  {
   "cell_type": "code",
   "execution_count": 42,
   "id": "7e718b2a",
   "metadata": {},
   "outputs": [
    {
     "name": "stdout",
     "output_type": "stream",
     "text": [
      "False\n",
      "True\n",
      "False\n",
      "True\n",
      "False\n",
      "True\n"
     ]
    }
   ],
   "source": [
    "#관계연산자\n",
    "a,b=100,200\n",
    "print(a==b)\n",
    "print(a!=b)\n",
    "print(a>b)\n",
    "print(a<b)\n",
    "print(a>=b)\n",
    "print(a<=b)"
   ]
  },
  {
   "cell_type": "code",
   "execution_count": 45,
   "id": "4f1df31f",
   "metadata": {},
   "outputs": [
    {
     "ename": "TypeError",
     "evalue": "'a' is an invalid keyword argument for print()",
     "output_type": "error",
     "traceback": [
      "\u001b[1;31m---------------------------------------------------------------------------\u001b[0m",
      "\u001b[1;31mTypeError\u001b[0m                                 Traceback (most recent call last)",
      "\u001b[1;32m<ipython-input-45-7ef08e51c2e4>\u001b[0m in \u001b[0;36m<module>\u001b[1;34m\u001b[0m\n\u001b[0;32m      1\u001b[0m \u001b[1;31m#이러면 안 돼!\u001b[0m\u001b[1;33m\u001b[0m\u001b[1;33m\u001b[0m\u001b[1;33m\u001b[0m\u001b[0m\n\u001b[1;32m----> 2\u001b[1;33m \u001b[0mprint\u001b[0m\u001b[1;33m(\u001b[0m\u001b[0ma\u001b[0m\u001b[1;33m=\u001b[0m\u001b[0mb\u001b[0m\u001b[1;33m)\u001b[0m\u001b[1;33m\u001b[0m\u001b[1;33m\u001b[0m\u001b[0m\n\u001b[0m",
      "\u001b[1;31mTypeError\u001b[0m: 'a' is an invalid keyword argument for print()"
     ]
    }
   ],
   "source": [
    "#이러면 안 돼!\n",
    "print(a=b)"
   ]
  },
  {
   "cell_type": "markdown",
   "id": "62bdd273",
   "metadata": {},
   "source": [
    "### <논리연산자>"
   ]
  },
  {
   "cell_type": "code",
   "execution_count": 46,
   "id": "8482f007",
   "metadata": {},
   "outputs": [
    {
     "name": "stdout",
     "output_type": "stream",
     "text": [
      "False\n",
      "True\n",
      "True\n"
     ]
    }
   ],
   "source": [
    "#논리연산자\n",
    "a=99\n",
    "print((a>100) and (a<200))\n",
    "print((a>100) or (a<200))\n",
    "print(not(a==100) )"
   ]
  },
  {
   "cell_type": "code",
   "execution_count": 48,
   "id": "1033be18",
   "metadata": {},
   "outputs": [
    {
     "name": "stdout",
     "output_type": "stream",
     "text": [
      "15\n",
      "507\n",
      "65535\n",
      "0xffff\n"
     ]
    }
   ],
   "source": [
    "# 논리합\n",
    "# | 대응되는 비트 중에서 하나라도 1이면 1을 반환함. (비트 OR 연산) \n",
    "print(10 | 7)    \n",
    "print(123 | 456)  \n",
    "print(0xFFFF | 0X0000) \n",
    "print(hex(0xFFFF|0x0000))  #16진수로 표현\n",
    "\n"
   ]
  },
  {
   "cell_type": "code",
   "execution_count": 50,
   "id": "ac650abc",
   "metadata": {},
   "outputs": [
    {
     "name": "stdout",
     "output_type": "stream",
     "text": [
      "13\n",
      "435\n",
      "65535\n",
      "0xffff\n"
     ]
    }
   ],
   "source": [
    "# 배타적 논리합\n",
    "# ^ 대응되는 비트가 서로 다르면 1을 반환함. (비트 XOR 연산) \n",
    "print(10 ^ 7)    \n",
    "print(123 ^ 456)  \n",
    "print(0xFFFF ^ 0X0000) \n",
    "print(hex(0xFFFF|0x0000))  #16진수로 표현"
   ]
  },
  {
   "cell_type": "markdown",
   "id": "52f93cdc",
   "metadata": {},
   "source": [
    "### <비트연산자 예제>"
   ]
  },
  {
   "cell_type": "code",
   "execution_count": 47,
   "id": "f357272f",
   "metadata": {},
   "outputs": [
    {
     "name": "stdout",
     "output_type": "stream",
     "text": [
      "2\n",
      "72\n",
      "0\n"
     ]
    }
   ],
   "source": [
    "# 비트연산자\n",
    "# 논리곱\n",
    "# & 대응되는 비트가 모두 1이면 1을 반환함. (비트 AND 연산)\n",
    "print(10 & 7)   #1010   0111  >>  0010  \n",
    "print(123 & 456)  #11110112  1110010002  >> 10010002\n",
    "print(0xFFFF & 0X0000) "
   ]
  },
  {
   "cell_type": "code",
   "execution_count": 1,
   "id": "6aa5f17a",
   "metadata": {},
   "outputs": [
    {
     "name": "stdout",
     "output_type": "stream",
     "text": [
      "41 & f =  1\n",
      "41 & F =  4F\n",
      "A ^ 32 =  a\n",
      "a & 32 =  A\n"
     ]
    }
   ],
   "source": [
    "a= ord('A')\n",
    "mask=0x0F\n",
    "\n",
    "print(\"%x & %x =  %x\"%(a,mask,a&mask))\n",
    "print(\"%x & %X =  %X\"%(a,mask,a|mask))\n",
    "\n",
    "mask = ord('a') - ord('A')\n",
    "\n",
    "b=a^mask\n",
    "print(\"%c ^ %d =  %c\"%(a,mask,b))\n",
    "a=b^mask\n",
    "print(\"%c & %d =  %c\"%(b,mask,a))\n",
    "\n"
   ]
  },
  {
   "cell_type": "code",
   "execution_count": 2,
   "id": "1b258257",
   "metadata": {},
   "outputs": [
    {
     "data": {
      "text/plain": [
       "-12346"
      ]
     },
     "execution_count": 2,
     "metadata": {},
     "output_type": "execute_result"
    }
   ],
   "source": [
    "##~ 비트를 1이면 0으로, 0이면 1로 반전시킴. (비트 NOT 연산)\n",
    "a=12345\n",
    "~a"
   ]
  },
  {
   "cell_type": "code",
   "execution_count": 3,
   "id": "e5ba5ed8",
   "metadata": {},
   "outputs": [
    {
     "name": "stdout",
     "output_type": "stream",
     "text": [
      "20\n",
      "40\n",
      "80\n",
      "160\n"
     ]
    }
   ],
   "source": [
    "## <<  (left shift 연산)     \n",
    "a=10\n",
    "print(a<<1)\n",
    "print(a<<2)\n",
    "print(a<<3)\n",
    "print(a<<4)\n"
   ]
  },
  {
   "cell_type": "code",
   "execution_count": 4,
   "id": "e77d0bdb",
   "metadata": {},
   "outputs": [
    {
     "name": "stdout",
     "output_type": "stream",
     "text": [
      "5\n",
      "2\n",
      "1\n",
      "0\n"
     ]
    }
   ],
   "source": [
    "## >>  (right shift 연산)\n",
    "a=10\n",
    "print(a>>1)\n",
    "print(a>>2)\n",
    "print(a>>3)\n",
    "print(a>>4)\n"
   ]
  },
  {
   "cell_type": "code",
   "execution_count": 5,
   "id": "8ef461bb",
   "metadata": {},
   "outputs": [
    {
     "name": "stdout",
     "output_type": "stream",
     "text": [
      "100 << 1 = 200\n",
      "100 << 2 = 400\n",
      "100 << 3 = 800\n",
      "100 << 4 = 1600\n",
      "100 << 1 = 50\n",
      "100 << 2 = 25\n",
      "100 << 3 = 12\n",
      "100 << 4 = 6\n"
     ]
    }
   ],
   "source": [
    "a=100\n",
    "result =0 \n",
    "i=0\n",
    "\n",
    "for i in range(1,5):\n",
    "    result = a << i\n",
    "    print(\"%d << %d = %d\" % (a,i,result))\n",
    "    \n",
    "for i in range(1,5):\n",
    "    result = a >> i\n",
    "    print(\"%d << %d = %d\" % (a,i,result))\n",
    "    "
   ]
  },
  {
   "cell_type": "markdown",
   "id": "127de6b6",
   "metadata": {},
   "source": [
    "### <숫자처리함수>"
   ]
  },
  {
   "cell_type": "code",
   "execution_count": 7,
   "id": "97a974f5",
   "metadata": {},
   "outputs": [
    {
     "name": "stdout",
     "output_type": "stream",
     "text": [
      "5\n",
      "16\n",
      "12\n",
      "5\n",
      "3\n",
      "5\n"
     ]
    }
   ],
   "source": [
    "print(abs(-5)) # -5 의 절대값 = 5\n",
    "print(pow(4, 2)) # 4의 2제곱 = 4 * 4 = 16\n",
    "print(max(5, 12)) # 5 와 12 중 큰 값 = 12\n",
    "print(min(5, 12)) # 5 와 12 중 작은 값 = 5\n",
    "print(round(3.14)) # 3.14 의 반올림 = 3\n",
    "print(round(4.99)) # 4.99 의 반올림 = 5"
   ]
  },
  {
   "cell_type": "markdown",
   "id": "a5008258",
   "metadata": {},
   "source": [
    "### <랜덤함수>"
   ]
  },
  {
   "cell_type": "code",
   "execution_count": 11,
   "id": "953ecfdf",
   "metadata": {},
   "outputs": [
    {
     "name": "stdout",
     "output_type": "stream",
     "text": [
      "0.26727177677760994\n"
     ]
    }
   ],
   "source": [
    "from random import * # random 모듈에서 모든 것들을 가져다 쓰겠다는 의미\n",
    "\n",
    "print(random()) # 0.0 이상 1.0 미만의 임의의 값 생성"
   ]
  },
  {
   "cell_type": "code",
   "execution_count": 12,
   "id": "0298d7cd",
   "metadata": {},
   "outputs": [
    {
     "name": "stdout",
     "output_type": "stream",
     "text": [
      "8.057603846120656\n",
      "8\n",
      "2\n"
     ]
    }
   ],
   "source": [
    "print(random() * 10) # 0.0 이상 10.0 미만의 임의의 값 생성\n",
    "print(int(random() * 10)) # 0 이상 10 미만의 임의의 정수 값 생성\n",
    "print(int(random() * 10) + 1) # 1 이상 10 이하 (11 미만) 의 임의의 정수 값 생성"
   ]
  },
  {
   "cell_type": "code",
   "execution_count": 13,
   "id": "8b617534",
   "metadata": {},
   "outputs": [
    {
     "name": "stdout",
     "output_type": "stream",
     "text": [
      "44\n"
     ]
    }
   ],
   "source": [
    "print(int(random() * 45) + 1) # 1 이상 46 미만의 임의의 정수 값 생성"
   ]
  },
  {
   "cell_type": "code",
   "execution_count": 14,
   "id": "9ffb2a9e",
   "metadata": {},
   "outputs": [
    {
     "name": "stdout",
     "output_type": "stream",
     "text": [
      "8\n",
      "5\n"
     ]
    }
   ],
   "source": [
    "print(randrange(1, 46)) # 1 이상 46 미만의 임의의 정수 값 생성\n",
    "print(randint(1, 45)) # 1 이상 45 이하(45를 포함해요!!)의 임의의 정수 값 생성"
   ]
  },
  {
   "cell_type": "code",
   "execution_count": 15,
   "id": "0ea4e5f1",
   "metadata": {},
   "outputs": [
    {
     "name": "stdout",
     "output_type": "stream",
     "text": [
      "12\n",
      "5\n"
     ]
    }
   ],
   "source": [
    "print(randrange(1, 46)) # 1 이상 46 미만의 임의의 정수 값 생성\n",
    "print(randint(1, 45)) # 1 이상 45 이하(45를 포함해요!!)의 임의의 정수 값 생성"
   ]
  },
  {
   "cell_type": "markdown",
   "id": "40e661e6",
   "metadata": {},
   "source": [
    "### -------------------------------------------------------------------------------------------\n",
    "# 3.문자열"
   ]
  },
  {
   "cell_type": "markdown",
   "id": "257dddab",
   "metadata": {},
   "source": [
    "### 리스트와 문자열의 차이 "
   ]
  },
  {
   "cell_type": "code",
   "execution_count": 16,
   "id": "67f75723",
   "metadata": {},
   "outputs": [
    {
     "data": {
      "text/plain": [
       "[20, 30]"
      ]
     },
     "execution_count": 16,
     "metadata": {},
     "output_type": "execute_result"
    }
   ],
   "source": [
    "aa=[10,20,30,40,50]\n",
    "aa[1:3]"
   ]
  },
  {
   "cell_type": "code",
   "execution_count": 54,
   "id": "0ee6d502",
   "metadata": {},
   "outputs": [
    {
     "name": "stdout",
     "output_type": "stream",
     "text": [
      "파이썬최고\n",
      "파이썬파이썬파이썬\n",
      "7\n"
     ]
    }
   ],
   "source": [
    "ss = '파이썬'+'최고'\n",
    "print(ss)\n",
    "\n",
    "ss = '파이썬'*3\n",
    "print(ss)\n",
    "\n",
    "ss='파이썬abcd'\n",
    "print(len(ss))\n"
   ]
  },
  {
   "cell_type": "code",
   "execution_count": 21,
   "id": "4a3838c4",
   "metadata": {},
   "outputs": [
    {
     "name": "stdout",
     "output_type": "stream",
     "text": [
      "파$ 이$ 썬$ 짱$ !$ "
     ]
    },
    {
     "data": {
      "text/plain": [
       "5"
      ]
     },
     "execution_count": 21,
     "metadata": {},
     "output_type": "execute_result"
    }
   ],
   "source": [
    "ss='파이썬짱!'\n",
    "\n",
    "sslen= len(ss)\n",
    "for i in range(0,sslen):\n",
    "    print(ss[i] + '$',end=' ')\n",
    "sslen"
   ]
  },
  {
   "cell_type": "code",
   "execution_count": 22,
   "id": "63fe5b95",
   "metadata": {},
   "outputs": [
    {
     "name": "stdout",
     "output_type": "stream",
     "text": [
      "문자를 입력하세요abcdef\n",
      "a$b$c$d$e$f\n"
     ]
    }
   ],
   "source": [
    "ss=input(\"문자를 입력하세요\")\n",
    "\n",
    "sslen= len(ss)\n",
    "for i in range(0,sslen-1):\n",
    "    print(ss[i] + '$',end='')\n",
    "print(ss[sslen-1])"
   ]
  },
  {
   "cell_type": "code",
   "execution_count": 23,
   "id": "11ba3158",
   "metadata": {},
   "outputs": [
    {
     "name": "stdout",
     "output_type": "stream",
     "text": [
      "문자를 입력하세요가나다라\n",
      "가#다#"
     ]
    }
   ],
   "source": [
    "##홀수에 #가 돠게 출력 \n",
    "ss=input(\"문자를 입력하세요\")\n",
    "\n",
    "sslen= len(ss)\n",
    "\n",
    "for i in range(0,sslen):\n",
    "    if i%2 == 0:\n",
    "        print(ss[i],end='')\n",
    "        \n",
    "    else:\n",
    "        print('#',end='')\n",
    "        \n",
    "    \n",
    "        "
   ]
  },
  {
   "cell_type": "code",
   "execution_count": 24,
   "id": "c6be1c84",
   "metadata": {},
   "outputs": [
    {
     "data": {
      "text/plain": [
       "'가'"
      ]
     },
     "execution_count": 24,
     "metadata": {},
     "output_type": "execute_result"
    }
   ],
   "source": [
    "ss[0]"
   ]
  },
  {
   "cell_type": "markdown",
   "id": "0194654e",
   "metadata": {},
   "source": [
    "### 입력된 문자열 거꾸로 출력"
   ]
  },
  {
   "cell_type": "code",
   "execution_count": 25,
   "id": "f5bb98e1",
   "metadata": {},
   "outputs": [
    {
     "name": "stdout",
     "output_type": "stream",
     "text": [
      "문자열을 입력하세요:안녕하세요\n",
      "내용을 거꾸로 출력-->요세하녕안\n"
     ]
    }
   ],
   "source": [
    "inStr,outStr=\"\",\"\" #배열 초기화!  #outStr은 반드시 존재하여야한다\n",
    "count,i=0,0\n",
    "\n",
    "inStr=input(\"문자열을 입력하세요:\") #공서영바보\n",
    "count = len(inStr)  #count = 5\n",
    "\n",
    "for i in range(0,count): #0~5까지 반복\n",
    "    outStr=outStr+inStr[count-(i+1)]  #4 3 2 1 0 이런식으로!!\n",
    "    \n",
    "print(\"내용을 거꾸로 출력-->%s\"%outStr)"
   ]
  },
  {
   "cell_type": "markdown",
   "id": "246b10b8",
   "metadata": {},
   "source": [
    "### 문자열 처리함수\n",
    "### count(), find(), rfind(), index(), rindex(), startswith(), endswith()"
   ]
  },
  {
   "cell_type": "code",
   "execution_count": 56,
   "id": "48948769",
   "metadata": {},
   "outputs": [
    {
     "name": "stdout",
     "output_type": "stream",
     "text": [
      "python is amazing\n",
      "PYTHON IS AMAZING\n",
      "True\n",
      "False\n",
      "pYTHON IS aMAZING\n",
      "Python Is Amazing\n",
      "2\n"
     ]
    }
   ],
   "source": [
    "python = \"Python is Amazing\"\n",
    "\n",
    "print(python.lower())       #모두 대문자\n",
    "print(python.upper())       #모두 소문자\n",
    "print(python[0].isupper()) # True : 0 번째 인덱스의 값이 대문자인지 확인\n",
    "print(python[0].islower()) # True : 0 번째 인덱스의 값이 소문자인지 확인\n",
    "print(python.swapcase())    #대문자 소문자 스위칭\n",
    "print(python.title())       #단어의 첫글자 대문자로 변경\n",
    "print(python.count(\"n\")) # 2 : 문자열 내에서 n 이 나온 횟수"
   ]
  },
  {
   "cell_type": "markdown",
   "id": "99d37091",
   "metadata": {},
   "source": [
    "### 특정 문자 없애기 : replace()"
   ]
  },
  {
   "cell_type": "code",
   "execution_count": 30,
   "id": "08470d10",
   "metadata": {},
   "outputs": [
    {
     "name": "stdout",
     "output_type": "stream",
     "text": [
      "(안녕하세요)\n",
      "안녕하세요\n"
     ]
    }
   ],
   "source": [
    "string = \"(안녕하세요)\"\n",
    "print(string)\n",
    "string = string.replace(\"(\",\"\").replace(\")\",\"\")\n",
    "print(string)"
   ]
  },
  {
   "cell_type": "code",
   "execution_count": 37,
   "id": "b31e3971",
   "metadata": {},
   "outputs": [
    {
     "name": "stdout",
     "output_type": "stream",
     "text": [
      "열심히 파이썬 공부 중~~\n",
      "열심히 python 공부 중~~\n"
     ]
    }
   ],
   "source": [
    "ss= '열심히 파이썬 공부 중~~'\n",
    "print(ss)\n",
    "sss = ss.replace('파이썬','python')    \n",
    "print(sss)\n"
   ]
  },
  {
   "cell_type": "markdown",
   "id": "327630b9",
   "metadata": {},
   "source": [
    "### replace를 왜 써야 하는지??"
   ]
  },
  {
   "cell_type": "markdown",
   "id": "a18cc1d7",
   "metadata": {},
   "source": [
    "##### replace를 안 쓸때는 이런식으로 길게 해야한다\n",
    "##### replace를 사용하면 위의 코드를 아래 한줄로!"
   ]
  },
  {
   "cell_type": "code",
   "execution_count": 38,
   "id": "cc932b32",
   "metadata": {},
   "outputs": [
    {
     "name": "stdout",
     "output_type": "stream",
     "text": [
      "입력 문자열 ==>IT Cookbook for python\n",
      "출력 문자열 ==>IT C$$kb$$k f$r pyth$n"
     ]
    }
   ],
   "source": [
    "ss = input(\"입력 문자열 ==>\")\n",
    "\n",
    "print(\"출력 문자열 ==>\",end='')\n",
    "for i in range(0,len(ss)):\n",
    "    if ss[i] != 'o':\n",
    "        print(ss[i], end='')\n",
    "    else:\n",
    "        print('$',end = '')"
   ]
  },
  {
   "cell_type": "code",
   "execution_count": 39,
   "id": "d1fe0eb2",
   "metadata": {},
   "outputs": [
    {
     "name": "stdout",
     "output_type": "stream",
     "text": [
      "IT C$$kb$$k f$r pyth$n\n"
     ]
    }
   ],
   "source": [
    "print(ss.replace('o','$'))"
   ]
  },
  {
   "cell_type": "markdown",
   "id": "7eb52959",
   "metadata": {},
   "source": [
    "### 문자열 공백 삭제·변경하기 : strip(), rstrip(), lstrip(), replace() "
   ]
  },
  {
   "cell_type": "code",
   "execution_count": 28,
   "id": "4b8bff0b",
   "metadata": {},
   "outputs": [
    {
     "name": "stdout",
     "output_type": "stream",
     "text": [
      "파 이 썬\n",
      " 파 이 썬\n",
      "파 이 썬 \n"
     ]
    }
   ],
   "source": [
    "ss=' 파 이 썬 '\n",
    "print(ss.strip())\n",
    "print(ss.rstrip())\n",
    "print(ss.lstrip())"
   ]
  },
  {
   "cell_type": "code",
   "execution_count": 31,
   "id": "a2475fc9",
   "metadata": {},
   "outputs": [
    {
     "name": "stdout",
     "output_type": "stream",
     "text": [
      "파---이---썬---- \n",
      "파 << 이 >> 썬\n"
     ]
    }
   ],
   "source": [
    "ss = '----파---이---썬---- '\n",
    "print(ss.strip('-'))\n",
    "ss = '<<<파 << 이 >> 썬>>>'\n",
    "print(ss.strip('<>'))"
   ]
  },
  {
   "cell_type": "markdown",
   "id": "427de992",
   "metadata": {},
   "source": [
    "### 공백삭제 idea >> 문자열 2개 사용!"
   ]
  },
  {
   "cell_type": "code",
   "execution_count": 33,
   "id": "efe4c23f",
   "metadata": {},
   "outputs": [
    {
     "name": "stdout",
     "output_type": "stream",
     "text": [
      "원래 문자열 ==>[  한글 python 프로그래밍  ]\n",
      "공백 삭제 문자열 ==>[한글python프로그래밍]\n"
     ]
    }
   ],
   "source": [
    "inStr = '  한글 python 프로그래밍  '\n",
    "ourStr = '' #리스트 초기화\n",
    "\n",
    "for i in range(0, len(inStr)):\n",
    "    if inStr[i] !=' ':\n",
    "        ourStr +=inStr[i]\n",
    "        \n",
    "        \n",
    "print(\"원래 문자열 ==>\"+'['+inStr+']')\n",
    "print(\"공백 삭제 문자열 ==>\"+'['+ourStr+']')\n"
   ]
  },
  {
   "cell_type": "code",
   "execution_count": 34,
   "id": "89c09905",
   "metadata": {},
   "outputs": [
    {
     "name": "stdout",
     "output_type": "stream",
     "text": [
      "원래 문자열 ==>[<<<파<<이>>썬>>>]\n",
      "공백 삭제 문자열 ==>[파이썬]\n"
     ]
    }
   ],
   "source": [
    "inStr = '<<<파<<이>>썬>>>'\n",
    "ourStr = '' #리스트 초기화\n",
    "\n",
    "for i in range(0, len(inStr)):\n",
    "    if (inStr[i] !='<') and (inStr[i] !='>'):\n",
    "        ourStr +=inStr[i]\n",
    "        \n",
    "        \n",
    "print(\"원래 문자열 ==>\"+'['+inStr+']')\n",
    "print(\"공백 삭제 문자열 ==>\"+'['+ourStr+']')\n"
   ]
  },
  {
   "cell_type": "markdown",
   "id": "13244ea7",
   "metadata": {},
   "source": [
    "### 문자열 분리·결합하기 : split(), splitlines(), join()\n",
    "#### 해당 결과가 리스트가 되는것을 인지해라!! >>TEST"
   ]
  },
  {
   "cell_type": "code",
   "execution_count": 40,
   "id": "87e7b913",
   "metadata": {},
   "outputs": [
    {
     "name": "stdout",
     "output_type": "stream",
     "text": [
      "['python을', '열심히', '공부', '중']\n",
      "['하나', '둘', '셋']\n",
      "['하나', '둘', '셋']\n"
     ]
    },
    {
     "data": {
      "text/plain": [
       "'파%이%썬'"
      ]
     },
     "execution_count": 40,
     "metadata": {},
     "output_type": "execute_result"
    }
   ],
   "source": [
    "ss='python을 열심히 공부 중 '\n",
    "print(ss.split()) #공백을 제거\n",
    "\n",
    "ss = '하나:둘:셋'\n",
    "print(ss.split(':')) # :을 제거\n",
    "\n",
    "ss = '하나\\n둘\\n셋'\n",
    "print(ss.splitlines()) #줄바꿈표시 없애기   #파일 입출력 할떄 많이 쓴다 >>한 줄 한 줄 문서를 다뤄야 하니까!!!\n",
    "\n",
    "ss = '%'\n",
    "ss.join('파이썬')\n"
   ]
  },
  {
   "cell_type": "code",
   "execution_count": 41,
   "id": "98f55ff0",
   "metadata": {},
   "outputs": [
    {
     "name": "stdout",
     "output_type": "stream",
     "text": [
      "날짜(연/월/일)입력 ==> 2019/12/31\n",
      "입력한 날짜와 10년후==>2029년12월31일\n"
     ]
    }
   ],
   "source": [
    "ss= input(\"날짜(연/월/일)입력 ==> \")\n",
    "ssList= ss.split('/') #입력한 문자열을 /로 분리 >>splir이후에는 반드시 리스트형으로 나온다\n",
    "                      #ssList에 ['2017','12','31']형식으로 분리\n",
    "\n",
    "print(\"입력한 날짜와 10년후==>\",end='')\n",
    "print(str(int(ssList[0])+10)+\"년\",end='') #값을 정수화 한다\n",
    "print(ssList[1]+'월',end='')\n",
    "print(ssList[2]+'일')\n",
    "\n"
   ]
  },
  {
   "cell_type": "code",
   "execution_count": 42,
   "id": "4e84c5d0",
   "metadata": {},
   "outputs": [
    {
     "name": "stdout",
     "output_type": "stream",
     "text": [
      "[2019, 12, 31]\n"
     ]
    }
   ],
   "source": [
    "before = ['2019','12','31']\n",
    "after = list(map(int,before)) #믄지열을 정수화 시킴\n",
    "print(after)"
   ]
  },
  {
   "cell_type": "code",
   "execution_count": 45,
   "id": "245133f8",
   "metadata": {},
   "outputs": [
    {
     "name": "stdout",
     "output_type": "stream",
     "text": [
      "   파이썬    \n",
      "---파이썬----\n",
      "파이썬       \n",
      "       파이썬\n",
      "0000000파이썬 \n",
      "\n",
      "\n",
      "파이썬      -\n",
      "파이썬-------\n",
      "       파이썬 -\n",
      "-------파이썬\n"
     ]
    }
   ],
   "source": [
    "ss='파이썬'\n",
    "print(ss.center(10))\n",
    "print(ss.center(10,'-'))\n",
    "print(ss.ljust(10))\n",
    "print(ss.rjust(10))\n",
    "print(ss.zfill(10),\"\\n\\n\")\n",
    "\n",
    "print(ss.ljust(8),'-') #원하는 위치에 채우기\n",
    "print(ss.ljust(10,'-'))  \n",
    "print(ss.rjust(10),'-')\n",
    "print(ss.rjust(10,'-'))  "
   ]
  },
  {
   "cell_type": "code",
   "execution_count": 51,
   "id": "16a6cd75",
   "metadata": {},
   "outputs": [
    {
     "name": "stdout",
     "output_type": "stream",
     "text": [
      "True\n",
      "True\n",
      "True\n",
      "True\n",
      "True\n",
      "True\n"
     ]
    }
   ],
   "source": [
    "print('1234'.isdigit()) #숫자로만\n",
    "print('abcd'.isalpha()) #문자로만\n",
    "print('abc123'.isalnum()) #숫자+글자\n",
    "print('abcd'.islower())  #소문자\n",
    "print('ABCD'.isupper()) #대문자\n",
    "print('   '.isspace()) #공백"
   ]
  },
  {
   "cell_type": "code",
   "execution_count": 52,
   "id": "24714ff2",
   "metadata": {},
   "outputs": [
    {
     "name": "stdout",
     "output_type": "stream",
     "text": [
      "문자열을 입력하세요\n",
      "#\n",
      "모르겠습니다\n"
     ]
    }
   ],
   "source": [
    "ss= input(\"문자열을 입력하세요\\n\")\n",
    "        \n",
    "\n",
    "if ss.isalpha() == True:\n",
    "    print(\"글자입니다\")\n",
    "    \n",
    "elif ss.isdigit() == True:\n",
    "    print(\"숫자입니다\")\n",
    "    \n",
    "elif ss.isalnum() == True:\n",
    "    print(\"글자+숫자입니다\")\n",
    "\n",
    "    \n",
    "else :\n",
    "    print(\"모르겠습니다\")\n"
   ]
  },
  {
   "cell_type": "markdown",
   "id": "8f55196e",
   "metadata": {},
   "source": [
    "### 문자열 포맷"
   ]
  },
  {
   "cell_type": "code",
   "execution_count": 57,
   "id": "9e243de1",
   "metadata": {},
   "outputs": [
    {
     "name": "stdout",
     "output_type": "stream",
     "text": [
      "나는 20살입니다.\n",
      "나는 파이썬을 좋아합니다.\n",
      "Apple 은 A로 시작해요.\n",
      "나는 20살입니다.\n"
     ]
    }
   ],
   "source": [
    "# 방법 1\n",
    "\n",
    "print(\"나는 %d살입니다.\" % 20) # 나는 20살입니다\n",
    "print(\"나는 %s을 좋아합니다.\" % \"파이썬\") # 나는 파이썬을 좋아합니다.\n",
    "print(\"Apple 은 %c로 시작해요.\" % \"A\") # Apple 은 A로 시작해요.\n",
    "print(\"나는 %s살입니다.\" % 20) # 나는 20살입니다 (%s 로도 정수값 표현 가능)"
   ]
  },
  {
   "cell_type": "code",
   "execution_count": 58,
   "id": "694325dd",
   "metadata": {},
   "outputs": [
    {
     "name": "stdout",
     "output_type": "stream",
     "text": [
      "나는 20살입니다.\n",
      "나는 파란색과 빨간색을 좋아해요.\n",
      "나는 파란색과 빨간색을 좋아해요.\n",
      "나는 빨간색과 파란색을 좋아해요.\n"
     ]
    }
   ],
   "source": [
    "# 방법 2\n",
    "\n",
    "print(\"나는 {}살입니다.\".format(20)) # 나는 20살입니다.\n",
    "print(\"나는 {}색과 {}색을 좋아해요.\".format(\"파란\", \"빨간\")) # 나는 파란색과 빨간색을 좋아해요\n",
    "print(\"나는 {0}색과 {1}색을 좋아해요.\".format(\"파란\", \"빨간\")) # 나는 파란색과 빨간색을 좋아해요\n",
    "print(\"나는 {1}색과 {0}색을 좋아해요.\".format(\"파란\", \"빨간\")) # 나는 빨간색과 파란색을 좋아해요"
   ]
  },
  {
   "cell_type": "code",
   "execution_count": 59,
   "id": "4c74ea6d",
   "metadata": {},
   "outputs": [
    {
     "name": "stdout",
     "output_type": "stream",
     "text": [
      "나는 20살이며, 빨간색을 좋아해요.\n",
      "나는 20살이며, 빨간색을 좋아해요.\n"
     ]
    }
   ],
   "source": [
    "# 방법 3\n",
    "\n",
    "print(\"나는 {age}살이며, {color}색을 좋아해요.\".format(age=20, color=\"빨간\"))\n",
    "# 나는 20살이며, 빨간색을 좋아해요\n",
    "\n",
    "print(\"나는 {age}살이며, {color}색을 좋아해요.\".format(color=\"빨간\", age=20))\n",
    "# 나는 20살이며, 빨간색을 좋아해요 (.format 뒤에 순서를 변경해도 괜찮아요)"
   ]
  },
  {
   "cell_type": "code",
   "execution_count": 60,
   "id": "9f8deb27",
   "metadata": {},
   "outputs": [
    {
     "name": "stdout",
     "output_type": "stream",
     "text": [
      "나는 20살이며, 빨간색을 좋아해요.\n"
     ]
    }
   ],
   "source": [
    "# 방법 4 (파이썬 버전 3.6 부터 가능)\n",
    "\n",
    "age = 20\n",
    "color = \"빨간\"\n",
    "print(f\"나는 {age}살이며, {color}색을 좋아해요.\") # 나는 20살이며, 빨간색을 좋아해요."
   ]
  },
  {
   "cell_type": "markdown",
   "id": "833e0f5e",
   "metadata": {},
   "source": [
    "### Quiz) 사이트 별로 비밀번호를 만들어주는 프로그램을 작성하시오.\n",
    "\n",
    "#### 예) http://naver.com\n",
    "#### 규칙1 : http:// 부분은 제외 → naver.com\n",
    "#### 규칙2 : 처음 만나는 점(.) 이후 부분은 제외 → naver\n",
    "#### 규칙3 : 남은 글자 중 처음 세 자리 + 글자 갯수 + 글자 내 'e'의 갯수 + '!'로 구성\n",
    "                       (nav)                      (5)                   (1)             (!)\n",
    "\n",
    "#### 예) 생성된 비밀번호 : nav51!"
   ]
  },
  {
   "cell_type": "code",
   "execution_count": 62,
   "id": "0d10a234",
   "metadata": {},
   "outputs": [
    {
     "name": "stdout",
     "output_type": "stream",
     "text": [
      "http://naver.com 의 비밀번호는 nav51! 입니다.\n"
     ]
    }
   ],
   "source": [
    "url = \"http://naver.com\"\n",
    "# url = \"http://daum.net\"\n",
    "# url = \"http://google.com\"\n",
    "# url = \"http://youtube.com\"\n",
    "\n",
    "my_str = url.replace(\"http://\", \"\") # 규칙 1\n",
    "\n",
    "my_str = my_str[:my_str.index(\".\")] # 규칙 2\n",
    "# naver.com 일 때 my_str.index(\".\") 의 결과는 5 이므로 위 문장은\n",
    "# my_str = mystr[0:5] 와 같음\n",
    "\n",
    "password = my_str[:3] + str(len(my_str)) + str(my_str.count(\"e\")) + \"!\" # 규칙 3\n",
    "\n",
    "print(\"{0} 의 비밀번호는 {1} 입니다.\".format(url, password))"
   ]
  },
  {
   "cell_type": "markdown",
   "id": "6e524475",
   "metadata": {},
   "source": [
    "### -------------------------------------------------------------------------------------------\n",
    "# 4.1 리스트"
   ]
  },
  {
   "cell_type": "code",
   "execution_count": 63,
   "id": "101ca05e",
   "metadata": {},
   "outputs": [
    {
     "data": {
      "text/plain": [
       "100"
      ]
     },
     "execution_count": 63,
     "metadata": {},
     "output_type": "execute_result"
    }
   ],
   "source": [
    "#반복을 이용한 리스트 생성\n",
    "aa=[]\n",
    "for i in range(0,100):\n",
    "    aa.append(0)\n",
    "len(aa)"
   ]
  },
  {
   "cell_type": "markdown",
   "id": "ffdbb6a4",
   "metadata": {},
   "source": [
    "### extend 와 append의 차이 인지!!"
   ]
  },
  {
   "cell_type": "code",
   "execution_count": 173,
   "id": "d6b3adb0",
   "metadata": {},
   "outputs": [
    {
     "name": "stdout",
     "output_type": "stream",
     "text": [
      "['유재석', '조세호', '박명수', ['정소민', '김연아']]\n",
      "['유재석', '조세호', '박명수', ['정소민', '김연아'], '정소민', '김연아']\n"
     ]
    }
   ],
   "source": [
    "subway = [\"유재석\", \"조세호\", \"박명수\"]\n",
    "#print(subway)\n",
    "#print(subway.index(\"조세호\")) \n",
    "subway2 = [\"정소민\" , \"김연아\"]\n",
    "subway.append(subway2)\n",
    "print(subway)\n",
    "subway.extend(subway2)\n",
    "print(subway)"
   ]
  },
  {
   "cell_type": "code",
   "execution_count": 68,
   "id": "33c82da0",
   "metadata": {},
   "outputs": [
    {
     "name": "stdout",
     "output_type": "stream",
     "text": [
      "[0, 3, 6, 9, 12, 15, 18, 21, 24, 27, 30, 33, 36, 39, 42, 45, 48, 51, 54, 57, 60, 63, 66, 69, 72, 75, 78, 81, 84, 87, 90, 93, 96, 99, 102, 105, 108, 111, 114, 117, 120, 123, 126, 129, 132, 135, 138, 141, 144, 147, 150, 153, 156, 159, 162, 165, 168, 171, 174, 177, 180, 183, 186, 189, 192, 195, 198, 201, 204, 207, 210, 213, 216, 219, 222, 225, 228, 231, 234, 237, 240, 243, 246, 249, 252, 255, 258, 261, 264, 267, 270, 273, 276, 279, 282, 285, 288, 291, 294, 297, 300, 303, 306, 309, 312, 315, 318, 321, 324, 327, 330, 333, 336, 339, 342, 345, 348, 351, 354, 357, 360, 363, 366, 369, 372, 375, 378, 381, 384, 387, 390, 393, 396, 399, 402, 405, 408, 411, 414, 417, 420, 423, 426, 429, 432, 435, 438, 441, 444, 447, 450, 453, 456, 459, 462, 465, 468, 471, 474, 477, 480, 483, 486, 489, 492, 495, 498, 501, 504, 507, 510, 513, 516, 519, 522, 525, 528, 531, 534, 537, 540, 543, 546, 549, 552, 555, 558, 561, 564, 567, 570, 573, 576, 579, 582, 585, 588, 591, 594, 597] \n",
      "\n",
      "\n",
      "[597, 594, 591, 588, 585, 582, 579, 576, 573, 570, 567, 564, 561, 558, 555, 552, 549, 546, 543, 540, 537, 534, 531, 528, 525, 522, 519, 516, 513, 510, 507, 504, 501, 498, 495, 492, 489, 486, 483, 480, 477, 474, 471, 468, 465, 462, 459, 456, 453, 450, 447, 444, 441, 438, 435, 432, 429, 426, 423, 420, 417, 414, 411, 408, 405, 402, 399, 396, 393, 390, 387, 384, 381, 378, 375, 372, 369, 366, 363, 360, 357, 354, 351, 348, 345, 342, 339, 336, 333, 330, 327, 324, 321, 318, 315, 312, 309, 306, 303, 300, 297, 294, 291, 288, 285, 282, 279, 276, 273, 270, 267, 264, 261, 258, 255, 252, 249, 246, 243, 240, 237, 234, 231, 228, 225, 222, 219, 216, 213, 210, 207, 204, 201, 198, 195, 192, 189, 186, 183, 180, 177, 174, 171, 168, 165, 162, 159, 156, 153, 150, 147, 144, 141, 138, 135, 132, 129, 126, 123, 120, 117, 114, 111, 108, 105, 102, 99, 96, 93, 90, 87, 84, 81, 78, 75, 72, 69, 66, 63, 60, 57, 54, 51, 48, 45, 42, 39, 36, 33, 30, 27, 24, 21, 18, 15, 12, 9, 6, 3, 0] \n",
      "\n",
      "bb[0]에는 597이 , bb[199]에는 0이 입력됩니다\n"
     ]
    }
   ],
   "source": [
    "## 리스트aa 와 역순리스트 bb\n",
    "\n",
    "aa = []\n",
    "bb = []\n",
    "value = 0\n",
    "\n",
    "for i in range(0,200):\n",
    "    aa.append(value)\n",
    "    value +=3\n",
    "    \n",
    "print(aa , \"\\n\\n\")\n",
    "    \n",
    "for i in range(0,200):\n",
    "    bb.append(aa[199-i])\n",
    "    \n",
    "print(bb, \"\\n\")\n",
    "    \n",
    "print(\"bb[0]에는 %d이 , bb[199]에는 %d이 입력됩니다\"%(bb[0],bb[199]))"
   ]
  },
  {
   "cell_type": "markdown",
   "id": "f19a0def",
   "metadata": {},
   "source": [
    "### 리스트 접근 (음수 접근도 유용하게 쓰이니 잘보기)"
   ]
  },
  {
   "cell_type": "code",
   "execution_count": 72,
   "id": "87a1edfc",
   "metadata": {},
   "outputs": [
    {
     "name": "stdout",
     "output_type": "stream",
     "text": [
      "aa[-1]은 40,\n",
      "aa[-2]는 30\n"
     ]
    }
   ],
   "source": [
    "aa=[10,20,30,40]\n",
    "#  0   1   2   3\n",
    "#  -4  -3 -2  -1\n",
    "#리스트 음수로도 접근 가능    \n",
    "\n",
    "print(\"aa[-1]은 %d,\\naa[-2]는 %d\"%(aa[-1],aa[-2]))"
   ]
  },
  {
   "cell_type": "code",
   "execution_count": 73,
   "id": "db55e0a7",
   "metadata": {},
   "outputs": [
    {
     "name": "stdout",
     "output_type": "stream",
     "text": [
      "[10, 20, 30]\n",
      "[30, 40]\n",
      "[30, 40]\n",
      "[10, 20]\n"
     ]
    }
   ],
   "source": [
    "print(aa[0:3])\n",
    "print(aa[2:4])\n",
    "print(aa[2:])\n",
    "print(aa[:2])"
   ]
  },
  {
   "cell_type": "code",
   "execution_count": 91,
   "id": "413a4789",
   "metadata": {},
   "outputs": [
    {
     "name": "stdout",
     "output_type": "stream",
     "text": [
      "[70, 50, 30, 10]\n",
      "[10, 20, 30, 40, 50, 60, 70]\n",
      "[10, 30, 50, 70]\n",
      "[20, 40, 60]\n",
      "[30, 40, 50, 60, 70]\n",
      "[70, 50, 30, 10]\n",
      "[10, 30, 50]\n"
     ]
    }
   ],
   "source": [
    "aaa=[10,20,30,40,50,60,70]\n",
    "print(aaa[::-2]) ## 0부터 2의 간격으로!\n",
    "print(aaa[::1]) ## 0부터 2의 간격으로!\n",
    "\n",
    "\n",
    "print(aaa[0::2]) ## 0부터 2의 간격으로!\n",
    "print(aaa[1::2]) ## 1부터 2의 간격으로!\n",
    "print(aaa[2::1]) ## 2부터 1의 간격으로!\n",
    "print(aaa[-1::-2]) ## -1의 위치부터 2간격\n",
    "\n",
    "print(aaa[0:6:2]) ## 0부터 6까지 2간격\n"
   ]
  },
  {
   "cell_type": "markdown",
   "id": "d16ef4f4",
   "metadata": {},
   "source": [
    "### 리스트 값 변경"
   ]
  },
  {
   "cell_type": "code",
   "execution_count": 92,
   "id": "0875c016",
   "metadata": {},
   "outputs": [
    {
     "data": {
      "text/plain": [
       "[10, 200, 30, 40]"
      ]
     },
     "execution_count": 92,
     "metadata": {},
     "output_type": "execute_result"
    }
   ],
   "source": [
    "aa=[10,20,30,40]\n",
    "aa[1]=200\n",
    "aa"
   ]
  },
  {
   "cell_type": "code",
   "execution_count": 93,
   "id": "7eb2fb7b",
   "metadata": {},
   "outputs": [
    {
     "data": {
      "text/plain": [
       "[10, 200, 201, 30, 40]"
      ]
     },
     "execution_count": 93,
     "metadata": {},
     "output_type": "execute_result"
    }
   ],
   "source": [
    "aa=[10,20,30,40]\n",
    "aa[1:2]=[200,201]\n",
    "aa\n",
    "##20 하나를 200 201로 바꾸어라라는 뜩\n",
    "#리스트의 한 칸이 늘어난다"
   ]
  },
  {
   "cell_type": "code",
   "execution_count": 95,
   "id": "da6a0cff",
   "metadata": {},
   "outputs": [
    {
     "data": {
      "text/plain": [
       "[10, [200, 201], 30, 40]"
      ]
     },
     "execution_count": 95,
     "metadata": {},
     "output_type": "execute_result"
    }
   ],
   "source": [
    "aa=[10,20,30,40]\n",
    "aa[1]=[200,201]\n",
    "aa\n",
    "#리스트형으로 바꾸고 싶다면 인덱스 하나를 지정해서 바꿔준다"
   ]
  },
  {
   "cell_type": "code",
   "execution_count": 94,
   "id": "cf0948fd",
   "metadata": {},
   "outputs": [
    {
     "data": {
      "text/plain": [
       "[10, 200, 201, 40]"
      ]
     },
     "execution_count": 94,
     "metadata": {},
     "output_type": "execute_result"
    }
   ],
   "source": [
    "aa=[10,20,30,40]\n",
    "aa[1:3]=[200,201]\n",
    "aa\n",
    "##20과 30 두개를 200과 201로 바꾸어라\n",
    "## >> 이래서 리스트 교체시 범위 설정을 잘해줘야한다"
   ]
  },
  {
   "cell_type": "markdown",
   "id": "77ab05db",
   "metadata": {},
   "source": [
    "### 리스트 삭제"
   ]
  },
  {
   "cell_type": "code",
   "execution_count": 96,
   "id": "f9933b5b",
   "metadata": {},
   "outputs": [
    {
     "data": {
      "text/plain": [
       "[10, 30, 40]"
      ]
     },
     "execution_count": 96,
     "metadata": {},
     "output_type": "execute_result"
    }
   ],
   "source": [
    "aa=[10,20,30,40]\n",
    "del(aa[1])\n",
    "aa"
   ]
  },
  {
   "cell_type": "code",
   "execution_count": 97,
   "id": "a9a73d80",
   "metadata": {},
   "outputs": [
    {
     "data": {
      "text/plain": [
       "[10, 50]"
      ]
     },
     "execution_count": 97,
     "metadata": {},
     "output_type": "execute_result"
    }
   ],
   "source": [
    "aa=[10,20,30,40,50]\n",
    "aa[1:4] = []\n",
    "aa "
   ]
  },
  {
   "cell_type": "markdown",
   "id": "b90c74cf",
   "metadata": {},
   "source": [
    "### 리스트 조작 메소드 함수\n",
    "### append() , sort() , reverse() , insert() , remove() , extend() "
   ]
  },
  {
   "cell_type": "code",
   "execution_count": 100,
   "id": "04a0eccd",
   "metadata": {},
   "outputs": [
    {
     "name": "stdout",
     "output_type": "stream",
     "text": [
      "1.리스트:[30, 20, 10]\n",
      "2.append(40)후의 리스트:[30, 20, 10, 40]\n",
      "2.리스트에서 pop()으로 추출한 값:40\n",
      "2.리스트에서 pop()으로 추출후의 값:[30, 20, 10]\n",
      "3.List.sort()후의 리스트:[10, 20, 30]\n",
      "4.List.reverse()후의 리스트:[30, 20, 10]\n",
      "List.index(20) >> 20값의 위치:1\n",
      "5.insert(2,222)후의 리스트:[30, 20, 222, 10]\n",
      "6.remove(222)후의 리스트:[30, 20, 10]\n",
      "7.extend([77,88,77]후의 리스트:[30, 20, 10, 77, 88, 77]\n",
      "77값의 개수:2\n",
      "8.len(List)>> 리스트의 길이를 아는 메소드:6\n"
     ]
    }
   ],
   "source": [
    "List=[30,20,10]\n",
    "print(\"1.리스트:%s\"%List)\n",
    "\n",
    "List.append(40)\n",
    "print(\"2.append(40)후의 리스트:%s\"%List)\n",
    "\n",
    "\n",
    "print(\"2.리스트에서 pop()으로 추출한 값:%s\"%List.pop())\n",
    "print(\"2.리스트에서 pop()으로 추출후의 값:%s\"%List)\n",
    "\n",
    "List.sort()\n",
    "print(\"3.List.sort()후의 리스트:%s\"%List)\n",
    "\n",
    "List.reverse()\n",
    "print(\"4.List.reverse()후의 리스트:%s\"%List)\n",
    "\n",
    "print(\"List.index(20) >> 20값의 위치:%s\"%List.index(20))\n",
    "\n",
    "\n",
    "List.insert(2,222)\n",
    "print(\"5.insert(2,222)후의 리스트:%s\"%List)\n",
    "\n",
    "List.remove(222)\n",
    "print(\"6.remove(222)후의 리스트:%s\"%List)\n",
    "\n",
    "List.extend([77,88,77])\n",
    "print(\"7.extend([77,88,77]후의 리스트:%s\"%List)\n",
    "\n",
    "print(\"77값의 개수:%d\"%List.count(77))\n",
    "\n",
    "len(List)\n",
    "print(\"8.len(List)>> 리스트의 길이를 아는 메소드:%s\"%len(List))\n"
   ]
  },
  {
   "cell_type": "markdown",
   "id": "c6302233",
   "metadata": {},
   "source": [
    "### 2차원 리스트"
   ]
  },
  {
   "cell_type": "code",
   "execution_count": 102,
   "id": "443776d5",
   "metadata": {},
   "outputs": [
    {
     "name": "stdout",
     "output_type": "stream",
     "text": [
      "  1  2  3  4\n",
      "  5  6  7  8\n",
      "  9 10 11 12\n"
     ]
    }
   ],
   "source": [
    "## >> 코드 이해하기\n",
    "list1 = []\n",
    "list2 = []\n",
    "value = 1\n",
    "for i in range(0,3):\n",
    "    for k in range(0,4):\n",
    "        list1.append(value)\n",
    "        value+=1\n",
    "    list2.append(list1)\n",
    "    list1 = []\n",
    "\n",
    "'''\n",
    "for i in range(0,3):\n",
    "    for k in range(0,4):\n",
    "        print(\"%3d\"%list2[i][k],end=\"\")\n",
    "    print(\"\")\n",
    "'''\n",
    "\n",
    "for i in list2:  #list2[[1,2,3,4],[5,6,7,8],[9,10,11,12]]\n",
    "    for k in i:       ##최초의 i = [1,2,3,4]\n",
    "        print(\"%3d\"%k,end=\"\")\n",
    "    print(\"\")\n",
    "\n"
   ]
  },
  {
   "cell_type": "code",
   "execution_count": 103,
   "id": "220c03d6",
   "metadata": {},
   "outputs": [
    {
     "name": "stdout",
     "output_type": "stream",
     "text": [
      "  0  3  6  9 12\n",
      " 15 18 21 24 27\n",
      " 30 33 36 39 42\n",
      " 45 48 51 54 57\n"
     ]
    }
   ],
   "source": [
    "## >> 코드 이해하기\n",
    "list1 = []\n",
    "list2 = []\n",
    "value = 0\n",
    "for i in range(0,4):\n",
    "    for k in range(0,5):\n",
    "        list1.append(value)\n",
    "        value=value+3\n",
    "    list2.append(list1)\n",
    "    list1 = []\n",
    "        \n",
    "for i in list2:  #list2[[1,2,3,4],[5,6,7,8],[9,10,11,12]]\n",
    "    for k in i:       ##최초의 i = [1,2,3,4]\n",
    "        print(\"%3d\"%k,end=\"\")\n",
    "    print(\"\")"
   ]
  },
  {
   "cell_type": "markdown",
   "id": "c91354f2",
   "metadata": {},
   "source": [
    "### 리스트 복사 >> 중요!!"
   ]
  },
  {
   "attachments": {
    "1.PNG": {
     "image/png": "[encoded data removed]"
    }
   },
   "cell_type": "markdown",
   "id": "df7e884e",
   "metadata": {},
   "source": [
    "![1.PNG](attachment:1.PNG)"
   ]
  },
  {
   "cell_type": "code",
   "execution_count": 174,
   "id": "d5d42518",
   "metadata": {},
   "outputs": [
    {
     "name": "stdout",
     "output_type": "stream",
     "text": [
      "['짜장면', '탕수육', '군만두']\n",
      "['짬뽕', '탕수육', '군만두', '깐풍기']\n"
     ]
    }
   ],
   "source": [
    "#얕은 복사 : 리스트가 메모리 공간 공유\n",
    "oldList=['짜장면','탕수육','군만두']\n",
    "newList = oldList #두 리스트가 메모리 공간 공유\n",
    "print(\"%s\"%newList)\n",
    "oldList[0] = '짬뽕'\n",
    "oldList.append('깐풍기')\n",
    "print(\"%s\"%newList)\n"
   ]
  },
  {
   "attachments": {
    "2.PNG": {
     "image/png": "[encoded data removed]"
    }
   },
   "cell_type": "markdown",
   "id": "63b218a9",
   "metadata": {},
   "source": [
    "![2.PNG](attachment:2.PNG)"
   ]
  },
  {
   "cell_type": "code",
   "execution_count": 175,
   "id": "cc695707",
   "metadata": {},
   "outputs": [
    {
     "name": "stdout",
     "output_type": "stream",
     "text": [
      "['짜장면', '탕수육', '군만두']\n",
      "['짜장면', '탕수육', '군만두']\n"
     ]
    }
   ],
   "source": [
    "#은 복사 : newList=oldList[:]는 메모리의 공간을 복사해서 새로 만듬\n",
    "oldList=['짜장면','탕수육','군만두']\n",
    "newList = oldList[:] #[:]메모리 공간을 복사해서 새로 만듦\n",
    "print(newList)\n",
    "oldList[0] = '짬뽕'\n",
    "oldList.append('깐풍기')\n",
    "print(\"%s\"%newList)\n"
   ]
  },
  {
   "cell_type": "markdown",
   "id": "44e39437",
   "metadata": {},
   "source": [
    "### 컴프리헨션  >> 리스트 숏코딩!!!!!!!!\n",
    "#### 값이 순차적인 리스트를 한 줄로 만드는 간단한 방법"
   ]
  },
  {
   "cell_type": "code",
   "execution_count": 155,
   "id": "cf4deacb",
   "metadata": {},
   "outputs": [
    {
     "data": {
      "text/plain": [
       "[1, 2, 3, 4, 5]"
      ]
     },
     "execution_count": 155,
     "metadata": {},
     "output_type": "execute_result"
    }
   ],
   "source": [
    "numList = []\n",
    "for num in range(1,6):\n",
    "    numList.append(num)\n",
    "numList"
   ]
  },
  {
   "cell_type": "code",
   "execution_count": 156,
   "id": "36db2003",
   "metadata": {},
   "outputs": [
    {
     "data": {
      "text/plain": [
       "[1, 2, 3, 4, 5]"
      ]
     },
     "execution_count": 156,
     "metadata": {},
     "output_type": "execute_result"
    }
   ],
   "source": [
    "#컴프리헨션\n",
    "#컴프리헨션의 구성\n",
    "#리스트 = [수식 for 항목 in range() if 조건식]\n",
    "numList = [num for num in range(1,6)]\n",
    "numList"
   ]
  },
  {
   "cell_type": "code",
   "execution_count": 157,
   "id": "f38e2d23",
   "metadata": {},
   "outputs": [
    {
     "data": {
      "text/plain": [
       "[1, 4, 9, 16, 25]"
      ]
     },
     "execution_count": 157,
     "metadata": {},
     "output_type": "execute_result"
    }
   ],
   "source": [
    "#1~5의 제곱\n",
    "numList = [num * num for num in range(1,6)]\n",
    "numList"
   ]
  },
  {
   "cell_type": "code",
   "execution_count": 158,
   "id": "53e1a934",
   "metadata": {},
   "outputs": [
    {
     "data": {
      "text/plain": [
       "[3, 6, 9, 12, 15, 18]"
      ]
     },
     "execution_count": 158,
     "metadata": {},
     "output_type": "execute_result"
    }
   ],
   "source": [
    "#1~20 숫자 중에서 3의 배수로만 리스트를 구성\n",
    "numList = [num  for num in range(1,21) if num %3 ==0]\n",
    "numList"
   ]
  },
  {
   "cell_type": "markdown",
   "id": "d768634b",
   "metadata": {},
   "source": [
    "# 4.2 튜플\n",
    "### >>리스트는 [] 튜플은 소괄호 ()로 생성\n",
    "### 튜플은 값 수정X (읽기 전용 자료)"
   ]
  },
  {
   "cell_type": "code",
   "execution_count": 106,
   "id": "10d2dbfd",
   "metadata": {},
   "outputs": [
    {
     "data": {
      "text/plain": [
       "(10, 20, 30)"
      ]
     },
     "execution_count": 106,
     "metadata": {},
     "output_type": "execute_result"
    }
   ],
   "source": [
    "#tt1 = (10,20,30)\n",
    "tt1 = 10,20,30 ##이렇게 해도 튜플로 저장!\n",
    "tt1"
   ]
  },
  {
   "cell_type": "code",
   "execution_count": 112,
   "id": "b0cd02aa",
   "metadata": {},
   "outputs": [
    {
     "data": {
      "text/plain": [
       "(10,)"
      ]
     },
     "execution_count": 112,
     "metadata": {},
     "output_type": "execute_result"
    }
   ],
   "source": [
    "## 튜플은 소괄호 생략 가능 >> tt5 tt6처럼 쉼표, 붙임\n",
    "#tt2=(10,)\n",
    "tt2=10, ## \n",
    "tt2"
   ]
  },
  {
   "cell_type": "markdown",
   "id": "612c5d9e",
   "metadata": {},
   "source": [
    "### 튜플의 오류\n",
    "\n",
    "#### 즉 튜플의 값을 삭제하는것은 불가하지만\n",
    "#### 튜플 자체 할당 메모리를 삭제하는것은 가능하다"
   ]
  },
  {
   "cell_type": "code",
   "execution_count": 114,
   "id": "8d10ba4b",
   "metadata": {},
   "outputs": [
    {
     "ename": "AttributeError",
     "evalue": "'tuple' object has no attribute 'append'",
     "output_type": "error",
     "traceback": [
      "\u001b[1;31m---------------------------------------------------------------------------\u001b[0m",
      "\u001b[1;31mAttributeError\u001b[0m                            Traceback (most recent call last)",
      "\u001b[1;32m<ipython-input-114-8b5e3245b616>\u001b[0m in \u001b[0;36m<module>\u001b[1;34m\u001b[0m\n\u001b[0;32m      1\u001b[0m \u001b[1;31m## 튜플은 읽기만 가능하고 수정은 불가능하기 떄문에 append 실행시 오류가 뜬다\u001b[0m\u001b[1;33m\u001b[0m\u001b[1;33m\u001b[0m\u001b[1;33m\u001b[0m\u001b[0m\n\u001b[1;32m----> 2\u001b[1;33m \u001b[0mtt1\u001b[0m\u001b[1;33m.\u001b[0m\u001b[0mappend\u001b[0m\u001b[1;33m(\u001b[0m\u001b[1;36m40\u001b[0m\u001b[1;33m)\u001b[0m\u001b[1;33m\u001b[0m\u001b[1;33m\u001b[0m\u001b[0m\n\u001b[0m\u001b[0;32m      3\u001b[0m \u001b[0mprint\u001b[0m\u001b[1;33m(\u001b[0m\u001b[0mtt1\u001b[0m\u001b[1;33m)\u001b[0m\u001b[1;33m\u001b[0m\u001b[1;33m\u001b[0m\u001b[0m\n\u001b[0;32m      4\u001b[0m \u001b[0mtt1\u001b[0m\u001b[1;33m[\u001b[0m\u001b[1;36m0\u001b[0m\u001b[1;33m]\u001b[0m \u001b[1;33m=\u001b[0m \u001b[1;36m40\u001b[0m\u001b[1;33m\u001b[0m\u001b[1;33m\u001b[0m\u001b[0m\n\u001b[0;32m      5\u001b[0m \u001b[1;32mdel\u001b[0m\u001b[1;33m(\u001b[0m\u001b[0mtt1\u001b[0m\u001b[1;33m[\u001b[0m\u001b[1;36m0\u001b[0m\u001b[1;33m]\u001b[0m\u001b[1;33m)\u001b[0m\u001b[1;33m\u001b[0m\u001b[1;33m\u001b[0m\u001b[0m\n",
      "\u001b[1;31mAttributeError\u001b[0m: 'tuple' object has no attribute 'append'"
     ]
    }
   ],
   "source": [
    "## 튜플은 읽기만 가능하고 수정은 불가능하기 떄문에 append 실행시 오류가 뜬다\n",
    "tt1.append(40)\n",
    "print(tt1)\n",
    "tt1[0] = 40\n",
    "del(tt1[0])"
   ]
  },
  {
   "cell_type": "code",
   "execution_count": 115,
   "id": "1aee4764",
   "metadata": {},
   "outputs": [
    {
     "ename": "NameError",
     "evalue": "name 'tt1' is not defined",
     "output_type": "error",
     "traceback": [
      "\u001b[1;31m---------------------------------------------------------------------------\u001b[0m",
      "\u001b[1;31mNameError\u001b[0m                                 Traceback (most recent call last)",
      "\u001b[1;32m<ipython-input-115-5fec30343d02>\u001b[0m in \u001b[0;36m<module>\u001b[1;34m\u001b[0m\n\u001b[0;32m      2\u001b[0m \u001b[0mtt1\u001b[0m \u001b[1;33m=\u001b[0m \u001b[1;33m(\u001b[0m\u001b[1;36m10\u001b[0m\u001b[1;33m,\u001b[0m\u001b[1;36m20\u001b[0m\u001b[1;33m,\u001b[0m\u001b[1;36m30\u001b[0m\u001b[1;33m)\u001b[0m\u001b[1;33m\u001b[0m\u001b[1;33m\u001b[0m\u001b[0m\n\u001b[0;32m      3\u001b[0m \u001b[1;32mdel\u001b[0m\u001b[1;33m(\u001b[0m\u001b[0mtt1\u001b[0m\u001b[1;33m)\u001b[0m\u001b[1;33m\u001b[0m\u001b[1;33m\u001b[0m\u001b[0m\n\u001b[1;32m----> 4\u001b[1;33m \u001b[0mtt1\u001b[0m\u001b[1;33m\u001b[0m\u001b[1;33m\u001b[0m\u001b[0m\n\u001b[0m\u001b[0;32m      5\u001b[0m \u001b[1;33m\u001b[0m\u001b[0m\n\u001b[0;32m      6\u001b[0m \u001b[1;31m##tt1가 삭제되었으니 오류가 뜬다\u001b[0m\u001b[1;33m\u001b[0m\u001b[1;33m\u001b[0m\u001b[1;33m\u001b[0m\u001b[0m\n",
      "\u001b[1;31mNameError\u001b[0m: name 'tt1' is not defined"
     ]
    }
   ],
   "source": [
    "#하지만 del(tt1)은 할당된 해당 변수를 삭제하는것이기 떄문에 가능하다\n",
    "tt1 = (10,20,30)\n",
    "del(tt1)\n",
    "tt1\n",
    "\n",
    "##tt1가 삭제되었으니 오류가 뜬다"
   ]
  },
  {
   "cell_type": "markdown",
   "id": "6acd76ce",
   "metadata": {},
   "source": [
    "### 튜플의 접근"
   ]
  },
  {
   "cell_type": "code",
   "execution_count": 116,
   "id": "a40e7bf0",
   "metadata": {},
   "outputs": [
    {
     "data": {
      "text/plain": [
       "60"
      ]
     },
     "execution_count": 116,
     "metadata": {},
     "output_type": "execute_result"
    }
   ],
   "source": [
    "tt1=(10,20,30,40)\n",
    "tt1[0]  #10\n",
    "tt1[0] + tt1[1] + tt1[2]"
   ]
  },
  {
   "cell_type": "code",
   "execution_count": 118,
   "id": "bc6a1631",
   "metadata": {},
   "outputs": [
    {
     "name": "stdout",
     "output_type": "stream",
     "text": [
      "(20, 30, 40)\n",
      "(10, 20, 30)\n"
     ]
    }
   ],
   "source": [
    "tt1=(10,20,30,40)\n",
    "print(tt1[1:])\n",
    "print(tt1[:3])"
   ]
  },
  {
   "cell_type": "markdown",
   "id": "d8925a8b",
   "metadata": {},
   "source": [
    "### 튜플의 덧셈 및 곱셈 연산"
   ]
  },
  {
   "cell_type": "code",
   "execution_count": 119,
   "id": "732d953d",
   "metadata": {},
   "outputs": [
    {
     "data": {
      "text/plain": [
       "(10, 20, 30, 40, 'A', 'B')"
      ]
     },
     "execution_count": 119,
     "metadata": {},
     "output_type": "execute_result"
    }
   ],
   "source": [
    "tt1=(10,20,30,40)\n",
    "tt2 = ('A','B')\n",
    "tt1 + tt2"
   ]
  },
  {
   "cell_type": "markdown",
   "id": "734d122e",
   "metadata": {},
   "source": [
    "###  튜플 → 리스트 → 튜플 변환"
   ]
  },
  {
   "cell_type": "code",
   "execution_count": 122,
   "id": "1897972a",
   "metadata": {},
   "outputs": [
    {
     "name": "stdout",
     "output_type": "stream",
     "text": [
      "(10, 20, 30)\n",
      "[10, 20, 30, 40]\n",
      "(10, 20, 30, 40)\n"
     ]
    }
   ],
   "source": [
    "myTuple = (10,20,30)\n",
    "print(myTuple)\n",
    "\n",
    "myList = list(myTuple) ## 튜플 >> 리스트\n",
    "myList.append(40)\n",
    "print(myList)\n",
    "\n",
    "myTuple = tuple(myList) ## 리스트 >> 튜플\n",
    "print(myTuple)"
   ]
  },
  {
   "cell_type": "markdown",
   "id": "19bc68ca",
   "metadata": {},
   "source": [
    "# 4.3 딕셔너리\n",
    "### 중괄호로 생성"
   ]
  },
  {
   "cell_type": "code",
   "execution_count": 126,
   "id": "c8c14767",
   "metadata": {},
   "outputs": [
    {
     "data": {
      "text/plain": [
       "{'학번': 1000, '이름': '홍길동', '학과': '컴퓨터학과'}"
      ]
     },
     "execution_count": 126,
     "metadata": {},
     "output_type": "execute_result"
    }
   ],
   "source": [
    "s = {\"학번\":1000,\"이름\":\"홍길동\",\"학과\":\"컴퓨터학과\"}\n",
    "s"
   ]
  },
  {
   "cell_type": "code",
   "execution_count": 127,
   "id": "4288030f",
   "metadata": {},
   "outputs": [
    {
     "data": {
      "text/plain": [
       "{'학번': 1000, '이름': '홍길동', '학과': '컴퓨터학과', '연락처': '01055261387'}"
      ]
     },
     "execution_count": 127,
     "metadata": {},
     "output_type": "execute_result"
    }
   ],
   "source": [
    "#항목 추가\n",
    "s['연락처'] = '01055261387'\n",
    "s"
   ]
  },
  {
   "cell_type": "code",
   "execution_count": 128,
   "id": "6c6dbf20",
   "metadata": {},
   "outputs": [
    {
     "data": {
      "text/plain": [
       "{'학번': 1000, '이름': '홍길동', '학과': '파이썬학과', '연락처': '01055261387'}"
      ]
     },
     "execution_count": 128,
     "metadata": {},
     "output_type": "execute_result"
    }
   ],
   "source": [
    "#항목 수정\n",
    "s['학과'] = '파이썬학과'\n",
    "s"
   ]
  },
  {
   "cell_type": "code",
   "execution_count": 129,
   "id": "f7ecb247",
   "metadata": {},
   "outputs": [
    {
     "data": {
      "text/plain": [
       "{'학번': 1000, '이름': '홍길동', '연락처': '01055261387'}"
      ]
     },
     "execution_count": 129,
     "metadata": {},
     "output_type": "execute_result"
    }
   ],
   "source": [
    "#항목 삭제\n",
    "del(s['학과'])\n",
    "s"
   ]
  },
  {
   "cell_type": "markdown",
   "id": "5e29bb14",
   "metadata": {},
   "source": [
    "### 딕셔너리의 사용\n",
    "##### 딕셔너리명[키]와 딕셔너리명.get(키)는 결과 같음\n",
    "##### 딕셔너리명[키]는 없는 키 호출하면 오류 나지만 딕셔너리명.get(키)는 없는 키를 호출하면 아무것도 반환하지 않음\n",
    "##### 없는 키를 찾을 때 딕셔너리명.get(키)를 사용\n"
   ]
  },
  {
   "cell_type": "code",
   "execution_count": 134,
   "id": "ccc44d25",
   "metadata": {},
   "outputs": [
    {
     "data": {
      "text/plain": [
       "{'학번': 1000, '이름': '홍길동', '연락처': '01055261387'}"
      ]
     },
     "execution_count": 134,
     "metadata": {},
     "output_type": "execute_result"
    }
   ],
   "source": [
    "s"
   ]
  },
  {
   "cell_type": "code",
   "execution_count": 135,
   "id": "dfb395d4",
   "metadata": {},
   "outputs": [
    {
     "name": "stdout",
     "output_type": "stream",
     "text": [
      "홍길동\n",
      "홍길동\n"
     ]
    }
   ],
   "source": [
    "print(s['이름'])\n",
    "print(s.get('이름'))\n",
    "##없는 키를 찾을때 (key)를 사용"
   ]
  },
  {
   "cell_type": "code",
   "execution_count": 137,
   "id": "3c77e81c",
   "metadata": {},
   "outputs": [
    {
     "name": "stdout",
     "output_type": "stream",
     "text": [
      "dict_keys(['학번', '이름', '연락처'])\n",
      "['학번', '이름', '연락처']\n"
     ]
    }
   ],
   "source": [
    "print(s.keys())\n",
    "print(list(s.keys())) ##key들을 리스트 형식으로"
   ]
  },
  {
   "cell_type": "code",
   "execution_count": 138,
   "id": "91a08c88",
   "metadata": {},
   "outputs": [
    {
     "name": "stdout",
     "output_type": "stream",
     "text": [
      "dict_values([1000, '홍길동', '01055261387'])\n",
      "dict_items([('학번', 1000), ('이름', '홍길동'), ('연락처', '01055261387')])\n"
     ]
    }
   ],
   "source": [
    "print(s.values())\n",
    "print(s.items())"
   ]
  },
  {
   "cell_type": "code",
   "execution_count": 139,
   "id": "715e9538",
   "metadata": {},
   "outputs": [
    {
     "data": {
      "text/plain": [
       "True"
      ]
     },
     "execution_count": 139,
     "metadata": {},
     "output_type": "execute_result"
    }
   ],
   "source": [
    "'이름' in s"
   ]
  },
  {
   "cell_type": "code",
   "execution_count": 143,
   "id": "1b9452ec",
   "metadata": {},
   "outputs": [
    {
     "name": "stdout",
     "output_type": "stream",
     "text": [
      "딕셔너리의 키는 >>  ['이름', '구성원 수 ', '데뷔', '대표곡'] \n",
      "\n",
      "이름 --> 트와이스\n",
      "구성원 수  --> 9\n",
      "데뷔 --> 서바이벌 식스틴\n",
      "대표곡 --> SiGNAL\n"
     ]
    }
   ],
   "source": [
    "## 딕셔너리 호출\n",
    "singer = {}\n",
    "\n",
    "singer['이름'] = '트와이스'\n",
    "singer['구성원 수 '] = 9\n",
    "singer['데뷔'] = '서바이벌 식스틴'\n",
    "singer['대표곡'] = 'SiGNAL'\n",
    "\n",
    "print(\"딕셔너리의 키는 >> \",list(singer.keys()),\"\\n\")\n",
    "\n",
    "for k in singer.keys():\n",
    "    #print('%s --> %s'%(k,singer[k]))\n",
    "    print('%s --> %s'%(k , singer.get(k)))  #get을 쓰면 더 안전!\n",
    "    "
   ]
  },
  {
   "cell_type": "markdown",
   "id": "ca3d2d6a",
   "metadata": {},
   "source": [
    "### 키로 정렬한 후 딕셔너리 추출"
   ]
  },
  {
   "cell_type": "code",
   "execution_count": 144,
   "id": "6701f6df",
   "metadata": {},
   "outputs": [
    {
     "name": "stdout",
     "output_type": "stream",
     "text": [
      "[('Edward', '에드워드'), ('Gothen', '고든'), ('Henry', '헨리'), ('James', '제임스'), ('Thomas', '토마스')]\n"
     ]
    }
   ],
   "source": [
    "import operator\n",
    "\n",
    "transDic,trainList = {},[]\n",
    "\n",
    "trainDic = {'Thomas':'토마스','Edward':'에드워드','Henry':'헨리','Gothen':'고든','James':'제임스'}\n",
    "trainList = sorted(trainDic.items(),key = operator.itemgetter(0))\n",
    "\n",
    "print(trainList)"
   ]
  },
  {
   "cell_type": "code",
   "execution_count": 145,
   "id": "747eb076",
   "metadata": {},
   "outputs": [
    {
     "name": "stdout",
     "output_type": "stream",
     "text": [
      "['떡볶이', '짜장면', '라면', '피자', '맥주', '치킨', '삼겹살']중 좋아하는 음식은?삼겹살\n",
      "<삼겹살> 궁합 음식은 <상추>입니다.\n",
      "['떡볶이', '짜장면', '라면', '피자', '맥주', '치킨', '삼겹살']중 좋아하는 음식은?치킨\n",
      "<치킨> 궁합 음식은 <치킨무>입니다.\n",
      "['떡볶이', '짜장면', '라면', '피자', '맥주', '치킨', '삼겹살']중 좋아하는 음식은?끝\n"
     ]
    }
   ],
   "source": [
    "foods={\"떡볶이\":\"오뎅\",\n",
    "      \"짜장면\":\"단무지\",\n",
    "      \"라면\":\"김치\",\n",
    "      \"피자\":\"피클\",\n",
    "      \"맥주\":\"땅콩\",\n",
    "      \"치킨\":\"치킨무\",\n",
    "      \"삼겹살\":\"상추\"};\n",
    "## foods 딕셔너리 생성!\n",
    "\n",
    "while(True):\n",
    "    myfood = input(str(list(foods.keys()))+\"중 좋아하는 음식은?\")\n",
    "    if myfood in foods:\n",
    "        print(\"<%s> 궁합 음식은 <%s>입니다.\" %(myfood,foods.get(myfood)))\n",
    "    elif myfood == \"끝\":\n",
    "        break\n",
    "    else:\n",
    "        print(\"그런 음식이 없습니다 확인해보세요\")"
   ]
  },
  {
   "cell_type": "markdown",
   "id": "51468e65",
   "metadata": {},
   "source": [
    "### set >> 쉽게 말하면 중복 없애줌!\n",
    "##### 키만 모아 놓은 딕셔너리의 특수한 형태\n",
    "##### 딕셔너리의 키는 중복되면 안 되므로 세트에 들어 있는 값은 항상 유일\n",
    "##### 세트를 생성하려면 딕셔너리처럼 중괄호 { } 사용하지만 : 없이 값을 입력\n",
    "##### 중복된 키는 자동으로 하나만 남음"
   ]
  },
  {
   "cell_type": "code",
   "execution_count": 1,
   "id": "c3d1dd2c",
   "metadata": {},
   "outputs": [
    {
     "data": {
      "text/plain": [
       "{'도시락', '바나나', '삼각김밥'}"
      ]
     },
     "execution_count": 1,
     "metadata": {},
     "output_type": "execute_result"
    }
   ],
   "source": [
    "setList = {'삼각김밥','바나나','도시락','삼각김밥','삼각김밥','도시락','삼각김밥'}\n",
    "set(setList)  ## set list의 중복을 없애준다!"
   ]
  },
  {
   "cell_type": "code",
   "execution_count": 160,
   "id": "e032f0e6",
   "metadata": {},
   "outputs": [
    {
     "name": "stdout",
     "output_type": "stream",
     "text": [
      "{4, 5, 6}\n",
      "{1, 2, 3, 4, 5, 6, 7}\n",
      "{1, 2, 3}\n",
      "{1, 2, 3, 7}\n"
     ]
    }
   ],
   "source": [
    "set1={1,1,2,4,6,2,3,4,5}\n",
    "set(set1)\n",
    "set2={4,5,6,7}\n",
    "\n",
    "print(\"%s\"%(set1 & set2))  #교집합\n",
    "print(\"%s\"%(set1 | set2))  #합집합\n",
    "print(\"%s\"%(set1 - set2))  #차집합\n",
    "print(\"%s\"%(set1 ^ set2))  #대칭 차집합"
   ]
  },
  {
   "cell_type": "markdown",
   "id": "663a3c83",
   "metadata": {},
   "source": [
    "### zip함수를 이용하여 여러 리스트에 접근"
   ]
  },
  {
   "cell_type": "code",
   "execution_count": 161,
   "id": "48ef6687",
   "metadata": {},
   "outputs": [
    {
     "name": "stdout",
     "output_type": "stream",
     "text": [
      "떡볶이 --> 오뎅\n",
      "짜장면 --> 단무지\n",
      "라면 --> 김치\n"
     ]
    }
   ],
   "source": [
    "foods = ['떡볶이','짜장면','라면','피자','맥주','치킨','삼겹살']\n",
    "sides = ['오뎅','단무지','김치']\n",
    "\n",
    "for food,side in zip(foods,sides):\n",
    "    print(food, '-->',side)"
   ]
  },
  {
   "cell_type": "markdown",
   "id": "ab7ca26f",
   "metadata": {},
   "source": [
    "### 두리스트를 튜플이나 딕셔너리로 짝지을 떄 zip함수를 이용"
   ]
  },
  {
   "cell_type": "code",
   "execution_count": 162,
   "id": "2d71eb2b",
   "metadata": {},
   "outputs": [
    {
     "name": "stdout",
     "output_type": "stream",
     "text": [
      "[('떡볶이', '오뎅'), ('짜장면', '단무지'), ('라면', '김치')]\n",
      "{'떡볶이': '오뎅', '짜장면': '단무지', '라면': '김치'}\n"
     ]
    }
   ],
   "source": [
    "foods = ['떡볶이','짜장면','라면','피자','맥주','치킨','삼겹살']\n",
    "sides = ['오뎅','단무지','김치']\n",
    "tupList = list(zip(foods,sides))\n",
    "dic = dict(zip(foods,sides))\n",
    "print(\"%s\"%tupList)\n",
    "print(\"%s\"%dic)"
   ]
  },
  {
   "cell_type": "markdown",
   "id": "530320ca",
   "metadata": {},
   "source": [
    "# 자료구조 변경!"
   ]
  },
  {
   "cell_type": "code",
   "execution_count": 176,
   "id": "b7a89b0d",
   "metadata": {},
   "outputs": [
    {
     "name": "stdout",
     "output_type": "stream",
     "text": [
      "{'주스', '커피', '우유'} <class 'set'>\n"
     ]
    }
   ],
   "source": [
    "menu = {\"커피\", \"우유\", \"주스\"}\n",
    "print(menu, type(menu)) # menu 의 type 정보 : set"
   ]
  },
  {
   "cell_type": "code",
   "execution_count": 177,
   "id": "c4eee79e",
   "metadata": {},
   "outputs": [
    {
     "name": "stdout",
     "output_type": "stream",
     "text": [
      "['주스', '커피', '우유'] <class 'list'>\n"
     ]
    }
   ],
   "source": [
    "menu = list(menu) # 리스트 형태로 변환\n",
    "print(menu, type(menu)) # menu 의 type 정보 : list"
   ]
  },
  {
   "cell_type": "code",
   "execution_count": 178,
   "id": "64371cc6",
   "metadata": {},
   "outputs": [
    {
     "name": "stdout",
     "output_type": "stream",
     "text": [
      "('주스', '커피', '우유') <class 'tuple'>\n"
     ]
    }
   ],
   "source": [
    "menu = tuple(menu) # 튜플 형태로 변환\n",
    "print(menu, type(menu)) # menu 의 type 정보 : tuple"
   ]
  },
  {
   "cell_type": "code",
   "execution_count": 179,
   "id": "fe6813c2",
   "metadata": {},
   "outputs": [
    {
     "name": "stdout",
     "output_type": "stream",
     "text": [
      "{'주스', '커피', '우유'} <class 'set'>\n"
     ]
    }
   ],
   "source": [
    "menu = set(menu) # 세트 형태로 변환\n",
    "print(menu, type(menu)) # menu 의 type 정보 : set"
   ]
  },
  {
   "cell_type": "markdown",
   "id": "db3ae1b6",
   "metadata": {},
   "source": [
    "### -------------------------------------------------------------------------------------------\n",
    "# 5.1 조건문 (if - else)"
   ]
  },
  {
   "cell_type": "code",
   "execution_count": 193,
   "id": "b245a345",
   "metadata": {},
   "outputs": [
    {
     "name": "stdout",
     "output_type": "stream",
     "text": [
      "불합격\n"
     ]
    }
   ],
   "source": [
    "jumsu = 55\n",
    "res=''\n",
    "if jumsu >=60:\n",
    "    res='합격'\n",
    "    \n",
    "else:\n",
    "    res='불합격'\n",
    "    \n",
    "print(res)    \n"
   ]
  },
  {
   "cell_type": "markdown",
   "id": "93390a37",
   "metadata": {},
   "source": [
    "### 조건문_한줄로 줄임"
   ]
  },
  {
   "cell_type": "code",
   "execution_count": 9,
   "id": "aece9ba9",
   "metadata": {},
   "outputs": [
    {
     "name": "stdout",
     "output_type": "stream",
     "text": [
      "불합격\n"
     ]
    }
   ],
   "source": [
    "jumsu=55\n",
    "res='합격' if jumsu >=60 else '불합격'\n",
    "print(res)"
   ]
  },
  {
   "cell_type": "code",
   "execution_count": 192,
   "id": "8f3a7e1d",
   "metadata": {},
   "outputs": [
    {
     "name": "stdout",
     "output_type": "stream",
     "text": [
      "점수를 입력하세요:95\n",
      "A\n",
      "학점입니다.^^^\n"
     ]
    }
   ],
   "source": [
    "#중첨 if문\n",
    "\n",
    "score=int(input(\"점수를 입력하세요:\"))\n",
    "\n",
    "if score >= 90:\n",
    "    print(\"A\")\n",
    "    \n",
    "elif score >= 80:\n",
    "    print(\"B\")    \n",
    "    \n",
    "elif score >= 70:\n",
    "    print(\"C\")\n",
    "    \n",
    "elif score >= 60:\n",
    "    print(\"D\")    \n",
    "else:\n",
    "    print(\"F\")\n",
    "    \n",
    "print(\"학점입니다.^^^\")    "
   ]
  },
  {
   "cell_type": "code",
   "execution_count": 195,
   "id": "b60d7174",
   "metadata": {},
   "outputs": [
    {
     "name": "stdout",
     "output_type": "stream",
     "text": [
      "생성된 리스트 [3, 6, 9, 7, 9, 0, 8, 7, 4, 6]\n",
      "숫자 1는 리스트에 없네요\n",
      "숫자 2는 리스트에 없네요\n",
      "숫자 5는 리스트에 없네요\n"
     ]
    }
   ],
   "source": [
    "#if 응용\n",
    "#0~9까지 숫자중에서 리스트안에 없는 숫자 찾기\n",
    "\n",
    "import random\n",
    "\n",
    "numbers=[]\n",
    "for num in range(0,10):\n",
    "    numbers.append(random.randrange(0,10))\n",
    "    \n",
    "print(\"생성된 리스트\",numbers)\n",
    "\n",
    "for num in range(0,10):\n",
    "    if num not in numbers:\n",
    "        print(\"숫자 %d는 리스트에 없네요\" %num)"
   ]
  },
  {
   "cell_type": "code",
   "execution_count": 11,
   "id": "bf94dedf",
   "metadata": {},
   "outputs": [
    {
     "name": "stdout",
     "output_type": "stream",
     "text": [
      "고향을 입력하세요공주\n",
      "공주사람이시군요\n",
      "나이를 입력하세요45\n",
      "45살이시군요. 저보다 5살 많네요\n"
     ]
    }
   ],
   "source": [
    "value = input(\"고향을 입력하세요\")\n",
    "print(value + \"사람이시군요\")\n",
    "\n",
    "age = input(\"나이를 입력하세요\")\n",
    "my_age = 40\n",
    "\n",
    "if int(age) > my_age:\n",
    "    print(str(age)+'살이시군요. 저보다 %s살 많네요'% str(int(age) - my_age))\n",
    "# 여기서 elif를 쓸 때와 안 쓸 때의 차이를 눈여겨 보세요. \n",
    "\n",
    "elif int(age) <= my_age:\n",
    "    print(str(age)+'살이시군요. 제가 %s살 많네요'% str(my_age - int(age)))\n",
    "\n",
    "else:\n",
    "    print(\"뭔가 값이 잘못 입력됐네요.\")"
   ]
  },
  {
   "cell_type": "markdown",
   "id": "f64d7ed4",
   "metadata": {},
   "source": [
    "# 5.2 반복문_For"
   ]
  },
  {
   "cell_type": "code",
   "execution_count": 200,
   "id": "c9870c6c",
   "metadata": {},
   "outputs": [
    {
     "name": "stdout",
     "output_type": "stream",
     "text": [
      "대기번호 : 0\n",
      "대기번호 : 1\n",
      "대기번호 : 2\n",
      "대기번호 : 3\n",
      "대기번호 : 4\n"
     ]
    }
   ],
   "source": [
    "for i in [0, 1, 2, 3, 4]:\n",
    "    print(\"대기번호 : {0}\".format(i)) # {0} 위치에는 waiting_no 의 값이 들어가요"
   ]
  },
  {
   "cell_type": "code",
   "execution_count": 201,
   "id": "13361cfd",
   "metadata": {},
   "outputs": [
    {
     "name": "stdout",
     "output_type": "stream",
     "text": [
      "대기번호 : 0\n",
      "대기번호 : 1\n",
      "대기번호 : 2\n",
      "대기번호 : 3\n",
      "대기번호 : 4\n"
     ]
    }
   ],
   "source": [
    "for i in range(5): # 0부터 5직전까지 (0~4)\n",
    "    print(\"대기번호 : {0}\".format(i))"
   ]
  },
  {
   "cell_type": "code",
   "execution_count": 202,
   "id": "c7bb4a81",
   "metadata": {},
   "outputs": [
    {
     "name": "stdout",
     "output_type": "stream",
     "text": [
      "대기번호 : 1\n",
      "대기번호 : 2\n",
      "대기번호 : 3\n",
      "대기번호 : 4\n",
      "대기번호 : 5\n"
     ]
    }
   ],
   "source": [
    "for i in range(1, 6): # 1부터 6직전까지 (1~5)\n",
    "    print(\"대기번호 : {0}\".format(i))"
   ]
  },
  {
   "cell_type": "code",
   "execution_count": 203,
   "id": "eb93455c",
   "metadata": {},
   "outputs": [
    {
     "name": "stdout",
     "output_type": "stream",
     "text": [
      "아이언맨, 커피가 준비되었습니다\n",
      "토르, 커피가 준비되었습니다\n",
      "아이엠 그루트, 커피가 준비되었습니다\n"
     ]
    }
   ],
   "source": [
    "starbucks = [\"아이언맨\", \"토르\", \"아이엠 그루트\"] # 손님 리스트\n",
    "for customer in starbucks:\n",
    "    print(\"{0}, 커피가 준비되었습니다\".format(customer))"
   ]
  },
  {
   "cell_type": "code",
   "execution_count": 13,
   "id": "e880fdb3",
   "metadata": {},
   "outputs": [
    {
     "name": "stdout",
     "output_type": "stream",
     "text": [
      "########2단##########\n",
      "2 X 1 = 2\n",
      "2 X 2 = 4\n",
      "2 X 3 = 6\n",
      "2 X 4 = 8\n",
      "2 X 5 = 10\n",
      "2 X 6 = 12\n",
      "2 X 7 = 14\n",
      "2 X 8 = 16\n",
      "2 X 9 = 18\n",
      "########3단##########\n",
      "3 X 1 = 3\n",
      "3 X 2 = 6\n",
      "3 X 3 = 9\n",
      "3 X 4 = 12\n",
      "3 X 5 = 15\n",
      "3 X 6 = 18\n",
      "3 X 7 = 21\n",
      "3 X 8 = 24\n",
      "3 X 9 = 27\n",
      "########4단##########\n",
      "4 X 1 = 4\n",
      "4 X 2 = 8\n",
      "4 X 3 = 12\n",
      "4 X 4 = 16\n",
      "4 X 5 = 20\n",
      "4 X 6 = 24\n",
      "4 X 7 = 28\n",
      "4 X 8 = 32\n",
      "4 X 9 = 36\n",
      "########5단##########\n",
      "5 X 1 = 5\n",
      "5 X 2 = 10\n",
      "5 X 3 = 15\n",
      "5 X 4 = 20\n",
      "5 X 5 = 25\n",
      "5 X 6 = 30\n",
      "5 X 7 = 35\n",
      "5 X 8 = 40\n",
      "5 X 9 = 45\n",
      "########6단##########\n",
      "6 X 1 = 6\n",
      "6 X 2 = 12\n",
      "6 X 3 = 18\n",
      "6 X 4 = 24\n",
      "6 X 5 = 30\n",
      "6 X 6 = 36\n",
      "6 X 7 = 42\n",
      "6 X 8 = 48\n",
      "6 X 9 = 54\n",
      "########7단##########\n",
      "7 X 1 = 7\n",
      "7 X 2 = 14\n",
      "7 X 3 = 21\n",
      "7 X 4 = 28\n",
      "7 X 5 = 35\n",
      "7 X 6 = 42\n",
      "7 X 7 = 49\n",
      "7 X 8 = 56\n",
      "7 X 9 = 63\n",
      "########8단##########\n",
      "8 X 1 = 8\n",
      "8 X 2 = 16\n",
      "8 X 3 = 24\n",
      "8 X 4 = 32\n",
      "8 X 5 = 40\n",
      "8 X 6 = 48\n",
      "8 X 7 = 56\n",
      "8 X 8 = 64\n",
      "8 X 9 = 72\n",
      "########9단##########\n",
      "9 X 1 = 9\n",
      "9 X 2 = 18\n",
      "9 X 3 = 27\n",
      "9 X 4 = 36\n",
      "9 X 5 = 45\n",
      "9 X 6 = 54\n",
      "9 X 7 = 63\n",
      "9 X 8 = 72\n",
      "9 X 9 = 81\n"
     ]
    }
   ],
   "source": [
    "## 구구단\n",
    "for i in range(2,10):\n",
    "\tprint(\"########%s단##########\"%i)\n",
    "\tfor j in range(1,10):\n",
    "\t\tprint( i, 'X', j, '=', i*j)\n"
   ]
  },
  {
   "cell_type": "code",
   "execution_count": 14,
   "id": "b0f708b6",
   "metadata": {},
   "outputs": [
    {
     "name": "stdout",
     "output_type": "stream",
     "text": [
      "2 X 2 = 4\n",
      "2 X 3 = 6\n",
      "2 X 4 = 8\n",
      "2 X 5 = 10\n",
      "2 X 6 = 12\n",
      "2 X 7 = 14\n",
      "2 X 8 = 16\n",
      "2 X 9 = 18\n",
      "2 X 10 = 20\n",
      "2 X 11 = 22\n",
      "2 X 12 = 24\n",
      "2 X 13 = 26\n",
      "2 X 14 = 28\n",
      "2 X 15 = 30\n",
      "2 X 16 = 32\n",
      "2 X 17 = 34\n",
      "2 X 18 = 36\n",
      "2 X 19 = 38\n",
      "3 X 2 = 6\n",
      "3 X 3 = 9\n",
      "3 X 4 = 12\n",
      "3 X 5 = 15\n",
      "3 X 6 = 18\n",
      "3 X 7 = 21\n",
      "3 X 8 = 24\n",
      "3 X 9 = 27\n",
      "3 X 10 = 30\n",
      "3 X 11 = 33\n",
      "3 X 12 = 36\n",
      "3 X 13 = 39\n",
      "3 X 14 = 42\n",
      "3 X 15 = 45\n",
      "3 X 16 = 48\n",
      "3 X 17 = 51\n",
      "3 X 18 = 54\n",
      "3 X 19 = 57\n",
      "4 X 2 = 8\n",
      "4 X 3 = 12\n",
      "4 X 4 = 16\n",
      "4 X 5 = 20\n",
      "4 X 6 = 24\n",
      "4 X 7 = 28\n",
      "4 X 8 = 32\n",
      "4 X 9 = 36\n",
      "4 X 10 = 40\n",
      "4 X 11 = 44\n",
      "4 X 12 = 48\n",
      "4 X 13 = 52\n",
      "4 X 14 = 56\n",
      "4 X 15 = 60\n",
      "4 X 16 = 64\n",
      "4 X 17 = 68\n",
      "4 X 18 = 72\n",
      "4 X 19 = 76\n",
      "5 X 2 = 10\n",
      "5 X 3 = 15\n",
      "5 X 4 = 20\n",
      "5 X 5 = 25\n",
      "5 X 6 = 30\n",
      "5 X 7 = 35\n",
      "5 X 8 = 40\n",
      "5 X 9 = 45\n",
      "5 X 10 = 50\n",
      "5 X 11 = 55\n",
      "5 X 12 = 60\n",
      "5 X 13 = 65\n",
      "5 X 14 = 70\n",
      "5 X 15 = 75\n",
      "5 X 16 = 80\n",
      "5 X 17 = 85\n",
      "5 X 18 = 90\n",
      "5 X 19 = 95\n",
      "6 X 2 = 12\n",
      "6 X 3 = 18\n",
      "6 X 4 = 24\n",
      "6 X 5 = 30\n",
      "6 X 6 = 36\n",
      "6 X 7 = 42\n",
      "6 X 8 = 48\n",
      "6 X 9 = 54\n",
      "6 X 10 = 60\n",
      "6 X 11 = 66\n",
      "6 X 12 = 72\n",
      "6 X 13 = 78\n",
      "6 X 14 = 84\n",
      "6 X 15 = 90\n",
      "6 X 16 = 96\n",
      "6 X 17 = 102\n",
      "6 X 18 = 108\n",
      "6 X 19 = 114\n",
      "7 X 2 = 14\n",
      "7 X 3 = 21\n",
      "7 X 4 = 28\n",
      "7 X 5 = 35\n",
      "7 X 6 = 42\n",
      "7 X 7 = 49\n",
      "7 X 8 = 56\n",
      "7 X 9 = 63\n",
      "7 X 10 = 70\n",
      "7 X 11 = 77\n",
      "7 X 12 = 84\n",
      "7 X 13 = 91\n",
      "7 X 14 = 98\n",
      "7 X 15 = 105\n",
      "7 X 16 = 112\n",
      "7 X 17 = 119\n",
      "7 X 18 = 126\n",
      "7 X 19 = 133\n",
      "8 X 2 = 16\n",
      "8 X 3 = 24\n",
      "8 X 4 = 32\n",
      "8 X 5 = 40\n",
      "8 X 6 = 48\n",
      "8 X 7 = 56\n",
      "8 X 8 = 64\n",
      "8 X 9 = 72\n",
      "8 X 10 = 80\n",
      "8 X 11 = 88\n",
      "8 X 12 = 96\n",
      "8 X 13 = 104\n",
      "8 X 14 = 112\n",
      "8 X 15 = 120\n",
      "8 X 16 = 128\n",
      "8 X 17 = 136\n",
      "8 X 18 = 144\n",
      "8 X 19 = 152\n",
      "9 X 2 = 18\n",
      "9 X 3 = 27\n",
      "9 X 4 = 36\n",
      "9 X 5 = 45\n",
      "9 X 6 = 54\n",
      "9 X 7 = 63\n",
      "9 X 8 = 72\n",
      "9 X 9 = 81\n",
      "9 X 10 = 90\n",
      "9 X 11 = 99\n",
      "9 X 12 = 108\n",
      "9 X 13 = 117\n",
      "9 X 14 = 126\n",
      "9 X 15 = 135\n",
      "9 X 16 = 144\n",
      "9 X 17 = 153\n",
      "9 X 18 = 162\n",
      "9 X 19 = 171\n",
      "10 X 2 = 20\n",
      "10 X 3 = 30\n",
      "10 X 4 = 40\n",
      "10 X 5 = 50\n",
      "10 X 6 = 60\n",
      "10 X 7 = 70\n",
      "10 X 8 = 80\n",
      "10 X 9 = 90\n",
      "10 X 10 = 100\n",
      "10 X 11 = 110\n",
      "10 X 12 = 120\n",
      "10 X 13 = 130\n",
      "10 X 14 = 140\n",
      "10 X 15 = 150\n",
      "10 X 16 = 160\n",
      "10 X 17 = 170\n",
      "10 X 18 = 180\n",
      "10 X 19 = 190\n",
      "11 X 2 = 22\n",
      "11 X 3 = 33\n",
      "11 X 4 = 44\n",
      "11 X 5 = 55\n",
      "11 X 6 = 66\n",
      "11 X 7 = 77\n",
      "11 X 8 = 88\n",
      "11 X 9 = 99\n",
      "11 X 10 = 110\n",
      "11 X 11 = 121\n",
      "11 X 12 = 132\n",
      "11 X 13 = 143\n",
      "11 X 14 = 154\n",
      "11 X 15 = 165\n",
      "11 X 16 = 176\n",
      "11 X 17 = 187\n",
      "11 X 18 = 198\n",
      "11 X 19 = 209\n",
      "12 X 2 = 24\n",
      "12 X 3 = 36\n",
      "12 X 4 = 48\n",
      "12 X 5 = 60\n",
      "12 X 6 = 72\n",
      "12 X 7 = 84\n",
      "12 X 8 = 96\n",
      "12 X 9 = 108\n",
      "12 X 10 = 120\n",
      "12 X 11 = 132\n",
      "12 X 12 = 144\n",
      "12 X 13 = 156\n",
      "12 X 14 = 168\n",
      "12 X 15 = 180\n",
      "12 X 16 = 192\n",
      "12 X 17 = 204\n",
      "12 X 18 = 216\n",
      "12 X 19 = 228\n",
      "13 X 2 = 26\n",
      "13 X 3 = 39\n",
      "13 X 4 = 52\n",
      "13 X 5 = 65\n",
      "13 X 6 = 78\n",
      "13 X 7 = 91\n",
      "13 X 8 = 104\n",
      "13 X 9 = 117\n",
      "13 X 10 = 130\n",
      "13 X 11 = 143\n",
      "13 X 12 = 156\n",
      "13 X 13 = 169\n",
      "13 X 14 = 182\n",
      "13 X 15 = 195\n",
      "13 X 16 = 208\n",
      "13 X 17 = 221\n",
      "13 X 18 = 234\n",
      "13 X 19 = 247\n",
      "14 X 2 = 28\n",
      "14 X 3 = 42\n",
      "14 X 4 = 56\n",
      "14 X 5 = 70\n",
      "14 X 6 = 84\n",
      "14 X 7 = 98\n",
      "14 X 8 = 112\n",
      "14 X 9 = 126\n",
      "14 X 10 = 140\n",
      "14 X 11 = 154\n",
      "14 X 12 = 168\n",
      "14 X 13 = 182\n",
      "14 X 14 = 196\n",
      "14 X 15 = 210\n",
      "14 X 16 = 224\n",
      "14 X 17 = 238\n",
      "14 X 18 = 252\n",
      "14 X 19 = 266\n",
      "15 X 2 = 30\n",
      "15 X 3 = 45\n",
      "15 X 4 = 60\n",
      "15 X 5 = 75\n",
      "15 X 6 = 90\n",
      "15 X 7 = 105\n",
      "15 X 8 = 120\n",
      "15 X 9 = 135\n",
      "15 X 10 = 150\n",
      "15 X 11 = 165\n",
      "15 X 12 = 180\n",
      "15 X 13 = 195\n",
      "15 X 14 = 210\n",
      "15 X 15 = 225\n",
      "15 X 16 = 240\n",
      "15 X 17 = 255\n",
      "15 X 18 = 270\n",
      "15 X 19 = 285\n",
      "16 X 2 = 32\n",
      "16 X 3 = 48\n",
      "16 X 4 = 64\n",
      "16 X 5 = 80\n",
      "16 X 6 = 96\n",
      "16 X 7 = 112\n",
      "16 X 8 = 128\n",
      "16 X 9 = 144\n",
      "16 X 10 = 160\n",
      "16 X 11 = 176\n",
      "16 X 12 = 192\n",
      "16 X 13 = 208\n",
      "16 X 14 = 224\n",
      "16 X 15 = 240\n",
      "16 X 16 = 256\n",
      "16 X 17 = 272\n",
      "16 X 18 = 288\n",
      "16 X 19 = 304\n",
      "17 X 2 = 34\n",
      "17 X 3 = 51\n",
      "17 X 4 = 68\n",
      "17 X 5 = 85\n",
      "17 X 6 = 102\n",
      "17 X 7 = 119\n",
      "17 X 8 = 136\n",
      "17 X 9 = 153\n",
      "17 X 10 = 170\n",
      "17 X 11 = 187\n",
      "17 X 12 = 204\n",
      "17 X 13 = 221\n",
      "17 X 14 = 238\n",
      "17 X 15 = 255\n",
      "17 X 16 = 272\n",
      "17 X 17 = 289\n",
      "17 X 18 = 306\n",
      "17 X 19 = 323\n",
      "18 X 2 = 36\n",
      "18 X 3 = 54\n",
      "18 X 4 = 72\n",
      "18 X 5 = 90\n",
      "18 X 6 = 108\n",
      "18 X 7 = 126\n",
      "18 X 8 = 144\n",
      "18 X 9 = 162\n",
      "18 X 10 = 180\n",
      "18 X 11 = 198\n",
      "18 X 12 = 216\n",
      "18 X 13 = 234\n",
      "18 X 14 = 252\n",
      "18 X 15 = 270\n",
      "18 X 16 = 288\n",
      "18 X 17 = 306\n",
      "18 X 18 = 324\n",
      "18 X 19 = 342\n",
      "19 X 2 = 38\n",
      "19 X 3 = 57\n",
      "19 X 4 = 76\n",
      "19 X 5 = 95\n",
      "19 X 6 = 114\n",
      "19 X 7 = 133\n",
      "19 X 8 = 152\n",
      "19 X 9 = 171\n",
      "19 X 10 = 190\n",
      "19 X 11 = 209\n",
      "19 X 12 = 228\n",
      "19 X 13 = 247\n",
      "19 X 14 = 266\n",
      "19 X 15 = 285\n",
      "19 X 16 = 304\n",
      "19 X 17 = 323\n",
      "19 X 18 = 342\n",
      "19 X 19 = 361\n"
     ]
    }
   ],
   "source": [
    "# 19단 출력 프로그램 (Do it 파이썬 생활프로그래밍) 초판 2020: 42페이지\n",
    "for item in range(2, 20):\n",
    "    for each in range(2, 20):\t\n",
    "        print('%d X %d = %d' % (item, each, item * each))"
   ]
  },
  {
   "cell_type": "markdown",
   "id": "dfa1add0",
   "metadata": {},
   "source": [
    "### 한 줄 for문 >> 리스트 형식으로 담아버리기!"
   ]
  },
  {
   "cell_type": "code",
   "execution_count": 8,
   "id": "924be90f",
   "metadata": {},
   "outputs": [
    {
     "name": "stdout",
     "output_type": "stream",
     "text": [
      "[1, 2, 3, 4, 5]\n",
      "[101, 102, 103, 104, 105]\n"
     ]
    }
   ],
   "source": [
    "students = [1, 2, 3, 4, 5]\n",
    "print(students) # [1, 2, 3, 4, 5]\n",
    "\n",
    "# student2 = []\n",
    "# for i in students:\n",
    "#     student2.append(i+100)\n",
    "    \n",
    "# print(student2)\n",
    "\n",
    "\n",
    "# 한 줄 for 를 이용하여 각 항목에 100 을 더함\n",
    "students = [i + 100 for i in students]\n",
    "print(students) # [101, 102, 103, 104, 105]"
   ]
  },
  {
   "cell_type": "code",
   "execution_count": 5,
   "id": "3d35db23",
   "metadata": {},
   "outputs": [
    {
     "name": "stdout",
     "output_type": "stream",
     "text": [
      "['Iron man', 'Thor', 'I am groot']\n",
      "[8, 4, 10]\n"
     ]
    }
   ],
   "source": [
    "students = [\"Iron man\", \"Thor\", \"I am groot\"]\n",
    "print(students) # [\"Iron man\", \"Thor\", \"I am groot\"]\n",
    "\n",
    "# 한 줄 for 를 이용하여 각 이름의 길이 정보로 변환\n",
    "students = [len(i) for i in students]\n",
    "print(students) # [8, 4, 10]"
   ]
  },
  {
   "cell_type": "code",
   "execution_count": 6,
   "id": "1b383338",
   "metadata": {},
   "outputs": [
    {
     "name": "stdout",
     "output_type": "stream",
     "text": [
      "['Iron man', 'Thor', 'I am groot']\n",
      "['IRON MAN', 'THOR', 'I AM GROOT']\n"
     ]
    }
   ],
   "source": [
    "students = [\"Iron man\", \"Thor\", \"I am groot\"]\n",
    "print(students) # [\"Iron man\", \"Thor\", \"I am groot\"]\n",
    "\n",
    "# 한 줄 for 를 이용하여 각 이름을 대문자로 변경\n",
    "students = [i.upper() for i in students]\n",
    "print(students) # ['IRON MAN', 'THOR', 'I AM GROOT']"
   ]
  },
  {
   "cell_type": "markdown",
   "id": "f5a9206e",
   "metadata": {},
   "source": [
    "# 5.2 반복문_while"
   ]
  },
  {
   "cell_type": "code",
   "execution_count": 2,
   "id": "126de0ec",
   "metadata": {},
   "outputs": [
    {
     "name": "stdout",
     "output_type": "stream",
     "text": [
      "토르, 커피가 준비 되었습니다. 5 번 남았어요.\n",
      "토르, 커피가 준비 되었습니다. 4 번 남았어요.\n",
      "토르, 커피가 준비 되었습니다. 3 번 남았어요.\n",
      "토르, 커피가 준비 되었습니다. 2 번 남았어요.\n",
      "토르, 커피가 준비 되었습니다. 1 번 남았어요.\n",
      "커피는 폐기처분되었습니다.\n"
     ]
    }
   ],
   "source": [
    "customer = \"토르\" # 손님\n",
    "index = 5 # 부르는 횟수, 총 5회\n",
    "\n",
    "while index >= 1: # 부르는 횟수가 1 이상인 경우에만 반복 실행\n",
    "    print(\"{0}, 커피가 준비 되었습니다. {1} 번 남았어요.\".format(customer, index))    \n",
    "    index -= 1 # 부르는 횟수 감소\n",
    "    if index == 0: # 5번 모두 불렀다면\n",
    "        print(\"커피는 폐기처분되었습니다.\")"
   ]
  },
  {
   "cell_type": "markdown",
   "id": "38914ea1",
   "metadata": {},
   "source": [
    "# 5.3 continue 와 break"
   ]
  },
  {
   "cell_type": "code",
   "execution_count": 1,
   "id": "7fd2dbfb",
   "metadata": {},
   "outputs": [
    {
     "name": "stdout",
     "output_type": "stream",
     "text": [
      "1, 책을 읽어봐\n",
      "3, 책을 읽어봐\n",
      "4, 책을 읽어봐\n",
      "6, 책을 읽어봐\n",
      "7, 책을 읽어봐\n",
      "8, 책을 읽어봐\n",
      "9, 책을 읽어봐\n",
      "10, 책을 읽어봐\n"
     ]
    }
   ],
   "source": [
    "absent = [2, 5] # 결석한 학생 출석번호\n",
    "\n",
    "for student in range(1, 11): # 출석번호 1~10번\n",
    "    if student in absent: # 결석했으면 책을 읽지 않고 다음 학생으로 넘어가기\n",
    "        continue\n",
    "    print(\"{0}, 책을 읽어봐\".format(student))"
   ]
  },
  {
   "cell_type": "code",
   "execution_count": 3,
   "id": "c4922c80",
   "metadata": {},
   "outputs": [
    {
     "name": "stdout",
     "output_type": "stream",
     "text": [
      "1, 책을 읽어봐\n",
      "3, 책을 읽어봐\n",
      "4, 책을 읽어봐\n",
      "6, 책을 읽어봐\n",
      "오늘 수업 여기까지. 7는 교무실로 따라와\n"
     ]
    }
   ],
   "source": [
    "absent = [2, 5] # 결석한 학생 출석번호\n",
    "no_book = [7] # 책을 가져오지 않은 학생 출석번호\n",
    "\n",
    "for student in range(1, 11): # 출석번호 1~10번\n",
    "    if student in absent: # 결석했으면 책을 읽지 않고 다음 학생으로 넘어가기\n",
    "        continue\n",
    "    elif student in no_book: # 책을 가져오지 않았으면 바로 수업 종료 (반복문 탈출)\n",
    "        print(\"오늘 수업 여기까지. {0}는 교무실로 따라와\".format(student))\n",
    "        break\n",
    "    print(\"{0}, 책을 읽어봐\".format(student))"
   ]
  },
  {
   "cell_type": "markdown",
   "id": "1a0c22a2",
   "metadata": {},
   "source": [
    "'''\n",
    "### Quiz) 당신은 Cocoa 서비스를 이용하는 택시 기사님입니다.\n",
    "50명의 승객과 매칭 기회가 있을 때, 총 탑승 승객 수를 구하는 프로그램을 작성하시오.\n",
    "\n",
    "조건1 : 승객별 운행 소요 시간은 5분 ~ 50분 사이의 난수로 정해집니다.\n",
    "조건2 : 당신은 소요 시간 5분 ~ 15분 사이의 승객만 매칭해야 합니다.\n",
    "\n",
    "(출력문 예제)\n",
    "[O] 1번째 손님 (소요시간 : 15분)\n",
    "[  ] 2번째 손님 (소요시간 : 50분)\n",
    "[O] 3번째 손님 (소요시간 : 5분) \n",
    "...\n",
    "[  ] 50번째 손님 (소요시간 : 16분) \n",
    "\n",
    "총 탑승 승객 : 2 분\n",
    "'''"
   ]
  },
  {
   "cell_type": "code",
   "execution_count": 10,
   "id": "b7c6be2b",
   "metadata": {},
   "outputs": [
    {
     "name": "stdout",
     "output_type": "stream",
     "text": [
      "[ ] 1번째 손님 (소요시간 : 33분)\n",
      "[O] 2번째 손님 (소요시간 : 8분)\n",
      "[ ] 3번째 손님 (소요시간 : 40분)\n",
      "[ ] 4번째 손님 (소요시간 : 24분)\n",
      "[ ] 5번째 손님 (소요시간 : 41분)\n",
      "[ ] 6번째 손님 (소요시간 : 48분)\n",
      "[ ] 7번째 손님 (소요시간 : 24분)\n",
      "[ ] 8번째 손님 (소요시간 : 19분)\n",
      "[ ] 9번째 손님 (소요시간 : 47분)\n",
      "[ ] 10번째 손님 (소요시간 : 22분)\n",
      "[ ] 11번째 손님 (소요시간 : 38분)\n",
      "[ ] 12번째 손님 (소요시간 : 40분)\n",
      "[O] 13번째 손님 (소요시간 : 5분)\n",
      "[ ] 14번째 손님 (소요시간 : 16분)\n",
      "[ ] 15번째 손님 (소요시간 : 38분)\n",
      "[ ] 16번째 손님 (소요시간 : 43분)\n",
      "[ ] 17번째 손님 (소요시간 : 22분)\n",
      "[ ] 18번째 손님 (소요시간 : 35분)\n",
      "[ ] 19번째 손님 (소요시간 : 43분)\n",
      "[ ] 20번째 손님 (소요시간 : 21분)\n",
      "[ ] 21번째 손님 (소요시간 : 33분)\n",
      "[ ] 22번째 손님 (소요시간 : 32분)\n",
      "[O] 23번째 손님 (소요시간 : 11분)\n",
      "[O] 24번째 손님 (소요시간 : 12분)\n",
      "[O] 25번째 손님 (소요시간 : 9분)\n",
      "[ ] 26번째 손님 (소요시간 : 37분)\n",
      "[ ] 27번째 손님 (소요시간 : 17분)\n",
      "[O] 28번째 손님 (소요시간 : 12분)\n",
      "[ ] 29번째 손님 (소요시간 : 16분)\n",
      "[ ] 30번째 손님 (소요시간 : 22분)\n",
      "[O] 31번째 손님 (소요시간 : 15분)\n",
      "[ ] 32번째 손님 (소요시간 : 45분)\n",
      "[ ] 33번째 손님 (소요시간 : 32분)\n",
      "[ ] 34번째 손님 (소요시간 : 34분)\n",
      "[ ] 35번째 손님 (소요시간 : 37분)\n",
      "[ ] 36번째 손님 (소요시간 : 23분)\n",
      "[ ] 37번째 손님 (소요시간 : 35분)\n",
      "[ ] 38번째 손님 (소요시간 : 47분)\n",
      "[ ] 39번째 손님 (소요시간 : 48분)\n",
      "[ ] 40번째 손님 (소요시간 : 24분)\n",
      "[ ] 41번째 손님 (소요시간 : 49분)\n",
      "[ ] 42번째 손님 (소요시간 : 37분)\n",
      "[ ] 43번째 손님 (소요시간 : 22분)\n",
      "[ ] 44번째 손님 (소요시간 : 16분)\n",
      "[O] 45번째 손님 (소요시간 : 11분)\n",
      "[ ] 46번째 손님 (소요시간 : 46분)\n",
      "[ ] 47번째 손님 (소요시간 : 39분)\n",
      "[ ] 48번째 손님 (소요시간 : 37분)\n",
      "[ ] 49번째 손님 (소요시간 : 40분)\n",
      "[O] 50번째 손님 (소요시간 : 15분)\n",
      "총 탑승 승객 : 9분\n"
     ]
    }
   ],
   "source": [
    "from random import *\n",
    "\n",
    "cnt = 0 # 총 탑승 승객 수\n",
    "for i in range(1, 51): # 총 50분의 승객\n",
    "    time = randrange(5, 51) # 5분 ~ 50분 사이의 소요 시간\n",
    "    \n",
    "    if 5 <= time <= 15: # 5분 ~ 15분 사이의 손님의 경우 매칭 성공\n",
    "        print(\"[O] {0}번째 손님 (소요시간 : {1}분)\".format(i, time)) # 성공 정보 출력\n",
    "        cnt += 1 # 총 탑승 승객 수 증가 처리\n",
    "    else: # 매칭 실패한 경우\n",
    "        print(\"[ ] {0}번째 손님 (소요시간 : {1}분)\".format(i, time)) # 실패 정보 출력\n",
    "\n",
    "print(\"총 탑승 승객 : {0}분\".format(cnt))"
   ]
  },
  {
   "cell_type": "markdown",
   "id": "47e80543",
   "metadata": {},
   "source": [
    "### -------------------------------------------------------------------------------------------\n",
    "# 6 함수"
   ]
  },
  {
   "cell_type": "code",
   "execution_count": 14,
   "id": "a658815c",
   "metadata": {},
   "outputs": [
    {
     "name": "stdout",
     "output_type": "stream",
     "text": [
      "새로운 계좌가 생성되었습니다.\n"
     ]
    }
   ],
   "source": [
    "def open_account():\n",
    "    print(\"새로운 계좌가 생성되었습니다.\")\n",
    "\n",
    "open_account() # 앞에서 정의된 open_account() 함수 호출"
   ]
  },
  {
   "cell_type": "markdown",
   "id": "8da29814",
   "metadata": {},
   "source": [
    "## <계산기>"
   ]
  },
  {
   "cell_type": "code",
   "execution_count": 12,
   "id": "c521fce8",
   "metadata": {},
   "outputs": [
    {
     "name": "stdout",
     "output_type": "stream",
     "text": [
      "덧셈의 결과는 >>>> 17\n",
      "뺄셈의 결과는 >>>> 3\n",
      "곱셈의 결과는 >>>> 120\n"
     ]
    }
   ],
   "source": [
    "def calc(*para):\n",
    "    result = [] ##결과값들은 리스트로 저장\n",
    "    res1 = 0\n",
    "    res2 = para[0]\n",
    "    res3 = 1  ##곱셈을 하니까!\n",
    "    \n",
    "    for num in para:\n",
    "        res1 +=num\n",
    "        res3 *=num\n",
    "        \n",
    "    for num in range(1,len(para)):\n",
    "        res2 -=para[num]\n",
    "        \n",
    "    \n",
    "    result.append(res1)    ##result[0]\n",
    "    result.append(res2)    ##result[1]\n",
    "    result.append(res3)    ##result[2]\n",
    "    \n",
    "    #print(\"덧셈의 결과는 %d\"%result[0])\n",
    "    #print(\"뺼셈의 결과는 %d\"%result[1])\n",
    "    #>> 이렇게 말고!!\n",
    "    \n",
    "    return result\n",
    "\n",
    "\n",
    "answer = calc(10,2,3,2)\n",
    "print(\"덧셈의 결과는 >>>> %d\"%answer[0])\n",
    "print(\"뺄셈의 결과는 >>>> %d\"%answer[1])\n",
    "print(\"곱셈의 결과는 >>>> %d\"%answer[2])\n"
   ]
  },
  {
   "cell_type": "markdown",
   "id": "3d17dbc0",
   "metadata": {},
   "source": [
    "## <로또 번호 추첨>"
   ]
  },
  {
   "cell_type": "code",
   "execution_count": 13,
   "id": "80f40dfd",
   "metadata": {},
   "outputs": [
    {
     "name": "stdout",
     "output_type": "stream",
     "text": [
      "*** 로또 추첨을 시작합니당****\n",
      "\n",
      "추첨된 로또 번호  >> 1 3 13 14 38 42 "
     ]
    }
   ],
   "source": [
    "import random\n",
    "\n",
    "def getNumber():\n",
    "    return random.randrange(1,46)  ##랜덤한 숫자 출력\n",
    "\n",
    "lotto = []\n",
    "num=0\n",
    "\n",
    "print(\"*** 로또 추첨을 시작합니당****\\n\")\n",
    "\n",
    "while True:\n",
    "    num = getNumber()\n",
    "    \n",
    "    if lotto.count(num) ==0:  ##중복을 배제시키는 부분\n",
    "        lotto.append(num)\n",
    "        \n",
    "    if len(lotto) >= 6 : ##6글자 안으로 만들어주는!\n",
    "        break\n",
    "        \n",
    "print(\"추첨된 로또 번호  >> \",end = '')\n",
    "lotto.sort()\n",
    "for i in range(0,6):\n",
    "    print(\"%d \"%lotto[i],end='')\n",
    "    \n",
    "    "
   ]
  },
  {
   "cell_type": "markdown",
   "id": "0e033feb",
   "metadata": {},
   "source": [
    "## <입금출금>"
   ]
  },
  {
   "cell_type": "code",
   "execution_count": 17,
   "id": "b4288f51",
   "metadata": {},
   "outputs": [
    {
     "name": "stdout",
     "output_type": "stream",
     "text": [
      "입금이 완료되었습니다. 잔액은 1000 원입니다.\n",
      "1000 \n",
      "\n",
      "\n",
      "입금이 완료되었습니다. 잔액은 1000 원입니다.\n",
      "출금이 완료되지 않았습니다. 잔액은 1000 원입니다.\n",
      "출금이 완료되었습니다. 잔액은 500 원입니다.\n",
      "500 \n",
      "\n",
      "\n",
      "입금이 완료되었습니다. 잔액은 1000 원입니다.\n",
      "수수료 100 원이며, 잔액은 400 원입니다\n"
     ]
    }
   ],
   "source": [
    "def deposit(balance, money): # 입금\n",
    "    print(\"입금이 완료되었습니다. 잔액은 {0} 원입니다.\".format(balance + money))\n",
    "    return balance + money # 입금 후 잔액 정보 반환\n",
    "    \n",
    "balance = 0 # 최초 잔액\n",
    "balance = deposit(balance, 1000) # 1000원 입금\n",
    "print(balance,\"\\n\\n\") # 현재 잔액\n",
    "\n",
    "\n",
    "\n",
    "\n",
    "def withdraw(balance, money): # 출금\n",
    "    if balance >= money: # 잔액이 출금보다 많으면\n",
    "        print(\"출금이 완료되었습니다. 잔액은 {0} 원입니다.\".format(balance - money))\n",
    "        return balance - money # 출금 후 잔액 반환\n",
    "    else:\n",
    "        print(\"출금이 완료되지 않았습니다. 잔액은 {0} 원입니다.\".format(balance))\n",
    "        return balance # 기존 잔액 반환\n",
    "        \n",
    "balance = 0 # 최초 잔액\n",
    "balance = deposit(balance, 1000) # 1000원 입금\n",
    "\n",
    "# 출금 시도\n",
    "balance = withdraw(balance, 2000) # 2000원 출금 시도 시 잔액이 부족하므로 실패\n",
    "balance = withdraw(balance, 500) # 500원 출금 시도 시 성공\n",
    "print(balance,\"\\n\\n\") #현재잔액\n",
    "\n",
    "\n",
    "def withdraw_night(balance, money): # 저녁에 출금\n",
    "    commission = 100 # 출금 수수료 100원\n",
    "    return commission, balance - money - commission # 튜플 형식으로 반환\n",
    "    \n",
    "balance = 0 # 최초 잔액\n",
    "balance = deposit(balance, 1000) # 1000원 입금\n",
    "\n",
    "# 저녁에 출금 시도\n",
    "commission, balance = withdraw_night(balance, 500)\n",
    "print(\"수수료 {0} 원이며, 잔액은 {1} 원입니다\".format(commission, balance))"
   ]
  },
  {
   "cell_type": "markdown",
   "id": "0ffe4824",
   "metadata": {},
   "source": [
    "### 튜플형태"
   ]
  },
  {
   "cell_type": "code",
   "execution_count": 18,
   "id": "239f591d",
   "metadata": {},
   "outputs": [
    {
     "name": "stdout",
     "output_type": "stream",
     "text": [
      "김종국 20 코딩\n"
     ]
    }
   ],
   "source": [
    "(name, age, hobby) = (\"김종국\", 20, \"코딩\")\n",
    "print(name, age, hobby) # 김종국 20 코딩"
   ]
  },
  {
   "cell_type": "markdown",
   "id": "f8c7adea",
   "metadata": {},
   "source": [
    "### 지역변수와 전역변수"
   ]
  },
  {
   "cell_type": "code",
   "execution_count": 20,
   "id": "62712d5b",
   "metadata": {},
   "outputs": [
    {
     "name": "stdout",
     "output_type": "stream",
     "text": [
      "전체 총 : 10\n",
      "[함수 내] 남은 총 : 18\n",
      "남은 총 : 10\n"
     ]
    }
   ],
   "source": [
    "gun = 10 \n",
    "\n",
    "def checkpoint(soldiers):\n",
    "    gun = 20 # 변수 선언 추가\n",
    "    gun = gun - soldiers\n",
    "    print(\"[함수 내] 남은 총 : {0}\".format(gun))\n",
    "\n",
    "print(\"전체 총 : {0}\".format(gun))\n",
    "checkpoint(2)\n",
    "print(\"남은 총 : {0}\".format(gun))"
   ]
  },
  {
   "cell_type": "code",
   "execution_count": 21,
   "id": "8367b493",
   "metadata": {},
   "outputs": [
    {
     "name": "stdout",
     "output_type": "stream",
     "text": [
      "전체 총 : 10\n",
      "[함수 내] 남은 총 : 8\n",
      "남은 총 : 8\n"
     ]
    }
   ],
   "source": [
    "gun = 10\n",
    "\n",
    "def checkpoint(soldiers):\n",
    "    global gun # 전역공간에 있는 gun 이라는 변수를 사용\n",
    "    gun = gun - soldiers\n",
    "    print(\"[함수 내] 남은 총 : {0}\".format(gun))\n",
    "\n",
    "print(\"전체 총 : {0}\".format(gun))\n",
    "checkpoint(2)\n",
    "print(\"남은 총 : {0}\".format(gun))"
   ]
  },
  {
   "cell_type": "code",
   "execution_count": 22,
   "id": "d804c392",
   "metadata": {},
   "outputs": [
    {
     "name": "stdout",
     "output_type": "stream",
     "text": [
      "전체 총 : 10\n",
      "[함수 내] 남은 총 : 8\n",
      "남은 총 : 8\n"
     ]
    }
   ],
   "source": [
    "gun = 10\n",
    "\n",
    "def checkpoint_ret(gun, soldiers): # 전체 총 수와 군인 수를 전달받음\n",
    "    gun = gun - soldiers # 전달받은 gun 을 사용\n",
    "    print(\"[함수 내] 남은 총 : {0}\".format(gun))\n",
    "    return gun\n",
    "\n",
    "print(\"전체 총 : {0}\".format(gun))\n",
    "gun = checkpoint_ret(gun, 2) # gun 값을 함수에 전달\n",
    "print(\"남은 총 : {0}\".format(gun))"
   ]
  },
  {
   "cell_type": "markdown",
   "id": "3843ec55",
   "metadata": {},
   "source": [
    "### Quiz) 표준 체중을 구하는 프로그램을 작성하시오\n",
    "\n",
    "* 표준 체중 : 각 개인의 키에 적당한 체중\n",
    "\n",
    " \n",
    "\n",
    "(성별에 따른 공식)\n",
    "\n",
    " 남자 : 키(m) * 키(m) * 22\n",
    "\n",
    " 여자 : 키(m) * 키(m) * 21\n",
    "\n",
    " \n",
    "\n",
    "조건1 : 표준 체중은 별도의 함수 내에서 계산\n",
    "\n",
    "        * 함수명 : std_weight \n",
    "\n",
    "        * 전달값 : 키(height), 성별(gender)\n",
    "\n",
    "조건2 : 표준 체중은 소수점 둘째자리까지 표시\n",
    "\n",
    " \n",
    "\n",
    "(출력 예제)\n",
    "키 175cm 남자의 표준 체중은 67.38kg 입니다."
   ]
  },
  {
   "cell_type": "code",
   "execution_count": 23,
   "id": "415a7ae4",
   "metadata": {},
   "outputs": [
    {
     "name": "stdout",
     "output_type": "stream",
     "text": [
      "키 175cm 남자의 표준 체중은 67.38kg 입니다.\n"
     ]
    }
   ],
   "source": [
    "def std_weight(height, gender): # 키 m 단위 (실수), 성별 \"남자\" / \"여자\"\n",
    "    if gender == \"남자\":\n",
    "        return height * height * 22\n",
    "    else:\n",
    "        return height * height * 21\n",
    "\n",
    "height = 175 # cm 단위\n",
    "gender = \"남자\"\n",
    "weight = round(std_weight(height / 100, gender), 2) # 소수점 둘째자리까지 반올림\n",
    "print(\"키 {0}cm {1}의 표준 체중은 {2}kg 입니다.\".format(height, gender, weight))"
   ]
  },
  {
   "cell_type": "markdown",
   "id": "1685ce16",
   "metadata": {},
   "source": [
    "### -------------------------------------------------------------------------------------------\n",
    "# 7.1 표준입출력"
   ]
  },
  {
   "cell_type": "code",
   "execution_count": 25,
   "id": "b6328972",
   "metadata": {},
   "outputs": [
    {
     "name": "stdout",
     "output_type": "stream",
     "text": [
      "Python,Java\n"
     ]
    }
   ],
   "source": [
    "print(\"Python\", \"Java\", sep=\",\") # 값들을 콤마(,) 로 구분"
   ]
  },
  {
   "cell_type": "code",
   "execution_count": 26,
   "id": "456e4065",
   "metadata": {},
   "outputs": [
    {
     "name": "stdout",
     "output_type": "stream",
     "text": [
      "Python vs Java vs JavaScript\n"
     ]
    }
   ],
   "source": [
    "print(\"Python\", \"Java\", \"JavaScript\", sep=\" vs \") # 값들을 \" vs \" 로 구분"
   ]
  },
  {
   "cell_type": "code",
   "execution_count": 27,
   "id": "3d89be67",
   "metadata": {},
   "outputs": [
    {
     "name": "stdout",
     "output_type": "stream",
     "text": [
      "Python,Java?무엇이 더 재밌을까요?\n"
     ]
    }
   ],
   "source": [
    "print(\"Python\", \"Java\", sep=\",\", end=\"?\")\n",
    "print(\"무엇이 더 재밌을까요?\")"
   ]
  },
  {
   "cell_type": "code",
   "execution_count": 28,
   "id": "e44b576d",
   "metadata": {},
   "outputs": [
    {
     "name": "stdout",
     "output_type": "stream",
     "text": [
      "Python Java\n"
     ]
    },
    {
     "name": "stderr",
     "output_type": "stream",
     "text": [
      "Python Java\n"
     ]
    }
   ],
   "source": [
    "import sys # sys 모듈을 가져와서 사용하겠다는 의미\n",
    "print(\"Python\", \"Java\", file=sys.stdout) # 표준 출력\n",
    "print(\"Python\", \"Java\", file=sys.stderr) # 표준 에러"
   ]
  },
  {
   "cell_type": "code",
   "execution_count": 36,
   "id": "0f4b0eba",
   "metadata": {},
   "outputs": [
    {
     "name": "stdout",
     "output_type": "stream",
     "text": [
      "수학 0\n",
      "영어 50\n",
      "코딩 100\n",
      "수학      :   0\n",
      "영어      :  50\n",
      "코딩      : 100\n"
     ]
    }
   ],
   "source": [
    "scores = {\"수학\":0, \"영어\":50, \"코딩\":100}\n",
    "\n",
    "for subject, score in scores.items(): # key, value\n",
    "    print(subject, score)\n",
    "    \n",
    "for subject, score in scores.items():\n",
    "    print(subject.ljust(8), str(score).rjust(4), sep=\":\")"
   ]
  },
  {
   "cell_type": "code",
   "execution_count": 32,
   "id": "a34e5158",
   "metadata": {},
   "outputs": [
    {
     "name": "stdout",
     "output_type": "stream",
     "text": [
      "대기번호 : 1\n",
      "대기번호 : 2\n",
      "대기번호 : 3\n",
      "대기번호 : 4\n",
      "대기번호 : 5\n",
      "대기번호 : 6\n",
      "대기번호 : 7\n",
      "대기번호 : 8\n",
      "대기번호 : 9\n",
      "대기번호 : 10\n",
      "대기번호 : 11\n",
      "대기번호 : 12\n",
      "대기번호 : 13\n",
      "대기번호 : 14\n",
      "대기번호 : 15\n",
      "대기번호 : 16\n",
      "대기번호 : 17\n",
      "대기번호 : 18\n",
      "대기번호 : 19\n",
      "대기번호 : 20\n",
      "대기번호 : 001\n",
      "대기번호 : 002\n",
      "대기번호 : 003\n",
      "대기번호 : 004\n",
      "대기번호 : 005\n",
      "대기번호 : 006\n",
      "대기번호 : 007\n",
      "대기번호 : 008\n",
      "대기번호 : 009\n",
      "대기번호 : 010\n",
      "대기번호 : 011\n",
      "대기번호 : 012\n",
      "대기번호 : 013\n",
      "대기번호 : 014\n",
      "대기번호 : 015\n",
      "대기번호 : 016\n",
      "대기번호 : 017\n",
      "대기번호 : 018\n",
      "대기번호 : 019\n",
      "대기번호 : 020\n"
     ]
    }
   ],
   "source": [
    "for num in range(1, 21): # 1~20 까지의 숫자\n",
    "    print(\"대기번호 : \" + str(num))\n",
    "    \n",
    "for num in range(1, 21): # 1~20 까지의 숫자\n",
    "    print(\"대기번호 : \" + str(num).zfill(3))\n",
    " "
   ]
  },
  {
   "cell_type": "markdown",
   "id": "993ea7bb",
   "metadata": {},
   "source": [
    "# 7.2 다양한 출력포맷"
   ]
  },
  {
   "attachments": {
    "1.PNG": {
     "image/png": "[encoded data removed]"
    }
   },
   "cell_type": "markdown",
   "id": "26237fab",
   "metadata": {},
   "source": [
    "![1.PNG](attachment:1.PNG)"
   ]
  },
  {
   "cell_type": "code",
   "execution_count": 42,
   "id": "f2237179",
   "metadata": {},
   "outputs": [
    {
     "name": "stdout",
     "output_type": "stream",
     "text": [
      "       500\n",
      "      +500\n",
      "      -500\n",
      "500_______\n"
     ]
    }
   ],
   "source": [
    "print(\"{0: >10}\".format(500)) # 빈 자리는 비워두기, 우측 정렬, 10 칸의 공간 확보\n",
    "print(\"{0: >+10}\".format(500)) # 빈 자리는 비워두기, 우측 정렬, + 기호, 10 칸의 공간 확보\n",
    "print(\"{0: >+10}\".format(-500))\n",
    "print(\"{0:_<10}\".format(500)) # 빈 자리는 _ 로, 좌측 정렬, 10 칸의 공간 확보"
   ]
  },
  {
   "cell_type": "code",
   "execution_count": 45,
   "id": "550a5413",
   "metadata": {},
   "outputs": [
    {
     "name": "stdout",
     "output_type": "stream",
     "text": [
      "100,000,000,000\n",
      "+100,000,000,000\n",
      "-100,000,000,000\n",
      "+100,000,000,000^^^^^^^^^^^^^^\n"
     ]
    }
   ],
   "source": [
    "print(\"{0:,}\".format(100000000000)) # 3자리 마다 콤마 찍어주기\n",
    "print(\"{0:+,}\".format(100000000000)) # + 기호, 3자리 마다 콤마 찍어주기\n",
    "print(\"{0:+,}\".format(-100000000000))\n",
    "print(\"{0:^<+30,}\".format(100000000000))"
   ]
  },
  {
   "cell_type": "code",
   "execution_count": 47,
   "id": "a2b727d4",
   "metadata": {},
   "outputs": [
    {
     "name": "stdout",
     "output_type": "stream",
     "text": [
      "1.666667\n",
      "1.67\n"
     ]
    }
   ],
   "source": [
    "print(\"{0:f}\".format(5/3)) # 실수 값 출력\n",
    "print(\"{0:.2f}\".format(5/3)) # 소수점 둘째자리까지 출력"
   ]
  },
  {
   "cell_type": "markdown",
   "id": "cff1e789",
   "metadata": {},
   "source": [
    "# 7.3 파일 입출력\n",
    "## 다른 폴더 참조!!"
   ]
  },
  {
   "cell_type": "markdown",
   "id": "9a12e318",
   "metadata": {},
   "source": [
    "# 7.4 pickle"
   ]
  },
  {
   "cell_type": "code",
   "execution_count": 55,
   "id": "dc9ec2e5",
   "metadata": {},
   "outputs": [
    {
     "name": "stdout",
     "output_type": "stream",
     "text": [
      "{'이름': '박명수', '나이': 30, '취미': ['축구', '골프', '코딩']}\n"
     ]
    }
   ],
   "source": [
    "import pickle # pickle 모듈 가져다 쓰기\n",
    "\n",
    "profile_file = open(\"profile.pickle\", \"wb\") # 바이너리(binary) 형태로 저장\n",
    "profile = {\"이름\":\"박명수\", \"나이\":30, \"취미\":[\"축구\", \"골프\", \"코딩\"]}\n",
    "print(profile)\n",
    "\n",
    "pickle.dump(profile, profile_file) # profile 데이터를 file 에 저장\n",
    "profile_file.close()"
   ]
  },
  {
   "cell_type": "code",
   "execution_count": 56,
   "id": "3db30c27",
   "metadata": {},
   "outputs": [
    {
     "name": "stdout",
     "output_type": "stream",
     "text": [
      "{'이름': '박명수', '나이': 30, '취미': ['축구', '골프', '코딩']}\n"
     ]
    }
   ],
   "source": [
    "profile_file = open(\"profile.pickle\", \"rb\") # 읽을 때에도 바이너리(binary) 명시\n",
    "profile = pickle.load(profile_file) # file 에 있는 정보를 불러와서 profile 에 저장\n",
    "\n",
    "print(profile)\n",
    "profile_file.close()"
   ]
  },
  {
   "cell_type": "markdown",
   "id": "fffd06cb",
   "metadata": {},
   "source": [
    "# 7.5 with"
   ]
  },
  {
   "cell_type": "code",
   "execution_count": 1,
   "id": "3a5a13a2",
   "metadata": {},
   "outputs": [
    {
     "name": "stdout",
     "output_type": "stream",
     "text": [
      "{'이름': '박명수', '나이': 30, '취미': ['축구', '골프', '코딩']}\n"
     ]
    }
   ],
   "source": [
    "import pickle\n",
    "\n",
    "with open(\"profile.pickle\", \"rb\") as profile_file:\n",
    "    print(pickle.load(profile_file))"
   ]
  },
  {
   "cell_type": "code",
   "execution_count": 2,
   "id": "b0e5ead9",
   "metadata": {},
   "outputs": [],
   "source": [
    "with open(\"study.txt\", \"w\", encoding=\"utf8\") as study_file:\n",
    "    study_file.write(\"파이썬을 열심히 공부하고 있어요\")"
   ]
  },
  {
   "cell_type": "code",
   "execution_count": 3,
   "id": "5956e05b",
   "metadata": {},
   "outputs": [
    {
     "name": "stdout",
     "output_type": "stream",
     "text": [
      "파이썬을 열심히 공부하고 있어요\n"
     ]
    }
   ],
   "source": [
    "with open(\"study.txt\", \"r\", encoding=\"utf8\") as study_file:\n",
    "    print(study_file.read())"
   ]
  },
  {
   "cell_type": "markdown",
   "id": "f1390cf9",
   "metadata": {},
   "source": [
    "## Quiz) 당신의 회사에서는 매주 1회 작성해야 하는 보고서가 있습니다.\n",
    "\n",
    "보고서는 항상 아래와 같은 형태로 출력되어야 합니다.\n",
    "\n",
    " \n",
    "\n",
    "- X 주차 주간보고 -\n",
    "\n",
    "부서 : \n",
    "\n",
    "이름 : \n",
    "\n",
    "업무 요약 : \n",
    "\n",
    " \n",
    "\n",
    "1주차부터 50주차까지의 보고서 파일을 만드는 프로그램을 작성하시오.\n",
    "\n",
    "조건 : 파일명은 '1주차.txt', '2주차.txt', ... 와 같이 만듭니다."
   ]
  },
  {
   "cell_type": "code",
   "execution_count": 4,
   "id": "759d267b",
   "metadata": {},
   "outputs": [],
   "source": [
    "for i in range(1, 51):  ## 50주차까지 생김!!!\n",
    "    with open(str(i) + \"주차.txt\", \"w\", encoding=\"utf8\") as report_file:\n",
    "        report_file.write(\"- {0} 주차 주간보고 -\".format(i))\n",
    "        report_file.write(\"\\n부서 : \")\n",
    "        report_file.write(\"\\n이름 : \")\n",
    "        report_file.write(\"\\n업무 요약 : \")"
   ]
  },
  {
   "cell_type": "markdown",
   "id": "eca59a42",
   "metadata": {},
   "source": [
    "### -------------------------------------------------------------------------------------------\n",
    "# 8.1 클래스"
   ]
  },
  {
   "cell_type": "code",
   "execution_count": 7,
   "id": "66a7a7f3",
   "metadata": {},
   "outputs": [
    {
     "name": "stdout",
     "output_type": "stream",
     "text": [
      "마린 유닛이 생성되었습니다.\n",
      "체력 40, 공격력 5\n",
      "\n",
      "탱크 유닛이 생성되었습니다.\n",
      "체력 150, 공격력 35\n",
      "\n",
      "탱크 유닛이 생성되었습니다.\n",
      "체력 150, 공격력 35\n",
      "\n",
      "마린 : 1시 방향으로 적군을 공격 합니다. [공격력 5]\n",
      "탱크 : 1시 방향으로 적군을 공격 합니다. [공격력 35]\n",
      "탱크 : 1시 방향으로 적군을 공격 합니다. [공격력 35]\n"
     ]
    }
   ],
   "source": [
    "# 마린 : 공격 유닛, 군인. 총을 쏠 수 있음\n",
    "name = \"마린\" # 유닛의 이름\n",
    "hp = 40 # 유닛의 체력\n",
    "damage = 5 # 유닛의 공격력\n",
    "\n",
    "print(\"{} 유닛이 생성되었습니다.\".format(name))\n",
    "print(\"체력 {0}, 공격력 {1}\\n\".format(hp, damage))\n",
    "\n",
    "# 탱크 : 공격 유닛, 탱크. 포를 쏠 수 있는데, 일반 모드 / 시즈 모드\n",
    "tank_name = \"탱크\"\n",
    "tank_hp = 150\n",
    "tank_damage = 35\n",
    "\n",
    "print(\"{} 유닛이 생성되었습니다.\".format(tank_name))\n",
    "print(\"체력 {0}, 공격력 {1}\\n\".format(tank_hp, tank_damage))\n",
    "\n",
    "# 탱크2 새로 추가\n",
    "tank2_name = \"탱크\"\n",
    "tank2_hp = 150\n",
    "tank2_damage = 35\n",
    "\n",
    "print(\"{} 유닛이 생성되었습니다.\".format(tank2_name))\n",
    "print(\"체력 {0}, 공격력 {1}\\n\".format(tank2_hp, tank2_damage))\n",
    "\n",
    "# 공격 함수\n",
    "def attack(name, location, damage):\n",
    "\tprint(\"{0} : {1} 방향으로 적군을 공격 합니다. [공격력 {2}]\".format(name, location, damage))\n",
    "\n",
    "attack(name, \"1시\" , damage) # 마린 공격 명령\n",
    "attack(tank_name, \"1시\" , tank_damage) # 탱크 공격 명령\n",
    "attack(tank2_name, \"1시\" , tank2_damage) # 탱크2 공격 명령"
   ]
  },
  {
   "cell_type": "markdown",
   "id": "d5ac4295",
   "metadata": {},
   "source": [
    "# 8.2 __init__"
   ]
  },
  {
   "cell_type": "markdown",
   "id": "d1c74b81",
   "metadata": {},
   "source": [
    "클래스에는 __init__() 메소드가 있습니다. 이를 생성자(Constructor) 라고 부르는데요, 사용자가 따로 호출하지 않아도 클래스 객체를 생성할 때 자동으로 호출이 되는 부분입니다. 객체를 생성할 때는 이 생성자의 전달값에 해당하는 갯수만큼 값을 던져줘야 합니다. 단, self 부분은 제외하고 말이죠.\n",
    "\n"
   ]
  },
  {
   "cell_type": "code",
   "execution_count": 10,
   "id": "e7c752e3",
   "metadata": {},
   "outputs": [
    {
     "name": "stdout",
     "output_type": "stream",
     "text": [
      "마린 유닛이 생성되었습니다.\n",
      "체력 40, 공격력 5\n",
      "마린 유닛이 생성되었습니다.\n",
      "체력 40, 공격력 5\n",
      "탱크 유닛이 생성되었습니다.\n",
      "체력 150, 공격력 35\n"
     ]
    }
   ],
   "source": [
    "class Unit:\n",
    "    def __init__(self, name, hp, damage):\n",
    "        self.name = name\n",
    "        self.hp = hp\n",
    "        self.damage = damage\n",
    "        print(\"{0} 유닛이 생성되었습니다.\".format(self.name))\n",
    "        print(\"체력 {0}, 공격력 {1}\".format(self.hp, self.damage))\n",
    "\n",
    "marine1 = Unit(\"마린\", 40, 5)\n",
    "marine2 = Unit(\"마린\", 40, 5)\n",
    "tank = Unit(\"탱크\", 150, 35)\n",
    "\n",
    "## 잔달값 3개 넘겨줘야 한다!!"
   ]
  },
  {
   "cell_type": "markdown",
   "id": "4fdc3c06",
   "metadata": {},
   "source": [
    "# 8.3 멤버변수"
   ]
  },
  {
   "cell_type": "code",
   "execution_count": 12,
   "id": "34b43386",
   "metadata": {},
   "outputs": [
    {
     "name": "stdout",
     "output_type": "stream",
     "text": [
      "레이스 유닛이 생성되었습니다.\n",
      "체력 80, 공격력 5\n",
      "유닛 이름 : 레이스, 공격력 : 5\n",
      "빼앗은 레이스 유닛이 생성되었습니다.\n",
      "체력 80, 공격력 5\n",
      "빼앗은 레이스는 현재 클로킹 상태입니다.\n"
     ]
    }
   ],
   "source": [
    "class Unit:\n",
    "    def __init__(self, name, hp, damage):\n",
    "        self.name = name\n",
    "        self.hp = hp\n",
    "        self.damage = damage\n",
    "        print(\"{0} 유닛이 생성되었습니다.\".format(self.name))\n",
    "        print(\"체력 {0}, 공격력 {1}\".format(self.hp, self.damage))\n",
    "\n",
    "# 레이스 : 공중 유닛, 비행기. 클로킹 (상대방에게 보이지 않음)\n",
    "wraith1 = Unit(\"레이스\", 80, 5) # 체력 80, 공격력 5\n",
    "print(\"유닛 이름 : {0}, 공격력 : {1}\".format(wraith1.name, wraith1.damage)) # 멤버변수 접근\n",
    "\n",
    "# 마인드 컨트롤 : 상대방 유닛을 내 것으로 만드는 것 (빼앗음)\n",
    "wraith2 = Unit(\"빼앗은 레이스\", 80, 5)\n",
    "wraith2.cloaking = True # 빼앗은 레이스만을 위한 특별한 멤버변수 정의\n",
    "\n",
    "if wraith2.cloaking == True: # 클로킹 상태라면?\n",
    "    print(\"{0}는 현재 클로킹 상태입니다.\".format(wraith2.name))\n",
    "\n",
    "# 에러 발생\n",
    "# if wraith1.cloaking == True: # 우리가 만든 레이스 클로킹 여부\n",
    "#     print(\"{0}는 현재 클로킹 상태입니다.\".format(wraith1.name))"
   ]
  },
  {
   "cell_type": "markdown",
   "id": "39547728",
   "metadata": {},
   "source": [
    "# 8.4 메소드"
   ]
  },
  {
   "cell_type": "markdown",
   "id": "15330d8b",
   "metadata": {},
   "source": [
    "클래스 내에서 정의되는 함수인 메소드(method)를 공부해보겠습니다. 클래스에는 여러 개의 메소드를 정의할 수 있는데 일반 함수와 다른 점이라면 메소드는 전달값을 정의하는 부분 처음에 self 를 적어준다는 점, 그리고 메소드 내에서 self. 을 통해 클래스 멤버변수에 접근 가능하다는 점입니다.\n",
    "\n",
    " \n",
    "\n",
    "스타크래프트에는 공격을 할 수 있는 유닛이 대부분이지만 공격을 할 수 없는 유닛도 있습니다. 예를 들면 유닛들의 수송을 담당하는 드랍쉽이나 부상당한 유닛을 치료해주는 메딕처럼 말이죠. 그래서 이번에는 공격을 할 수 있는 유닛만을 위한 새로운 클래스를 정의하고 이름은 AttackUnit 이라고 하겠습니다. AttackUnit 은 Unit 클래스와 동일하게 __init__() 생성자에서 name, hp, damage 멤버 변수를 정의하는데 print() 를 통한 출력문은 따로 적지 않겠습니다."
   ]
  },
  {
   "cell_type": "code",
   "execution_count": 13,
   "id": "535f443e",
   "metadata": {},
   "outputs": [
    {
     "name": "stdout",
     "output_type": "stream",
     "text": [
      "파이어뱃 : 5시 방향으로 적군을 공격 합니다. [공격력 16]\n",
      "파이어뱃 : 25 데미지를 입었습니다.\n",
      "파이어뱃 : 현재 체력은 25 입니다.\n",
      "파이어뱃 : 25 데미지를 입었습니다.\n",
      "파이어뱃 : 현재 체력은 0 입니다.\n",
      "파이어뱃 : 파괴되었습니다.\n"
     ]
    }
   ],
   "source": [
    "class AttackUnit: # 공격 유닛\n",
    "    def __init__(self, name, hp, damage):\n",
    "        self.name = name\n",
    "        self.hp = hp\n",
    "        self.damage = damage\n",
    "\n",
    "    def attack(self, location): # 공격 방향\n",
    "        print(\"{0} : {1} 방향으로 적군을 공격 합니다. [공격력 {2}]\" \\\n",
    "            .format(self.name, location, self.damage)) # 공간이 좁아서 2줄에 걸쳐 출력\n",
    "\n",
    "    def damaged(self, damage): # damage 만큼 유닛 피해\n",
    "        print(\"{0} : {1} 데미지를 입었습니다.\".format(self.name, damage)) # 데미지 정보 출력\n",
    "        self.hp -= damage # 유닛의 체력에서 전달받은 damage 만큼 감소\n",
    "        print(\"{0} : 현재 체력은 {1} 입니다.\".format(self.name, self.hp)) # 남은 체력 출력\n",
    "        if self.hp <= 0: # 남은 체력이 0 이하이면?\n",
    "            print(\"{0} : 파괴되었습니다.\".format(self.name)) # 유닛 파괴 처리\n",
    "\n",
    "# 파이어뱃 : 공격 유닛, 화염방사기. \n",
    "firebat1 = AttackUnit(\"파이어뱃\", 50, 16) # 체력 50, 공격력 16\n",
    "firebat1.attack(\"5시\") # 5시 방향으로 공격 명령\n",
    "\n",
    "# 공격 2번 받는다고 가정\n",
    "firebat1.damaged(25) # 남은 체력 25\n",
    "firebat1.damaged(25) # 남은 채력 0"
   ]
  },
  {
   "cell_type": "markdown",
   "id": "89fe3bb4",
   "metadata": {},
   "source": [
    "# 8.5 상속"
   ]
  },
  {
   "cell_type": "code",
   "execution_count": 20,
   "id": "7524f0e9",
   "metadata": {},
   "outputs": [],
   "source": [
    "class Unit:\n",
    "    def __init__(self, name, hp, damage): # 공격력인 damage 제외\n",
    "        self.name = name\n",
    "        self.hp = hp\n",
    "        self.damage = damage # 제외\n",
    "        print(\"{0} 유닛이 생성되었습니다.\".format(self.name)) # 제외\n",
    "        print(\"체력 {0}, 공격력 {1}\".format(self.hp, self.damage)) # 제외"
   ]
  },
  {
   "cell_type": "code",
   "execution_count": 21,
   "id": "d85412ea",
   "metadata": {},
   "outputs": [],
   "source": [
    "# 일반 유닛\n",
    "class Unit:\n",
    "    def __init__(self, name, hp):\n",
    "        self.name = name\n",
    "        self.hp = hp"
   ]
  },
  {
   "cell_type": "code",
   "execution_count": 22,
   "id": "41a8a54f",
   "metadata": {},
   "outputs": [],
   "source": [
    "# 공격 유닛\n",
    "class AttackUnit:\n",
    "    def __init__(self, name, hp, damage):\n",
    "        self.name = name\n",
    "        self.hp = hp\n",
    "        self.damage = damage"
   ]
  },
  {
   "cell_type": "code",
   "execution_count": 23,
   "id": "8206b7d2",
   "metadata": {},
   "outputs": [],
   "source": [
    "class AttackUnit(Unit):\n",
    "    def __init__(self, name, hp, damage):\n",
    "        Unit.__init__(self, name, hp)\n",
    "        self.damage = damage"
   ]
  },
  {
   "cell_type": "markdown",
   "id": "664ec656",
   "metadata": {},
   "source": [
    "### 최종!!"
   ]
  },
  {
   "cell_type": "code",
   "execution_count": 24,
   "id": "01ca0917",
   "metadata": {},
   "outputs": [],
   "source": [
    "# 일반 유닛\n",
    "class Unit:\n",
    "    def __init__(self, name, hp):\n",
    "        self.name = name\n",
    "        self.hp = hp\n",
    "\n",
    "# 공격 유닛\n",
    "class AttackUnit(Unit):\n",
    "    def __init__(self, name, hp, damage):\n",
    "        Unit.__init__(self, name, hp)\n",
    "        self.damage = damage\n",
    "\n",
    "    def attack(self, location):\n",
    "        print(\"{0} : {1} 방향으로 적군을 공격 합니다. [공격력 {2}]\" \\\n",
    "            .format(self.name, location, self.damage))\n",
    "\n",
    "    def damaged(self, damage):\n",
    "        print(\"{0} : {1} 데미지를 입었습니다.\".format(self.name, damage))\n",
    "        self.hp -= damage\n",
    "        print(\"{0} : 현재 체력은 {1} 입니다.\".format(self.name, self.hp))\n",
    "        if self.hp <= 0:\n",
    "            print(\"{0} : 파괴되었습니다.\".format(self.name))"
   ]
  },
  {
   "cell_type": "code",
   "execution_count": 25,
   "id": "ed994bc5",
   "metadata": {},
   "outputs": [
    {
     "name": "stdout",
     "output_type": "stream",
     "text": [
      "파이어뱃 : 5시 방향으로 적군을 공격 합니다. [공격력 16]\n",
      "파이어뱃 : 25 데미지를 입었습니다.\n",
      "파이어뱃 : 현재 체력은 25 입니다.\n",
      "파이어뱃 : 25 데미지를 입었습니다.\n",
      "파이어뱃 : 현재 체력은 0 입니다.\n",
      "파이어뱃 : 파괴되었습니다.\n"
     ]
    }
   ],
   "source": [
    "# 파이어뱃 : 공격 유닛, 화염방사기. \n",
    "firebat1 = AttackUnit(\"파이어뱃\", 50, 16) # 체력 50, 공격력 16\n",
    "firebat1.attack(\"5시\") # 5시 방향으로 공격 명령\n",
    "\n",
    "# 공격 2번 받는다고 가정\n",
    "firebat1.damaged(25) # 남은 체력 25\n",
    "firebat1.damaged(25) # 남은 채력 0"
   ]
  },
  {
   "cell_type": "markdown",
   "id": "eec12343",
   "metadata": {},
   "source": [
    "# 8.6 다중상속"
   ]
  },
  {
   "attachments": {
    "image.png": {
     "image/png": "[encoded data removed]"
    }
   },
   "cell_type": "markdown",
   "id": "cc7f2b93",
   "metadata": {},
   "source": [
    "![image.png](attachment:image.png)"
   ]
  },
  {
   "cell_type": "markdown",
   "id": "49df701c",
   "metadata": {},
   "source": [
    "먼저 모든 유닛이 공통적으로 가지는 name, hp 를 가지는 일반 유닛 클래스인 Unit 이 있구요. 이를 상속받아서 공격력을 가지는 공격 유닛 클래스인 AttackUnit 을 정의하였습니다. 마린, 파이어뱃, 탱크를 만들기에 적합하죠.\n",
    "\n",
    " \n",
    "\n",
    "그리고 공중 유닛을 위한 날 수 있는 기능을 가지는 Flyable 클래스를 정의하였습니다. 이 클래스는 그냥 날아가는 속도 정보와 날아가는 동작 메소드만 가지고 있지요.\n",
    "\n",
    " \n",
    "\n",
    "마지막으로 공중 공격 유닛을 위해 AttackUnit 과 Flyable 을 다중 상속하는 FlyableAttackUnit 클래스를 만들었습니다. 레이스나 발키리를 만들기에 적합합니다.\n",
    "\n",
    " \n",
    "\n",
    "도표를 통해 각 클래스들간의 관계를 이해하시고 지금까지 소개된 유닛을 어떤 클래스로, 또는 어떤 클래스들의 조합으로 만드는 게 좋을지 복습하신 후에 다음 장으로 넘어가시면 좋겠습니다."
   ]
  },
  {
   "cell_type": "code",
   "execution_count": 26,
   "id": "e8fdc49c",
   "metadata": {},
   "outputs": [
    {
     "name": "stdout",
     "output_type": "stream",
     "text": [
      "발키리 : 3시 방향으로 날아갑니다. [속도 5]\n"
     ]
    }
   ],
   "source": [
    "# 일반 유닛\n",
    "class Unit:\n",
    "    def __init__(self, name, hp):\n",
    "        self.name = name\n",
    "        self.hp = hp\n",
    "\n",
    "# 공격 유닛\n",
    "class AttackUnit(Unit):\n",
    "    def __init__(self, name, hp, damage):\n",
    "        Unit.__init__(self, name, hp)\n",
    "        self.damage = damage\n",
    "\n",
    "    def attack(self, location):\n",
    "        print(\"{0} : {1} 방향으로 적군을 공격 합니다. [공격력 {2}]\" \\\n",
    "            .format(self.name, location, self.damage))\n",
    "\n",
    "    def damaged(self, damage):\n",
    "        print(\"{0} : {1} 데미지를 입었습니다.\".format(self.name, damage))\n",
    "        self.hp -= damage\n",
    "        print(\"{0} : 현재 체력은 {1} 입니다.\".format(self.name, self.hp))\n",
    "        if self.hp <= 0:\n",
    "            print(\"{0} : 파괴되었습니다.\".format(self.name))\n",
    "\n",
    "# 날 수 있는 기능을 가진 클래스\n",
    "class Flyable:\n",
    "    def __init__(self, flying_speed): # 공중 이동 속도\n",
    "        self.flying_speed = flying_speed\n",
    "\n",
    "    def fly(self, name, location): # 유닛 이름, 이동 방향\n",
    "        print(\"{0} : {1} 방향으로 날아갑니다. [속도 {2}]\"\\\n",
    "            .format(name, location, self.flying_speed))\n",
    "\n",
    "# 공중 공격 유닛\n",
    "class FlyableAttackUnit(AttackUnit, Flyable):\n",
    "    def __init__(self, name, hp, damage, flying_speed): # 이름, 체력, 공격력, 공중 이동 속도\n",
    "        AttackUnit.__init__(self, name, hp, damage) # 이름, 체력, 공격력\n",
    "        Flyable.__init__(self, flying_speed) # 공중 이동 속도\n",
    "\n",
    "# 발키리 : 공중 공격 유닛, 한번에 14발 미사일 발사.\n",
    "valkyrie = FlyableAttackUnit(\"발키리\", 200, 6, 5) # 이름, 체력, 공격력, 공중 이동 속도\n",
    "valkyrie.fly(valkyrie.name, \"3시\") # 3시 방향으로 발키리를 이동"
   ]
  },
  {
   "cell_type": "markdown",
   "id": "4d6c99b7",
   "metadata": {},
   "source": [
    "# 8.7 메소드 오버라이딩"
   ]
  },
  {
   "cell_type": "markdown",
   "id": "bb29f437",
   "metadata": {},
   "source": [
    "상속 관계에 있는 클래스들 사이에서 부모 클래스에 정의된 메소드를 그대로 사용하지 않고 자식 클래스에서 같은 이름으로 메소드를 새롭게 정의하여 사용하도록 할 수 있는데 이를 메소드 오버라이딩(method overriding) 이라고 합니다.\n",
    "\n",
    " \n",
    "\n",
    "스타크래프트 유닛들은 플레이어가 지정한 위치나 방향으로 이동을 할 수 있는데 유닛마다 서로 다른 이동 속도를 가집니다. 빠른 유닛도 있고 느린 유닛도 있는 거죠. 참고로 공중 유닛을 위한 Flyable 클래스에는 이미 공중 이동 속도를 의미하는 flying_speed 가 정의되어 있습니다. 그래서 이번에는 지상 유닛을 위한 이동 속도를 의미하는 speed 를 Unit 클래스에 추가해보겠습니다. 그리고 이동을 위한 move() 메소드도 새롭게 정의하고 구분을 위해 [지상 유닛 이동] 이라는 문구와 함께 어떤 유닛이 몇 시 방향으로 이동하는지를 출력하겠습니다."
   ]
  },
  {
   "cell_type": "code",
   "execution_count": null,
   "id": "b51d9c3e",
   "metadata": {},
   "outputs": [],
   "source": [
    "# 일반 유닛\n",
    "class Unit:\n",
    "    def __init__(self, name, hp, speed):\n",
    "        self.name = name\n",
    "        self.hp = hp\n",
    "        self.speed = speed\n",
    "\n",
    "    def move(self, location):\n",
    "        print(\"[지상 유닛 이동]\")\n",
    "        print(\"{0} : {1} 방향으로 이동합니다. [속도 {2}]\"\\\n",
    "            .format(self.name, location, self.speed))\n"
   ]
  },
  {
   "cell_type": "markdown",
   "id": "e1a80360",
   "metadata": {},
   "source": [
    "이렇게 변경하고 나면 Unit 클래스를 상속받고 있는 클래스에 영향을 끼치게 됩니다. speed 가 새롭게 추가되었으니 __init__() 메소드를 사용하는 부분도 변경을 해줘야하는 것이죠.\n",
    "\n",
    " \n",
    "\n",
    "먼저 공격 유닛인 AttackUnit 클래스에 speed 를 추가하겠습니다."
   ]
  },
  {
   "cell_type": "code",
   "execution_count": 28,
   "id": "2976f01d",
   "metadata": {},
   "outputs": [],
   "source": [
    "# 공격 유닛\n",
    "class AttackUnit(Unit):\n",
    "    def __init__(self, name, hp, speed, damage): # speed 추가\n",
    "        Unit.__init__(self, name, hp, speed) # speed 추가\n",
    "        self.damage = damage\n",
    "        \n",
    "    ... # 메소드 생략"
   ]
  },
  {
   "cell_type": "markdown",
   "id": "c9217e5a",
   "metadata": {},
   "source": [
    "다음으로는 AttackUnit 클래스를 상속받는 공중 공격 유닛인 FlyableAttackUnit 클래스도 수정을 하겠습니다. 공중 공격 유닛의 경우 공중 이동 속도인 flying_speed 가 이미 정의되어 있으며 지상으로는 이동하지 못하기 때문에 지상 이동 속도는 그냥 0 으로 설정을 해주겠습니다."
   ]
  },
  {
   "cell_type": "code",
   "execution_count": 29,
   "id": "f243bb5e",
   "metadata": {},
   "outputs": [],
   "source": [
    "# 공중 공격 유닛\n",
    "class FlyableAttackUnit(AttackUnit, Flyable):\n",
    "    def __init__(self, name, hp, damage, flying_speed):\n",
    "        AttackUnit.__init__(self, name, hp, 0, damage) # 지상 speed 0\n",
    "        Flyable.__init__(self, flying_speed)"
   ]
  },
  {
   "cell_type": "code",
   "execution_count": 33,
   "id": "d5c5544e",
   "metadata": {},
   "outputs": [
    {
     "name": "stdout",
     "output_type": "stream",
     "text": [
      "[지상 유닛 이동]\n",
      "벌쳐 : 11시 방향으로 이동합니다. [속도 10]\n",
      "배틀크루저 : 9시 방향으로 날아갑니다. [속도 3]\n"
     ]
    }
   ],
   "source": [
    "# 벌쳐 : 지상 유닛, 기동성이 좋음\n",
    "vulture = AttackUnit(\"벌쳐\", 80, 10, 20) # 지상 speed 10\n",
    "\n",
    "# 배틀크루저 : 공중 유닛, 체력도 굉장히 좋음, 공격력도 좋음\n",
    "battlecruiser = FlyableAttackUnit(\"배틀크루저\", 500, 25, 3)\n",
    "\n",
    "vulture.move(\"11시\")\n",
    "battlecruiser.fly(battlecruiser.name, \"9시\")"
   ]
  },
  {
   "cell_type": "markdown",
   "id": "9cc07b7f",
   "metadata": {},
   "source": [
    "그런데 스타크래프트에는 굉장히 많은 지상 유닛과 공중 유닛이 있는데 이들을 이동시킬 때마다 지상 유닛인지 공중 유닛인지를 구분하여 move() 와 fly() 를 적기에는 너무 번거로울 것 같습니다. 그리고 fly() 를 이용할때는 유닛의 이름정보까지 전달해야하는 불편함도 있지요.\n",
    "\n",
    " \n",
    "\n",
    "이런 경우에 우리는 메소드 오버라이딩을 이용할 수 있습니다.\n",
    "\n",
    " \n",
    "\n",
    "FlyableAttackUnit 클래스에서 상속 받고 있는 부모 클래스는 AttackUnit 과 Flyable 인데요. AttackUnit 클래스는 Unit 클래스를 상속 받고 있으므로 결국 FlyableAttackUnit 클래스에서도 Unit 클래스의 모든 내용을 그대로 사용할 수 있습니다.\n",
    "\n",
    " \n",
    "\n",
    "여기서는 Unit 클래스에 정의된 move() 메소드를 FlyableAttackUnit 클래스 내에서 오버라이딩 해보겠습니다. 메소드 오버라이딩은 부모 클래스에 정의된 메소드를 그대로 자식 클래스에서 동일한 이름과 동일한 전달값으로 하여 정의하면 됩니다. 대신 메소드 동작만 원하는대로 변경하면 되는 것이죠. 공중 공격 유닛의 이동이므로 [공중 유닛 이동] 이라는 문구를 출력하고 실제 이동은 공중으로 날아다녀야 하므로 또다른 부모 클래스인 Flyable 에 정의된 fly() 메소드를 호출하는 것으로 하겠습니다. 이 때 유닛 이름과 이동할 위치 정보를 함께 전달합니다."
   ]
  },
  {
   "cell_type": "code",
   "execution_count": 46,
   "id": "7aa89a33",
   "metadata": {},
   "outputs": [
    {
     "name": "stdout",
     "output_type": "stream",
     "text": [
      "[지상 유닛 이동]\n",
      "벌쳐 : 11시 방향으로 이동합니다. [속도 10]\n",
      "[공중 유닛 이동]\n",
      "배틀크루저 : 9시 방향으로 날아갑니다. [속도 3]\n"
     ]
    }
   ],
   "source": [
    "# 공중 공격 유닛\n",
    "class FlyableAttackUnit(AttackUnit, Flyable):\n",
    "    def __init__(self, name, hp, damage, flying_speed):\n",
    "        AttackUnit.__init__(self, name, hp, 0, damage)\n",
    "        Flyable.__init__(self, flying_speed)\n",
    "\n",
    "    def move(self, location): # Unit 클래스의 move() 메소드를 새롭게 정의 (오버라이딩)\n",
    "        print(\"[공중 유닛 이동]\")\n",
    "        self.fly(self.name, location)\n",
    "        \n",
    "vulture.move(\"11시\")\n",
    "# battlecruiser.fly(battlecruiser.name, \"9시\")\n",
    "battlecruiser.move(\"9시\") # 오버라이딩된 move() 호출"
   ]
  },
  {
   "cell_type": "code",
   "execution_count": 34,
   "id": "25b37e16",
   "metadata": {},
   "outputs": [
    {
     "name": "stdout",
     "output_type": "stream",
     "text": [
      "[지상 유닛 이동]\n",
      "벌쳐 : 11시 방향으로 이동합니다. [속도 10]\n",
      "[공중 유닛 이동]\n",
      "배틀크루저 : 9시 방향으로 날아갑니다. [속도 3]\n"
     ]
    }
   ],
   "source": [
    "# 일반 유닛\n",
    "class Unit:\n",
    "    def __init__(self, name, hp, speed):\n",
    "        self.name = name\n",
    "        self.hp = hp\n",
    "        self.speed = speed\n",
    "\n",
    "    def move(self, location):\n",
    "        print(\"[지상 유닛 이동]\")\n",
    "        print(\"{0} : {1} 방향으로 이동합니다. [속도 {2}]\"\\\n",
    "            .format(self.name, location, self.speed))\n",
    "\n",
    "# 공격 유닛\n",
    "class AttackUnit(Unit):\n",
    "    def __init__(self, name, hp, speed, damage):\n",
    "        Unit.__init__(self, name, hp, speed)\n",
    "        self.damage = damage\n",
    "\n",
    "    def attack(self, location):\n",
    "        print(\"{0} : {1} 방향으로 적군을 공격 합니다. [공격력 {2}]\" \\\n",
    "            .format(self.name, location, self.damage))\n",
    "\n",
    "    def damaged(self, damage):\n",
    "        print(\"{0} : {1} 데미지를 입었습니다.\".format(self.name, damage))\n",
    "        self.hp -= damage\n",
    "        print(\"{0} : 현재 체력은 {1} 입니다.\".format(self.name, self.hp))\n",
    "        if self.hp <= 0:\n",
    "            print(\"{0} : 파괴되었습니다.\".format(self.name))\n",
    "\n",
    "# 날 수 있는 기능을 가진 클래스\n",
    "class Flyable:\n",
    "    def __init__(self, flying_speed):\n",
    "        self.flying_speed = flying_speed\n",
    "\n",
    "    def fly(self, name, location):\n",
    "        print(\"{0} : {1} 방향으로 날아갑니다. [속도 {2}]\"\\\n",
    "            .format(name, location, self.flying_speed))\n",
    "\n",
    "# 공중 공격 유닛\n",
    "class FlyableAttackUnit(AttackUnit, Flyable):\n",
    "    def __init__(self, name, hp, damage, flying_speed):\n",
    "        AttackUnit.__init__(self, name, hp, 0, damage)\n",
    "        Flyable.__init__(self, flying_speed)\n",
    "\n",
    "    def move(self, location):\n",
    "        print(\"[공중 유닛 이동]\")\n",
    "        self.fly(self.name, location)\n",
    "\n",
    "# 벌쳐 : 지상 유닛, 기동성이 좋음\n",
    "vulture = AttackUnit(\"벌쳐\", 80, 10, 20) # 지상 speed 10\n",
    "\n",
    "# 배틀크루저 : 공중 유닛, 체력도 굉장히 좋음, 공격력도 좋음\n",
    "battlecruiser = FlyableAttackUnit(\"배틀크루저\", 500, 25, 3)\n",
    "\n",
    "vulture.move(\"11시\")\n",
    "# battlecruiser.fly(battlecruiser.name, \"9시\")\n",
    "battlecruiser.move(\"9시\") # 오버라이딩된 move() 호출"
   ]
  },
  {
   "cell_type": "markdown",
   "id": "4abac092",
   "metadata": {},
   "source": [
    "# 8.8 pass"
   ]
  },
  {
   "cell_type": "markdown",
   "id": "137419b9",
   "metadata": {},
   "source": [
    "이번에는 건물을 위한 클래스를 하나 만들어 보겠습니다. 건물도 일반 유닛처럼 이름과 체력이 있는데 적군으로부터 공격을 받으면 파괴될 수가 있습니다. Unit 클래스에 공통 속성이 있으니 이를 상속 받아서 만들도록 하구요. 건물을 지을 때는 어느 위치에 지을지 플레이어가 정해야 하는데 이들을 모두 포함하여 name, hp, location 이라고 하겠습니다.\n",
    "\n",
    "그런데 건물은 클래스를 정의하기는 하는데 __init__() 생성자의 세부 내용은 일단은 그냥 내버려 두겠습니다. 다른 작업을 먼저 하고 나서 나중에 코드를 완성한다고 가정할게요. 이럴 때 파이썬에서는 pass 를 쓸 수 있습니다."
   ]
  },
  {
   "cell_type": "code",
   "execution_count": 43,
   "id": "eacb6b08",
   "metadata": {},
   "outputs": [],
   "source": [
    "# 건물\n",
    "class BuildingUnit(Unit):\n",
    "    def __init__(self, name, hp, location):\n",
    "        pass\n",
    "\n",
    "# 서플라이 디폿 : 건물, 1개 건물 = 8 유닛.\n",
    "supply_depot = BuildingUnit(\"서플라이 디폿\", 500, \"7시\") # 체력 500, 생성 위치 7시"
   ]
  },
  {
   "cell_type": "markdown",
   "id": "6811907f",
   "metadata": {},
   "source": [
    "이렇게만 한 상태에서 서플라이 디폿 객체를 만들고 실행을 해보면 에러 없이 잘 실행되는 것을 볼 수 있습니다. 여기서 pass 는 아무것도 하지 않고 일단은 그냥 넘어간다는 의미로 사용됩니다. 즉, __init__() 생성자는 실제로는 완성되지 않았지만 마치 완성된 것처럼 보여질 수 있는 것이죠.\n",
    "\n",
    "pass 는 다른 곳에서도 사용이 가능합니다. 위 코드에 이어서 함수를 2개 만들어볼게요. 게임 시작을 알리는 game_start() 함수와 게임 종료를 알리는 game_over() 함수입니다. game_start() 에서는 print() 를 통해 문구를 출력하는데 game_over() 에서는 그냥 pass 로만 적어둘게요."
   ]
  },
  {
   "cell_type": "code",
   "execution_count": 44,
   "id": "e465c071",
   "metadata": {},
   "outputs": [
    {
     "name": "stdout",
     "output_type": "stream",
     "text": [
      "[알림] 새로운 게임을 시작합니다.\n"
     ]
    }
   ],
   "source": [
    "def game_start():\n",
    "    print(\"[알림] 새로운 게임을 시작합니다.\")\n",
    "\n",
    "def game_over():\n",
    "    pass\n",
    "\n",
    "game_start()\n",
    "game_over()"
   ]
  },
  {
   "cell_type": "code",
   "execution_count": 35,
   "id": "a6a10cc1",
   "metadata": {},
   "outputs": [
    {
     "name": "stdout",
     "output_type": "stream",
     "text": [
      "[알림] 새로운 게임을 시작합니다.\n"
     ]
    }
   ],
   "source": [
    "# 일반 유닛\n",
    "class Unit:\n",
    "    def __init__(self, name, hp, speed):\n",
    "        self.name = name\n",
    "        self.hp = hp\n",
    "        self.speed = speed\n",
    "\n",
    "    def move(self, location):\n",
    "        print(\"[지상 유닛 이동]\")\n",
    "        print(\"{0} : {1} 방향으로 이동합니다. [속도 {2}]\"\\\n",
    "            .format(self.name, location, self.speed))\n",
    "\n",
    "# 공격 유닛\n",
    "class AttackUnit(Unit):\n",
    "    def __init__(self, name, hp, speed, damage):\n",
    "        Unit.__init__(self, name, hp, speed)\n",
    "        self.damage = damage\n",
    "\n",
    "    def attack(self, location):\n",
    "        print(\"{0} : {1} 방향으로 적군을 공격 합니다. [공격력 {2}]\" \\\n",
    "            .format(self.name, location, self.damage))\n",
    "\n",
    "    def damaged(self, damage):\n",
    "        print(\"{0} : {1} 데미지를 입었습니다.\".format(self.name, damage))\n",
    "        self.hp -= damage\n",
    "        print(\"{0} : 현재 체력은 {1} 입니다.\".format(self.name, self.hp))\n",
    "        if self.hp <= 0:\n",
    "            print(\"{0} : 파괴되었습니다.\".format(self.name))\n",
    "\n",
    "# 날 수 있는 기능을 가진 클래스\n",
    "class Flyable:\n",
    "    def __init__(self, flying_speed):\n",
    "        self.flying_speed = flying_speed\n",
    "\n",
    "    def fly(self, name, location):\n",
    "        print(\"{0} : {1} 방향으로 날아갑니다. [속도 {2}]\"\\\n",
    "            .format(name, location, self.flying_speed))\n",
    "\n",
    "# 공중 공격 유닛\n",
    "class FlyableAttackUnit(AttackUnit, Flyable):\n",
    "    def __init__(self, name, hp, damage, flying_speed):\n",
    "        AttackUnit.__init__(self, name, hp, 0, damage)\n",
    "        Flyable.__init__(self, flying_speed)\n",
    "\n",
    "    def move(self, location):\n",
    "        print(\"[공중 유닛 이동]\")\n",
    "        self.fly(self.name, location)\n",
    "\n",
    "# 건물\n",
    "class BuildingUnit(Unit):\n",
    "    def __init__(self, name, hp, location):\n",
    "        pass\n",
    "\n",
    "# 서플라이 디폿 : 건물, 1개 건물 = 8 유닛.\n",
    "supply_depot = BuildingUnit(\"서플라이 디폿\", 500, \"7시\") # 체력 500, 생성 위치 7시\n",
    "\n",
    "def game_start():\n",
    "    print(\"[알림] 새로운 게임을 시작합니다.\")\n",
    "\n",
    "def game_over():\n",
    "    pass\n",
    "\n",
    "game_start()\n",
    "game_over()"
   ]
  },
  {
   "cell_type": "markdown",
   "id": "537dbc29",
   "metadata": {},
   "source": [
    "# 8.9 super"
   ]
  },
  {
   "cell_type": "markdown",
   "id": "1d3b3f1d",
   "metadata": {},
   "source": [
    "이번에 공부할 내용은 super 입니다. 앞에서 건물 유닛 클래스를 만들 때 pass 로만 남겨두었던 __init__() 생성자의 코드를 완성해보겠습니다. Unit 클래스를 상속받았기 때문에 Unit 의 __init__() 을 활용하면 되는데, 건물은 지상 이동을 할 수 없으므로 speed 정보는 0 으로 하고 다음 줄에서 location 멤버 변수를 정의하겠습니다. (실제 게임에서 테란의 건물들은 날아서 이동이 가능합니다!)"
   ]
  },
  {
   "cell_type": "code",
   "execution_count": 36,
   "id": "fe45741b",
   "metadata": {},
   "outputs": [],
   "source": [
    "class BuildingUnit(Unit):\n",
    "    def __init__(self, name, hp, location):\n",
    "        Unit.__init__(self, name, hp, 0) # speed 0 : 건물은 지상 이동 불가\n",
    "        self.location = location"
   ]
  },
  {
   "cell_type": "markdown",
   "id": "20536af5",
   "metadata": {},
   "source": [
    "그런데 가만 생각해보면 우리가 누군가의 부모님을 칭할 때 이름을 직접 부르는 경우는 많지 않습니다. 예를 들어서 주말에 친구들과 놀러가기로 했을 때 \"우리 놀러 가는 거 부모님께 허락 받았어?\" 라고 물어보지, \"OOO님 허락 받았어?\" 라고는 하지 않죠.\n",
    "\n",
    "클래스에서도 이와 같이 부모 클래스의 이름을 직접 적지 않고도 부모 클래스에 접근하는 방법이 있습니다. 바로 super() 라는 것인데요. 앞의 코드는 다음과 같이 함으로써 동일한 동작을 수행하게 됩니다. 단, super() 를 사용할 때는 self 를 제외한다는 점을 주의해주셔야 합니다."
   ]
  },
  {
   "cell_type": "code",
   "execution_count": 37,
   "id": "8cdf19e2",
   "metadata": {},
   "outputs": [],
   "source": [
    "class BuildingUnit(Unit):\n",
    "    def __init__(self, name, hp, location):\n",
    "        super().__init__(name, hp, 0) # 부모 클래스 접근. self 없이 사용\n",
    "        self.location = location"
   ]
  },
  {
   "cell_type": "markdown",
   "id": "7ea08297",
   "metadata": {},
   "source": [
    "하지만 부모 클래스를 2개 이상 상속하는 다중상속의 경우에는 어떻게 될까요?\n",
    "\n",
    "설명을 돕기 위해 새로운 파이썬 파일을 하나 만들어서 다음과 같이 코드를 적어보겠습니다."
   ]
  },
  {
   "cell_type": "code",
   "execution_count": 38,
   "id": "d99cadcd",
   "metadata": {},
   "outputs": [
    {
     "name": "stdout",
     "output_type": "stream",
     "text": [
      "Unit 생성자\n"
     ]
    }
   ],
   "source": [
    "class Unit:\n",
    "    def __init__(self):\n",
    "        print(\"Unit 생성자\")\n",
    "\n",
    "class Flyable:\n",
    "    def __init__(self):\n",
    "        print(\"Flyable 생성자\")\n",
    "\n",
    "class FlyableUnit(Unit, Flyable):\n",
    "    def __init__(self):\n",
    "        super().__init__()\n",
    "\n",
    "# 드랍쉽\n",
    "dropship = FlyableUnit()"
   ]
  },
  {
   "cell_type": "markdown",
   "id": "a010dec7",
   "metadata": {},
   "source": [
    "일반 유닛인 Unit 클래스와 날아다니는 기능을 하는 Flyable 클래스를 정의했습니다. 그리고 이 둘을 부모 클래스로 하는 공중 유닛인 FlyableUnit 을 정의하고, 생성자에서는 super() 를 통해 부모 클래스의 생성자를 호출하도록 하였습니다.\n",
    "\n",
    " \n",
    "\n",
    "그리고 유닛의 수송을 담당하는 공중 유닛인 드랍쉽을 하나 생성하는 코드를 적고 실행해보면 결과가 이렇습니다.\n",
    "\n",
    "Unit 생성자\n",
    "\n",
    "분명 부모 클래스는 Unit 과 Flyable 인데 super() 를 통해 생성자를 호출했을 때 Unit 클래스의 생성자가 호출된 것을 알 수 있네요. 이번에는 부모 클래스의 상속 순서를 Unit, Flyable 에서 Flyable, Unit 으로 바꿔보겠습니다."
   ]
  },
  {
   "cell_type": "code",
   "execution_count": 39,
   "id": "19c7ba43",
   "metadata": {},
   "outputs": [],
   "source": [
    "# class FlyableUnit(Unit, Flyable):\n",
    "class FlyableUnit(Flyable, Unit): # 순서 변경\n",
    "    def __init__(self):\n",
    "        super().__init__()"
   ]
  },
  {
   "cell_type": "markdown",
   "id": "9200b88d",
   "metadata": {},
   "source": [
    "다시 실행해보니 이번에는 Flyable 클래스의 생성자가 호출되는 것을 확인할 수 있네요.\n",
    "\n",
    "Flyable 생성자\n",
    " \n",
    "\n",
    "즉, 다중 상속을 받은 클래스에서 super() 를 통해 부모 클래스로 접근을 할 때는 순서상 가장 먼저 상속받은 클래스로 접근을 하게 됩니다. 그러므로 다중 상속을 할 때 모든 부모 클래스의 생성자를 호출하려면 다음과 같이 명시적으로 각 부모 클래스의 이름을 통해서 접근해야 합니다."
   ]
  },
  {
   "cell_type": "code",
   "execution_count": 42,
   "id": "72f73036",
   "metadata": {},
   "outputs": [
    {
     "name": "stdout",
     "output_type": "stream",
     "text": [
      "Unit 생성자\n",
      "Flyable 생성자\n"
     ]
    }
   ],
   "source": [
    "class FlyableUnit(Flyable, Unit):\n",
    "    def __init__(self):\n",
    "        # super().__init__()\n",
    "        Unit.__init__(self) # Unit 클래스 생성자 호출\n",
    "        Flyable.__init__(self) # Flyable 클래스 생성자 호출\n",
    "        \n",
    "dropship = FlyableUnit()"
   ]
  },
  {
   "cell_type": "code",
   "execution_count": 41,
   "id": "fac47c07",
   "metadata": {},
   "outputs": [
    {
     "name": "stdout",
     "output_type": "stream",
     "text": [
      "Unit 생성자\n",
      "Flyable 생성자\n"
     ]
    }
   ],
   "source": [
    "class Unit:\n",
    "    def __init__(self):\n",
    "        print(\"Unit 생성자\")\n",
    "\n",
    "class Flyable:\n",
    "    def __init__(self):\n",
    "        print(\"Flyable 생성자\")\n",
    "        \n",
    "# class FlyableUnit(Unit, Flyable):\n",
    "class FlyableUnit(Flyable, Unit): # 순서 변경\n",
    "    def __init__(self):\n",
    "        # super().__init__()\n",
    "        Unit.__init__(self) # Unit 클래스 생성자 호출\n",
    "        Flyable.__init__(self) # Flyable 클래스 생성자 호출\n",
    "\n",
    "# 드랍쉽\n",
    "dropship = FlyableUnit()"
   ]
  },
  {
   "cell_type": "markdown",
   "id": "3dbe323e",
   "metadata": {},
   "source": [
    "# 8.10 스타그래프트 완성하기!"
   ]
  },
  {
   "attachments": {
    "image.png": {
     "image/png": "[encoded data removed]"
    }
   },
   "cell_type": "markdown",
   "id": "4d4f7658",
   "metadata": {},
   "source": [
    "![image.png](attachment:image.png)"
   ]
  },
  {
   "cell_type": "code",
   "execution_count": 48,
   "id": "8220ca90",
   "metadata": {},
   "outputs": [
    {
     "name": "stdout",
     "output_type": "stream",
     "text": [
      "[알림] 새로운 게임을 시작합니다.\n",
      "마린 유닛이 생성되었습니다.\n",
      "마린 유닛이 생성되었습니다.\n",
      "마린 유닛이 생성되었습니다.\n",
      "탱크 유닛이 생성되었습니다.\n",
      "탱크 유닛이 생성되었습니다.\n",
      "레이스 유닛이 생성되었습니다.\n",
      "마린 : 1시 방향으로 이동합니다. [속도 1]\n",
      "마린 : 1시 방향으로 이동합니다. [속도 1]\n",
      "마린 : 1시 방향으로 이동합니다. [속도 1]\n",
      "탱크 : 1시 방향으로 이동합니다. [속도 1]\n",
      "탱크 : 1시 방향으로 이동합니다. [속도 1]\n",
      "레이스 : 1시 방향으로 날아갑니다. [속도 5]\n",
      "[알림] 탱크 시즈 모드 개발이 완료되었습니다.\n",
      "마린 : 스팀팩을 사용합니다. (HP 10 감소)\n",
      "마린 : 스팀팩을 사용합니다. (HP 10 감소)\n",
      "마린 : 스팀팩을 사용합니다. (HP 10 감소)\n",
      "탱크 : 시즈모드로 전환합니다.\n",
      "탱크 : 시즈모드를 해제합니다.\n",
      "레이스 : 클로킹 모드 설정합니다.\n",
      "마린 : 1시 방향으로 적군을 공격 합니다. [공격력 5]\n",
      "마린 : 1시 방향으로 적군을 공격 합니다. [공격력 5]\n",
      "마린 : 1시 방향으로 적군을 공격 합니다. [공격력 5]\n",
      "탱크 : 1시 방향으로 적군을 공격 합니다. [공격력 35.0]\n",
      "탱크 : 1시 방향으로 적군을 공격 합니다. [공격력 35.0]\n",
      "레이스 : 1시 방향으로 적군을 공격 합니다. [공격력 20]\n",
      "마린 : 5 데미지를 입었습니다.\n",
      "마린 : 현재 체력은 25 입니다.\n",
      "마린 : 6 데미지를 입었습니다.\n",
      "마린 : 현재 체력은 24 입니다.\n",
      "마린 : 14 데미지를 입었습니다.\n",
      "마린 : 현재 체력은 16 입니다.\n",
      "탱크 : 8 데미지를 입었습니다.\n",
      "탱크 : 현재 체력은 142 입니다.\n",
      "탱크 : 5 데미지를 입었습니다.\n",
      "탱크 : 현재 체력은 137 입니다.\n",
      "레이스 : 19 데미지를 입었습니다.\n",
      "레이스 : 현재 체력은 61 입니다.\n",
      "Player : gg\n",
      "[Player] 님이 게임에서 퇴장하셨습니다.\n"
     ]
    }
   ],
   "source": [
    "from random import *\n",
    "\n",
    "# 일반 유닛\n",
    "class Unit:\n",
    "    def __init__(self, name, hp, speed):\n",
    "        self.name = name\n",
    "        self.hp = hp\n",
    "        self.speed = speed\n",
    "        print(\"{0} 유닛이 생성되었습니다.\".format(name))\n",
    "\n",
    "    def move(self, location):\n",
    "        print(\"{0} : {1} 방향으로 이동합니다. [속도 {2}]\"\\\n",
    "            .format(self.name, location, self.speed))\n",
    "\n",
    "    def damaged(self, damage):\n",
    "        print(\"{0} : {1} 데미지를 입었습니다.\".format(self.name, damage))\n",
    "        self.hp -= damage\n",
    "        print(\"{0} : 현재 체력은 {1} 입니다.\".format(self.name, self.hp))\n",
    "        if self.hp <= 0:\n",
    "            print(\"{0} : 파괴되었습니다.\".format(self.name))\n",
    "\n",
    "# 공격 유닛\n",
    "class AttackUnit(Unit):\n",
    "    def __init__(self, name, hp, speed, damage):\n",
    "        Unit.__init__(self, name, hp, speed)\n",
    "        self.damage = damage\n",
    "\n",
    "    def attack(self, location):\n",
    "        print(\"{0} : {1} 방향으로 적군을 공격 합니다. [공격력 {2}]\" \\\n",
    "            .format(self.name, location, self.damage))\n",
    "\n",
    "# 마린\n",
    "class Marine(AttackUnit):\n",
    "    def __init__(self):\n",
    "        AttackUnit.__init__(self, \"마린\", 40, 1, 5) # 이름, 체력, 이동속도, 공격력\n",
    "\n",
    "    # 스팀팩 : 일정 시간 동안 이동 및 공격 속도를 증가, 체력 10 감소\n",
    "    def stimpack(self):\n",
    "        if self.hp > 10:\n",
    "            self.hp -= 10\n",
    "            print(\"{0} : 스팀팩을 사용합니다. (HP 10 감소)\".format(self.name))\n",
    "        else:\n",
    "            print(\"{0} : 체력이 부족하여 스팀팩을 사용하지 않습니다\".format(self.name))\n",
    "\n",
    "# 탱크\n",
    "class Tank(AttackUnit):\n",
    "    # 시즈모드 : 탱크를 지상에 고정시켜, 더 높은 파워로 공격 가능. 이동 불가.\n",
    "    siege_developed = False # 시즈모드 개발여부 (클래스 변수)\n",
    "\n",
    "    def __init__(self):\n",
    "        AttackUnit.__init__(self, \"탱크\", 150, 1, 35) # 이름, 체력, 이동속도, 공격력\n",
    "        self.siege_mode = False # 시즈모드 (해제 상태)\n",
    "    \n",
    "    # 시즈모드\n",
    "    def set_siege_mode(self):\n",
    "        if Tank.siege_developed == False: # 시즈모드가 개발되지 않은 경우 메소드 탈출\n",
    "            return\n",
    "\n",
    "        # 현재 시즈모드가 아닐 때\n",
    "        if self.siege_mode == False:\n",
    "            print(\"{0} : 시즈모드로 전환합니다.\".format(self.name))\n",
    "            self.damage *= 2 # 공격력 2배로 증가\n",
    "            self.siege_mode = True # 시즈 모드 설정\n",
    "        # 현재 시즈모드일 때\n",
    "        else:\n",
    "            print(\"{0} : 시즈모드를 해제합니다.\".format(self.name))\n",
    "            self.damage /= 2 # 공격력 절반으로 감소\n",
    "            self.siege_mode = False # 시즈 모드 해제\n",
    "\n",
    "# 날 수 있는 기능을 가진 클래스\n",
    "class Flyable:\n",
    "    def __init__(self, flying_speed):\n",
    "        self.flying_speed = flying_speed\n",
    "\n",
    "    def fly(self, name, location):\n",
    "        print(\"{0} : {1} 방향으로 날아갑니다. [속도 {2}]\"\\\n",
    "            .format(name, location, self.flying_speed))\n",
    "\n",
    "# 공중 공격 유닛\n",
    "class FlyableAttackUnit(AttackUnit, Flyable):\n",
    "    def __init__(self, name, hp, damage, flying_speed):\n",
    "        AttackUnit.__init__(self, name, hp, 0, damage)\n",
    "        Flyable.__init__(self, flying_speed)\n",
    "\n",
    "    def move(self, location):\n",
    "        self.fly(self.name, location)\n",
    "\n",
    "# 레이스\n",
    "class Wraith(FlyableAttackUnit):\n",
    "    def __init__(self):\n",
    "        FlyableAttackUnit.__init__(self, \"레이스\", 80, 20, 5) # 체력, 공격력, 공중 이동 속도\n",
    "        self.cloaked = False # 클로킹 모드 (해제 상태)\n",
    "\n",
    "    # 클로킹 모드\n",
    "    def cloaking(self):\n",
    "        # 현재 클로킹 모드일 때\n",
    "        if self.cloaked == True:\n",
    "            print(\"{0} : 클로킹 모드 해제합니다.\".format(self.name))\n",
    "            self.cloaked = False\n",
    "        # 현재 클로킹 모드가 아닐 때\n",
    "        else:\n",
    "            print(\"{0} : 클로킹 모드 설정합니다.\".format(self.name))\n",
    "            self.cloaked = True\n",
    "\n",
    "# 게임 시작\n",
    "def game_start():\n",
    "    print(\"[알림] 새로운 게임을 시작합니다.\")\n",
    "\n",
    "# 게임 종료\n",
    "def game_over():\n",
    "    print(\"Player : gg\") # good game\n",
    "    print(\"[Player] 님이 게임에서 퇴장하셨습니다.\")\n",
    "\n",
    "# 실제 게임 진행\n",
    "game_start()\n",
    "\n",
    "# 마린 3기 생성\n",
    "m1 = Marine()\n",
    "m2 = Marine()\n",
    "m3 = Marine()\n",
    "\n",
    "# 탱크 2기 생성\n",
    "t1 = Tank()\n",
    "t2 = Tank()\n",
    "\n",
    "# 레이스 1기 생성\n",
    "w1 = Wraith()\n",
    "\n",
    "# 유닛 일괄 관리 (생성된 모든 유닛 append)\n",
    "attack_units = []\n",
    "attack_units.append(m1)\n",
    "attack_units.append(m2)\n",
    "attack_units.append(m3)\n",
    "attack_units.append(t1)\n",
    "attack_units.append(t1)\n",
    "attack_units.append(w1)\n",
    "\n",
    "# 전군 이동\n",
    "for unit in attack_units:\n",
    "    unit.move(\"1시\")\n",
    "\n",
    "# 탱크 시즈모드 개발\n",
    "Tank.siege_developed = True\n",
    "print(\"[알림] 탱크 시즈 모드 개발이 완료되었습니다.\")\n",
    "\n",
    "# 공격 모드 준비 (마린 : 스팀팩, 탱크 : 시즈모드, 레이스 : 클로킹)\n",
    "for unit in attack_units:\n",
    "    if isinstance(unit, Marine): # Marine 의 인스턴스이면 스팀팩\n",
    "        unit.stimpack()\n",
    "    elif isinstance(unit, Tank): # Tank 의 인스턴스이면 시즈모드\n",
    "        unit.set_siege_mode()\n",
    "    elif isinstance(unit, Wraith): # Wraith 의 인스턴스이면 클로킹\n",
    "        unit.cloaking()\n",
    "\n",
    "# 전군 공격\n",
    "for unit in attack_units:\n",
    "    unit.attack(\"1시\")\n",
    "\n",
    "# 전군 피해\n",
    "for unit in attack_units:\n",
    "    unit.damaged(randint(5, 20)) # 공격은 랜덤으로 받음 (5 ~ 20)\n",
    "\n",
    "# 게임 종료\n",
    "game_over()"
   ]
  },
  {
   "cell_type": "markdown",
   "id": "f52509a6",
   "metadata": {},
   "source": [
    "## Quiz) 주어진 코드를 활용하여 부동산 프로그램을 작성하시오.\n",
    "\n",
    "(출력 예제)\n",
    "총 3대의 매물이 있습니다.\n",
    "강남 아파트 매매 10억 2010년\n",
    "마포 오피스텔 전세 5억 2007년\n",
    "송파 빌라 월세 500/50 2000년\n",
    "\n",
    "\n",
    "이번 퀴즈는 주어진 클래스를 완성하는 것이 목표입니다. 생성자를 통해 멤버변수를 정의하고 매물 정보를 표시하기 위한 show_detail() 메소드에서는 멤버변수를 순서대로 출력합니다.\n",
    "\n",
    " \n",
    "\n",
    "클래스를 완성한 뒤에는 퀴즈에 소개된 3대 매물에 대한 House 객체를 만들고 총 매물 수를 출력한 뒤 각 매물의 정보를 표시하기 위해 show_detail() 메소드를 호출합니다. "
   ]
  },
  {
   "cell_type": "code",
   "execution_count": 56,
   "id": "11910f66",
   "metadata": {},
   "outputs": [],
   "source": [
    "class House:\n",
    "    # 매물 초기화 : 위치, 건물 종류, 매물 종류, 가격, 준공년도\n",
    "    def __init__(self, location, house_type, deal_type, price, completion_year):\n",
    "        pass\n",
    "\n",
    "    # 매물 정보 표시\n",
    "    def show_detail(self):\n",
    "        pass"
   ]
  },
  {
   "cell_type": "code",
   "execution_count": 57,
   "id": "1d095d0f",
   "metadata": {},
   "outputs": [
    {
     "name": "stdout",
     "output_type": "stream",
     "text": [
      "총 3대의 매물이 있습니다.\n",
      "강남 아파트 매매 10억 2010년\n",
      "마포 오피스텔 전세 5억 2007년\n",
      "송파 빌라 월세 500/50 2000년\n"
     ]
    }
   ],
   "source": [
    "class House:\n",
    "    # 매물 초기화 : 위치, 건물 종류, 매물 종류, 가격, 준공년도\n",
    "    def __init__(self, location, house_type, deal_type, price, completion_year):\n",
    "        self.location = location\n",
    "        self.house_type = house_type\n",
    "        self.deal_type = deal_type\n",
    "        self.price = price\n",
    "        self.completion_year = completion_year\n",
    "\n",
    "    # 매물 정보 표시\n",
    "    def show_detail(self):\n",
    "        print(self.location, self.house_type, self.deal_type, \n",
    "        self.price, self.completion_year)\n",
    "\n",
    "\n",
    "houses = []\n",
    "house1 = House(\"강남\", \"아파트\", \"매매\", \"10억\", \"2010년\")\n",
    "house2 = House(\"마포\", \"오피스텔\", \"전세\", \"5억\", \"2007년\")\n",
    "house3 = House(\"송파\", \"빌라\", \"월세\", \"500/50\", \"2000년\")\n",
    "\n",
    "houses.append(house1)\n",
    "houses.append(house2)\n",
    "houses.append(house3)\n",
    "\n",
    "print(\"총 {0}대의 매물이 있습니다.\".format(len(houses)))\n",
    "for house in houses:\n",
    "    house.show_detail()"
   ]
  },
  {
   "cell_type": "markdown",
   "id": "00f99bf6",
   "metadata": {},
   "source": [
    "### -------------------------------------------------------------------------------------------\n",
    "# 9.1 예외처리"
   ]
  },
  {
   "cell_type": "code",
   "execution_count": 58,
   "id": "ca9d49a2",
   "metadata": {},
   "outputs": [
    {
     "name": "stdout",
     "output_type": "stream",
     "text": [
      "나누기 전용 계산기입니다.\n",
      "첫 번째 숫자를 입력하세요 : \n",
      "에러! 잘못된 값을 입력하였습니다.\n"
     ]
    }
   ],
   "source": [
    "try:\n",
    "    print(\"나누기 전용 계산기입니다.\")\n",
    "    num1 = int(input(\"첫 번째 숫자를 입력하세요 : \"))\n",
    "    num2 = int(input(\"두 번째 숫자를 입력하세요 : \"))\n",
    "    print(\"{0} / {1} = {2}\".format(num1, num2, int(num1/num2)))\n",
    "except ValueError:\n",
    "    print(\"에러! 잘못된 값을 입력하였습니다.\")"
   ]
  },
  {
   "cell_type": "code",
   "execution_count": 59,
   "id": "b919d6db",
   "metadata": {},
   "outputs": [
    {
     "name": "stdout",
     "output_type": "stream",
     "text": [
      "나누기 전용 계산기입니다.\n",
      "첫 번째 숫자를 입력하세요 : 6\n",
      "두 번째 숫자를 입력하세요 : 3\n",
      "6 / 3 = 2\n"
     ]
    }
   ],
   "source": [
    "try:\n",
    "    print(\"나누기 전용 계산기입니다.\")\n",
    "    nums = []\n",
    "    nums.append(int(input(\"첫 번째 숫자를 입력하세요 : \")))\n",
    "    nums.append(int(input(\"두 번째 숫자를 입력하세요 : \")))\n",
    "    nums.append(int(nums[0] / nums[1])) # 계산 결과를 리스트에 추가\n",
    "    print(\"{0} / {1} = {2}\".format(nums[0], nums[1], nums[2]))\n",
    "except ValueError:\n",
    "    print(\"에러! 잘못된 값을 입력하였습니다.\")\n",
    "except ZeroDivisionError as err:\n",
    "    print(err)\n",
    "except Exception as err:\n",
    "    print(\"알 수 없는 에러가 발생하였습니다.\")\n",
    "    print(err)"
   ]
  },
  {
   "cell_type": "markdown",
   "id": "72e7631c",
   "metadata": {},
   "source": [
    "# 9.2 에러발생시키기"
   ]
  },
  {
   "cell_type": "markdown",
   "id": "233d5a66",
   "metadata": {},
   "source": [
    "이번에는 의도적으로 에러를 발생시키는 방법을 공부해보겠습니다.\n",
    "\n",
    "실제로 에러 상황이 발생한 것이 아니라도 프로그램이 허용하지 않는 동작을 하려고 할 때 의도적으로 에러를 발생시킬 수 있으며 문법은 다음과 같습니다.\n",
    "\n",
    "raise 에러종류\n",
    " \n",
    "\n",
    "계산기의 종류를 조금 바꿔서 한 자리 숫자에 대해서만 나누기를 할 수 있도록 해보겠습니다. 다만 나눗셈을 하기 전에 사용자로부터 입력받은 값들이 한 자리 숫자가 맞는지 확인하여 조건에 맞지 않을 때는, 즉 10 이상일 때는 의도적으로 ValueError 를 발생시키고 except 를 통해 예외처리를 하도록 하겠습니다."
   ]
  },
  {
   "cell_type": "code",
   "execution_count": 64,
   "id": "ec880c75",
   "metadata": {},
   "outputs": [
    {
     "name": "stdout",
     "output_type": "stream",
     "text": [
      "한 자리 숫자 나누기 전용 계산기입니다.\n",
      "첫 번째 숫자를 입력하세요: 10\n",
      "두 번째 숫자를 입력하세요: 5\n",
      "잘못된 값을 입력하였습니다. 한 자리 숫자만 입력하세요.\n"
     ]
    }
   ],
   "source": [
    "try:\n",
    "    print(\"한 자리 숫자 나누기 전용 계산기입니다.\")\n",
    "    num1 = int(input(\"첫 번째 숫자를 입력하세요: \"))\n",
    "    num2 = int(input(\"두 번째 숫자를 입력하세요: \"))\n",
    "    if num1 >= 10 or num2 >= 10: # 입력받은 수가 한 자리인지 확인\n",
    "        raise ValueError ## 이부분!!\n",
    "    print(\"{0} / {1} = {2}\".format(num1, num2, int(num1 / num2)))\n",
    "except ValueError:\n",
    "    print(\"잘못된 값을 입력하였습니다. 한 자리 숫자만 입력하세요.\")"
   ]
  },
  {
   "cell_type": "markdown",
   "id": "75af7cdc",
   "metadata": {},
   "source": [
    "# 9.3 사용자 정의 예외처리"
   ]
  },
  {
   "cell_type": "code",
   "execution_count": 66,
   "id": "157dfe72",
   "metadata": {},
   "outputs": [],
   "source": [
    "class BigNumberError(Exception):\n",
    "    def __init__(self, msg):\n",
    "        self.msg = msg\n",
    "\n",
    "    def __str__(self):\n",
    "        return \"[에러코드 001] \" + self.msg # 에러 메시지 가공"
   ]
  },
  {
   "cell_type": "code",
   "execution_count": 67,
   "id": "618832bd",
   "metadata": {},
   "outputs": [
    {
     "name": "stdout",
     "output_type": "stream",
     "text": [
      "한 자리 숫자 나누기 전용 계산기입니다.\n",
      "첫 번째 숫자를 입력하세요: 10\n",
      "두 번째 숫자를 입력하세요: 5\n",
      "에러가 발생하였습니다. 한 자리 숫자만 입력하세요.\n",
      "[에러코드 001] 입력값 : 10, 5\n"
     ]
    }
   ],
   "source": [
    "try:\n",
    "    print(\"한 자리 숫자 나누기 전용 계산기입니다.\")\n",
    "    num1 = int(input(\"첫 번째 숫자를 입력하세요: \"))\n",
    "    num2 = int(input(\"두 번째 숫자를 입력하세요: \"))\n",
    "    if num1 >= 10 or num2 >= 10: # 입력받은 수가 한 자리인지 확인\n",
    "        raise BigNumberError(\"입력값 : {0}, {1}\".format(num1, num2)) # 자세한 에러 메시지\n",
    "    print(\"{0} / {1} = {2}\".format(num1, num2, int(num1 / num2)))\n",
    "except ValueError:\n",
    "    print(\"잘못된 값을 입력하였습니다. 한 자리 숫자만 입력하세요.\")\n",
    "except BigNumberError as err:\n",
    "    print(\"에러가 발생하였습니다. 한 자리 숫자만 입력하세요.\")\n",
    "    print(err) # 에러 메시지 출력"
   ]
  },
  {
   "cell_type": "markdown",
   "id": "5ca1487b",
   "metadata": {},
   "source": [
    "# 9.4 finally"
   ]
  },
  {
   "attachments": {
    "1.PNG": {
     "image/png": "[encoded data removed]"
    }
   },
   "cell_type": "markdown",
   "id": "e2987462",
   "metadata": {},
   "source": [
    "옷 가게에서 마음에 드는 옷을 사고 매장을 나서면 매장 직원은 친절하게 감사하다는 인사를 전합니다. 하지만 때로는 마음에 든다고 생각했던 옷을 피팅룸에서 막상 입어보니 잘 어울리지 않는 경우도 있지요. 이런 경우 옷을 하나도 구매하지 않고 매장을 나서게 되지만 그래도 매장 직원은 친절하게 감사하다는 인사를 전합니다. 옷을 사도, 사지 않아도 늘 친절하게 감사하다고 하니 그 친절이 고마워서라도 왠지 다음 번 매장을 방문할때는 꼭 옷을 하나 사야지 하는 마음이 생기곤 합니다.\n",
    "\n",
    " \n",
    "\n",
    "try 구문을 사용할 때 finally 라는 게 있습니다. finally 는 try 구문 내에서 에러가 발생하건 말건 try 를 벗어나는 시점에 무조건 실행되는 구문입니다. finally 는 try 와 except 로 이루어진 구문의 맨 밑에 정의합니다.\n",
    "\n",
    "![1.PNG](attachment:1.PNG)\n",
    "\n",
    " \n",
    "\n",
    "앞에서 만든 계산기 프로그램의 맨 밑에 finally 구문을 추가하도록 하겠습니다. 계산기를 이용해준 모든 분들께 감사하다는 인사 메시지를 출력하도록 합니다."
   ]
  },
  {
   "cell_type": "code",
   "execution_count": 71,
   "id": "282cf56c",
   "metadata": {},
   "outputs": [
    {
     "name": "stdout",
     "output_type": "stream",
     "text": [
      "한 자리 숫자 나누기 전용 계산기입니다.\n",
      "첫 번째 숫자를 입력하세요: 10\n",
      "두 번째 숫자를 입력하세요: 5\n",
      "에러가 발생하였습니다. 한 자리 숫자만 입력하세요.\n",
      "입력값 : 10, 5\n",
      "계산기를 이용해 주셔서 감사합니다.\n"
     ]
    }
   ],
   "source": [
    "class BigNumberError(Exception):\n",
    "    def __init__(self, msg):\n",
    "        self.msg = msg\n",
    "\n",
    "    def __str__(self):\n",
    "        return self.msg\n",
    "\n",
    "try:\n",
    "    print(\"한 자리 숫자 나누기 전용 계산기입니다.\")\n",
    "    num1 = int(input(\"첫 번째 숫자를 입력하세요: \"))\n",
    "    num2 = int(input(\"두 번째 숫자를 입력하세요: \"))\n",
    "    if num1 >= 10 or num2 >= 10:\n",
    "        raise BigNumberError(\"입력값 : {0}, {1}\".format(num1, num2))\n",
    "    print(\"{0} / {1} = {2}\".format(num1, num2, int(num1 / num2)))\n",
    "except ValueError:\n",
    "    print(\"잘못된 값을 입력하였습니다. 한 자리 숫자만 입력하세요.\")\n",
    "except BigNumberError as err:\n",
    "    print(\"에러가 발생하였습니다. 한 자리 숫자만 입력하세요.\")\n",
    "    print(err)\n",
    "finally: # 에러 발생 여부 상관 없이 항상 실행\n",
    "    print(\"계산기를 이용해 주셔서 감사합니다.\")"
   ]
  },
  {
   "cell_type": "code",
   "execution_count": null,
   "id": "bf1b1285",
   "metadata": {},
   "outputs": [],
   "source": []
  }
 ],
 "metadata": {
  "kernelspec": {
   "display_name": "Python 3",
   "language": "python",
   "name": "python3"
  },
  "language_info": {
   "codemirror_mode": {
    "name": "ipython",
    "version": 3
   },
   "file_extension": ".py",
   "mimetype": "text/x-python",
   "name": "python",
   "nbconvert_exporter": "python",
   "pygments_lexer": "ipython3",
   "version": "3.8.8"
  }
 },
 "nbformat": 4,
 "nbformat_minor": 5
}
