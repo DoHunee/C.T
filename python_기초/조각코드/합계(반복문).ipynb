{
 "cells": [
  {
   "cell_type": "code",
   "execution_count": 5,
   "id": "de8547e7",
   "metadata": {},
   "outputs": [
    {
     "name": "stdout",
     "output_type": "stream",
     "text": [
      "0 : for문을 공부하는중입니다\n",
      "1 : for문을 공부하는중입니다\n",
      "2 : for문을 공부하는중입니다\n"
     ]
    }
   ],
   "source": [
    "#range(a,b,c)\n",
    "#a에서 b-1만큼 c씩 증가\n",
    "for i in range(0,3,1):\n",
    "    print(\"%d : for문을 공부하는중입니다\"%i)\n",
    "    "
   ]
  },
  {
   "cell_type": "code",
   "execution_count": 6,
   "id": "22bb4c7c",
   "metadata": {},
   "outputs": [
    {
     "name": "stdout",
     "output_type": "stream",
     "text": [
      "2 : for문을 공부하는중입니다\n",
      "1 : for문을 공부하는중입니다\n",
      "0 : for문을 공부하는중입니다\n"
     ]
    }
   ],
   "source": [
    "#range(a,b,c)\n",
    "#a에서 b-1만큼 c씩 증가\n",
    "for i in range(2,-1,-1):\n",
    "    print(\"%d : for문을 공부하는중입니다\"%i)\n",
    "    "
   ]
  },
  {
   "cell_type": "code",
   "execution_count": 7,
   "id": "0caf0b0b",
   "metadata": {},
   "outputs": [
    {
     "name": "stdout",
     "output_type": "stream",
     "text": [
      "파이썬은 꿀잼입니다 (i값:0, k값:0)\n",
      "파이썬은 꿀잼입니다 (i값:0, k값:1)\n",
      "파이썬은 꿀잼입니다 (i값:1, k값:0)\n",
      "파이썬은 꿀잼입니다 (i값:1, k값:1)\n",
      "파이썬은 꿀잼입니다 (i값:2, k값:0)\n",
      "파이썬은 꿀잼입니다 (i값:2, k값:1)\n"
     ]
    }
   ],
   "source": [
    "for i in range(0,3,1):\n",
    "    for k in range(0,2,1):\n",
    "        print(\"파이썬은 꿀잼입니다 (i값:%d, k값:%d)\"%(i,k))\n"
   ]
  },
  {
   "cell_type": "markdown",
   "id": "166f41bb",
   "metadata": {},
   "source": [
    "## for 문을 활용한 합계 구하기\n",
    "## 전형적인 컴공문제\n"
   ]
  },
  {
   "cell_type": "markdown",
   "id": "66480e83",
   "metadata": {},
   "source": [
    "## n부터 m까지 합계"
   ]
  },
  {
   "cell_type": "code",
   "execution_count": 1,
   "id": "ef73dc5b",
   "metadata": {},
   "outputs": [
    {
     "name": "stdout",
     "output_type": "stream",
     "text": [
      "1에서 10까지의 합계 : 55\n"
     ]
    }
   ],
   "source": [
    "## for 버전\n",
    "i,hap=0,0\n",
    "\n",
    "\n",
    "for i in range(1,11,1):\n",
    "    hap = hap+i\n",
    "\n",
    "print(\"1에서 10까지의 합계 : %d\"%hap)    "
   ]
  },
  {
   "cell_type": "code",
   "execution_count": 6,
   "id": "04cbf456",
   "metadata": {},
   "outputs": [
    {
     "name": "stdout",
     "output_type": "stream",
     "text": [
      "1에서 10까지의 합계 : 55\n"
     ]
    }
   ],
   "source": [
    "#1에서 10까지의 합 while.ver\n",
    "i,hap=0,0\n",
    "\n",
    "i=1\n",
    "while i <11:\n",
    "    hap = hap+i\n",
    "    i=i+1\n",
    "\n",
    "print(\"1에서 10까지의 합계 : %d\"%hap)    "
   ]
  },
  {
   "cell_type": "markdown",
   "id": "4223e8e3",
   "metadata": {},
   "source": [
    "## n부터 m까지 홀수의 합계"
   ]
  },
  {
   "cell_type": "code",
   "execution_count": 2,
   "id": "116a9d88",
   "metadata": {},
   "outputs": [
    {
     "name": "stdout",
     "output_type": "stream",
     "text": [
      "500에서 1000사이에 있는 홀수의 합계 : 187500\n"
     ]
    }
   ],
   "source": [
    "i,hap=0,0\n",
    "\n",
    "\n",
    "for i in range(501,1001,2):\n",
    "    hap = hap+i\n",
    "\n",
    "print(\"500에서 1000사이에 있는 홀수의 합계 : %d\"%hap)    "
   ]
  },
  {
   "cell_type": "markdown",
   "id": "657d2e6b",
   "metadata": {},
   "source": [
    "## n부터 m까지 배수의 합계"
   ]
  },
  {
   "cell_type": "code",
   "execution_count": 3,
   "id": "bbe4f62b",
   "metadata": {},
   "outputs": [
    {
     "name": "stdout",
     "output_type": "stream",
     "text": [
      "0에서 100사이에 있는 7의 배수 합계 : 735\n"
     ]
    }
   ],
   "source": [
    "i,hap=0,0\n",
    "\n",
    "\n",
    "for i in range(7,101,7):\n",
    "    hap = hap+i\n",
    "\n",
    "print(\"0에서 100사이에 있는 7의 배수 합계 : %d\"%hap)    "
   ]
  },
  {
   "cell_type": "code",
   "execution_count": 4,
   "id": "7a76cbeb",
   "metadata": {},
   "outputs": [
    {
     "name": "stdout",
     "output_type": "stream",
     "text": [
      "값을 입력하시오:15\n",
      "1에서 15까지의 합계 : 120\n"
     ]
    }
   ],
   "source": [
    "i,hap=0,0\n",
    "num=0\n",
    "\n",
    "num = int(input(\"값을 입력하시오:\"))\n",
    "\n",
    "for i in range(1,num+1,1):\n",
    "    hap = hap+i\n",
    "\n",
    "print(\"1에서 %d까지의 합계 : %d\"%(num,hap))    "
   ]
  },
  {
   "cell_type": "markdown",
   "id": "bb8df227",
   "metadata": {},
   "source": [
    "## 등차수열의 합"
   ]
  },
  {
   "cell_type": "code",
   "execution_count": 3,
   "id": "cf68dd1e",
   "metadata": {},
   "outputs": [
    {
     "name": "stdout",
     "output_type": "stream",
     "text": [
      "시작값을 입력하시오:2\n",
      "끝값을 입력하시오:54\n",
      "증가값을 입력하시오:4\n",
      "2에서 54까지 4씩 증가시킨 값의 합계 : 392\n"
     ]
    }
   ],
   "source": [
    "#for.ver\n",
    "i,hap=0,0\n",
    "num1,num2,num3 =0,0,0\n",
    "\n",
    "num1 = int(input(\"시작값을 입력하시오:\"))\n",
    "num2 = int(input(\"끝값을 입력하시오:\"))\n",
    "num3 = int(input(\"증가값을 입력하시오:\"))\n",
    "\n",
    "for i in range(num1,num2+1,num3):\n",
    "    hap = hap+i\n",
    "\n",
    "print(\"%d에서 %d까지 %d씩 증가시킨 값의 합계 : %d\"%(num1,num2,num3,hap))    "
   ]
  },
  {
   "cell_type": "code",
   "execution_count": 2,
   "id": "49f267d7",
   "metadata": {},
   "outputs": [
    {
     "name": "stdout",
     "output_type": "stream",
     "text": [
      "시작값을 입력하시오:2\n",
      "끝값을 입력하시오:54\n",
      "증가값을 입력하시오:4\n",
      "2에서 54까지 4씩 증가시킨 값의 합계 : 392\n"
     ]
    }
   ],
   "source": [
    "#while.ver\n",
    "i,hap=0,0\n",
    "num1,num2,num3 =0,0,0\n",
    "\n",
    "num1 = int(input(\"시작값을 입력하시오:\"))\n",
    "num2 = int(input(\"끝값을 입력하시오:\"))\n",
    "num3 = int(input(\"증가값을 입력하시오:\"))\n",
    "\n",
    "i=num1\n",
    "while i <num2+1:\n",
    "    hap = hap+i\n",
    "    i=i+num3\n",
    "\n",
    "print(\"%d에서 %d까지 %d씩 증가시킨 값의 합계 : %d\"%(num1,num2,num3,hap))    "
   ]
  },
  {
   "cell_type": "code",
   "execution_count": 10,
   "id": "df524e9d",
   "metadata": {},
   "outputs": [
    {
     "name": "stdout",
     "output_type": "stream",
     "text": [
      "첫번째 수를 입력하세요:1\n",
      "두번째 수를 입력하세요:8\n",
      "1 + 8 = 9\n",
      "첫번째 수를 입력하세요:0\n",
      "0을 입력히여 반목문을 탈출\n"
     ]
    }
   ],
   "source": [
    "#무한 루프를 사용해 입력한 두 숫자의 합계를 반복해서 계산\n",
    "hap =0\n",
    "a,b=0,0\n",
    "\n",
    "while True:\n",
    "    a = int(input(\"첫번째 수를 입력하세요:\"))\n",
    "    if a==0:\n",
    "        break\n",
    "    b = int(input(\"두번째 수를 입력하세요:\"))\n",
    "    hap = a+b\n",
    "    print(\"%d + %d = %d\" %(a,b,hap))\n",
    "    \n",
    "print(\"0을 입력히여 반목문을 탈출\")\n",
    "        "
   ]
  },
  {
   "cell_type": "markdown",
   "id": "88840c58",
   "metadata": {},
   "source": [
    "## 사용자가 ctrl + C 를 누를떄까지 덧셈 뺼셈 곱셈 나눗셈 계산"
   ]
  },
  {
   "cell_type": "code",
   "execution_count": 1,
   "id": "e7892857",
   "metadata": {},
   "outputs": [
    {
     "name": "stdout",
     "output_type": "stream",
     "text": [
      "첫번째 수를 입력하세요:1\n",
      "두번째 수를 입력하세요:4\n",
      "계산할 연산자를 입력하세요:+\n",
      "1 + 4 = 5\n",
      "첫번째 수를 입력하세요:4\n",
      "두번째 수를 입력하세요:5\n",
      "계산할 연산자를 입력하세요:-\n",
      "4 - 5 = -1\n",
      "첫번째 수를 입력하세요:\n"
     ]
    },
    {
     "ename": "ValueError",
     "evalue": "invalid literal for int() with base 10: ''",
     "output_type": "error",
     "traceback": [
      "\u001b[1;31m---------------------------------------------------------------------------\u001b[0m",
      "\u001b[1;31mValueError\u001b[0m                                Traceback (most recent call last)",
      "\u001b[1;32m<ipython-input-1-f8f123c49b10>\u001b[0m in \u001b[0;36m<module>\u001b[1;34m\u001b[0m\n\u001b[0;32m      4\u001b[0m \u001b[1;33m\u001b[0m\u001b[0m\n\u001b[0;32m      5\u001b[0m \u001b[1;32mwhile\u001b[0m \u001b[1;32mTrue\u001b[0m\u001b[1;33m:\u001b[0m\u001b[1;33m\u001b[0m\u001b[1;33m\u001b[0m\u001b[0m\n\u001b[1;32m----> 6\u001b[1;33m     \u001b[0ma\u001b[0m \u001b[1;33m=\u001b[0m \u001b[0mint\u001b[0m\u001b[1;33m(\u001b[0m\u001b[0minput\u001b[0m\u001b[1;33m(\u001b[0m\u001b[1;34m\"첫번째 수를 입력하세요:\"\u001b[0m\u001b[1;33m)\u001b[0m\u001b[1;33m)\u001b[0m\u001b[1;33m\u001b[0m\u001b[1;33m\u001b[0m\u001b[0m\n\u001b[0m\u001b[0;32m      7\u001b[0m     \u001b[0mb\u001b[0m \u001b[1;33m=\u001b[0m \u001b[0mint\u001b[0m\u001b[1;33m(\u001b[0m\u001b[0minput\u001b[0m\u001b[1;33m(\u001b[0m\u001b[1;34m\"두번째 수를 입력하세요:\"\u001b[0m\u001b[1;33m)\u001b[0m\u001b[1;33m)\u001b[0m\u001b[1;33m\u001b[0m\u001b[1;33m\u001b[0m\u001b[0m\n\u001b[0;32m      8\u001b[0m     \u001b[0mch\u001b[0m \u001b[1;33m=\u001b[0m \u001b[0minput\u001b[0m\u001b[1;33m(\u001b[0m\u001b[1;34m\"계산할 연산자를 입력하세요:\"\u001b[0m\u001b[1;33m)\u001b[0m\u001b[1;33m\u001b[0m\u001b[1;33m\u001b[0m\u001b[0m\n",
      "\u001b[1;31mValueError\u001b[0m: invalid literal for int() with base 10: ''"
     ]
    }
   ],
   "source": [
    "#사용자가 ctrl + C 를 누를떄까지 덧셈 뺼셈 곱셈 나눗셈 계산\n",
    "ch =\"\"\n",
    "a,b=0,0\n",
    "\n",
    "while True:\n",
    "    a = int(input(\"첫번째 수를 입력하세요:\"))\n",
    "    b = int(input(\"두번째 수를 입력하세요:\"))\n",
    "    ch = input(\"계산할 연산자를 입력하세요:\")\n",
    "    \n",
    "    if(ch == \"+\"):\n",
    "        print(\"%d + %d = %d\"%(a,b,a+b))\n",
    "    elif(ch == \"-\"):\n",
    "        print(\"%d - %d = %d\"%(a,b,a-b))\n",
    "    elif(ch == \"*\"):\n",
    "        print(\"%d * %d = %d\"%(a,b,a*b))\n",
    "    elif(ch == \"/\"):\n",
    "        print(\"%d / %d = %5.2f\"%(a,b,a/b))\n",
    "    elif(ch == \"%\"):\n",
    "        print(\"%d % %d = %d\"%(a,b,a%b))\n",
    "    elif(ch == \"//\"):\n",
    "        print(\"%d // %d = %d\"%(a,b,a//b))\n",
    "    elif(ch == \"**\"):\n",
    "        print(\"%d ** %d = %d\"%(a,b,a**b))\n",
    "    else:\n",
    "        print(\"연산자를 잘못 입력했습니다\")\n",
    "        \n",
    "    "
   ]
  },
  {
   "cell_type": "markdown",
   "id": "679ecb61",
   "metadata": {},
   "source": [
    "## $를 입력하면 while break"
   ]
  },
  {
   "cell_type": "code",
   "execution_count": 11,
   "id": "735537c6",
   "metadata": {},
   "outputs": [
    {
     "name": "stdout",
     "output_type": "stream",
     "text": [
      "첫번째 수를 입력하세요:1\n",
      "두번째 수를 입력하세요:5\n",
      "1 + 5 = 6\n",
      "첫번째 수를 입력하세요:&\n",
      "두번째 수를 입력하세요:&\n",
      "문자열을 입력히여 반목문을 탈출\n"
     ]
    }
   ],
   "source": [
    "#무한 루프를 사용해 입력한 두 숫자의 합계를 반복해서 계산\n",
    "#a.isdecimal() 사용\n",
    "\n",
    "hap =0\n",
    "a,b=0,0\n",
    "\n",
    "while True:\n",
    "    a = input(\"첫번째 수를 입력하세요:\")\n",
    "    b = input(\"두번째 수를 입력하세요:\")\n",
    "    \n",
    "    if a.isdecimal() and b.isdecimal():\n",
    "        hap = int(a)+int(b)\n",
    "        print(\"%d + %d = %d\" %(int(a),int(b),hap))\n",
    "    \n",
    "    else:\n",
    "        break\n",
    "        \n",
    "print(\"문자열을 입력히여 반목문을 탈출\")\n",
    "        "
   ]
  },
  {
   "cell_type": "markdown",
   "id": "b6540975",
   "metadata": {},
   "source": [
    "## self study 6-7 : hap이 1000이상이 되는 지점\n",
    "## for >> while"
   ]
  },
  {
   "cell_type": "code",
   "execution_count": 12,
   "id": "5c90204c",
   "metadata": {},
   "outputs": [
    {
     "name": "stdout",
     "output_type": "stream",
     "text": [
      "1에서 100까지의 합계를 최초로 1000이 넘게하는 숫자 : 45\n"
     ]
    }
   ],
   "source": [
    "##누계 합계(hap)가 1000 이상이 되는 시작 지점 알기\n",
    "i,hap=0,0\n",
    "\n",
    "\n",
    "for i in range(1,101):\n",
    "    hap += i\n",
    "    #print(hap)\n",
    "    \n",
    "    if hap >=1000:\n",
    "        break\n",
    "\n",
    "print(\"1에서 100까지의 합계를 최초로 1000이 넘게하는 숫자 : %d\"%i)    "
   ]
  },
  {
   "cell_type": "code",
   "execution_count": 13,
   "id": "32c41dfb",
   "metadata": {},
   "outputs": [
    {
     "name": "stdout",
     "output_type": "stream",
     "text": [
      "1에서 100까지의 합계를 최초로 1000이 넘게하는 숫자 : 45\n"
     ]
    }
   ],
   "source": [
    "##누계 합계(hap)가 1000 이상이 되는 시작 지점 알기\n",
    "i,hap=0,0\n",
    "\n",
    "\n",
    "i=1\n",
    "while i <101:\n",
    "    hap=hap+i\n",
    "    i=i+1\n",
    "    #print(hap)\n",
    "    \n",
    "    if hap >=1000:\n",
    "        break\n",
    "\n",
    "print(\"1에서 100까지의 합계를 최초로 1000이 넘게하는 숫자 : %d\"%(i-1))   "
   ]
  },
  {
   "cell_type": "markdown",
   "id": "540c8985",
   "metadata": {},
   "source": [
    "## n배수 제외 숫자 합계"
   ]
  },
  {
   "cell_type": "code",
   "execution_count": 14,
   "id": "33523848",
   "metadata": {},
   "outputs": [
    {
     "name": "stdout",
     "output_type": "stream",
     "text": [
      "1에서 100까지의 합계(3의 배수 제외): 3367\n"
     ]
    }
   ],
   "source": [
    "#continue는 아래문장을 실행하지 않아!\n",
    "\n",
    "i,hap=0,0\n",
    "\n",
    "\n",
    "for i in range(1,101):\n",
    "    if i%3 ==0:\n",
    "        continue\n",
    "    \n",
    "    hap += i\n",
    "    \n",
    "print(\"1에서 100까지의 합계(3의 배수 제외): %d\"%hap)    "
   ]
  },
  {
   "cell_type": "markdown",
   "id": "c90f1011",
   "metadata": {},
   "source": [
    "# 변길이:30이하 피타고라스 삼각형"
   ]
  },
  {
   "cell_type": "code",
   "execution_count": 19,
   "id": "7821d214",
   "metadata": {},
   "outputs": [
    {
     "name": "stdout",
     "output_type": "stream",
     "text": [
      "3 4 5\n",
      "4 3 5\n",
      "5 12 13\n",
      "6 8 10\n",
      "7 24 25\n",
      "8 6 10\n",
      "8 15 17\n",
      "9 12 15\n",
      "10 24 26\n",
      "12 5 13\n",
      "12 9 15\n",
      "12 16 20\n",
      "15 8 17\n",
      "15 20 25\n",
      "16 12 20\n",
      "20 15 25\n",
      "20 21 29\n",
      "21 20 29\n",
      "24 7 25\n",
      "24 10 26\n"
     ]
    }
   ],
   "source": [
    "import math\n",
    "\n",
    "\n",
    "for a in range(1,30):\n",
    "    for b in range(1,30):\n",
    "        for c in range(1,30):\n",
    "            if ((a**2)+(b**2))==(c**2):\n",
    "                print(a,b,c)\n",
    "        "
   ]
  },
  {
   "cell_type": "code",
   "execution_count": 1,
   "id": "522ac3d6",
   "metadata": {},
   "outputs": [
    {
     "name": "stdout",
     "output_type": "stream",
     "text": [
      "[(3, 4, 5), (5, 12, 13), (6, 8, 10), (7, 24, 25), (8, 15, 17), (9, 12, 15), (10, 24, 26), (12, 16, 20), (15, 20, 25), (20, 21, 29)]\n"
     ]
    }
   ],
   "source": [
    "new_list = []\n",
    "for x in range(1, 30):\n",
    "\tfor y in range(x, 30):\n",
    "\t\tfor z in range(y, 30):\n",
    "\t\t    if x**2+y**2==z**2:\n",
    "\t\t        new_list.append((x, y, z))\n",
    "print(new_list)"
   ]
  },
  {
   "attachments": {
    "2.PNG": {
     "image/png": "[encoded data removed]"
    }
   },
   "cell_type": "markdown",
   "id": "5f2b6a4f",
   "metadata": {},
   "source": [
    "![2.PNG](attachment:2.PNG)"
   ]
  },
  {
   "cell_type": "code",
   "execution_count": 2,
   "id": "49a59887",
   "metadata": {},
   "outputs": [
    {
     "name": "stdout",
     "output_type": "stream",
     "text": [
      "15\n",
      "[4, 8, 9, 16, 25, 27, 32, 64, 81, 125, 243, 256, 625, 1024, 3125]\n"
     ]
    }
   ],
   "source": [
    "a=[]\n",
    "\n",
    "for i in range(2,6):\n",
    "    for k in range(2,6):\n",
    "        num=i**k\n",
    "        if not num in a:\n",
    "            a.append(num)\n",
    "\n",
    "a.sort()\n",
    "print(len(a))\n",
    "print(a)"
   ]
  },
  {
   "cell_type": "code",
   "execution_count": null,
   "id": "9da76d95",
   "metadata": {},
   "outputs": [],
   "source": []
  }
 ],
 "metadata": {
  "kernelspec": {
   "display_name": "Python 3",
   "language": "python",
   "name": "python3"
  },
  "language_info": {
   "codemirror_mode": {
    "name": "ipython",
    "version": 3
   },
   "file_extension": ".py",
   "mimetype": "text/x-python",
   "name": "python",
   "nbconvert_exporter": "python",
   "pygments_lexer": "ipython3",
   "version": "3.8.8"
  }
 },
 "nbformat": 4,
 "nbformat_minor": 5
}
