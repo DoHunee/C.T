{
 "cells": [
  {
   "cell_type": "code",
   "execution_count": 1,
   "id": "19021165",
   "metadata": {},
   "outputs": [
    {
     "data": {
      "text/plain": [
       "100"
      ]
     },
     "execution_count": 1,
     "metadata": {},
     "output_type": "execute_result"
    }
   ],
   "source": [
    "#반복을 이용한 리스트 생성\n",
    "aa=[]\n",
    "for i in range(0,100):\n",
    "    aa.append(0)\n",
    "len(aa)"
   ]
  },
  {
   "cell_type": "markdown",
   "id": "5ee52afa",
   "metadata": {},
   "source": [
    "## aa[]에 2의 배수를 100개\n",
    "## bb[]는 aa[]리스트의 역순"
   ]
  },
  {
   "cell_type": "code",
   "execution_count": 7,
   "id": "8a9d801d",
   "metadata": {},
   "outputs": [
    {
     "name": "stdout",
     "output_type": "stream",
     "text": [
      "bb[0]에는 198이 , bb[99]에는 0이 입력됩니다\n"
     ]
    }
   ],
   "source": [
    "aa = []\n",
    "bb = []\n",
    "value = 0\n",
    "\n",
    "for i in range(0,100):  #100개\n",
    "    aa.append(value)\n",
    "    value +=2  #2의 배수\n",
    "    \n",
    "for i in range(0,100):\n",
    "    bb.append(aa[99-i])\n",
    "    \n",
    "print(\"bb[0]에는 %d이 , bb[99]에는 %d이 입력됩니다\"%(bb[0],bb[99]))"
   ]
  },
  {
   "cell_type": "markdown",
   "id": "0e71cb35",
   "metadata": {},
   "source": [
    "## aa[]에 3의 배수를 200개\n",
    "## bb[]는 aa[]리스트의 역순"
   ]
  },
  {
   "cell_type": "code",
   "execution_count": 6,
   "id": "8f3c5a2d",
   "metadata": {},
   "outputs": [
    {
     "name": "stdout",
     "output_type": "stream",
     "text": [
      "bb[0]에는 597이 , bb[199]에는 0이 입력됩니다\n"
     ]
    }
   ],
   "source": [
    "aa = []\n",
    "bb = []\n",
    "value = 0\n",
    "\n",
    "for i in range(0,200): #200개\n",
    "    aa.append(value)\n",
    "    value +=3  #3의 배수\n",
    "    \n",
    "for i in range(0,200):\n",
    "    bb.append(aa[199-i])\n",
    "    \n",
    "print(\"bb[0]에는 %d이 , bb[199]에는 %d이 입력됩니다\"%(bb[0],bb[199]))"
   ]
  },
  {
   "cell_type": "markdown",
   "id": "65bf1255",
   "metadata": {},
   "source": [
    "## 리스트 메소드 함수\n",
    "## 리스트 접근"
   ]
  },
  {
   "cell_type": "code",
   "execution_count": 8,
   "id": "856d9aad",
   "metadata": {},
   "outputs": [
    {
     "name": "stdout",
     "output_type": "stream",
     "text": [
      "aa[-1]은 40,aa[-2]는 30\n"
     ]
    }
   ],
   "source": [
    "aa=[10,20,30,40]\n",
    "#  0   1   2   3\n",
    "#  -4  -3 -2 -4\n",
    "#리스트 음수로도 접근 가능    \n",
    "\n",
    "print(\"aa[-1]은 %d,aa[-2]는 %d\"%(aa[-1],aa[-2]))"
   ]
  },
  {
   "cell_type": "code",
   "execution_count": 9,
   "id": "31cf9b80",
   "metadata": {},
   "outputs": [
    {
     "name": "stdout",
     "output_type": "stream",
     "text": [
      "[10, 20, 30]\n",
      "[30, 40]\n",
      "[30, 40]\n",
      "[10, 20]\n"
     ]
    }
   ],
   "source": [
    "print(\"%s\"%aa[0:3])\n",
    "print(\"%s\"%aa[2:4])\n",
    "print(\"%s\"%aa[2:])\n",
    "print(\"%s\"%aa[:2])"
   ]
  },
  {
   "cell_type": "code",
   "execution_count": 13,
   "id": "ef687bb4",
   "metadata": {},
   "outputs": [
    {
     "data": {
      "text/plain": [
       "array([ 400, 1000, 1800])"
      ]
     },
     "execution_count": 13,
     "metadata": {},
     "output_type": "execute_result"
    }
   ],
   "source": [
    "import numpy as np\n",
    "a = np.array([10,20,30])\n",
    "b = np.array([40,50,60])\n",
    "a * b\n"
   ]
  },
  {
   "cell_type": "code",
   "execution_count": 14,
   "id": "473ed160",
   "metadata": {},
   "outputs": [
    {
     "name": "stdout",
     "output_type": "stream",
     "text": [
      "[10, 30, 50, 70]\n",
      "[70, 50, 30, 10]\n",
      "[70, 60, 50, 40, 30, 20, 10]\n",
      "[10, 20, 30, 40, 50, 60, 70]\n"
     ]
    }
   ],
   "source": [
    "aaa=[10,20,30,40,50,60,70]\n",
    "print(\"%s\"%aaa[::2])\n",
    "print(\"%s\"%aaa[::-2])\n",
    "print(\"%s\"%aaa[::-1])\n",
    "print(\"%s\"%aaa[::])"
   ]
  },
  {
   "cell_type": "markdown",
   "id": "4de0cc3b",
   "metadata": {},
   "source": [
    "## 리스트 값 변경"
   ]
  },
  {
   "cell_type": "code",
   "execution_count": 15,
   "id": "fd85349e",
   "metadata": {},
   "outputs": [
    {
     "data": {
      "text/plain": [
       "[10, 200, 30, 40]"
      ]
     },
     "execution_count": 15,
     "metadata": {},
     "output_type": "execute_result"
    }
   ],
   "source": [
    "aa=[10,20,30,40]\n",
    "aa[1]=200\n",
    "aa"
   ]
  },
  {
   "cell_type": "code",
   "execution_count": 16,
   "id": "323b9e07",
   "metadata": {},
   "outputs": [
    {
     "data": {
      "text/plain": [
       "[10, 200, 201, 30, 40]"
      ]
     },
     "execution_count": 16,
     "metadata": {},
     "output_type": "execute_result"
    }
   ],
   "source": [
    "aa=[10,20,30,40]\n",
    "aa[1:2]=[200,201]\n",
    "aa\n",
    "##20 하나를 200 201로 바꾸어라라는 뜩\n",
    "#리스트의 한 칸이 늘어난다"
   ]
  },
  {
   "cell_type": "code",
   "execution_count": 17,
   "id": "831999d7",
   "metadata": {},
   "outputs": [
    {
     "data": {
      "text/plain": [
       "[10, 200, 201, 40]"
      ]
     },
     "execution_count": 17,
     "metadata": {},
     "output_type": "execute_result"
    }
   ],
   "source": [
    "aa=[10,20,30,40]\n",
    "aa[1:3]=[200,201]\n",
    "aa\n",
    "##20과 30 두개를 200과 201로 바꾸어라\n",
    "## >> 이래서 리스트 교체시 범위 설정을 잘해줘야한다"
   ]
  },
  {
   "cell_type": "code",
   "execution_count": 18,
   "id": "5c8683be",
   "metadata": {},
   "outputs": [
    {
     "data": {
      "text/plain": [
       "[10, [200, 201], 30, 40]"
      ]
     },
     "execution_count": 18,
     "metadata": {},
     "output_type": "execute_result"
    }
   ],
   "source": [
    "aa=[10,20,30,40]\n",
    "aa[1]=[200,201]\n",
    "aa\n",
    "#리스트형으로 바꾸고 싶다면 인덱스 하나를 지정해서 바꿔준다"
   ]
  },
  {
   "cell_type": "markdown",
   "id": "cb1e7384",
   "metadata": {},
   "source": [
    "## 리스트 삭제"
   ]
  },
  {
   "cell_type": "code",
   "execution_count": 19,
   "id": "91d4ee38",
   "metadata": {},
   "outputs": [
    {
     "data": {
      "text/plain": [
       "[10, 30, 40]"
      ]
     },
     "execution_count": 19,
     "metadata": {},
     "output_type": "execute_result"
    }
   ],
   "source": [
    "aa=[10,20,30,40]\n",
    "del(aa[1])\n",
    "aa"
   ]
  },
  {
   "cell_type": "code",
   "execution_count": 20,
   "id": "0614892b",
   "metadata": {},
   "outputs": [
    {
     "data": {
      "text/plain": [
       "[10, 50]"
      ]
     },
     "execution_count": 20,
     "metadata": {},
     "output_type": "execute_result"
    }
   ],
   "source": [
    "aa=[10,20,30,40,50]\n",
    "aa[1:4] = []\n",
    "aa "
   ]
  },
  {
   "cell_type": "code",
   "execution_count": 21,
   "id": "c8a749ac",
   "metadata": {},
   "outputs": [
    {
     "data": {
      "text/plain": [
       "[]"
      ]
     },
     "execution_count": 21,
     "metadata": {},
     "output_type": "execute_result"
    }
   ],
   "source": [
    "aa=[]\n",
    "aa\n",
    "#리스트의 값이 없다"
   ]
  },
  {
   "cell_type": "code",
   "execution_count": 22,
   "id": "d7fe0cf9",
   "metadata": {},
   "outputs": [],
   "source": [
    "aa=None\n",
    "aa\n",
    "## aa라는 리스트(메모리)가 할당은 되어있지만 값이 없다\n"
   ]
  },
  {
   "cell_type": "code",
   "execution_count": 23,
   "id": "0c2feb8e",
   "metadata": {},
   "outputs": [
    {
     "ename": "NameError",
     "evalue": "name 'aa' is not defined",
     "output_type": "error",
     "traceback": [
      "\u001b[1;31m---------------------------------------------------------------------------\u001b[0m",
      "\u001b[1;31mNameError\u001b[0m                                 Traceback (most recent call last)",
      "\u001b[1;32m<ipython-input-23-9686849da6da>\u001b[0m in \u001b[0;36m<module>\u001b[1;34m\u001b[0m\n\u001b[0;32m      1\u001b[0m \u001b[1;32mdel\u001b[0m\u001b[1;33m(\u001b[0m\u001b[0maa\u001b[0m\u001b[1;33m)\u001b[0m\u001b[1;33m\u001b[0m\u001b[1;33m\u001b[0m\u001b[0m\n\u001b[1;32m----> 2\u001b[1;33m \u001b[0maa\u001b[0m\u001b[1;33m\u001b[0m\u001b[1;33m\u001b[0m\u001b[0m\n\u001b[0m\u001b[0;32m      3\u001b[0m \u001b[1;31m##aa라고하는 메모리를 지웠기 떄문에 오류가 뜬다\u001b[0m\u001b[1;33m\u001b[0m\u001b[1;33m\u001b[0m\u001b[1;33m\u001b[0m\u001b[0m\n",
      "\u001b[1;31mNameError\u001b[0m: name 'aa' is not defined"
     ]
    }
   ],
   "source": [
    "del(aa)\n",
    "aa\n",
    "##aa라고하는 메모리를 지웠기 떄문에 오류가 뜬다"
   ]
  },
  {
   "cell_type": "markdown",
   "id": "391d683f",
   "metadata": {},
   "source": [
    "### 리스트 조작 메소드 함수 기본적인것만 알기"
   ]
  },
  {
   "cell_type": "code",
   "execution_count": 1,
   "id": "55427f9e",
   "metadata": {},
   "outputs": [
    {
     "name": "stdout",
     "output_type": "stream",
     "text": [
      "1.리스트:[30, 20, 10]\n",
      "2.append(40)후의 리스트:[30, 20, 10, 40]\n",
      "2.리스트에서 pop()으로 추출한 값:40\n",
      "2.리스트에서 pop()으로 추출후의 값:[30, 20, 10]\n",
      "3.List.sort()후의 리스트:[10, 20, 30]\n",
      "4.List.reverse()후의 리스트:[30, 20, 10]\n",
      "List.index(20) >> 20값의 위치:1\n",
      "5.insert(2,222)후의 리스트:[30, 20, 222, 10]\n",
      "6.remove(222)후의 리스트:[30, 20, 10]\n",
      "7.extend([77,88,77]후의 리스트:[30, 20, 10, 77, 88, 77]\n",
      "77값의 개수:2\n",
      "8.len(List)>> 리스트의 길이를 아는 메소드:6\n"
     ]
    }
   ],
   "source": [
    "List=[30,20,10]\n",
    "print(\"1.리스트:%s\"%List)\n",
    "\n",
    "List.append(40)\n",
    "print(\"2.append(40)후의 리스트:%s\"%List)\n",
    "\n",
    "\n",
    "print(\"2.리스트에서 pop()으로 추출한 값:%s\"%List.pop())\n",
    "print(\"2.리스트에서 pop()으로 추출후의 값:%s\"%List)\n",
    "\n",
    "List.sort()\n",
    "print(\"3.List.sort()후의 리스트:%s\"%List)\n",
    "\n",
    "List.reverse()\n",
    "print(\"4.List.reverse()후의 리스트:%s\"%List)\n",
    "\n",
    "print(\"List.index(20) >> 20값의 위치:%s\"%List.index(20))\n",
    "\n",
    "\n",
    "List.insert(2,222)\n",
    "print(\"5.insert(2,222)후의 리스트:%s\"%List)\n",
    "\n",
    "List.remove(222)\n",
    "print(\"6.remove(222)후의 리스트:%s\"%List)\n",
    "\n",
    "List.extend([77,88,77])\n",
    "print(\"7.extend([77,88,77]후의 리스트:%s\"%List)\n",
    "\n",
    "print(\"77값의 개수:%d\"%List.count(77))\n",
    "\n",
    "len(List)\n",
    "print(\"8.len(List)>> 리스트의 길이를 아는 메소드:%s\"%len(List))\n",
    "\n",
    "\n",
    "\n",
    "\n",
    "\n"
   ]
  },
  {
   "cell_type": "code",
   "execution_count": 2,
   "id": "11e87397",
   "metadata": {},
   "outputs": [
    {
     "name": "stdout",
     "output_type": "stream",
     "text": [
      "sorted()후의 List:[30, 10, 20]\n",
      "sorted()후의 newList:[10, 20, 30]\n"
     ]
    }
   ],
   "source": [
    "List=[30,10,20]\n",
    "newList = sorted(List)\n",
    "print(\"sorted()후의 List:%s\"%List)\n",
    "print(\"sorted()후의 newList:%s\"%newList)\n",
    "\n",
    "#sort는 원본을 바꾸고\n",
    "#sorted는 새로운 리스트에 정렬된 리스트를 저장한다"
   ]
  },
  {
   "cell_type": "markdown",
   "id": "e38ec49b",
   "metadata": {},
   "source": [
    "## 교수님 강조\n",
    "## 2차원 리스트"
   ]
  },
  {
   "cell_type": "code",
   "execution_count": 3,
   "id": "f2356474",
   "metadata": {},
   "outputs": [
    {
     "name": "stdout",
     "output_type": "stream",
     "text": [
      "  1  2  3  4\n",
      "  5  6  7  8\n",
      "  9 10 11 12\n"
     ]
    }
   ],
   "source": [
    "## >> 코드 이해하기\n",
    "list1 = []\n",
    "list2 = []\n",
    "value = 1\n",
    "for i in range(0,3):\n",
    "    for k in range(0,4):\n",
    "        list1.append(value)\n",
    "        value+=1\n",
    "    list2.append(list1)\n",
    "    list1 = []\n",
    "        \n",
    "for i in range(0,3):\n",
    "    for k in range(0,4):\n",
    "        print(\"%3d\"%list2[i][k],end=\"\")\n",
    "    print(\"\")\n",
    "\n"
   ]
  },
  {
   "cell_type": "markdown",
   "id": "7e21da0b",
   "metadata": {},
   "source": [
    "## 4행5열의 2차원 리스트\n",
    "## 0부터 3의 배수"
   ]
  },
  {
   "cell_type": "code",
   "execution_count": 4,
   "id": "15d567c1",
   "metadata": {},
   "outputs": [
    {
     "name": "stdout",
     "output_type": "stream",
     "text": [
      "  0  3  6  9 12\n",
      " 15 18 21 24 27\n",
      " 30 33 36 39 42\n",
      " 45 48 51 54 57\n"
     ]
    }
   ],
   "source": [
    "## >> 코드 이해하기\n",
    "list1 = []\n",
    "list2 = []\n",
    "value = 0\n",
    "for i in range(0,4):\n",
    "    for k in range(0,5):\n",
    "        list1.append(value)\n",
    "        value=value+3\n",
    "    list2.append(list1)\n",
    "    list1 = []\n",
    "        \n",
    "for i in list2:  #list2[[1,2,3,4],[5,6,7,8],[9,10,11,12]]\n",
    "    for k in i:       ##최초의 i = [1,2,3,4]\n",
    "        print(\"%3d\"%k,end=\"\")\n",
    "    print(\"\")\n",
    "\n"
   ]
  },
  {
   "cell_type": "markdown",
   "id": "160441da",
   "metadata": {},
   "source": [
    "## 문자열을 저장하였다가 출력하는 프로그램"
   ]
  },
  {
   "cell_type": "code",
   "execution_count": 1,
   "id": "1218b6dc",
   "metadata": {},
   "outputs": [
    {
     "name": "stdout",
     "output_type": "stream",
     "text": [
      "강아지의 이름을 입력하시오 (종료는 엔터키) : 뱔이\n",
      "강아지의 이름을 입력하시오 (종료는 엔터키) : 도훈\n",
      "강아지의 이름을 입력하시오 (종료는 엔터키) : 하민\n",
      "강아지의 이름을 입력하시오 (종료는 엔터키) : \n",
      "강아지들의 이름 : \n",
      "뱔이, 도훈, 하민, "
     ]
    }
   ],
   "source": [
    "names = []\n",
    " \n",
    "while True:\n",
    "    name = input(\"강아지의 이름을 입력하시오 (종료는 엔터키) : \")\n",
    "    if name == '':\n",
    "        break\n",
    "    names.append(name)\n",
    " \n",
    "print(\"강아지들의 이름 : \")\n",
    " \n",
    "for i in range(len(names)):\n",
    "    print(names[i], end=\", \")"
   ]
  },
  {
   "cell_type": "markdown",
   "id": "8e17f033",
   "metadata": {},
   "source": [
    "## 리스트의 복사\n",
    "## 무조건 TEST"
   ]
  },
  {
   "cell_type": "code",
   "execution_count": 65,
   "id": "5b19289f",
   "metadata": {},
   "outputs": [
    {
     "name": "stdout",
     "output_type": "stream",
     "text": [
      "['짜장면', '탕수육', '군만두']\n",
      "['짬뽕', '탕수육', '군만두', '깐풍기']\n"
     ]
    }
   ],
   "source": [
    "#얕은 복사 : 리스트가 메모리 공간 공유\n",
    "oldList=['짜장면','탕수육','군만두']\n",
    "newList = oldList #두 리스트가 메모리 공간 공유\n",
    "print(\"%s\"%newList)\n",
    "oldList[0] = '짬뽕'\n",
    "oldList.append('깐풍기')\n",
    "print(\"%s\"%newList)\n"
   ]
  },
  {
   "cell_type": "code",
   "execution_count": 66,
   "id": "f9272214",
   "metadata": {},
   "outputs": [
    {
     "name": "stdout",
     "output_type": "stream",
     "text": [
      "['짜장면', '탕수육', '군만두']\n",
      "['짜장면', '탕수육', '군만두']\n"
     ]
    }
   ],
   "source": [
    "#얕은 복사 : 리스트가 메모리 공간 공유\n",
    "oldList=['짜장면','탕수육','군만두']\n",
    "newList = oldList[:] #[:]메모리 공간을 복사해서 새로 만듦\n",
    "print(\"%s\"%newList)\n",
    "oldList[0] = '짬뽕'\n",
    "oldList.append('깐풍기')\n",
    "print(\"%s\"%newList)\n"
   ]
  },
  {
   "cell_type": "markdown",
   "id": "fdfc7097",
   "metadata": {},
   "source": [
    "# 리스트를 이용한 스택 구현\n"
   ]
  },
  {
   "cell_type": "code",
   "execution_count": null,
   "id": "fca14990",
   "metadata": {},
   "outputs": [],
   "source": []
  },
  {
   "cell_type": "code",
   "execution_count": null,
   "id": "69bf0620",
   "metadata": {},
   "outputs": [],
   "source": []
  },
  {
   "cell_type": "code",
   "execution_count": null,
   "id": "12e7e94d",
   "metadata": {},
   "outputs": [],
   "source": []
  },
  {
   "cell_type": "markdown",
   "id": "0e2f21d0",
   "metadata": {},
   "source": [
    "# 튜플\n",
    "## >>리스트는 [] 튜플은 소괄호 ()로 생성\n",
    "## 튜플은 값 수정X (읽기 전용 자료)"
   ]
  },
  {
   "cell_type": "code",
   "execution_count": 28,
   "id": "dd276996",
   "metadata": {},
   "outputs": [
    {
     "data": {
      "text/plain": [
       "(10, 20, 30)"
      ]
     },
     "execution_count": 28,
     "metadata": {},
     "output_type": "execute_result"
    }
   ],
   "source": [
    "tt1 = (10,20,30)\n",
    "tt1"
   ]
  },
  {
   "cell_type": "code",
   "execution_count": 29,
   "id": "a2152911",
   "metadata": {},
   "outputs": [
    {
     "data": {
      "text/plain": [
       "(10, 20, 30)"
      ]
     },
     "execution_count": 29,
     "metadata": {},
     "output_type": "execute_result"
    }
   ],
   "source": [
    "tt2 = 10,20,30\n",
    "tt2"
   ]
  },
  {
   "cell_type": "code",
   "execution_count": 30,
   "id": "aa503edc",
   "metadata": {},
   "outputs": [
    {
     "data": {
      "text/plain": [
       "10"
      ]
     },
     "execution_count": 30,
     "metadata": {},
     "output_type": "execute_result"
    }
   ],
   "source": [
    "tt3=(10);\n",
    "tt3"
   ]
  },
  {
   "cell_type": "code",
   "execution_count": 31,
   "id": "be7c357c",
   "metadata": {},
   "outputs": [
    {
     "data": {
      "text/plain": [
       "10"
      ]
     },
     "execution_count": 31,
     "metadata": {},
     "output_type": "execute_result"
    }
   ],
   "source": [
    "tt4=10\n",
    "tt4"
   ]
  },
  {
   "cell_type": "code",
   "execution_count": 32,
   "id": "050797d0",
   "metadata": {},
   "outputs": [
    {
     "data": {
      "text/plain": [
       "(10,)"
      ]
     },
     "execution_count": 32,
     "metadata": {},
     "output_type": "execute_result"
    }
   ],
   "source": [
    "## 튜플은 소괄호 생략 가능 >> tt5 tt6처럼 쉼표, 붙임\n",
    "tt5=(10,)\n",
    "tt5"
   ]
  },
  {
   "cell_type": "code",
   "execution_count": 33,
   "id": "e3f68fb9",
   "metadata": {},
   "outputs": [
    {
     "data": {
      "text/plain": [
       "(10,)"
      ]
     },
     "execution_count": 33,
     "metadata": {},
     "output_type": "execute_result"
    }
   ],
   "source": [
    "tt6=10,\n",
    "tt6"
   ]
  },
  {
   "cell_type": "markdown",
   "id": "7ee32d99",
   "metadata": {},
   "source": [
    "## 튜플의 오류\n",
    "\n",
    "## >>TEST\n",
    "\n",
    "# 즉 튜플의 값을 삭제하는것은 불가하지만\n",
    "# 튜플 자체 할당 메모리를 삭제하는것은 가능하다"
   ]
  },
  {
   "cell_type": "code",
   "execution_count": 34,
   "id": "7841981b",
   "metadata": {},
   "outputs": [
    {
     "ename": "AttributeError",
     "evalue": "'tuple' object has no attribute 'append'",
     "output_type": "error",
     "traceback": [
      "\u001b[1;31m---------------------------------------------------------------------------\u001b[0m",
      "\u001b[1;31mAttributeError\u001b[0m                            Traceback (most recent call last)",
      "\u001b[1;32m<ipython-input-34-3e762adaef24>\u001b[0m in \u001b[0;36m<module>\u001b[1;34m\u001b[0m\n\u001b[0;32m      1\u001b[0m \u001b[1;31m## 튜플은 읽기만 가능하고 수정은 불가능하기 떄문에 append 실행시 오류가 뜬다\u001b[0m\u001b[1;33m\u001b[0m\u001b[1;33m\u001b[0m\u001b[1;33m\u001b[0m\u001b[0m\n\u001b[1;32m----> 2\u001b[1;33m \u001b[0mtt1\u001b[0m\u001b[1;33m.\u001b[0m\u001b[0mappend\u001b[0m\u001b[1;33m(\u001b[0m\u001b[1;36m40\u001b[0m\u001b[1;33m)\u001b[0m\u001b[1;33m\u001b[0m\u001b[1;33m\u001b[0m\u001b[0m\n\u001b[0m\u001b[0;32m      3\u001b[0m \u001b[0mtt1\u001b[0m\u001b[1;33m[\u001b[0m\u001b[1;36m0\u001b[0m\u001b[1;33m]\u001b[0m \u001b[1;33m=\u001b[0m \u001b[1;36m40\u001b[0m\u001b[1;33m\u001b[0m\u001b[1;33m\u001b[0m\u001b[0m\n\u001b[0;32m      4\u001b[0m \u001b[1;32mdel\u001b[0m\u001b[1;33m(\u001b[0m\u001b[0mtt1\u001b[0m\u001b[1;33m[\u001b[0m\u001b[1;36m0\u001b[0m\u001b[1;33m]\u001b[0m\u001b[1;33m)\u001b[0m\u001b[1;33m\u001b[0m\u001b[1;33m\u001b[0m\u001b[0m\n",
      "\u001b[1;31mAttributeError\u001b[0m: 'tuple' object has no attribute 'append'"
     ]
    }
   ],
   "source": [
    "## 튜플은 읽기만 가능하고 수정은 불가능하기 떄문에 append 실행시 오류가 뜬다\n",
    "tt1.append(40)\n",
    "tt1[0] = 40\n",
    "del(tt1[0])"
   ]
  },
  {
   "cell_type": "code",
   "execution_count": 35,
   "id": "9e60a00c",
   "metadata": {},
   "outputs": [
    {
     "ename": "NameError",
     "evalue": "name 'tt1' is not defined",
     "output_type": "error",
     "traceback": [
      "\u001b[1;31m---------------------------------------------------------------------------\u001b[0m",
      "\u001b[1;31mNameError\u001b[0m                                 Traceback (most recent call last)",
      "\u001b[1;32m<ipython-input-35-5fec30343d02>\u001b[0m in \u001b[0;36m<module>\u001b[1;34m\u001b[0m\n\u001b[0;32m      2\u001b[0m \u001b[0mtt1\u001b[0m \u001b[1;33m=\u001b[0m \u001b[1;33m(\u001b[0m\u001b[1;36m10\u001b[0m\u001b[1;33m,\u001b[0m\u001b[1;36m20\u001b[0m\u001b[1;33m,\u001b[0m\u001b[1;36m30\u001b[0m\u001b[1;33m)\u001b[0m\u001b[1;33m\u001b[0m\u001b[1;33m\u001b[0m\u001b[0m\n\u001b[0;32m      3\u001b[0m \u001b[1;32mdel\u001b[0m\u001b[1;33m(\u001b[0m\u001b[0mtt1\u001b[0m\u001b[1;33m)\u001b[0m\u001b[1;33m\u001b[0m\u001b[1;33m\u001b[0m\u001b[0m\n\u001b[1;32m----> 4\u001b[1;33m \u001b[0mtt1\u001b[0m\u001b[1;33m\u001b[0m\u001b[1;33m\u001b[0m\u001b[0m\n\u001b[0m\u001b[0;32m      5\u001b[0m \u001b[1;33m\u001b[0m\u001b[0m\n\u001b[0;32m      6\u001b[0m \u001b[1;31m##tt1가 삭제되었으니 오류가 뜬다\u001b[0m\u001b[1;33m\u001b[0m\u001b[1;33m\u001b[0m\u001b[1;33m\u001b[0m\u001b[0m\n",
      "\u001b[1;31mNameError\u001b[0m: name 'tt1' is not defined"
     ]
    }
   ],
   "source": [
    "#하지만 del(tt1)은 할당된 해당 변수를 삭제하는것이기 떄문에 가능하다\n",
    "tt1 = (10,20,30)\n",
    "del(tt1)\n",
    "tt1\n",
    "\n",
    "##tt1가 삭제되었으니 오류가 뜬다"
   ]
  },
  {
   "cell_type": "code",
   "execution_count": 36,
   "id": "af0c095d",
   "metadata": {},
   "outputs": [
    {
     "data": {
      "text/plain": [
       "60"
      ]
     },
     "execution_count": 36,
     "metadata": {},
     "output_type": "execute_result"
    }
   ],
   "source": [
    "tt1=(10,20,30,40)\n",
    "tt1[0]  #10\n",
    "tt1[0] + tt1[1] + tt1[2]"
   ]
  },
  {
   "cell_type": "code",
   "execution_count": 37,
   "id": "3c79b8a2",
   "metadata": {},
   "outputs": [
    {
     "data": {
      "text/plain": [
       "(20, 30, 40)"
      ]
     },
     "execution_count": 37,
     "metadata": {},
     "output_type": "execute_result"
    }
   ],
   "source": [
    "tt1=(10,20,30,40)\n",
    "tt1[1:] "
   ]
  },
  {
   "cell_type": "code",
   "execution_count": 38,
   "id": "2f7aecc7",
   "metadata": {},
   "outputs": [
    {
     "data": {
      "text/plain": [
       "(10, 20, 30)"
      ]
     },
     "execution_count": 38,
     "metadata": {},
     "output_type": "execute_result"
    }
   ],
   "source": [
    "tt1[:3] "
   ]
  },
  {
   "cell_type": "markdown",
   "id": "81327d13",
   "metadata": {},
   "source": [
    "## 튜플의 덧셈 및 곱셈 연산"
   ]
  },
  {
   "cell_type": "code",
   "execution_count": 39,
   "id": "a55cb251",
   "metadata": {},
   "outputs": [
    {
     "data": {
      "text/plain": [
       "(10, 20, 30, 40, 'A', 'B')"
      ]
     },
     "execution_count": 39,
     "metadata": {},
     "output_type": "execute_result"
    }
   ],
   "source": [
    "tt2 = ('A','B')\n",
    "tt1 + tt2"
   ]
  },
  {
   "cell_type": "code",
   "execution_count": 40,
   "id": "c59a5a97",
   "metadata": {},
   "outputs": [
    {
     "data": {
      "text/plain": [
       "('A', 'B', 'A', 'B', 'A', 'B')"
      ]
     },
     "execution_count": 40,
     "metadata": {},
     "output_type": "execute_result"
    }
   ],
   "source": [
    "tt2 * 3"
   ]
  },
  {
   "cell_type": "markdown",
   "id": "db4550a8",
   "metadata": {},
   "source": [
    "## 2차원 튜플"
   ]
  },
  {
   "cell_type": "code",
   "execution_count": 41,
   "id": "de49c2ee",
   "metadata": {},
   "outputs": [],
   "source": [
    "## SELF STUDY 7-4  IDEA\n",
    "## idea 튜플을 바로 만들수가 없으니\n",
    "## 리스트를 만들어서 튜플로 변환을 한다\n"
   ]
  },
  {
   "cell_type": "markdown",
   "id": "5ea0d627",
   "metadata": {},
   "source": [
    "## >>튜플 → 리스트 → 튜플 변환"
   ]
  },
  {
   "cell_type": "code",
   "execution_count": 42,
   "id": "f4c66ded",
   "metadata": {},
   "outputs": [
    {
     "data": {
      "text/plain": [
       "(10, 20, 30, 40)"
      ]
     },
     "execution_count": 42,
     "metadata": {},
     "output_type": "execute_result"
    }
   ],
   "source": [
    "myTuple = (10,20,30)\n",
    "myList = list(myTuple)\n",
    "myList.append(40)\n",
    "myTuple = tuple(myList)\n",
    "myTuple"
   ]
  },
  {
   "cell_type": "markdown",
   "id": "3027b4e2",
   "metadata": {},
   "source": [
    "# 딕셔너리\n",
    "## 중괄호로 생성"
   ]
  },
  {
   "cell_type": "code",
   "execution_count": 43,
   "id": "045df612",
   "metadata": {},
   "outputs": [
    {
     "data": {
      "text/plain": [
       "{'학번': 1000, '이름': '홍길동', '학과': '컴퓨터학과'}"
      ]
     },
     "execution_count": 43,
     "metadata": {},
     "output_type": "execute_result"
    }
   ],
   "source": [
    "s = {\"학번\":1000,\"이름\":\"홍길동\",\"학과\":\"컴퓨터학과\"}\n",
    "s"
   ]
  },
  {
   "cell_type": "code",
   "execution_count": 44,
   "id": "8076e427",
   "metadata": {},
   "outputs": [
    {
     "data": {
      "text/plain": [
       "{'학번': 1000, '이름': '홍길동', '학과': '컴퓨터학과', '연락처': '01055261387'}"
      ]
     },
     "execution_count": 44,
     "metadata": {},
     "output_type": "execute_result"
    }
   ],
   "source": [
    "#항목 추가\n",
    "s['연락처'] = '01055261387'\n",
    "s"
   ]
  },
  {
   "cell_type": "code",
   "execution_count": 45,
   "id": "f2e1cc49",
   "metadata": {},
   "outputs": [
    {
     "data": {
      "text/plain": [
       "{'학번': 1000, '이름': '홍길동', '학과': '파이썬학과', '연락처': '01055261387'}"
      ]
     },
     "execution_count": 45,
     "metadata": {},
     "output_type": "execute_result"
    }
   ],
   "source": [
    "#항목 수정\n",
    "s['학과'] = '파이썬학과'\n",
    "s"
   ]
  },
  {
   "cell_type": "code",
   "execution_count": 46,
   "id": "543e78cd",
   "metadata": {},
   "outputs": [
    {
     "data": {
      "text/plain": [
       "{'학번': 1000, '이름': '홍길동', '연락처': '01055261387'}"
      ]
     },
     "execution_count": 46,
     "metadata": {},
     "output_type": "execute_result"
    }
   ],
   "source": [
    "#항목 삭제\n",
    "del(s['학과'])\n",
    "s"
   ]
  },
  {
   "cell_type": "code",
   "execution_count": 50,
   "id": "8c5c8d6b",
   "metadata": {},
   "outputs": [
    {
     "data": {
      "text/plain": [
       "1000"
      ]
     },
     "execution_count": 50,
     "metadata": {},
     "output_type": "execute_result"
    }
   ],
   "source": [
    "s['학번']"
   ]
  },
  {
   "cell_type": "code",
   "execution_count": 49,
   "id": "bfd88008",
   "metadata": {},
   "outputs": [
    {
     "data": {
      "text/plain": [
       "'홍길동'"
      ]
     },
     "execution_count": 49,
     "metadata": {},
     "output_type": "execute_result"
    }
   ],
   "source": [
    "s.get('이름')"
   ]
  },
  {
   "cell_type": "code",
   "execution_count": 51,
   "id": "f82dcab3",
   "metadata": {},
   "outputs": [
    {
     "data": {
      "text/plain": [
       "dict_keys(['학번', '이름', '연락처'])"
      ]
     },
     "execution_count": 51,
     "metadata": {},
     "output_type": "execute_result"
    }
   ],
   "source": [
    "s.keys()"
   ]
  },
  {
   "cell_type": "code",
   "execution_count": 52,
   "id": "7395f544",
   "metadata": {},
   "outputs": [
    {
     "data": {
      "text/plain": [
       "['학번', '이름', '연락처']"
      ]
     },
     "execution_count": 52,
     "metadata": {},
     "output_type": "execute_result"
    }
   ],
   "source": [
    "list(s.keys())"
   ]
  },
  {
   "cell_type": "code",
   "execution_count": 53,
   "id": "11bf73e3",
   "metadata": {},
   "outputs": [
    {
     "data": {
      "text/plain": [
       "dict_values([1000, '홍길동', '01055261387'])"
      ]
     },
     "execution_count": 53,
     "metadata": {},
     "output_type": "execute_result"
    }
   ],
   "source": [
    "s.values()"
   ]
  },
  {
   "cell_type": "code",
   "execution_count": 54,
   "id": "a25697ac",
   "metadata": {},
   "outputs": [
    {
     "data": {
      "text/plain": [
       "dict_items([('학번', 1000), ('이름', '홍길동'), ('연락처', '01055261387')])"
      ]
     },
     "execution_count": 54,
     "metadata": {},
     "output_type": "execute_result"
    }
   ],
   "source": [
    "s.items()"
   ]
  },
  {
   "cell_type": "code",
   "execution_count": 56,
   "id": "1c4fba69",
   "metadata": {},
   "outputs": [
    {
     "data": {
      "text/plain": [
       "True"
      ]
     },
     "execution_count": 56,
     "metadata": {},
     "output_type": "execute_result"
    }
   ],
   "source": [
    "'이름' in s"
   ]
  },
  {
   "cell_type": "code",
   "execution_count": 57,
   "id": "03f76d2f",
   "metadata": {},
   "outputs": [
    {
     "name": "stdout",
     "output_type": "stream",
     "text": [
      "이름 --> 트와이스\n",
      "구성원 수  --> 9\n",
      "데뷔 --> 서바이벌 식스틴\n",
      "대표곡 --> SiGNAL\n"
     ]
    }
   ],
   "source": [
    "singer = {}\n",
    "\n",
    "singer['이름'] = '트와이스'\n",
    "singer['구성원 수 '] = 9\n",
    "singer['데뷔'] = '서바이벌 식스틴'\n",
    "singer['대표곡'] = 'SiGNAL'\n",
    "\n",
    "for k in singer.keys():\n",
    "    #print('%s --> %s'%(k,singer[k]))\n",
    "    print('%s --> %s'%(k,singer.get(k)))  #get을 쓰면 더 안전!\n",
    "    "
   ]
  },
  {
   "cell_type": "code",
   "execution_count": 58,
   "id": "3331abd7",
   "metadata": {},
   "outputs": [
    {
     "data": {
      "text/plain": [
       "['이름', '구성원 수 ', '데뷔', '대표곡']"
      ]
     },
     "execution_count": 58,
     "metadata": {},
     "output_type": "execute_result"
    }
   ],
   "source": [
    "list(singer.keys())"
   ]
  },
  {
   "cell_type": "markdown",
   "id": "8db9893c",
   "metadata": {},
   "source": [
    "## 키로 정렬한 후 딕셔너리 추출"
   ]
  },
  {
   "cell_type": "code",
   "execution_count": 59,
   "id": "f6c3b211",
   "metadata": {},
   "outputs": [
    {
     "name": "stdout",
     "output_type": "stream",
     "text": [
      "[('Edward', '에드워드'), ('Gothen', '고든'), ('Henry', '헨리'), ('James', '제임스'), ('Thomas', '토마스')]\n"
     ]
    }
   ],
   "source": [
    "import operator\n",
    "\n",
    "transDic,trainList = {},[]\n",
    "\n",
    "trainDic = {'Thomas':'토마스','Edward':'에드워드','Henry':'헨리','Gothen':'고든','James':'제임스'}\n",
    "trainList = sorted(trainDic.items(),key = operator.itemgetter(0))\n",
    "\n",
    "print(trainList)"
   ]
  },
  {
   "cell_type": "markdown",
   "id": "20f235e7",
   "metadata": {},
   "source": [
    "## 음식 조합(궁합)"
   ]
  },
  {
   "cell_type": "code",
   "execution_count": null,
   "id": "93eba453",
   "metadata": {},
   "outputs": [],
   "source": [
    "foods={\"떡볶이\":\"오뎅\",\n",
    "      \"짜장면\":\"단무지\",\n",
    "      \"라면\":\"김치\",\n",
    "      \"피자\":\"피클\",\n",
    "      \"맥주\":\"땅콩\",\n",
    "      \"치킨\":\"치킨무\",\n",
    "      \"삼겹살\":\"상추\"};\n",
    "## foods 딕셔너리 생성!\n",
    "\n",
    "while(True):\n",
    "    myfood = input(str(list(foods.keys()))+\"중 좋아하는 음식은?\")\n",
    "    if myfood in foods:\n",
    "        print(\"<%s> 궁합 음식은 <%s>입니다.\" %(myfood,foods.get(myfood)))\n",
    "    elif myfood == \"끝\":\n",
    "        break\n",
    "    else:\n",
    "        print(\"그런 음식이 없습니다 확인해보세요\")"
   ]
  },
  {
   "cell_type": "markdown",
   "id": "bd4e0c4f",
   "metadata": {},
   "source": [
    "## 딕셔너리의 값을 클래스 객체로 만들기"
   ]
  },
  {
   "cell_type": "code",
   "execution_count": null,
   "id": "8b4eebbc",
   "metadata": {},
   "outputs": [],
   "source": [
    "# 연락처 클래스 만들기\n",
    "class Contact:\n",
    "    def __init__(self, name, age, gender):\n",
    "        self.name = name\n",
    "        self.age = age\n",
    "        self.gender = gender\n",
    " \n",
    "    def print_info(self):\n",
    "        print(f\"이름 : {self.name}, 나이 : {self.age}, 성별 : {self.gender}\")\n",
    " \n",
    " \n",
    "# 딕셔너리 생성과 동시에 키,값 하나 세팅\n",
    "d = {'kim': Contact('kim', 29, 'man')}\n",
    " \n",
    "# 딕셔너리에 클래스 객체를 값으로 추가1\n",
    "p1 = Contact('park', 43, 'woman')\n",
    "d[p1.name] = p1\n",
    " \n",
    "# 딕셔너리에 클래스 객체를 값으로 추가2\n",
    "p2 = Contact('blockdmask', 20, 'man')\n",
    "d['blockdmask'] = p2\n",
    " \n",
    "# 딕셔너리에 클래스 객체를 값으로 추가3\n",
    "d['lee'] = Contact('lee', 35, 'woman')\n",
    " \n",
    " \n",
    " \n",
    "# 출력1 : 딕셔너리 키 출력\n",
    "print('1. Keys')\n",
    "print(d.keys())\n",
    " \n",
    "# 출력2 : 딕셔너리 값 출력\n",
    "print()\n",
    "print('2. Values')\n",
    "for k in d.keys():\n",
    "    d[k].print_info()\n",
    "\n",
    "\n"
   ]
  },
  {
   "cell_type": "markdown",
   "id": "217e11d5",
   "metadata": {},
   "source": [
    "## set\n",
    "# 키만 모아 놓은 딕셔너리의 특수한 형태\n",
    "# 딕셔너리의 키는 중복되면 안 되므로 세트에 들어 있는 값은 항상 유일\n",
    "# 세트를 생성하려면 딕셔너리처럼 중괄호 { } 사용하지만 : 없이 값을 입력\n",
    "# 중복된 키는 자동으로 하나만 남음"
   ]
  },
  {
   "cell_type": "code",
   "execution_count": 61,
   "id": "40807e63",
   "metadata": {},
   "outputs": [
    {
     "data": {
      "text/plain": [
       "{1, 2, 3, 4}"
      ]
     },
     "execution_count": 61,
     "metadata": {},
     "output_type": "execute_result"
    }
   ],
   "source": [
    "set1 = {1,2,3,3,3,4}\n",
    "set1"
   ]
  },
  {
   "cell_type": "code",
   "execution_count": 62,
   "id": "50e3a947",
   "metadata": {},
   "outputs": [
    {
     "data": {
      "text/plain": [
       "{'도시락', '바나나', '삼각김밥'}"
      ]
     },
     "execution_count": 62,
     "metadata": {},
     "output_type": "execute_result"
    }
   ],
   "source": [
    "setList = {'삼각김밥','바나나','도시락','삼각김밥','삼각김밥','도시락','삼각김밥'}\n",
    "set(setList)"
   ]
  },
  {
   "cell_type": "code",
   "execution_count": 63,
   "id": "d1b218f3",
   "metadata": {},
   "outputs": [
    {
     "name": "stdout",
     "output_type": "stream",
     "text": [
      "{4, 5}\n",
      "{1, 2, 3, 4, 5, 6, 7}\n",
      "{1, 2, 3}\n",
      "{1, 2, 3, 6, 7}\n"
     ]
    }
   ],
   "source": [
    "set1={1,2,3,4,5}\n",
    "set2={4,5,6,7}\n",
    "print(\"%s\"%(set1 & set2))  #교집합\n",
    "print(\"%s\"%(set1 | set2))  #합집합\n",
    "print(\"%s\"%(set1 - set2))  #차집합\n",
    "print(\"%s\"%(set1 ^ set2))  #대칭 차집합"
   ]
  },
  {
   "cell_type": "markdown",
   "id": "e850e7f3",
   "metadata": {},
   "source": [
    "# 컴프리헨션\n",
    "## 값이 순차적인 리스트를 한 줄로 만드는 간단한 방법"
   ]
  },
  {
   "cell_type": "code",
   "execution_count": 67,
   "id": "88a8726a",
   "metadata": {},
   "outputs": [
    {
     "data": {
      "text/plain": [
       "[1, 2, 3, 4, 5]"
      ]
     },
     "execution_count": 67,
     "metadata": {},
     "output_type": "execute_result"
    }
   ],
   "source": [
    "numList = []\n",
    "for num in range(1,6):\n",
    "    numList.append(num)\n",
    "numList"
   ]
  },
  {
   "cell_type": "code",
   "execution_count": 68,
   "id": "287f0899",
   "metadata": {},
   "outputs": [
    {
     "data": {
      "text/plain": [
       "[1, 2, 3, 4, 5]"
      ]
     },
     "execution_count": 68,
     "metadata": {},
     "output_type": "execute_result"
    }
   ],
   "source": [
    "#컴프리헨션\n",
    "#컴프리헨션의 구성\n",
    "#리스트 = [수식 for 항목 in range() if 조건식]\n",
    "numList = [num for num in range(1,6)]\n",
    "numList"
   ]
  },
  {
   "cell_type": "code",
   "execution_count": 69,
   "id": "ce32f36f",
   "metadata": {},
   "outputs": [
    {
     "data": {
      "text/plain": [
       "[1, 4, 9, 16, 25]"
      ]
     },
     "execution_count": 69,
     "metadata": {},
     "output_type": "execute_result"
    }
   ],
   "source": [
    "#1~5의 제곱\n",
    "numList = [num * num for num in range(1,6)]\n",
    "numList"
   ]
  },
  {
   "cell_type": "code",
   "execution_count": 70,
   "id": "8de1b14f",
   "metadata": {},
   "outputs": [
    {
     "data": {
      "text/plain": [
       "[3, 6, 9, 12, 15, 18]"
      ]
     },
     "execution_count": 70,
     "metadata": {},
     "output_type": "execute_result"
    }
   ],
   "source": [
    "#1~20 숫자 중에서 3의 배수로만 리스트를 구성\n",
    "numList = [num  for num in range(1,21) if num %3 ==0]\n",
    "numList"
   ]
  },
  {
   "cell_type": "markdown",
   "id": "a7d46ee4",
   "metadata": {},
   "source": [
    "# zip"
   ]
  },
  {
   "cell_type": "markdown",
   "id": "982d0935",
   "metadata": {},
   "source": [
    "## zip함수를 이용하여 여러 리스트에 접근"
   ]
  },
  {
   "cell_type": "code",
   "execution_count": 71,
   "id": "941a9911",
   "metadata": {},
   "outputs": [
    {
     "name": "stdout",
     "output_type": "stream",
     "text": [
      "떡볶이 --> 오뎅\n",
      "짜장면 --> 단무지\n",
      "라면 --> 김치\n"
     ]
    }
   ],
   "source": [
    "foods = ['떡볶이','짜장면','라면','피자','맥주','치킨','삼겹살']\n",
    "sides = ['오뎅','단무지','김치']\n",
    "for food,side in zip(foods,sides):\n",
    "    print(food, '-->',side)"
   ]
  },
  {
   "cell_type": "markdown",
   "id": "b9a7d8d2",
   "metadata": {},
   "source": [
    "## 두리스트를 튜플이나 딕셔너리로 짝지을 떄 zip함수를 이용"
   ]
  },
  {
   "cell_type": "code",
   "execution_count": 72,
   "id": "fbaf5e5e",
   "metadata": {},
   "outputs": [
    {
     "name": "stdout",
     "output_type": "stream",
     "text": [
      "[('떡볶이', '오뎅'), ('짜장면', '단무지'), ('라면', '김치')]\n",
      "{'떡볶이': '오뎅', '짜장면': '단무지', '라면': '김치'}\n"
     ]
    }
   ],
   "source": [
    "foods = ['떡볶이','짜장면','라면','피자','맥주','치킨','삼겹살']\n",
    "sides = ['오뎅','단무지','김치']\n",
    "tupList = list(zip(foods,sides))\n",
    "dic = dict(zip(foods,sides))\n",
    "print(\"%s\"%tupList)\n",
    "print(\"%s\"%dic)"
   ]
  }
 ],
 "metadata": {
  "kernelspec": {
   "display_name": "Python 3",
   "language": "python",
   "name": "python3"
  },
  "language_info": {
   "codemirror_mode": {
    "name": "ipython",
    "version": 3
   },
   "file_extension": ".py",
   "mimetype": "text/x-python",
   "name": "python",
   "nbconvert_exporter": "python",
   "pygments_lexer": "ipython3",
   "version": "3.8.8"
  }
 },
 "nbformat": 4,
 "nbformat_minor": 5
}
