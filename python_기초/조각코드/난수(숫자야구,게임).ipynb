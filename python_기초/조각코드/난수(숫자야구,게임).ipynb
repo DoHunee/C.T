{
 "cells": [
  {
   "cell_type": "markdown",
   "id": "af5f18bd",
   "metadata": {},
   "source": [
    "## 난수 기본"
   ]
  },
  {
   "cell_type": "code",
   "execution_count": 8,
   "id": "c025d958",
   "metadata": {},
   "outputs": [
    {
     "name": "stdout",
     "output_type": "stream",
     "text": [
      "55\n",
      "0.8530320621751641\n",
      "4.616394640148676\n",
      "79\n",
      "3\n"
     ]
    }
   ],
   "source": [
    "from random import *\n",
    " \n",
    "i = randint(1, 100)  # 1부터 100 사이의 임의의 정수\n",
    "print(i)\n",
    " \n",
    "f = random()   # 0부터 1 사이의 임의의 float\n",
    "print(f)\n",
    " \n",
    "f = uniform(1.0, 36.5)   # 1부터 36.5 사이의 임의의 float\n",
    "print(f)\n",
    " \n",
    "i = randrange(1, 101, 2) # 1부터 100 사이의 임의의 짝수\n",
    "print(i)\n",
    " \n",
    "i = randrange(10)  # 0부터 9 사이의 임의의 정수\n",
    "print(i)"
   ]
  },
  {
   "cell_type": "markdown",
   "id": "eeb083cf",
   "metadata": {},
   "source": [
    "## 소문자만을 이용한 랜덤한 문자열"
   ]
  },
  {
   "cell_type": "code",
   "execution_count": 15,
   "id": "d04113c6",
   "metadata": {},
   "outputs": [
    {
     "name": "stdout",
     "output_type": "stream",
     "text": [
      "pooxqomqcs\n"
     ]
    }
   ],
   "source": [
    "import string \n",
    "import random \n",
    "_LENGTH = 10 # 10자리 \n",
    "string_pool = string.ascii_lowercase # 소문자 \n",
    "result = \"\" # 결과 값 \n",
    "for i in range(_LENGTH) :\n",
    "    result += random.choice(string_pool) # 랜덤한 문자열 하나 선택 \n",
    "print(result)\n"
   ]
  },
  {
   "cell_type": "markdown",
   "id": "834ab3b3",
   "metadata": {},
   "source": [
    "## 대문자만을 이용한 랜덤한 문자열"
   ]
  },
  {
   "cell_type": "code",
   "execution_count": 16,
   "id": "7ae2b1e3",
   "metadata": {},
   "outputs": [
    {
     "name": "stdout",
     "output_type": "stream",
     "text": [
      "LRCMMUFJVI\n"
     ]
    }
   ],
   "source": [
    "import string \n",
    "import random \n",
    "_LENGTH = 10 # 10자리 \n",
    "#string_pool = string.ascii_lowercase # 소문자 \n",
    "string_pool = string.ascii_uppercase # 대문자 \n",
    "result = \"\" # 결과 값 \n",
    "for i in range(_LENGTH) :\n",
    "    result += random.choice(string_pool) # 랜덤한 문자열 하나 선택 \n",
    "print(result)\n"
   ]
  },
  {
   "cell_type": "markdown",
   "id": "53380dbc",
   "metadata": {},
   "source": [
    "## 대소문자만을 이용한 랜덤한 문자열"
   ]
  },
  {
   "cell_type": "code",
   "execution_count": 17,
   "id": "775fd02f",
   "metadata": {},
   "outputs": [
    {
     "name": "stdout",
     "output_type": "stream",
     "text": [
      "EaGWXvgcVM\n"
     ]
    }
   ],
   "source": [
    "import string \n",
    "import random \n",
    "_LENGTH = 10 # 10자리 \n",
    "#string_pool = string.ascii_lowercase # 소문자 \n",
    "#string_pool = string.ascii_uppercase # 대문자\n",
    "string_pool = string.ascii_letters # 대소문자\n",
    "\n",
    "result = \"\" # 결과 값 \n",
    "for i in range(_LENGTH) :\n",
    "    result += random.choice(string_pool) # 랜덤한 문자열 하나 선택 \n",
    "print(result)\n"
   ]
  },
  {
   "cell_type": "markdown",
   "id": "2d05bcfc",
   "metadata": {},
   "source": [
    "## 랜덤한 숫자 문자열 만들기"
   ]
  },
  {
   "cell_type": "code",
   "execution_count": 19,
   "id": "759e0881",
   "metadata": {},
   "outputs": [
    {
     "name": "stdout",
     "output_type": "stream",
     "text": [
      "AeRylMLoCdza\n"
     ]
    }
   ],
   "source": [
    "import string \n",
    "import random \n",
    "_LENGTH = 12 # 12자리 \n",
    "\n",
    "# 숫자 + 대소문자 \n",
    "string_pool = string.ascii_letters + string.digits \n",
    "\n",
    "# 랜덤한 문자열 생성 \n",
    "result = \"\" \n",
    "for i in range(_LENGTH) :\n",
    "    result += random.choice(string_pool) # 랜덤한 문자열 하나 선택 \n",
    "print(result)\n"
   ]
  },
  {
   "cell_type": "markdown",
   "id": "efcd3d51",
   "metadata": {},
   "source": [
    "## 특수문자"
   ]
  },
  {
   "cell_type": "code",
   "execution_count": 21,
   "id": "c98c4c2e",
   "metadata": {},
   "outputs": [
    {
     "name": "stdout",
     "output_type": "stream",
     "text": [
      "!\"#$%&'()*+,-./:;<=>?@[\\]^_`{|}~\n"
     ]
    }
   ],
   "source": [
    "import string \n",
    "print(string.punctuation)"
   ]
  },
  {
   "cell_type": "markdown",
   "id": "03b49979",
   "metadata": {},
   "source": [
    "## 특수문자+대소문자 랜덤 문자열"
   ]
  },
  {
   "cell_type": "code",
   "execution_count": 23,
   "id": "9cd46559",
   "metadata": {},
   "outputs": [
    {
     "name": "stdout",
     "output_type": "stream",
     "text": [
      "#|9!|'d0eL2iMG82$*p}\n"
     ]
    }
   ],
   "source": [
    "import string \n",
    "import random \n",
    "_LENGTH = 20 # 20자리 \n",
    "\n",
    "# 숫자 + 대소문자 + 특수문자 \n",
    "string_pool = string.ascii_letters + string.digits + string.punctuation # 랜덤한 문자열 생성 \n",
    "result = \"\" \n",
    "for i in range(_LENGTH) :\n",
    "    result += random.choice(string_pool) # 랜덤한 문자열 하나 선택 \n",
    "print(result)\n",
    "\n"
   ]
  },
  {
   "cell_type": "markdown",
   "id": "a4bb517a",
   "metadata": {},
   "source": [
    "## 1~100 사이 숫자 중 랜덤으로 10개 뽑아서 리스트 만들기"
   ]
  },
  {
   "cell_type": "code",
   "execution_count": 6,
   "id": "72b6b1c2",
   "metadata": {},
   "outputs": [
    {
     "name": "stdout",
     "output_type": "stream",
     "text": [
      "[61, 58, 25, 76, 33, 83, 56, 89, 26]\n",
      "최대값은 89이고 최소값은 25입니다\n"
     ]
    }
   ],
   "source": [
    "import random\n",
    "numbers=[]\n",
    "for i in range(1,10):\n",
    "  number=random.randint(1,101)\n",
    "  numbers.append(number)\n",
    "print(numbers)\n"
   ]
  },
  {
   "cell_type": "markdown",
   "id": "1fa03b2b",
   "metadata": {},
   "source": [
    "## 랜덤리스트 내의 숫자 중 최대값, 최소값 구하기"
   ]
  },
  {
   "cell_type": "code",
   "execution_count": 7,
   "id": "72f3d77c",
   "metadata": {},
   "outputs": [
    {
     "name": "stdout",
     "output_type": "stream",
     "text": [
      "최대값은 89이고 최소값은 25입니다\n"
     ]
    }
   ],
   "source": [
    "import sys\n",
    "min=sys.maxsize\n",
    "max=-sys.maxsize\n",
    "for i in range(len(numbers)):\n",
    "  if numbers[i]>max:\n",
    "    max=numbers[i]\n",
    "  elif numbers[i]<min:\n",
    "    min=numbers[i]\n",
    "print(f\"최대값은 {max}이고 최소값은 {min}입니다\")"
   ]
  },
  {
   "cell_type": "markdown",
   "id": "e69e683c",
   "metadata": {},
   "source": [
    "## 숫자맞추기"
   ]
  },
  {
   "cell_type": "code",
   "execution_count": 4,
   "id": "cde0eeee",
   "metadata": {},
   "outputs": [
    {
     "name": "stdout",
     "output_type": "stream",
     "text": [
      "숫자를 입력하세요 :22\n",
      "더 큰 수 입니다.\n",
      "숫자를 입력하세요 :45\n",
      "더 큰 수 입니다.\n",
      "숫자를 입력하세요 :75\n",
      "더 큰 수 입니다.\n",
      "숫자를 입력하세요 :88\n",
      "더 작은 수 입니다\n",
      "숫자를 입력하세요 :78\n",
      "더 큰 수 입니다.\n",
      "숫자를 입력하세요 :89\n",
      "더 작은 수 입니다\n",
      "숫자를 입력하세요 :79\n",
      "더 큰 수 입니다.\n",
      "숫자를 입력하세요 :80\n",
      "더 큰 수 입니다.\n",
      "숫자를 입력하세요 :81\n",
      "더 큰 수 입니다.\n",
      "숫자를 입력하세요 :8\n",
      "더 큰 수 입니다.\n",
      "숫자를 입력하세요 :82\n",
      "축하합니다. 시도 횟수:=11\n"
     ]
    }
   ],
   "source": [
    "import random\n",
    "number = random.randrange(1, 100)\n",
    "i=1\n",
    "\n",
    " \n",
    "while True:\n",
    "    guess = int(input('숫자를 입력하세요 :'))\n",
    "    if guess == number:\n",
    "        print(\"축하합니다. 시도 횟수:=%d\"%i)\n",
    "        break\n",
    "    elif guess > number:              # 정답이 아니면, 다시 큰지 작은지를 판단합니다.\n",
    "        print('더 작은 수 입니다')\n",
    "        i+=1\n",
    "    else:\n",
    "        print('더 큰 수 입니다.')\n",
    "        i+=1"
   ]
  },
  {
   "cell_type": "code",
   "execution_count": null,
   "id": "7b70b373",
   "metadata": {},
   "outputs": [],
   "source": [
    "import random\n",
    "\n",
    "tries = 0\t\t\t\t# 시도 횟수\n",
    "guess = 0;\t\t\t# 사용자의 추측값\n",
    "answer = random.randint(1, 100)\t# 1과 100사이의 난수\n",
    "\n",
    "print(\"1부터 100 사이의 숫자를 맞추시오\")\n",
    "\n",
    "while guess != answer:\n",
    "    guess = int(input(\"숫자를 입력하시오: \"))\n",
    "    tries = tries + 1\n",
    "    if guess < answer:\n",
    "        print(\"너무 낮음!\")\n",
    "    elif guess > answer:\n",
    "        print(\"너무 높음!\")\n",
    "\n",
    "if guess == answer:\n",
    "     print(\"축하합니다. 시도횟수=\", tries)\n",
    "else:\n",
    "     print(\"정답은 \", answer)"
   ]
  },
  {
   "cell_type": "markdown",
   "id": "cd11aa69",
   "metadata": {},
   "source": [
    "## 숫자야구"
   ]
  },
  {
   "cell_type": "code",
   "execution_count": 5,
   "id": "8fcb5ce3",
   "metadata": {},
   "outputs": [
    {
     "name": "stdout",
     "output_type": "stream",
     "text": [
      "0과 9 사이의 서로 다른 숫자 3개를 랜덤한 순서로 뽑았습니다.\n",
      "\n",
      "숫자 3개를 하나씩 차례대로 입력하세요.\n",
      "1번째 숫자를 입력하세요: 1\n",
      "2번째 숫자를 입력하세요: 2\n",
      "3번째 숫자를 입력하세요: 4\n",
      "0S 1B \n",
      "숫자 3개를 하나씩 차례대로 입력하세요.\n",
      "1번째 숫자를 입력하세요: \n"
     ]
    },
    {
     "ename": "ValueError",
     "evalue": "invalid literal for int() with base 10: ''",
     "output_type": "error",
     "traceback": [
      "\u001b[1;31m---------------------------------------------------------------------------\u001b[0m",
      "\u001b[1;31mValueError\u001b[0m                                Traceback (most recent call last)",
      "\u001b[1;32m<ipython-input-5-8ec2ed2b4b1a>\u001b[0m in \u001b[0;36m<module>\u001b[1;34m\u001b[0m\n\u001b[0;32m     56\u001b[0m \u001b[1;33m\u001b[0m\u001b[0m\n\u001b[0;32m     57\u001b[0m \u001b[1;32mwhile\u001b[0m \u001b[1;36m1\u001b[0m\u001b[1;33m:\u001b[0m\u001b[1;33m\u001b[0m\u001b[1;33m\u001b[0m\u001b[0m\n\u001b[1;32m---> 58\u001b[1;33m     \u001b[0mGUESS\u001b[0m \u001b[1;33m=\u001b[0m \u001b[0mtake_guess\u001b[0m\u001b[1;33m(\u001b[0m\u001b[1;33m)\u001b[0m\u001b[1;33m\u001b[0m\u001b[1;33m\u001b[0m\u001b[0m\n\u001b[0m\u001b[0;32m     59\u001b[0m     \u001b[0mstrike\u001b[0m\u001b[1;33m,\u001b[0m \u001b[0mball\u001b[0m \u001b[1;33m=\u001b[0m \u001b[0mget_score\u001b[0m\u001b[1;33m(\u001b[0m\u001b[0mGUESS\u001b[0m\u001b[1;33m,\u001b[0m \u001b[0mANSWER\u001b[0m\u001b[1;33m)\u001b[0m\u001b[1;33m\u001b[0m\u001b[1;33m\u001b[0m\u001b[0m\n\u001b[0;32m     60\u001b[0m     \u001b[0mprint\u001b[0m\u001b[1;33m(\u001b[0m\u001b[1;34m\"{}S {}B \"\u001b[0m\u001b[1;33m.\u001b[0m\u001b[0mformat\u001b[0m\u001b[1;33m(\u001b[0m\u001b[0mstrike\u001b[0m\u001b[1;33m,\u001b[0m \u001b[0mball\u001b[0m\u001b[1;33m)\u001b[0m\u001b[1;33m)\u001b[0m\u001b[1;33m\u001b[0m\u001b[1;33m\u001b[0m\u001b[0m\n",
      "\u001b[1;32m<ipython-input-5-8ec2ed2b4b1a>\u001b[0m in \u001b[0;36mtake_guess\u001b[1;34m()\u001b[0m\n\u001b[0;32m     20\u001b[0m     \u001b[0mnew_guess\u001b[0m \u001b[1;33m=\u001b[0m \u001b[1;33m[\u001b[0m\u001b[1;33m]\u001b[0m\u001b[1;33m\u001b[0m\u001b[1;33m\u001b[0m\u001b[0m\n\u001b[0;32m     21\u001b[0m     \u001b[1;32mwhile\u001b[0m \u001b[0mi\u001b[0m \u001b[1;33m<\u001b[0m \u001b[1;36m3\u001b[0m\u001b[1;33m:\u001b[0m\u001b[1;33m\u001b[0m\u001b[1;33m\u001b[0m\u001b[0m\n\u001b[1;32m---> 22\u001b[1;33m         \u001b[0mgue_number\u001b[0m \u001b[1;33m=\u001b[0m \u001b[0mint\u001b[0m\u001b[1;33m(\u001b[0m\u001b[0minput\u001b[0m\u001b[1;33m(\u001b[0m\u001b[1;34m\"{}번째 숫자를 입력하세요: \"\u001b[0m\u001b[1;33m.\u001b[0m\u001b[0mformat\u001b[0m\u001b[1;33m(\u001b[0m\u001b[0mi\u001b[0m \u001b[1;33m+\u001b[0m \u001b[1;36m1\u001b[0m\u001b[1;33m)\u001b[0m\u001b[1;33m)\u001b[0m\u001b[1;33m)\u001b[0m\u001b[1;33m\u001b[0m\u001b[1;33m\u001b[0m\u001b[0m\n\u001b[0m\u001b[0;32m     23\u001b[0m         \u001b[1;32mif\u001b[0m \u001b[0mgue_number\u001b[0m \u001b[1;33m>\u001b[0m \u001b[1;36m9\u001b[0m\u001b[1;33m:\u001b[0m\u001b[1;33m\u001b[0m\u001b[1;33m\u001b[0m\u001b[0m\n\u001b[0;32m     24\u001b[0m             \u001b[0mprint\u001b[0m\u001b[1;33m(\u001b[0m\u001b[1;34m\"범위를 벗어나는 숫자입니다. 다시 입력하세요.\"\u001b[0m\u001b[1;33m)\u001b[0m\u001b[1;33m\u001b[0m\u001b[1;33m\u001b[0m\u001b[0m\n",
      "\u001b[1;31mValueError\u001b[0m: invalid literal for int() with base 10: ''"
     ]
    }
   ],
   "source": [
    "from random import randint\n",
    "\n",
    "\n",
    "def generate_numbers():\n",
    "    numbers = []\n",
    "    i = 0\n",
    "    new_number = 0\n",
    "    while i < 3:\n",
    "        new_number = randint(0, 9)\n",
    "        if new_number not in numbers:\n",
    "            numbers.append(new_number)\n",
    "            i += 1\n",
    "    print(\"0과 9 사이의 서로 다른 숫자 3개를 랜덤한 순서로 뽑았습니다.\\n\")\n",
    "    return numbers\n",
    "\n",
    "\n",
    "def take_guess():\n",
    "    print(\"숫자 3개를 하나씩 차례대로 입력하세요.\")\n",
    "    i = 0\n",
    "    new_guess = []\n",
    "    while i < 3:\n",
    "        gue_number = int(input(\"{}번째 숫자를 입력하세요: \".format(i + 1)))\n",
    "        if gue_number > 9:\n",
    "            print(\"범위를 벗어나는 숫자입니다. 다시 입력하세요.\")\n",
    "            continue\n",
    "        if gue_number in new_guess:\n",
    "            print(\"중복되는 숫자입니다. 다시 입력하세요. \")\n",
    "        else:\n",
    "            new_guess.append(gue_number)\n",
    "            i += 1\n",
    "\n",
    "    return new_guess\n",
    "\n",
    "\n",
    "def get_score(guess, solution):\n",
    "    strike_count = 0\n",
    "    ball_count = 0\n",
    "    i = 0\n",
    "\n",
    "    while i < len(guess):\n",
    "        if guess[i] == solution[i]:\n",
    "            strike_count += 1\n",
    "            i += 1\n",
    "        elif guess[i] in solution:\n",
    "            ball_count += 1\n",
    "            i += 1\n",
    "        else:\n",
    "            i += 1\n",
    "\n",
    "    return strike_count, ball_count\n",
    "\n",
    "\n",
    "# 여기서부터 게임 시작!\n",
    "ANSWER = generate_numbers()\n",
    "tries = 0\n",
    "\n",
    "while 1:\n",
    "    GUESS = take_guess()\n",
    "    strike, ball = get_score(GUESS, ANSWER)\n",
    "    print(\"{}S {}B \".format(strike, ball))\n",
    "\n",
    "    if strike == 3:\n",
    "        tries += 1\n",
    "        break\n",
    "    else:\n",
    "        tries += 1\n",
    "\n",
    "print(\"축하합니다. {}번 만에 숫자 3개의 값과 위치를 모두 맞추셨습니다.\".format(tries))\n",
    "\n",
    "\n"
   ]
  },
  {
   "cell_type": "markdown",
   "id": "8bd5d8f0",
   "metadata": {},
   "source": [
    "## 볼링 점수 계산"
   ]
  },
  {
   "cell_type": "code",
   "execution_count": 6,
   "id": "c2e7f486",
   "metadata": {},
   "outputs": [
    {
     "name": "stdout",
     "output_type": "stream",
     "text": [
      "SSSSSSSSSSSS\n",
      "flag: [2, 0, 0, 0, 0, 0, 0, 0, 0, 0, 0, 0]\n",
      "1 10 [10]\n",
      "flag: [1, 2, 0, 0, 0, 0, 0, 0, 0, 0, 0, 0]\n",
      "2 30 [20, 10]\n",
      "flag: [0, 1, 2, 0, 0, 0, 0, 0, 0, 0, 0, 0]\n",
      "3 60 [30, 20, 10]\n",
      "flag: [0, 0, 1, 2, 0, 0, 0, 0, 0, 0, 0, 0]\n",
      "4 90 [30, 30, 20, 10]\n",
      "flag: [0, 0, 0, 1, 2, 0, 0, 0, 0, 0, 0, 0]\n",
      "5 120 [30, 30, 30, 20, 10]\n",
      "flag: [0, 0, 0, 0, 1, 2, 0, 0, 0, 0, 0, 0]\n",
      "6 150 [30, 30, 30, 30, 20, 10]\n",
      "flag: [0, 0, 0, 0, 0, 1, 2, 0, 0, 0, 0, 0]\n",
      "7 180 [30, 30, 30, 30, 30, 20, 10]\n",
      "flag: [0, 0, 0, 0, 0, 0, 1, 2, 0, 0, 0, 0]\n",
      "8 210 [30, 30, 30, 30, 30, 30, 20, 10]\n",
      "flag: [0, 0, 0, 0, 0, 0, 0, 1, 2, 0, 0, 0]\n",
      "9 240 [30, 30, 30, 30, 30, 30, 30, 20, 10]\n",
      "flag: [0, 0, 0, 0, 0, 0, 0, 0, 1, 0, 0, 0]\n",
      "10 270 [30, 30, 30, 30, 30, 30, 30, 30, 20, 10]\n",
      "flag: [0, 0, 0, 0, 0, 0, 0, 0, 0, 0, 0, 0]\n",
      "11 290 [30, 30, 30, 30, 30, 30, 30, 30, 30, 10, 10]\n",
      "flag: [0, 0, 0, 0, 0, 0, 0, 0, 0, 0, 0, 0]\n",
      "12 300 [30, 30, 30, 30, 30, 30, 30, 30, 30, 10, 10, 10]\n",
      "300\n"
     ]
    }
   ],
   "source": [
    "\n",
    "def get_score(result):\n",
    "    score = []    \n",
    "    # flag - 2: strike, 1: spare, 0: nothing\n",
    "    flag = [0] * 12\n",
    "    # cnt : round, cnt_flag : 0; 1st shot | 1; 2nd shot\n",
    "    cnt, cnt_flag = 0, 0\n",
    "    for s in result:\n",
    "        if s == \"S\":\n",
    "            if cnt >= 2 and flag[cnt-2] != 0:\n",
    "                score[-2] += 10\n",
    "                flag[cnt-2] -= 1\n",
    "            if cnt >= 1 and flag[cnt-1] != 0:\n",
    "                score[-1] += 10\n",
    "                flag[cnt-1] -= 1\n",
    "            score.append(10)\n",
    "            if cnt <= 8:\n",
    "                flag[cnt] = 2\n",
    "            cnt += 1\n",
    "        elif s == \"P\":\n",
    "            if cnt >= 1 and flag[cnt-1] != 0:\n",
    "                score[-2] = score[-2] + 10 - score[-1]\n",
    "                flag[cnt-1] -= 1\n",
    "            score[-1] = 10\n",
    "            if cnt != 9:\n",
    "                flag[cnt] = 1\n",
    "            cnt += 1\n",
    "            cnt_flag = 0\n",
    "        elif s == \"-\":\n",
    "            if cnt >= 1 and flag[cnt-1] != 0:\n",
    "                flag[cnt-1] -= 1\n",
    "            if cnt_flag == 1:\n",
    "                cnt += 1\n",
    "                cnt_flag = 0\n",
    "            else:\n",
    "                score.append(0)\n",
    "                cnt_flag = 1\n",
    "        else:\n",
    "            int_score = int(s)\n",
    "            if cnt >= 2 and flag[cnt-2] != 0:\n",
    "                score[-2] += int_score\n",
    "                flag[cnt-2] -= 1\n",
    "            if cnt >= 1 and flag[cnt-1] != 0:\n",
    "                score[-1] += int_score\n",
    "                flag[cnt-1] -= 1\n",
    "            if flag[cnt] != 0:\n",
    "                score[-1] += int_score\n",
    "                flag[cnt] -= 1\n",
    "            if cnt_flag == 1:\n",
    "                score[-1] += int_score\n",
    "                cnt += 1\n",
    "                cnt_flag = 0\n",
    "            else:\n",
    "                cnt_flag = 1\n",
    "                score.append(int_score)\n",
    "        print(\"flag:\", flag)\n",
    "        print(cnt, sum(score), score)\n",
    "    return sum(score)\n",
    "\n",
    "if __name__ == \"__main__\":\n",
    "    result = input()\n",
    "    score = get_score(result)\n",
    "    print(score)\n"
   ]
  },
  {
   "cell_type": "markdown",
   "id": "4d4070f0",
   "metadata": {},
   "source": [
    "## 로또 번호"
   ]
  },
  {
   "cell_type": "code",
   "execution_count": 7,
   "id": "66f14699",
   "metadata": {},
   "outputs": [
    {
     "name": "stdout",
     "output_type": "stream",
     "text": [
      "번호를 몇 개 생성할까요 : 6\n",
      "[3, 16, 17, 20, 26, 43]\n",
      "[14, 19, 22, 28, 32, 44]\n",
      "[1, 6, 26, 33, 36, 37]\n",
      "[4, 16, 18, 29, 31, 38]\n",
      "[14, 16, 17, 26, 32, 43]\n",
      "[5, 20, 24, 31, 33, 42]\n"
     ]
    }
   ],
   "source": [
    "'''\n",
    "로또 번호 자동 생성 프로그램\n",
    "by 탐구소년\n",
    "'''\n",
    "import random\n",
    "\n",
    "cnt = 0\n",
    "\n",
    "# 숫자 외 다른 것을 입력할 시엔 예외 처리!\n",
    "try:\n",
    "    cnt = int(input(\"번호를 몇 개 생성할까요 : \"))\n",
    "except ValueError :\n",
    "    print(\"숫자만 입력할 수 있습니다.\")\n",
    "\n",
    "# 로또 번호 생성\n",
    "for i in range(cnt) :\n",
    "    lotto = random.sample(range(1, 46), 6) # 숫자 여섯개 고르기\n",
    "    lotto.sort() # 리스트를 오름차순으로 정렬하기\n",
    "    print(lotto)"
   ]
  },
  {
   "cell_type": "code",
   "execution_count": null,
   "id": "aad3f92e",
   "metadata": {},
   "outputs": [],
   "source": []
  }
 ],
 "metadata": {
  "kernelspec": {
   "display_name": "Python 3",
   "language": "python",
   "name": "python3"
  },
  "language_info": {
   "codemirror_mode": {
    "name": "ipython",
    "version": 3
   },
   "file_extension": ".py",
   "mimetype": "text/x-python",
   "name": "python",
   "nbconvert_exporter": "python",
   "pygments_lexer": "ipython3",
   "version": "3.8.8"
  }
 },
 "nbformat": 4,
 "nbformat_minor": 5
}
