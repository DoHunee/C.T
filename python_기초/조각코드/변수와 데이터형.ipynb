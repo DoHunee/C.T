{
 "cells": [
  {
   "cell_type": "code",
   "execution_count": 1,
   "id": "a8851672",
   "metadata": {},
   "outputs": [],
   "source": [
    "#연습문제 풀어보기"
   ]
  },
  {
   "cell_type": "code",
   "execution_count": 2,
   "id": "9b5f2d75",
   "metadata": {},
   "outputs": [
    {
     "name": "stdout",
     "output_type": "stream",
     "text": [
      "100\n"
     ]
    }
   ],
   "source": [
    "print(\"100\")"
   ]
  },
  {
   "cell_type": "code",
   "execution_count": 3,
   "id": "83b6c4ec",
   "metadata": {},
   "outputs": [
    {
     "name": "stdout",
     "output_type": "stream",
     "text": [
      "100+100\n"
     ]
    }
   ],
   "source": [
    "print(\"100+100\")"
   ]
  },
  {
   "cell_type": "code",
   "execution_count": 4,
   "id": "34b613cc",
   "metadata": {},
   "outputs": [
    {
     "name": "stdout",
     "output_type": "stream",
     "text": [
      "200\n"
     ]
    }
   ],
   "source": [
    "print(\"%d\" %(100+100))"
   ]
  },
  {
   "cell_type": "code",
   "execution_count": 5,
   "id": "829a1da0",
   "metadata": {},
   "outputs": [
    {
     "name": "stdout",
     "output_type": "stream",
     "text": [
      "2005\n"
     ]
    }
   ],
   "source": [
    "print(\"%d%d\" %(100+100 , 3+2))"
   ]
  },
  {
   "cell_type": "code",
   "execution_count": 6,
   "id": "1adef1a3",
   "metadata": {},
   "outputs": [
    {
     "name": "stdout",
     "output_type": "stream",
     "text": [
      "200        5\n"
     ]
    }
   ],
   "source": [
    "print(\"%d        %d\" %(100+100 , 3+2))"
   ]
  },
  {
   "cell_type": "code",
   "execution_count": 7,
   "id": "72916c91",
   "metadata": {},
   "outputs": [
    {
     "name": "stdout",
     "output_type": "stream",
     "text": [
      "100200\n"
     ]
    }
   ],
   "source": [
    "print(\"%d%d\" %(100 , 200))"
   ]
  },
  {
   "cell_type": "code",
   "execution_count": 8,
   "id": "866d827b",
   "metadata": {},
   "outputs": [
    {
     "name": "stdout",
     "output_type": "stream",
     "text": [
      "100\n"
     ]
    }
   ],
   "source": [
    "print(\"%d\" %(100.5))"
   ]
  },
  {
   "cell_type": "code",
   "execution_count": 9,
   "id": "af6a6f8e",
   "metadata": {},
   "outputs": [
    {
     "name": "stdout",
     "output_type": "stream",
     "text": [
      "100.500000\n"
     ]
    }
   ],
   "source": [
    "print(\"%f\" %(100.5))"
   ]
  },
  {
   "cell_type": "code",
   "execution_count": 10,
   "id": "d62e6d21",
   "metadata": {},
   "outputs": [
    {
     "ename": "TypeError",
     "evalue": "not enough arguments for format string",
     "output_type": "error",
     "traceback": [
      "\u001b[1;31m---------------------------------------------------------------------------\u001b[0m",
      "\u001b[1;31mTypeError\u001b[0m                                 Traceback (most recent call last)",
      "\u001b[1;32m<ipython-input-10-9d0232068133>\u001b[0m in \u001b[0;36m<module>\u001b[1;34m\u001b[0m\n\u001b[0;32m      1\u001b[0m \u001b[1;31m#이러면 오류\u001b[0m\u001b[1;33m\u001b[0m\u001b[1;33m\u001b[0m\u001b[1;33m\u001b[0m\u001b[0m\n\u001b[1;32m----> 2\u001b[1;33m \u001b[0mprint\u001b[0m\u001b[1;33m(\u001b[0m\u001b[1;34m\"%d%d\"\u001b[0m \u001b[1;33m%\u001b[0m\u001b[1;33m(\u001b[0m\u001b[1;36m100\u001b[0m\u001b[1;33m+\u001b[0m\u001b[1;36m200\u001b[0m\u001b[1;33m)\u001b[0m\u001b[1;33m)\u001b[0m\u001b[1;33m\u001b[0m\u001b[1;33m\u001b[0m\u001b[0m\n\u001b[0m",
      "\u001b[1;31mTypeError\u001b[0m: not enough arguments for format string"
     ]
    }
   ],
   "source": [
    "#이러면 오류\n",
    "print(\"%d%d\" %(100+200))"
   ]
  },
  {
   "cell_type": "code",
   "execution_count": 11,
   "id": "319dce83",
   "metadata": {},
   "outputs": [
    {
     "ename": "TypeError",
     "evalue": "not all arguments converted during string formatting",
     "output_type": "error",
     "traceback": [
      "\u001b[1;31m---------------------------------------------------------------------------\u001b[0m",
      "\u001b[1;31mTypeError\u001b[0m                                 Traceback (most recent call last)",
      "\u001b[1;32m<ipython-input-11-2fb221697e44>\u001b[0m in \u001b[0;36m<module>\u001b[1;34m\u001b[0m\n\u001b[0;32m      1\u001b[0m \u001b[1;31m#이러면 오류\u001b[0m\u001b[1;33m\u001b[0m\u001b[1;33m\u001b[0m\u001b[1;33m\u001b[0m\u001b[0m\n\u001b[1;32m----> 2\u001b[1;33m \u001b[0mprint\u001b[0m\u001b[1;33m(\u001b[0m\u001b[1;34m\"%d/%d\"\u001b[0m \u001b[1;33m%\u001b[0m\u001b[1;33m(\u001b[0m\u001b[1;36m100\u001b[0m\u001b[1;33m,\u001b[0m\u001b[1;36m200\u001b[0m\u001b[1;33m,\u001b[0m\u001b[1;36m0.5\u001b[0m\u001b[1;33m)\u001b[0m\u001b[1;33m)\u001b[0m\u001b[1;33m\u001b[0m\u001b[1;33m\u001b[0m\u001b[0m\n\u001b[0m",
      "\u001b[1;31mTypeError\u001b[0m: not all arguments converted during string formatting"
     ]
    }
   ],
   "source": [
    "#이러면 오류\n",
    "print(\"%d/%d\" %(100,200,0.5))"
   ]
  },
  {
   "cell_type": "code",
   "execution_count": 12,
   "id": "eeb50d5d",
   "metadata": {},
   "outputs": [
    {
     "name": "stdout",
     "output_type": "stream",
     "text": [
      "100 / 200 = 0.500000\n"
     ]
    }
   ],
   "source": [
    "print(\"%d / %d = %f\" %(100,200,0.5))"
   ]
  },
  {
   "cell_type": "code",
   "execution_count": 13,
   "id": "a03f266f",
   "metadata": {},
   "outputs": [
    {
     "name": "stdout",
     "output_type": "stream",
     "text": [
      "100 / 200 =   0.5\n"
     ]
    }
   ],
   "source": [
    "print(\"%d / %d = %5.1f\" %(100,200,0.5))"
   ]
  },
  {
   "cell_type": "code",
   "execution_count": 14,
   "id": "eefe0c60",
   "metadata": {},
   "outputs": [
    {
     "name": "stdout",
     "output_type": "stream",
     "text": [
      "123\n",
      "  123\n",
      "00123\n"
     ]
    }
   ],
   "source": [
    "print(\"%d\" %123 )\n",
    "print(\"%5d\" %123)    #5공간을 만들고 오른쪽부터!\n",
    "print(\"%05d\" %123)  #비워있는 자리를 0으로 채워라"
   ]
  },
  {
   "cell_type": "code",
   "execution_count": 15,
   "id": "1e5c0613",
   "metadata": {},
   "outputs": [
    {
     "name": "stdout",
     "output_type": "stream",
     "text": [
      "123.450000\n",
      "  123.5\n",
      "123.450\n"
     ]
    }
   ],
   "source": [
    "print(\"%f\" %123.45 )   #그냥 f를 사용하면 소수점6자리까지\n",
    "print(\"%7.1f\" %123.45) #7공간을 만든후에 소수점1자리까지\n",
    "print(\"%7.3f\" %123.45) #7공간을 만든후에 소수점3자리까지"
   ]
  },
  {
   "cell_type": "code",
   "execution_count": 16,
   "id": "5d2efe5d",
   "metadata": {},
   "outputs": [
    {
     "name": "stdout",
     "output_type": "stream",
     "text": [
      "python\n",
      "    python\n"
     ]
    }
   ],
   "source": [
    "print(\"%s\" %\"python\" )   \n",
    "print(\"%10s\" %\"python\" )   #10칸 생성\n"
   ]
  },
  {
   "cell_type": "code",
   "execution_count": 17,
   "id": "f8896dbf",
   "metadata": {},
   "outputs": [
    {
     "name": "stdout",
     "output_type": "stream",
     "text": [
      "200  100  300\n"
     ]
    }
   ],
   "source": [
    "print(\"{1:d}  {0:d}  {2:d}\".format(100,200,300))"
   ]
  },
  {
   "cell_type": "code",
   "execution_count": 18,
   "id": "0d093e47",
   "metadata": {},
   "outputs": [
    {
     "name": "stdout",
     "output_type": "stream",
     "text": [
      "100  200  300\n"
     ]
    }
   ],
   "source": [
    "print(\"{0:d}  {1:d}  {2:d}\".format(100,200,300))"
   ]
  },
  {
   "cell_type": "code",
   "execution_count": 19,
   "id": "02c6238f",
   "metadata": {},
   "outputs": [
    {
     "name": "stdout",
     "output_type": "stream",
     "text": [
      "300  200  100\n"
     ]
    }
   ],
   "source": [
    "print(\"{2:d}  {1:d}  {0:d}\".format(100,200,300))"
   ]
  },
  {
   "cell_type": "code",
   "execution_count": 20,
   "id": "b023962e",
   "metadata": {},
   "outputs": [
    {
     "name": "stdout",
     "output_type": "stream",
     "text": [
      "한 행. 또 한 행\n",
      "\n",
      "한 행. \n",
      "또 한 행\n"
     ]
    }
   ],
   "source": [
    "print(\"한 행. 또 한 행\\n\")\n",
    "print(\"한 행. \\n또 한 행\")"
   ]
  },
  {
   "cell_type": "code",
   "execution_count": 21,
   "id": "922ae98e",
   "metadata": {},
   "outputs": [
    {
     "name": "stdout",
     "output_type": "stream",
     "text": [
      "한 행. 또 한 행\n",
      "\n",
      "한 행. \t또 \t한 행\n",
      "한 행. 또 한 행\b\n",
      "한 행. 또 한\b 행\\\\\\\n",
      "한 행. 또 한 행'\n",
      "한 행. 또 한 행\"\n",
      "한 행. 또 한\b \t행\\\\\\\n"
     ]
    }
   ],
   "source": [
    "print(\"한 행. 또 한 행\\n\")\n",
    "print(\"한 행. \\t또 \\t한 행\")\n",
    "print(\"한 행. 또 한 행\\b\")\n",
    "print(\"한 행. 또 한\\b 행\\\\\\\\\\\\\")\n",
    "print(\"한 행. 또 한 행\\'\")\n",
    "print(\"한 행. 또 한 행\\\"\")\n",
    "print(\"한 행. 또 한\\b \\t행\\\\\\\\\\\\\")\n",
    "\n",
    "\n"
   ]
  },
  {
   "cell_type": "code",
   "execution_count": 22,
   "id": "f79325ba",
   "metadata": {},
   "outputs": [
    {
     "name": "stdout",
     "output_type": "stream",
     "text": [
      "    *\n",
      "    *\n"
     ]
    }
   ],
   "source": [
    "##5개 공간에 끝에서부터 표현\n",
    "##서식을 이용한 다양한 프린트 방법!\n",
    "print(\"%5s\" %\"*\")\n",
    "print(\"%s\" %\"    *\")\n",
    "#똑같은건데 표현법 다양하게 해서 표현해본기\n"
   ]
  },
  {
   "cell_type": "code",
   "execution_count": 23,
   "id": "24bef178",
   "metadata": {},
   "outputs": [
    {
     "name": "stdout",
     "output_type": "stream",
     "text": [
      "\\n은 즐바꿈입니다\n",
      "\\n은 줄바꿈입니다\n"
     ]
    }
   ],
   "source": [
    "print(\"\\\\n은 즐바꿈입니다\")\n",
    "print(r\"\\n은 줄바꿈입니다\")"
   ]
  },
  {
   "cell_type": "code",
   "execution_count": 24,
   "id": "065b4fae",
   "metadata": {
    "scrolled": true
   },
   "outputs": [
    {
     "data": {
      "text/plain": [
       "(bool, int, float, str)"
      ]
     },
     "execution_count": 24,
     "metadata": {},
     "output_type": "execute_result"
    }
   ],
   "source": [
    "#파이썬은 C/C++, 자바 등과는 달리 변수를 선언하지 않아도 되지만 \n",
    "#긴 코드를 작성할 때는 사용될 변수를 미리 계획적으로 준비하는 것이 더 효율적\n",
    "#bool은 참 거짓을 판단하는 값\n",
    "boolVar =True\n",
    "intVar = 0\n",
    "floatVar=0.0\n",
    "strVar=\"\"\n",
    "type(boolVar),type(intVar),type(floatVar),type(strVar)\n"
   ]
  },
  {
   "cell_type": "code",
   "execution_count": 25,
   "id": "604f223c",
   "metadata": {},
   "outputs": [
    {
     "data": {
      "text/plain": [
       "float"
      ]
     },
     "execution_count": 25,
     "metadata": {},
     "output_type": "execute_result"
    }
   ],
   "source": [
    "a=True\n",
    "type(a)\n",
    "a=10.01\n",
    "type(a)\n",
    "#알아서 타입이 바뀐다"
   ]
  },
  {
   "cell_type": "code",
   "execution_count": 26,
   "id": "cce9c02b",
   "metadata": {},
   "outputs": [
    {
     "data": {
      "text/plain": [
       "12"
      ]
     },
     "execution_count": 26,
     "metadata": {},
     "output_type": "execute_result"
    }
   ],
   "source": [
    "a=10\n",
    "c=a+2\n",
    "c"
   ]
  },
  {
   "cell_type": "code",
   "execution_count": 27,
   "id": "5d6706e8",
   "metadata": {},
   "outputs": [
    {
     "data": {
      "text/plain": [
       "'0b1011'"
      ]
     },
     "execution_count": 27,
     "metadata": {},
     "output_type": "execute_result"
    }
   ],
   "source": [
    "bin(11)"
   ]
  },
  {
   "cell_type": "code",
   "execution_count": 28,
   "id": "7cdcc20a",
   "metadata": {},
   "outputs": [
    {
     "data": {
      "text/plain": [
       "'0b1001'"
      ]
     },
     "execution_count": 28,
     "metadata": {},
     "output_type": "execute_result"
    }
   ],
   "source": [
    "bin(0o11)"
   ]
  },
  {
   "cell_type": "code",
   "execution_count": 29,
   "id": "0034514e",
   "metadata": {},
   "outputs": [
    {
     "data": {
      "text/plain": [
       "'0b10001'"
      ]
     },
     "execution_count": 29,
     "metadata": {},
     "output_type": "execute_result"
    }
   ],
   "source": [
    "bin(0x11)"
   ]
  },
  {
   "cell_type": "code",
   "execution_count": 30,
   "id": "51047979",
   "metadata": {},
   "outputs": [
    {
     "data": {
      "text/plain": [
       "'0xb'"
      ]
     },
     "execution_count": 30,
     "metadata": {},
     "output_type": "execute_result"
    }
   ],
   "source": [
    "hex(11)"
   ]
  },
  {
   "cell_type": "code",
   "execution_count": 43,
   "id": "57e74615",
   "metadata": {},
   "outputs": [],
   "source": [
    "##  2.14e5  == 2.14^(10^5)\n",
    "## a**2 = a^2\n",
    "## a//b 몫\n",
    "## a%b 나머지 \n"
   ]
  },
  {
   "cell_type": "code",
   "execution_count": 48,
   "id": "cb289d41",
   "metadata": {},
   "outputs": [
    {
     "name": "stdout",
     "output_type": "stream",
     "text": [
      "메인 함수 부분이 실행됩니다\n",
      "함수 호출\n",
      "변수값: 100\n"
     ]
    }
   ],
   "source": [
    "def myFunc():\n",
    "    print(\"함수 호출\")\n",
    "\n",
    "    \n",
    "a =100\n",
    "\n",
    "\n",
    "if __name__ == '__main__':\n",
    "    print(\"메인 함수 부분이 실행됩니다\")\n",
    "    myFunc()\n",
    "    print(\"변수값:\",a)"
   ]
  },
  {
   "cell_type": "code",
   "execution_count": 61,
   "id": "30f41201",
   "metadata": {},
   "outputs": [
    {
     "name": "stdout",
     "output_type": "stream",
     "text": [
      "a\n",
      "a\t\n",
      "b와\n",
      "cd&d&d\n",
      "c d\n"
     ]
    }
   ],
   "source": [
    "#주의\n",
    "print(\"a\")\n",
    "print(\"a\",end=\"\\t\\n\")\n",
    "print(\"b\",end=\"와\\n\")\n",
    "print(\"cd\",\"d\",\"d\",sep=\"&\")  ##sep은 어떤것으로 분리할지 표현\n",
    "print(\"c\",\"d\") #한칸 분리\n"
   ]
  }
 ],
 "metadata": {
  "kernelspec": {
   "display_name": "Python 3",
   "language": "python",
   "name": "python3"
  },
  "language_info": {
   "codemirror_mode": {
    "name": "ipython",
    "version": 3
   },
   "file_extension": ".py",
   "mimetype": "text/x-python",
   "name": "python",
   "nbconvert_exporter": "python",
   "pygments_lexer": "ipython3",
   "version": "3.8.8"
  }
 },
 "nbformat": 4,
 "nbformat_minor": 5
}
