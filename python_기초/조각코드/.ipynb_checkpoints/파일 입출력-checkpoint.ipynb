{
 "cells": [
  {
   "cell_type": "markdown",
   "id": "cde269f8",
   "metadata": {},
   "source": [
    "텍스트 문서에 나온 단어 숫자 출력하는 파이썬 예제\n",
    "\n",
    "텍스트 파일 이름을 입력 받은 후, 텍스트 파일에 존재하는 단어와 개수를 출력하는 파이썬 예제입니다. \n"
   ]
  },
  {
   "cell_type": "code",
   "execution_count": 1,
   "id": "70be3fa1",
   "metadata": {},
   "outputs": [
    {
     "ename": "SyntaxError",
     "evalue": "invalid syntax (<ipython-input-1-003750b81fd8>, line 1)",
     "output_type": "error",
     "traceback": [
      "\u001b[1;36m  File \u001b[1;32m\"<ipython-input-1-003750b81fd8>\"\u001b[1;36m, line \u001b[1;32m1\u001b[0m\n\u001b[1;33m    input(\"Enter the text filename: \")   --> raw_input(\"Enter the text filename: \")\u001b[0m\n\u001b[1;37m                                          ^\u001b[0m\n\u001b[1;31mSyntaxError\u001b[0m\u001b[1;31m:\u001b[0m invalid syntax\n"
     ]
    }
   ],
   "source": [
    "\n",
    "# wordcount.py\n",
    "# python v3.x\n",
    "\n",
    "name = input(\"Enter the text filename: \")\n",
    "f = open(name, 'r')\n",
    "text = f.read()\n",
    "words = text.split()\n",
    "word_counts = dict()\n",
    "\n",
    " \n",
    "\n",
    "for word in words:\n",
    "    word_counts[word] = word_counts.get(word, 0) + 1    # 단어의 카운트 증가\n",
    "\n",
    "for word, count in word_counts.items():\n",
    "    print(word, count)"
   ]
  },
  {
   "cell_type": "code",
   "execution_count": null,
   "id": "f96eddc1",
   "metadata": {},
   "outputs": [],
   "source": []
  }
 ],
 "metadata": {
  "kernelspec": {
   "display_name": "Python 3",
   "language": "python",
   "name": "python3"
  },
  "language_info": {
   "codemirror_mode": {
    "name": "ipython",
    "version": 3
   },
   "file_extension": ".py",
   "mimetype": "text/x-python",
   "name": "python",
   "nbconvert_exporter": "python",
   "pygments_lexer": "ipython3",
   "version": "3.8.8"
  }
 },
 "nbformat": 4,
 "nbformat_minor": 5
}
