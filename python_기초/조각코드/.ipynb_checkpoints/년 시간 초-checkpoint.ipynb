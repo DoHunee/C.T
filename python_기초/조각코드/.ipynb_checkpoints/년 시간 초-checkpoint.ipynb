{
 "cells": [
  {
   "cell_type": "markdown",
   "id": "20d9686f",
   "metadata": {},
   "source": [
    "## 윤년 구하기"
   ]
  },
  {
   "cell_type": "code",
   "execution_count": null,
   "id": "8bd09b60",
   "metadata": {},
   "outputs": [],
   "source": [
    "while True:\n",
    "    is_leap_year = None\n",
    "\n",
    "    year = int(input())\n",
    "\n",
    "    if year % 4 == 0:\n",
    "        if year % 100 == 0:\n",
    "            if year % 400 == 0:\n",
    "                is_leap_year = True\n",
    "            else:\n",
    "                is_leap_year = False\n",
    "        else:\n",
    "            is_leap_year = True\n",
    "    else:\n",
    "        is_leap_year = False\n",
    "\n",
    "    if is_leap_year:\n",
    "        print(f'{year} is a leap year')\n",
    "    else:\n",
    "        print(f'{year} is not a leap year')"
   ]
  },
  {
   "cell_type": "code",
   "execution_count": null,
   "id": "db8ffe4d",
   "metadata": {},
   "outputs": [],
   "source": [
    "year = int(input(\"년도를 입력하시오 : \"))\n",
    "\n",
    "if year % 4 == 0 :\n",
    "    if year % 100 == 0 :\n",
    "        if year % 400 == 0 :\n",
    "            print(year, \"년은 윤년입니다\")\n",
    "        else :\n",
    "            print(year, \"년은 평년입니다\")\n",
    "    else :\n",
    "        print(year, \"년은 윤년입니다\")\n",
    "else :\n",
    "    print(year, \"년은 평년입니다\")"
   ]
  },
  {
   "cell_type": "markdown",
   "id": "0cc98743",
   "metadata": {},
   "source": [
    "## 초를>> 시 분 초"
   ]
  },
  {
   "cell_type": "code",
   "execution_count": 1,
   "id": "2b9fbb3b",
   "metadata": {},
   "outputs": [
    {
     "name": "stdout",
     "output_type": "stream",
     "text": [
      "초를 입력하시오.456\n",
      "0 시간 7 분 36 초 입니다.\n"
     ]
    }
   ],
   "source": [
    "global s\n",
    "s = int(input(\"초를 입력하시오.\"))\n",
    "\n",
    "def hms():\n",
    "    global s\n",
    "    hours = s // 3600\n",
    "    s = s - hours*3600\n",
    "    mu = s // 60\n",
    "    ss = s - mu*60\n",
    "    print(hours, '시간', mu, '분', ss, '초 입니다.')\n",
    "\n",
    "hms()\n"
   ]
  },
  {
   "cell_type": "markdown",
   "id": "9f762275",
   "metadata": {},
   "source": [
    "## 두날짜 시간 차이"
   ]
  },
  {
   "cell_type": "code",
   "execution_count": 3,
   "id": "33711ff8",
   "metadata": {},
   "outputs": [
    {
     "name": "stdout",
     "output_type": "stream",
     "text": [
      "현재 : 2022-04-18 23:47:21.193833\n",
      "비교할 날짜 : 2020-12-25 00:00:00\n",
      "차이 : 479 days, 23:47:21.193833 , Type : <class 'datetime.timedelta'>\n",
      "일 수 차이 : 479\n",
      "마이크로초 차이 : 193833\n",
      "초 차이 : 85641\n",
      "분 차이 : 1427.35\n",
      "시간 차이 : 23.789166666666667\n"
     ]
    }
   ],
   "source": [
    "from datetime import datetime\n",
    "\n",
    "now  = datetime.now()\n",
    "print(\"현재 :\", now)\t# 현재 : 2021-01-09 21:51:33.170644\n",
    "\n",
    "date_to_compare = datetime.strptime(\"20201225\", \"%Y%m%d\")\n",
    "print(\"비교할 날짜 :\", date_to_compare)\t# 비교할 날짜 : 2020-12-25 00:00:00\n",
    "\n",
    "date_diff = now - date_to_compare\n",
    "print(\"차이 :\", date_diff, \", Type :\", type(date_diff))\t# 차이 : 15 days, 21:51:33.170644 , Type : <class 'datetime.timedelta'>\n",
    "\n",
    "print(\"일 수 차이 :\", date_diff.days)\t# 일 수 차이 : 15\n",
    "print(\"마이크로초 차이 :\", date_diff.microseconds)\t# 마이크로초 차이 : 170644\n",
    "print(\"초 차이 :\", date_diff.seconds)\t# 초 차이 : 78693\n",
    "print(\"분 차이 :\", date_diff.seconds / 60)\t# 분 차이 : 1311.55\n",
    "print(\"시간 차이 :\", date_diff.seconds / 3600)\t# 시간 차이 : 21.859166666666667"
   ]
  },
  {
   "cell_type": "code",
   "execution_count": 4,
   "id": "2e5ba991",
   "metadata": {},
   "outputs": [
    {
     "name": "stdout",
     "output_type": "stream",
     "text": [
      "현재 : 2022-04-18 23:48:25.877533\n",
      "1마이크로초 전 : 2022-04-18 23:48:25.877532\n",
      "1마이크로초 후 : 2022-04-18 23:48:25.877534\n",
      "1밀리초 전 : 2022-04-18 23:48:25.876533\n",
      "1밀리초 후 : 2022-04-18 23:48:25.878533\n",
      "1초 전 : 2022-04-18 23:48:24.877533\n",
      "1초 후 : 2022-04-18 23:48:26.877533\n",
      "1분 전 : 2022-04-18 23:47:25.877533\n",
      "1분 후 : 2022-04-18 23:49:25.877533\n",
      "1시간 전 : 2022-04-18 22:48:25.877533\n",
      "1시간 후 : 2022-04-19 00:48:25.877533\n",
      "1일 전 : 2022-04-17 23:48:25.877533\n",
      "1일 후 : 2022-04-19 23:48:25.877533\n",
      "1주 후 : 2022-04-11 23:48:25.877533\n",
      "1주 후 : 2022-04-25 23:48:25.877533\n"
     ]
    }
   ],
   "source": [
    "from datetime import datetime, timedelta\n",
    "\n",
    "now = datetime.now()\n",
    "print(\"현재 :\" , now)\t# 현재 : 2021-01-09 19:41:03.645702\n",
    "\n",
    "before_one_microsecond = now - timedelta(microseconds=1)\n",
    "print(\"1마이크로초 전 :\", before_one_microsecond) # 1마이크로초 전 : 2021-01-09 19:41:03.645701\n",
    "after_one_microsecond = now + timedelta(microseconds=1)\n",
    "print(\"1마이크로초 후 :\", after_one_microsecond)\t# 1마이크로초 후 : 2021-01-09 19:41:03.645703\n",
    "\n",
    "before_one_millisecond = now - timedelta(milliseconds=1)\n",
    "print(\"1밀리초 전 :\", before_one_millisecond)\t# 1밀리초 전 : 2021-01-09 19:41:03.644702\n",
    "after_one_millisecond = now + timedelta(milliseconds=1)\n",
    "print(\"1밀리초 후 :\", after_one_millisecond)\t# 1밀리초 후 : 2021-01-09 19:41:03.646702\n",
    "\n",
    "before_one_second = now - timedelta(seconds=1)\n",
    "print(\"1초 전 :\", before_one_second)\t# 1초 전 : 2021-01-09 19:41:02.645702\n",
    "after_one_second = now + timedelta(seconds=1)\n",
    "print(\"1초 후 :\", after_one_second)\t# 1초 후 : 2021-01-09 19:41:04.645702\n",
    "\n",
    "before_one_minute = now - timedelta(minutes=1)\n",
    "print(\"1분 전 :\", before_one_minute)\t# 1분 전 : 2021-01-09 19:40:03.645702\n",
    "after_one_minute = now + timedelta(minutes=1)\n",
    "print(\"1분 후 :\", after_one_minute)\t# 1분 후 : 2021-01-09 19:42:03.645702\n",
    "\n",
    "before_one_hour = now - timedelta(hours=1)\n",
    "print(\"1시간 전 :\", before_one_hour)\t# 1시간 전 : 2021-01-09 18:41:03.645702\n",
    "after_one_hour = now + timedelta(hours=1)\n",
    "print(\"1시간 후 :\", after_one_hour)\t# 1시간 후 : 2021-01-09 20:41:03.645702\n",
    "\n",
    "before_one_day = now - timedelta(days=1)\n",
    "print(\"1일 전 :\", before_one_day)\t# 1일 전 : 2021-01-08 19:41:03.645702\n",
    "after_one_day = now + timedelta(days=1)\n",
    "print(\"1일 후 :\", after_one_day)\t# 1일 후 : 2021-01-10 19:41:03.645702\n",
    "\n",
    "before_one_week = now - timedelta(weeks=1)\n",
    "print(\"1주 후 :\", before_one_week)\t# 1주 후 : 2021-01-02 19:41:03.645702\n",
    "after_one_week = now + timedelta(weeks=1)\n",
    "print(\"1주 후 :\", after_one_week)\t# 1주 후 : 2021-01-16 19:41:03.645702"
   ]
  },
  {
   "cell_type": "code",
   "execution_count": 5,
   "id": "f32c7111",
   "metadata": {},
   "outputs": [
    {
     "name": "stdout",
     "output_type": "stream",
     "text": [
      "문자열 변환 전 형식 :  <class 'datetime.datetime'>\n",
      "문자열 변환 후 출력 :  2021-12-31 13:35:42.657813\n",
      "문자열 변환 후 형식 :  <class 'str'>\n",
      "문자열 변환 후 출력 :  2021년 12월 31일 13시 35분 42.657813초\n"
     ]
    }
   ],
   "source": [
    "from datetime import datetime\n",
    "\n",
    "dt = datetime(2021, 12, 31, 13, 35, 42, 657813)\n",
    "\n",
    "result = dt.strftime(\"%Y년 %m월 %d일 %H시 %M분 %S.%f초\")\n",
    "\n",
    "print(\"문자열 변환 전 형식 : \", type(dt))\n",
    "print(\"문자열 변환 후 출력 : \", dt)\n",
    "print(\"문자열 변환 후 형식 : \", type(result))\n",
    "print(\"문자열 변환 후 출력 : \", result)\n",
    "\n",
    "# Output\n",
    "# 문자열 변환 전 형식 :  <class 'datetime.datetime'>\n",
    "# 문자열 변환 후 출력 :  2021-12-31 13:35:42.657813\n",
    "# 문자열 변환 후 형식 :  <class 'str'>\n",
    "# 문자열 변환 후 출력 :  2021년 12월 31일 13시 35분 42.657813초"
   ]
  },
  {
   "cell_type": "code",
   "execution_count": 6,
   "id": "dcb65026",
   "metadata": {},
   "outputs": [
    {
     "name": "stdout",
     "output_type": "stream",
     "text": [
      "2021-12-31 13:35:42.657813\n",
      "%Y (연도 (전체)) : 2021\n",
      "%y (연도 (뒤에 2자리만) :  21\n",
      "%m (월) :  12\n",
      "%B (Locale 월 표현 (전체)) :  December\n",
      "%b (Locale 월 표현 (축약형)) :  Dec\n",
      "%d (일) :  31\n",
      "%j (연중 일) :  365\n",
      "%H (시 (24시간제)) :  13\n",
      "%I (시 (12시간제)) :  01\n",
      "%p (Locale 오전, 오후) :  PM\n",
      "%M (분) :  35\n",
      "%S (초) :  42\n",
      "%f (마이크로초) :  657813\n",
      "%w (요일 (0 : 일요일, 6일 : 토요일)) :  5\n",
      "%A (Locale 요일 (전체)) :  Friday\n",
      "%a (Locale 요일 (축약형)) :  Fri\n",
      "%W (연중 몇 번째 주인지 표현 (월요일 시작 기준)) :  52\n",
      "%U (연중 몇 번째 주인지 표현 (일요일 시작 기준)) :  52\n",
      "%c (Locale 날짜와 시간 표현) :  Fri Dec 31 13:35:42 2021\n",
      "%x (Locale 날짜 표현) :  12/31/21\n",
      "%X (Locale 시간 표현) :  13:35:42\n",
      "%% (리터럴 '%' 문자) :  %\n"
     ]
    }
   ],
   "source": [
    "from datetime import datetime\n",
    "\n",
    "dt = datetime(2021, 12, 31, 13, 35, 42, 657813)\n",
    "\n",
    "print(dt)\n",
    "\n",
    "print(\"%Y (연도 (전체)) :\", dt.strftime(\"%Y\"))\n",
    "print(\"%y (연도 (뒤에 2자리만) : \", dt.strftime(\"%y\"))\n",
    "\n",
    "print(\"%m (월) : \", dt.strftime(\"%m\"))\n",
    "print(\"%B (Locale 월 표현 (전체)) : \", dt.strftime(\"%B\"))\n",
    "print(\"%b (Locale 월 표현 (축약형)) : \", dt.strftime(\"%b\"))\n",
    "\n",
    "print(\"%d (일) : \", dt.strftime(\"%d\"))\n",
    "print(\"%j (연중 일) : \", dt.strftime(\"%j\"))\n",
    "\n",
    "print(\"%H (시 (24시간제)) : \", dt.strftime(\"%H\"))\n",
    "print(\"%I (시 (12시간제)) : \", dt.strftime(\"%I\"))\n",
    "print(\"%p (Locale 오전, 오후) : \", dt.strftime(\"%p\"))\n",
    "\n",
    "print(\"%M (분) : \", dt.strftime(\"%M\"))\n",
    "\n",
    "print(\"%S (초) : \", dt.strftime(\"%S\"))\n",
    "\n",
    "print(\"%f (마이크로초) : \", dt.strftime(\"%f\"))\n",
    "\n",
    "print(\"%w (요일 (0 : 일요일, 6일 : 토요일)) : \", dt.strftime(\"%w\"))\n",
    "print(\"%A (Locale 요일 (전체)) : \", dt.strftime(\"%A\"))\n",
    "print(\"%a (Locale 요일 (축약형)) : \", dt.strftime(\"%a\"))\n",
    "\n",
    "print(\"%W (연중 몇 번째 주인지 표현 (월요일 시작 기준)) : \", dt.strftime(\"%W\"))\n",
    "print(\"%U (연중 몇 번째 주인지 표현 (일요일 시작 기준)) : \", dt.strftime(\"%U\"))\n",
    "\n",
    "print(\"%c (Locale 날짜와 시간 표현) : \", dt.strftime(\"%c\"))\n",
    "print(\"%x (Locale 날짜 표현) : \", dt.strftime(\"%x\"))\n",
    "print(\"%X (Locale 시간 표현) : \", dt.strftime(\"%X\"))\n",
    "print(\"%% (리터럴 '%' 문자) : \", dt.strftime(\"%%\"))\n",
    "\n",
    "# Output\n",
    "# 2021-12-31 13:35:42.657813\n",
    "# %Y (연도 (전체)) : 2021\n",
    "# %y (연도 (뒤에 2자리만) :  21\n",
    "# %m (월) :  12\n",
    "# %B (Locale 월 표현 (전체)) :  December\n",
    "# %b (Locale 월 표현 (축약형)) :  Dec\n",
    "# %d (일) :  31\n",
    "# %j (연중 일) :  365\n",
    "# %H (시 (24시간제)) :  13\n",
    "# %I (시 (12시간제)) :  01\n",
    "# %p (Locale 오전, 오후) :  PM\n",
    "# %M (분) :  35\n",
    "# %S (초) :  42\n",
    "# %f (마이크로초) :  657813\n",
    "# %w (요일 (0 : 일요일, 6일 : 토요일)) :  5\n",
    "# %A (Locale 요일 (전체)) :  Friday\n",
    "# %a (Locale 요일 (축약형)) :  Fri\n",
    "# %W (연중 몇 번째 주인지 표현 (월요일 시작 기준)) :  52\n",
    "# %U (연중 몇 번째 주인지 표현 (일요일 시작 기준)) :  52\n",
    "# %c (Locale 날짜와 시간 표현) :  Fri Dec 31 13:35:42 2021\n",
    "# %x (Locale 날짜 표현) :  12/31/21\n",
    "# %X (Locale 시간 표현) :  13:35:42\n",
    "# %% (리터럴 '%' 문자) :  %"
   ]
  }
 ],
 "metadata": {
  "kernelspec": {
   "display_name": "Python 3",
   "language": "python",
   "name": "python3"
  },
  "language_info": {
   "codemirror_mode": {
    "name": "ipython",
    "version": 3
   },
   "file_extension": ".py",
   "mimetype": "text/x-python",
   "name": "python",
   "nbconvert_exporter": "python",
   "pygments_lexer": "ipython3",
   "version": "3.8.8"
  }
 },
 "nbformat": 4,
 "nbformat_minor": 5
}
