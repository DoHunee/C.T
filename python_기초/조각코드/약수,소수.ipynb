{
 "cells": [
  {
   "cell_type": "markdown",
   "id": "d7d99e0b",
   "metadata": {},
   "source": [
    "## 약수 구하기"
   ]
  },
  {
   "cell_type": "code",
   "execution_count": 1,
   "id": "f8363625",
   "metadata": {},
   "outputs": [
    {
     "name": "stdout",
     "output_type": "stream",
     "text": [
      "수? 5\n",
      "1 5 \n"
     ]
    }
   ],
   "source": [
    "num = int(input(\"수? \"))\n",
    "\n",
    "for i in range(1, num+1):\n",
    "    if num % i == 0:\n",
    "        # 약수임\n",
    "        print(i, end=' ')\n",
    "print()"
   ]
  },
  {
   "cell_type": "markdown",
   "id": "87721e1a",
   "metadata": {},
   "source": [
    "## 약수 갯수 구하기"
   ]
  },
  {
   "cell_type": "code",
   "execution_count": 6,
   "id": "ac82b575",
   "metadata": {},
   "outputs": [
    {
     "name": "stdout",
     "output_type": "stream",
     "text": [
      "약수 개수를 구할 숫자를 입력하시오80\n",
      "1\n",
      "2\n",
      "4\n",
      "5\n",
      "8\n",
      "10\n",
      "16\n",
      "20\n",
      "40\n",
      "80\n",
      "80의 약수:10개\n"
     ]
    }
   ],
   "source": [
    "\n",
    "num=int(input(\"약수 개수를 구할 숫자를 입력하시오\"))\n",
    "index=1\n",
    "cnt=0\n",
    "\n",
    "while index <=num:\n",
    "    if num % index ==0:\n",
    "        print(index)\n",
    "        cnt +=1\n",
    "    index +=1\n",
    "print(f\"{num}의 약수:{cnt}개\")"
   ]
  },
  {
   "cell_type": "markdown",
   "id": "44c7c0b2",
   "metadata": {},
   "source": [
    "## 약수의 합"
   ]
  },
  {
   "cell_type": "code",
   "execution_count": 17,
   "id": "93200fe4",
   "metadata": {},
   "outputs": [
    {
     "name": "stdout",
     "output_type": "stream",
     "text": [
      "28\n"
     ]
    }
   ],
   "source": [
    "def sumDivisor(num):\n",
    "    answer = 0 \n",
    "    \n",
    "    for i in range(1,num+1):\n",
    "        if num%i==0:\n",
    "            answer += i \n",
    "    return answer \n",
    "\n",
    "# 아래는 테스트로 출력해 보기 위한 코드입니다. \n",
    "print(sumDivisor(12))\n"
   ]
  },
  {
   "cell_type": "markdown",
   "id": "64629542",
   "metadata": {},
   "source": [
    "## 소수판단"
   ]
  },
  {
   "cell_type": "code",
   "execution_count": 1,
   "id": "5206c10f",
   "metadata": {},
   "outputs": [
    {
     "name": "stdout",
     "output_type": "stream",
     "text": [
      "숫자를 입력하시오17\n",
      "소수입니다\n"
     ]
    }
   ],
   "source": [
    "k=input(\"숫자를 입력하시오\")\n",
    "k=int(k)\n",
    "\n",
    "\n",
    "if k > 1:\n",
    "    for i in range(2, int(k/2)+1):\n",
    "         if (k % i) == 0:\n",
    "            print(\"소수가 아닙니다\")\n",
    "            break\n",
    "    else:\n",
    "        print(\"소수입니다\")\n",
    "\n",
    "else:\n",
    "    print(\"소수가 아닙니다\")"
   ]
  },
  {
   "cell_type": "markdown",
   "id": "dd9df64b",
   "metadata": {},
   "source": [
    "## 약수의 개수가 짝수"
   ]
  },
  {
   "cell_type": "code",
   "execution_count": 2,
   "id": "732d6c76",
   "metadata": {},
   "outputs": [
    {
     "name": "stdout",
     "output_type": "stream",
     "text": [
      "a를 입력하세용3\n",
      "a를 입력하세용17\n",
      "12.291107936755434\n"
     ]
    }
   ],
   "source": [
    "import math\n",
    "\n",
    "a=int(input(\"a를 입력하세용\"))\n",
    "b=int(input(\"a를 입력하세용\"))\n",
    "\n",
    "root_a = math.sqrt(a-1)\n",
    "root_b = math.sqrt(b)\n",
    "\n",
    "\n",
    "odd=(root_b)-(root_a)\n",
    "\n",
    "print((b-a+1)-odd)"
   ]
  },
  {
   "cell_type": "markdown",
   "id": "20b7147b",
   "metadata": {},
   "source": [
    "## 교수님 문제: 1에서 10까지 소수구하는 알고리즘"
   ]
  },
  {
   "cell_type": "code",
   "execution_count": 2,
   "id": "b1dbba3d",
   "metadata": {},
   "outputs": [
    {
     "name": "stdout",
     "output_type": "stream",
     "text": [
      " 2  3  5  7  11  13  17  19  23  29  31  37  41  43  47  53  59  61  67  71  73  79  83  89  97 "
     ]
    }
   ],
   "source": [
    "#이중반복이 포인트\n",
    "for i in range(2,101):\n",
    "    count=0\n",
    "    for k in range(1,i+1):\n",
    "        if i%k ==0:\n",
    "            count +=1\n",
    "            \n",
    "    if count < 3:\n",
    "        print(\" %d \"%i,end='')"
   ]
  },
  {
   "cell_type": "markdown",
   "id": "44f038c6",
   "metadata": {},
   "source": [
    "## 교수님 문제: 1에서 10까지 소수구하는 알고리즘"
   ]
  },
  {
   "cell_type": "code",
   "execution_count": 3,
   "id": "63aaba2e",
   "metadata": {},
   "outputs": [
    {
     "name": "stdout",
     "output_type": "stream",
     "text": [
      "첫번째 수를 입력하세요:2\n",
      "두번째 수를 입력하세요:100\n",
      "2의 약수가 2개이므로 \"소수\"입니다.\n",
      "3의 약수가 2개이므로 \"소수\"입니다.\n",
      "5의 약수가 2개이므로 \"소수\"입니다.\n",
      "7의 약수가 2개이므로 \"소수\"입니다.\n",
      "11의 약수가 2개이므로 \"소수\"입니다.\n",
      "13의 약수가 2개이므로 \"소수\"입니다.\n",
      "17의 약수가 2개이므로 \"소수\"입니다.\n",
      "19의 약수가 2개이므로 \"소수\"입니다.\n",
      "23의 약수가 2개이므로 \"소수\"입니다.\n",
      "29의 약수가 2개이므로 \"소수\"입니다.\n",
      "31의 약수가 2개이므로 \"소수\"입니다.\n",
      "37의 약수가 2개이므로 \"소수\"입니다.\n",
      "41의 약수가 2개이므로 \"소수\"입니다.\n",
      "43의 약수가 2개이므로 \"소수\"입니다.\n",
      "47의 약수가 2개이므로 \"소수\"입니다.\n",
      "53의 약수가 2개이므로 \"소수\"입니다.\n",
      "59의 약수가 2개이므로 \"소수\"입니다.\n",
      "61의 약수가 2개이므로 \"소수\"입니다.\n",
      "67의 약수가 2개이므로 \"소수\"입니다.\n",
      "71의 약수가 2개이므로 \"소수\"입니다.\n",
      "73의 약수가 2개이므로 \"소수\"입니다.\n",
      "79의 약수가 2개이므로 \"소수\"입니다.\n",
      "83의 약수가 2개이므로 \"소수\"입니다.\n",
      "89의 약수가 2개이므로 \"소수\"입니다.\n",
      "97의 약수가 2개이므로 \"소수\"입니다.\n"
     ]
    }
   ],
   "source": [
    "a = int(input(\"첫번째 수를 입력하세요:\"))\n",
    "b = int(input(\"두번째 수를 입력하세요:\"))\n",
    "    \n",
    "while a <= b:\n",
    "    count = 0  # 약수의 개수를 세어줄 변수\n",
    "    i = 1  # 1~num까지 증가할 변수\n",
    "    while i <= a:\n",
    "        if a % i == 0:  # 나누어지면 약수\n",
    "            count += 1\n",
    "        i += 1  # 1증가\n",
    "    if count == 2:  # 약수의 개수가 2개면 출력\n",
    "        print('{0}의 약수가 {1}개이므로 \"소수\"입니다.'.format(a, count))\n",
    "\n",
    "    a += 1  # 100까지 증가"
   ]
  },
  {
   "cell_type": "markdown",
   "id": "849bc6ea",
   "metadata": {},
   "source": [
    "## 두 수의 공약수 구하는 프로그램"
   ]
  },
  {
   "cell_type": "code",
   "execution_count": 7,
   "id": "c9d4d46d",
   "metadata": {},
   "outputs": [
    {
     "name": "stdout",
     "output_type": "stream",
     "text": [
      "첫번째 수를 입력하세요 : 4\n",
      "두번째 수를 입력하세요 : 36\n",
      "4와 36의 공약수는 [1, 2, 4]\n"
     ]
    }
   ],
   "source": [
    "num1 = int(input(\"첫번째 수를 입력하세요 : \"))\n",
    "num2 = int(input(\"두번째 수를 입력하세요 : \"))\n",
    "data = []\n",
    "\n",
    "for i in range(1, num1 + 1):\n",
    "  if (num1 % i == 0) & (num2 % i == 0):\n",
    "    data.append(i)\n",
    "  \n",
    "print(\"%d와 %d의 공약수는\"%(num1, num2), data)"
   ]
  },
  {
   "cell_type": "markdown",
   "id": "55840bce",
   "metadata": {},
   "source": [
    "## 두 수의 최대공약수"
   ]
  },
  {
   "cell_type": "code",
   "execution_count": 12,
   "id": "ac132c72",
   "metadata": {},
   "outputs": [
    {
     "name": "stdout",
     "output_type": "stream",
     "text": [
      "첫번째 수를 입력하세요 : 4\n",
      "두번째 수를 입력하세요 : 5\n",
      "4와 5의 최대공약수는 1\n"
     ]
    }
   ],
   "source": [
    "num1 = int(input(\"첫번째 수를 입력하세요 : \"))\n",
    "num2 = int(input(\"두번째 수를 입력하세요 : \"))\n",
    "\n",
    "for i in range(1, num1 + 1):\n",
    "  if (num1 % i == 0) & (num2 % i == 0):\n",
    "    gcd = i \n",
    "  \n",
    "print(\"%d와 %d의 최대공약수는 %d\"%(num1, num2, gcd))"
   ]
  },
  {
   "cell_type": "markdown",
   "id": "61fee155",
   "metadata": {},
   "source": [
    "## 세 수의 최대공약수"
   ]
  },
  {
   "cell_type": "code",
   "execution_count": 10,
   "id": "5a805abd",
   "metadata": {},
   "outputs": [
    {
     "name": "stdout",
     "output_type": "stream",
     "text": [
      "첫번째 수를 입력하세요 : 4\n",
      "두번째 수를 입력하세요 : 12\n",
      "세번째 수를 입력하세요 : 19\n",
      "최대공약수는 1\n"
     ]
    }
   ],
   "source": [
    "num1 = int(input(\"첫번째 수를 입력하세요 : \"))\n",
    "num2 = int(input(\"두번째 수를 입력하세요 : \"))\n",
    "num3 = int(input(\"세번째 수를 입력하세요 : \"))\n",
    "\n",
    "for i in range(1, num1 + 1):\n",
    "  if (num1 % i == 0) & (num2 % i == 0):\n",
    "    gcd = i \n",
    "\n",
    "if num3 > gcd:\n",
    "  greater = num3\n",
    "  smaller = gcd\n",
    "else:\n",
    "  greater = gcd\n",
    "  smaller = num3\n",
    "\n",
    "for i in range(1, greater + 1):\n",
    "  if (greater % i == 0) & (smaller % i == 0):\n",
    "    gcd = i\n",
    "  \n",
    "print(\"최대공약수는 %d\"%(gcd))\n"
   ]
  },
  {
   "cell_type": "markdown",
   "id": "81eaa64d",
   "metadata": {},
   "source": [
    "## 서로소 판별"
   ]
  },
  {
   "cell_type": "code",
   "execution_count": 8,
   "id": "4c2d782c",
   "metadata": {},
   "outputs": [
    {
     "name": "stdout",
     "output_type": "stream",
     "text": [
      "첫번째 수를 입력하세요 : 4\n",
      "두번째 수를 입력하세요 : 5\n",
      "두 수는 서로소입니다.\n"
     ]
    }
   ],
   "source": [
    "num1 = int(input(\"첫번째 수를 입력하세요 : \"))\n",
    "num2 = int(input(\"두번째 수를 입력하세요 : \"))\n",
    "data = []\n",
    "\n",
    "for i in range(1, num1 + 1):\n",
    "  if (num1 % i == 0) & (num2 % i == 0):\n",
    "    data.append(i)\n",
    "    gcd = i\n",
    "\n",
    "if gcd == 1:\n",
    "  print(\"두 수는 서로소입니다.\")\n",
    "else:\n",
    "  print(\"두 수는 서로소가 아니군요.\")"
   ]
  },
  {
   "cell_type": "markdown",
   "id": "5cb68f92",
   "metadata": {},
   "source": [
    "## 공배수 찾기"
   ]
  },
  {
   "cell_type": "code",
   "execution_count": 14,
   "id": "e8447acf",
   "metadata": {},
   "outputs": [
    {
     "name": "stdout",
     "output_type": "stream",
     "text": [
      "첫번째 수: 4\n",
      "두번째 수 : 5\n",
      "공배수 [20]\n",
      "최소공배수 20\n"
     ]
    }
   ],
   "source": [
    "number1 = int(input(\"첫번째 수: \"))\n",
    "number2 = int(input(\"두번째 수 : \"))\n",
    "\n",
    "data1 = []\n",
    "data2 = []\n",
    "cm = []\n",
    "\n",
    "for i in range(1, number2+1):\n",
    "  data1.append(i*number1)\n",
    "for i in range(1, number1+1):\n",
    "  data2.append(i*number2)\n",
    "\n",
    "for i in data1:\n",
    "  if i in data2:\n",
    "    cm.append(i)\n",
    "\n",
    "print(\"공배수\", cm)\n",
    "print(\"최소공배수\", cm[0])"
   ]
  },
  {
   "cell_type": "markdown",
   "id": "2ec15843",
   "metadata": {},
   "source": [
    "## 두 수의 최소공배수"
   ]
  },
  {
   "cell_type": "code",
   "execution_count": 13,
   "id": "48f62009",
   "metadata": {},
   "outputs": [
    {
     "name": "stdout",
     "output_type": "stream",
     "text": [
      "첫번째 수: 4\n",
      "두번째 수 : 5\n",
      "최소공배수 20\n"
     ]
    }
   ],
   "source": [
    "number1 = int(input(\"첫번째 수: \"))\n",
    "number2 = int(input(\"두번째 수 : \"))\n",
    "\n",
    "data1 = []\n",
    "data2 = []\n",
    "\n",
    "for i in range(1, number2+1):\n",
    "  data1.append(i*number1)\n",
    "for i in range(1, number1+1):\n",
    "  data2.append(i*number2)\n",
    "\n",
    "for i in data1:\n",
    "  if i in data2:\n",
    "    lcm = i\n",
    "    break\n",
    "\n",
    "print(\"최소공배수\", lcm)"
   ]
  },
  {
   "cell_type": "markdown",
   "id": "7d785b45",
   "metadata": {},
   "source": [
    "## 세 수의 최소공배수"
   ]
  },
  {
   "cell_type": "code",
   "execution_count": 15,
   "id": "4132803b",
   "metadata": {},
   "outputs": [
    {
     "name": "stdout",
     "output_type": "stream",
     "text": [
      "첫번째 수 : 7\n",
      "두번째 수 : 15\n",
      "세번째 수 : 23\n",
      "최소공배수 : 2415\n"
     ]
    }
   ],
   "source": [
    "number1 = int(input(\"첫번째 수 : \"))\n",
    "number2 = int(input(\"두번째 수 : \"))\n",
    "number3 = int(input(\"세번째 수 : \"))\n",
    "\n",
    "if number1 > number2:\n",
    "  greater = number1\n",
    "else:\n",
    "  greater = number2\n",
    "while(1):\n",
    "  if (greater % number1 == 0) & (greater % number2 == 0):\n",
    "    lcm = greater\n",
    "    break\n",
    "  greater += 1\n",
    "\n",
    "if number3 > lcm:\n",
    "  greater = number3\n",
    "else:\n",
    "  greater = lcm\n",
    "while(1):\n",
    "  if (greater % number3 == 0) & (greater % lcm == 0):\n",
    "    lcm = greater\n",
    "    break\n",
    "  greater += 1\n",
    "\n",
    "print(\"최소공배수 :\", lcm)"
   ]
  },
  {
   "cell_type": "markdown",
   "id": "0d84d0f0",
   "metadata": {},
   "source": [
    "## 1부터 1000까지의 자연수 중 3의 배수의 합을 구하시오"
   ]
  },
  {
   "cell_type": "code",
   "execution_count": 16,
   "id": "00de5555",
   "metadata": {},
   "outputs": [
    {
     "name": "stdout",
     "output_type": "stream",
     "text": [
      "166833\n"
     ]
    }
   ],
   "source": [
    "num = 0\n",
    "sum = 0\n",
    "while num < 1000:\n",
    "    num += 1\n",
    "    if (num % 3) != 0: continue\n",
    "    sum = sum + num\n",
    "print(sum)"
   ]
  },
  {
   "cell_type": "markdown",
   "id": "3fdff103",
   "metadata": {},
   "source": [
    "## [최대공약수,최소공배수]"
   ]
  },
  {
   "cell_type": "code",
   "execution_count": 18,
   "id": "eb72fd2b",
   "metadata": {},
   "outputs": [
    {
     "name": "stdout",
     "output_type": "stream",
     "text": [
      "[3, 12]\n"
     ]
    }
   ],
   "source": [
    "def gcdlcm(a, b): \n",
    "    def _gcd(x,y):\n",
    "        if y==0: return x \n",
    "        return _gcd(y,x%y) \n",
    "    g = _gcd(a,b) \n",
    "    return [ g, a*b//g ] # '//' 은 나눗셈의 몫 \n",
    "\n",
    "# 아래는 테스트로 출력해 보기 위한 코드입니다. \n",
    "print(gcdlcm(3,12))\n"
   ]
  },
  {
   "cell_type": "markdown",
   "id": "40fbf8dd",
   "metadata": {},
   "source": [
    "## 1과 20000사이의 친화수"
   ]
  },
  {
   "cell_type": "code",
   "execution_count": null,
   "id": "d0aaa347",
   "metadata": {},
   "outputs": [
    {
     "name": "stdout",
     "output_type": "stream",
     "text": [
      "220 의 친화수 284\n",
      "284 의 친화수 220\n",
      "1184 의 친화수 1210\n",
      "1210 의 친화수 1184\n",
      "2620 의 친화수 2924\n",
      "2924 의 친화수 2620\n",
      "5020 의 친화수 5564\n",
      "5564 의 친화수 5020\n",
      "6232 의 친화수 6368\n",
      "6368 의 친화수 6232\n",
      "10744 의 친화수 10856\n",
      "10856 의 친화수 10744\n",
      "12285 의 친화수 14595\n",
      "14595 의 친화수 12285\n",
      "17296 의 친화수 18416\n",
      "18416 의 친화수 17296\n",
      "63020 의 친화수 76084\n",
      "66928 의 친화수 66992\n",
      "66992 의 친화수 66928\n",
      "67095 의 친화수 71145\n",
      "69615 의 친화수 87633\n"
     ]
    }
   ],
   "source": [
    "sum1=0\n",
    "sum2=0\n",
    "for i in range(1,200000):\n",
    "    for j in range(1,i):\n",
    "        if i%j==0:\n",
    "            sum1+=j\n",
    "    for k in range(1,sum1):\n",
    "        if sum1 %k ==0:\n",
    "            sum2+=k\n",
    "    if(i== sum2) and (i != sum1):\n",
    "        print(i,\"의 친화수\",sum1)\n",
    "    sum1=0\n",
    "    sum2=0"
   ]
  },
  {
   "cell_type": "markdown",
   "id": "477d5752",
   "metadata": {},
   "source": [
    "## 쌍둥이 소수"
   ]
  },
  {
   "cell_type": "code",
   "execution_count": null,
   "id": "62717664",
   "metadata": {},
   "outputs": [],
   "source": [
    "### 쌍둥이 소수를 최대한 구해보기\n",
    "# '친절한 수론 길라잡이' 11쪽 참고\n",
    "# 쌍둥이 소수: 소수의 목록엔 인접한 홀수 2개가 모두 소수인 경우가 있다... \n",
    "# 쌍둥이 소수는 무수히 많을까? 다시 말해, p + 2도 역시 소수인 소수 p가 무수히 많을까?\n",
    "# 현재는 이 질문에 대한 답은 아무도 모른다.\n",
    "\n",
    "# 어떤 수가 소수인지 판단. 그 수를 그 수의 루트까지 나눠봐서 나눠지면 소수, \n",
    "# 아니면 소수가 아니다.\n",
    "# 소수이면 1, 아니면 0을 반환\n",
    "def isPrime(num):\n",
    "  root_val = round(num ** 0.5) # 제곱근 값을 구한다\n",
    "  for i in range(2, root_val+1): # 제곱근값+1 까지만 약수를 조사해도 충분하다\n",
    "    if num % i == 0:  # 중간에 나눠지면 소수가 아니다\n",
    "      return False\n",
    "  return True   # 끝까지 나눠지지 않을 경우, 소수로 판정하고 리턴한다.\n",
    "\n",
    "i = 5  # 현재 수\n",
    "prev_prime = 3 # 이전에 등장한 소수\n",
    "count = 0  # 쌍둥이 소수 등장 횟수 \n",
    "while True: \n",
    "  if isPrime(i): # 현재 수가 소수라면\n",
    "    if i - prev_prime == 2: # 이전의 소수(홀수)가 인접한 소수(홀수)라면\n",
    "      count += 1\n",
    "      print(f\"({prev_prime}, {i})    {count}\")\n",
    "    prev_prime = i\n",
    "  i += 2  # 짝수에 대해서는 굳이 소수 여부 조사를 할 필요가 없음. 홀수에 대해서만 조사함"
   ]
  },
  {
   "cell_type": "markdown",
   "id": "02f01358",
   "metadata": {},
   "source": [
    "## 3^n - 1이 소수가 되는 n 찾기"
   ]
  },
  {
   "cell_type": "code",
   "execution_count": null,
   "id": "ced20c0a",
   "metadata": {},
   "outputs": [],
   "source": [
    "# '친절한 수론 길라잡이' 연습문제 14.3.a\n",
    "\n",
    "# \"(n>=2 이면) 3^n - 1은 항상 짝수이므로 소수가 될 수 없다. # 하지만, (3^n-1)/2가 소수인 \n",
    "# 경우는 종종 있다. 예를 들어, (3^3 - 1)/2 = 13은 소수이다.\n",
    "# a) (3^n - 1)/2 형태의 다른 소수를 찾아보아라.\"\n",
    "\n",
    "def isPrime(num):\n",
    "  root_val = round(num ** 0.5) # 제곱근 값을 구한다\n",
    "  for i in range(2, root_val+1): # 제곱근값+1 까지만 약수를 조사해도 충분하다\n",
    "    if num % i == 0:  # 중간에 나눠지면 소수가 아니다\n",
    "      return False\n",
    "  return True   # 끝까지 나눠지지 않을 경우, 소수로 판정하고 리턴한다.\n",
    "\n",
    "\n",
    "for i in range(2, 60):\n",
    "  ans = (3**i)//2\n",
    "  if isPrime(ans):\n",
    "    print(\"----------\", i, ans)\n",
    "  else:\n",
    "    print(f\"{i}, {ans}는 소수가 아닙니다.\")\n",
    "\n",
    "# 자연수의 제곱수 구하기\n",
    "count = 0\n",
    "for i in range(1, 100000000000):\n",
    "  count += 1\n",
    "  print(i, i**2, \"(\", count, \")\")"
   ]
  },
  {
   "cell_type": "markdown",
   "id": "143a2fee",
   "metadata": {},
   "source": [
    "결과:\n",
    "\n",
    "2, 4는 소수가 아닙니다.\n",
    "---------- 3 13\n",
    "4, 40는 소수가 아닙니다.\n",
    "5, 121는 소수가 아닙니다.\n",
    "6, 364는 소수가 아닙니다.\n",
    "---------- 7 1093\n",
    "8, 3280는 소수가 아닙니다.\n",
    "9, 9841는 소수가 아닙니다.\n",
    "10, 29524는 소수가 아닙니다.\n",
    "11, 88573는 소수가 아닙니다.\n",
    "12, 265720는 소수가 아닙니다.\n",
    "---------- 13 797161\n",
    "14, 2391484는 소수가 아닙니다.\n",
    "15, 7174453는 소수가 아닙니다.\n",
    "16, 21523360는 소수가 아닙니다.\n",
    "17, 64570081는 소수가 아닙니다.\n",
    "18, 193710244는 소수가 아닙니다.\n",
    "19, 581130733는 소수가 아닙니다.\n",
    "20, 1743392200는 소수가 아닙니다.\n",
    "21, 5230176601는 소수가 아닙니다.\n",
    "22, 15690529804는 소수가 아닙니다.\n",
    "23, 47071589413는 소수가 아닙니다.\n",
    "24, 141214768240는 소수가 아닙니다.\n",
    "25, 423644304721는 소수가 아닙니다.\n",
    "26, 1270932914164는 소수가 아닙니다.\n",
    "27, 3812798742493는 소수가 아닙니다.\n",
    "28, 11438396227480는 소수가 아닙니다.\n",
    "29, 34315188682441는 소수가 아닙니다.\n",
    "30, 102945566047324는 소수가 아닙니다.\n",
    "31, 308836698141973는 소수가 아닙니다.\n",
    "32, 926510094425920는 소수가 아닙니다.\n",
    "33, 2779530283277761는 소수가 아닙니다.\n",
    "34, 8338590849833284는 소수가 아닙니다.\n",
    "35, 25015772549499853는 소수가 아닙니다.\n",
    "36, 75047317648499560는 소수가 아닙니다.\n",
    "37, 225141952945498681는 소수가 아닙니다.\n",
    "38, 675425858836496044는 소수가 아닙니다.\n",
    "39, 2026277576509488133는 소수가 아닙니다.\n",
    "40, 6078832729528464400는 소수가 아닙니다.\n",
    "41, 18236498188585393201는 소수가 아닙니다.\n",
    "42, 54709494565756179604는 소수가 아닙니다.\n",
    "43, 164128483697268538813는 소수가 아닙니다.\n",
    "44, 492385451091805616440는 소수가 아닙니다.\n",
    "45, 1477156353275416849321는 소수가 아닙니다.\n",
    "46, 4431469059826250547964는 소수가 아닙니다.\n",
    "47, 13294407179478751643893는 소수가 아닙니다.\n",
    "48, 39883221538436254931680는 소수가 아닙니다.\n",
    "49, 119649664615308764795041는 소수가 아닙니다.\n",
    "50, 358948993845926294385124는 소수가 아닙니다.\n",
    "51, 1076846981537778883155373는 소수가 아닙니다.\n",
    "52, 3230540944613336649466120는 소수가 아닙니다.\n",
    "53, 9691622833840009948398361는 소수가 아닙니다.\n",
    "54, 29074868501520029845195084는 소수가 아닙니다.\n",
    "55, 87224605504560089535585253는 소수가 아닙니다.\n",
    "56, 261673816513680268606755760는 소수가 아닙니다.\n",
    "57, 785021449541040805820267281는 소수가 아닙니다.\n",
    "58, 2355064348623122417460801844는 소수가 아닙니다."
   ]
  },
  {
   "cell_type": "code",
   "execution_count": null,
   "id": "8d11ff8d",
   "metadata": {},
   "outputs": [],
   "source": []
  }
 ],
 "metadata": {
  "kernelspec": {
   "display_name": "Python 3",
   "language": "python",
   "name": "python3"
  },
  "language_info": {
   "codemirror_mode": {
    "name": "ipython",
    "version": 3
   },
   "file_extension": ".py",
   "mimetype": "text/x-python",
   "name": "python",
   "nbconvert_exporter": "python",
   "pygments_lexer": "ipython3",
   "version": "3.8.8"
  }
 },
 "nbformat": 4,
 "nbformat_minor": 5
}
