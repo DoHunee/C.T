{
 "cells": [
  {
   "cell_type": "markdown",
   "id": "31e58555",
   "metadata": {},
   "source": [
    "## 리스트와 문자열의 차이 "
   ]
  },
  {
   "cell_type": "code",
   "execution_count": 8,
   "id": "cc82f003",
   "metadata": {},
   "outputs": [
    {
     "data": {
      "text/plain": [
       "[20, 30]"
      ]
     },
     "execution_count": 8,
     "metadata": {},
     "output_type": "execute_result"
    }
   ],
   "source": [
    "aa=[10,20,30,40,50]\n",
    "aa[1:3]"
   ]
  },
  {
   "cell_type": "code",
   "execution_count": 9,
   "id": "96942b04",
   "metadata": {},
   "outputs": [
    {
     "data": {
      "text/plain": [
       "'파이썬최고'"
      ]
     },
     "execution_count": 9,
     "metadata": {},
     "output_type": "execute_result"
    }
   ],
   "source": [
    "ss = '파이썬'+'최고'\n",
    "ss"
   ]
  },
  {
   "cell_type": "code",
   "execution_count": 10,
   "id": "efa0f839",
   "metadata": {},
   "outputs": [
    {
     "data": {
      "text/plain": [
       "'파이썬파이썬파이썬'"
      ]
     },
     "execution_count": 10,
     "metadata": {},
     "output_type": "execute_result"
    }
   ],
   "source": [
    "ss = '파이썬'*3\n",
    "ss"
   ]
  },
  {
   "cell_type": "code",
   "execution_count": 11,
   "id": "fd445f3a",
   "metadata": {},
   "outputs": [
    {
     "data": {
      "text/plain": [
       "7"
      ]
     },
     "execution_count": 11,
     "metadata": {},
     "output_type": "execute_result"
    }
   ],
   "source": [
    "ss='파이썬abcd'\n",
    "len(ss)"
   ]
  },
  {
   "cell_type": "markdown",
   "id": "597138d3",
   "metadata": {},
   "source": [
    "## 글자 사이에 $추가\n",
    "## 교수님 문제"
   ]
  },
  {
   "cell_type": "code",
   "execution_count": 2,
   "id": "5f60d71a",
   "metadata": {},
   "outputs": [
    {
     "name": "stdout",
     "output_type": "stream",
     "text": [
      "파$이$썬$짱$!$"
     ]
    },
    {
     "data": {
      "text/plain": [
       "5"
      ]
     },
     "execution_count": 2,
     "metadata": {},
     "output_type": "execute_result"
    }
   ],
   "source": [
    "ss='파이썬짱!'\n",
    "\n",
    "sslen= len(ss)\n",
    "for i in range(0,sslen):\n",
    "    print(ss[i] + '$',end='')\n",
    "sslen"
   ]
  },
  {
   "cell_type": "code",
   "execution_count": 2,
   "id": "c23bfd02",
   "metadata": {},
   "outputs": [
    {
     "name": "stdout",
     "output_type": "stream",
     "text": [
      "문자를 입력하세요파이썬짱!\n",
      "파$이$썬$짱$!\n"
     ]
    }
   ],
   "source": [
    "ss=input(\"문자를 입력하세요\")\n",
    "\n",
    "sslen= len(ss)\n",
    "for i in range(0,sslen-1):\n",
    "    print(ss[i] + '$',end='')\n",
    "print(ss[sslen-1])"
   ]
  },
  {
   "cell_type": "markdown",
   "id": "56c196a8",
   "metadata": {},
   "source": [
    "# 홀수는 출력 짝수는 #로 표시"
   ]
  },
  {
   "cell_type": "code",
   "execution_count": 3,
   "id": "dd7bc5ad",
   "metadata": {},
   "outputs": [
    {
     "name": "stdout",
     "output_type": "stream",
     "text": [
      "문자를 입력하세요가나다라\n",
      "가#다#"
     ]
    }
   ],
   "source": [
    "##홀수에 #가 돠게 출력 \n",
    "ss=input(\"문자를 입력하세요\")\n",
    "\n",
    "sslen= len(ss)\n",
    "\n",
    "for i in range(0,sslen):\n",
    "    if i%2 == 0:\n",
    "        print(ss[i],end='')\n",
    "        \n",
    "    else:\n",
    "        print('#',end='')\n",
    "        \n",
    "    \n",
    "        "
   ]
  },
  {
   "cell_type": "markdown",
   "id": "7f89b801",
   "metadata": {},
   "source": [
    "## 입력된 문자열 거꾸로 출력\n"
   ]
  },
  {
   "cell_type": "code",
   "execution_count": 4,
   "id": "a1008b53",
   "metadata": {},
   "outputs": [
    {
     "name": "stdout",
     "output_type": "stream",
     "text": [
      "문자열을 입력하세요:안녕하세요\n",
      "내용을 거꾸로 출력-->요세하녕안\n"
     ]
    }
   ],
   "source": [
    "inStr,outStr=\"\",\"\" #배열 초기화!  #outStr은 반드시 존재하여야한다\n",
    "count,i=0,0\n",
    "\n",
    "inStr=input(\"문자열을 입력하세요:\") #공서영바보\n",
    "count = len(inStr)  #count = 5\n",
    "\n",
    "for i in range(0,count): #0~5까지 반복\n",
    "    outStr=outStr+inStr[count-(i+1)]  #4 3 2 1 0 이런식으로!!\n",
    "    \n",
    "print(\"내용을 거꾸로 출력-->%s\"%outStr)"
   ]
  },
  {
   "cell_type": "markdown",
   "id": "3099a1fa",
   "metadata": {},
   "source": [
    "# ## 대문자 소문자 변환기"
   ]
  },
  {
   "cell_type": "code",
   "execution_count": 6,
   "id": "a790e03a",
   "metadata": {},
   "outputs": [
    {
     "name": "stdout",
     "output_type": "stream",
     "text": [
      "PYTHON IS EASY.그래서 PROGRAMMING이 재미있습니다.^^\n",
      "python is easy.그래서 programming이 재미있습니다.^^\n",
      "pYTHON IS eASY.그래서 PROGRAMMING이 재미있습니다.^^\n",
      "Python Is Easy.그래서 Programming이 재미있습니다.^^\n"
     ]
    }
   ],
   "source": [
    "##대문자 소문자니까 영문에만 적용!\n",
    "ss='Python is Easy.그래서 programming이 재미있습니다.^^'\n",
    "print(\"%s\"%ss.upper())       #모두 대문자\n",
    "print(\"%s\"%ss.lower())       #모두 소문자\n",
    "print(\"%s\"%ss.swapcase())    #대문자 소문자 스위칭\n",
    "print(\"%s\"%ss.title())       #단어의 첫글자 대문자로 변경\n"
   ]
  },
  {
   "cell_type": "markdown",
   "id": "b503f3e4",
   "metadata": {},
   "source": [
    "## 문자열이 괄호로 감싸 있지 않으면 괄호로 감싸 주는 프로그램"
   ]
  },
  {
   "cell_type": "code",
   "execution_count": 8,
   "id": "f1c5d4ae",
   "metadata": {},
   "outputs": [
    {
     "name": "stdout",
     "output_type": "stream",
     "text": [
      "입력 문자열 ==>안녕하세요\n",
      "출력 문자열==>(안녕하세요)"
     ]
    }
   ],
   "source": [
    "ss= input(\"입력 문자열 ==>\")\n",
    "print(\"출력 문자열==>\",end = '')\n",
    "\n",
    "if ss.startswith('(') == False:\n",
    "    print(\"(\",end = '')\n",
    "    \n",
    "print(ss,end = '')\n",
    "\n",
    "if ss.endswith(')') == False:\n",
    "    print(\")\",end='')"
   ]
  },
  {
   "cell_type": "markdown",
   "id": "92d4bad0",
   "metadata": {},
   "source": [
    "## 괄호 없애기 \n",
    "## 교수님 문제"
   ]
  },
  {
   "cell_type": "code",
   "execution_count": 11,
   "id": "859c4f92",
   "metadata": {},
   "outputs": [
    {
     "name": "stdout",
     "output_type": "stream",
     "text": [
      "안녕하세요\n"
     ]
    }
   ],
   "source": [
    "string = \"(안녕하세요)\"\n",
    "string = string.replace(\"(\",\"\").replace(\")\",\"\")\n",
    "print(string)"
   ]
  },
  {
   "cell_type": "markdown",
   "id": "7d5e9745",
   "metadata": {},
   "source": [
    "## 문자열 중간의 공백까지 삭제해 주는 코드"
   ]
  },
  {
   "cell_type": "code",
   "execution_count": 10,
   "id": "fe2f3708",
   "metadata": {},
   "outputs": [
    {
     "name": "stdout",
     "output_type": "stream",
     "text": [
      "원래 문자열 ==>[  한글 python 프로그래밍  ]\n",
      "공백 삭제 문자열 ==>[한글python프로그래밍]\n"
     ]
    }
   ],
   "source": [
    "inStr = '  한글 python 프로그래밍  '\n",
    "ourStr = '' #리스트 초기화\n",
    "\n",
    "for i in range(0, len(inStr)):\n",
    "    if inStr[i] !=' ':\n",
    "        ourStr +=inStr[i]\n",
    "        \n",
    "        \n",
    "print(\"원래 문자열 ==>\"+'['+inStr+']')\n",
    "print(\"공백 삭제 문자열 ==>\"+'['+ourStr+']')\n"
   ]
  },
  {
   "cell_type": "markdown",
   "id": "89a17640",
   "metadata": {},
   "source": [
    "## 특정 문자를 변경\n",
    "## replace를 안 쓸때는 이런식으로 길게 해야한다"
   ]
  },
  {
   "cell_type": "code",
   "execution_count": 12,
   "id": "25c989f4",
   "metadata": {},
   "outputs": [
    {
     "name": "stdout",
     "output_type": "stream",
     "text": [
      "입력 문자열 ==>IT Cookbook for python\n",
      "출력 문자열 ==>IT C$$kb$$k f$r pyth$n"
     ]
    }
   ],
   "source": [
    "ss = input(\"입력 문자열 ==>\")\n",
    "\n",
    "print(\"출력 문자열 ==>\",end='')\n",
    "for i in range(0,len(ss)):\n",
    "    if ss[i] != 'o':\n",
    "        print(ss[i], end='')\n",
    "    else:\n",
    "        print('$',end = '')"
   ]
  },
  {
   "cell_type": "markdown",
   "id": "0a0139ab",
   "metadata": {},
   "source": [
    "## replace를 사용하면 위의 코드를 아래 한줄로!"
   ]
  },
  {
   "cell_type": "code",
   "execution_count": 7,
   "id": "d27cf481",
   "metadata": {},
   "outputs": [
    {
     "name": "stdout",
     "output_type": "stream",
     "text": [
      "입력 문자열 ==>IT Cookbook for python\n",
      "IT C$$kb$$k f$r pyth$n\n"
     ]
    }
   ],
   "source": [
    "ss = input(\"입력 문자열 ==>\")\n",
    "print(ss.replace('o','$'))"
   ]
  },
  {
   "cell_type": "markdown",
   "id": "08f3a761",
   "metadata": {},
   "source": [
    "## 10년후 날짜"
   ]
  },
  {
   "cell_type": "code",
   "execution_count": 1,
   "id": "75fe8c8b",
   "metadata": {},
   "outputs": [
    {
     "name": "stdout",
     "output_type": "stream",
     "text": [
      "날짜(연/월/일)입력 ==> 2022/11/04\n",
      "입력한 날짜와 10년후==>2032년11월04일\n"
     ]
    }
   ],
   "source": [
    "ss= input(\"날짜(연/월/일)입력 ==> \")\n",
    "ssList= ss.split('/') #입력한 문자열을 /로 분리 >>splir이후에는 반드시 리스트형으로 나온다\n",
    "                      #ssList에 ['2017','12','31']형식으로 분리\n",
    "\n",
    "print(\"입력한 날짜와 10년후==>\",end='')\n",
    "print(str(int(ssList[0])+10)+\"년\",end='') #값을 정수화 한다\n",
    "print(ssList[1]+'월',end='')\n",
    "print(ssList[2]+'일')\n",
    "\n"
   ]
  },
  {
   "cell_type": "markdown",
   "id": "5c348897",
   "metadata": {},
   "source": [
    "## 문자열을 정수화"
   ]
  },
  {
   "cell_type": "code",
   "execution_count": 1,
   "id": "ff8d54c8",
   "metadata": {},
   "outputs": [
    {
     "name": "stdout",
     "output_type": "stream",
     "text": [
      "[2019, 12, 31]\n"
     ]
    }
   ],
   "source": [
    "before = ['2019','12','31']\n",
    "after = list(map(int,before)) #믄지열을 정수화 시킴\n",
    "print(after)"
   ]
  },
  {
   "cell_type": "markdown",
   "id": "dfaa9c2d",
   "metadata": {},
   "source": [
    "## '<<<파<<이>>썬>>>'    파이썬 으로 변환\n"
   ]
  },
  {
   "cell_type": "code",
   "execution_count": 6,
   "id": "b3125c6a",
   "metadata": {},
   "outputs": [
    {
     "name": "stdout",
     "output_type": "stream",
     "text": [
      "원래 문자열 ==>[<<<파<<이>>썬>>>]\n",
      "공백 삭제 문자열 ==>[파이썬]\n"
     ]
    }
   ],
   "source": [
    "inStr = '<<<파<<이>>썬>>>'\n",
    "ourStr = '' #리스트 초기화\n",
    "\n",
    "for i in range(0, len(inStr)):\n",
    "    if (inStr[i] !='<') and (inStr[i] !='>'):\n",
    "        ourStr +=inStr[i]\n",
    "        \n",
    "        \n",
    "print(\"원래 문자열 ==>\"+'['+inStr+']')\n",
    "print(\"공백 삭제 문자열 ==>\"+'['+ourStr+']')\n"
   ]
  },
  {
   "cell_type": "markdown",
   "id": "d6510ccd",
   "metadata": {},
   "source": [
    "## 문자열 (찾기)함수\n",
    "모두 매소드 함수이다\n",
    "count(), find(), rfind(), index(), rindex(), startswith(), endswith()"
   ]
  },
  {
   "cell_type": "code",
   "execution_count": 12,
   "id": "746ed148",
   "metadata": {},
   "outputs": [
    {
     "name": "stdout",
     "output_type": "stream",
     "text": [
      "2\n",
      "4 21 21 -1\n",
      "4 21 21\n",
      "True False True\n"
     ]
    }
   ],
   "source": [
    "ss='파이썬 공부는 즐겁습니다. 물론 모든 공부가 다 재미있지는 않죠.^^'\n",
    "print(\"%s\"%ss.count('공부'))  #공부 cnt\n",
    "print(ss.find('공부'),ss.rfind('공부'),ss.find('공부',5),ss.find('없다'))    #찾는 단어가 없으면 -1 반환\n",
    "print(ss.index('공부'),ss.rindex('공부'),ss.index('공부',5))\n",
    "print(ss.startswith('파이썬'),ss.startswith('파이썬',10),ss.endswith('^^'))\n",
    "#startswith 해당 문자열로 시작하는기?\n",
    "#startswith('파이썬',10) 10번째 부터 해당 문자열로 시작하는기?\n"
   ]
  },
  {
   "cell_type": "markdown",
   "id": "9b27601c",
   "metadata": {},
   "source": [
    "## 문자열 공백 삭제·변경하기 : strip(), rstrip(), lstrip(), replace() "
   ]
  },
  {
   "cell_type": "code",
   "execution_count": 14,
   "id": "7949413b",
   "metadata": {},
   "outputs": [
    {
     "name": "stdout",
     "output_type": "stream",
     "text": [
      "파 이 썬\n",
      " 파 이 썬\n",
      "파 이 썬 \n"
     ]
    }
   ],
   "source": [
    "ss=' 파 이 썬 '\n",
    "print(ss.strip())\n",
    "print(ss.rstrip())\n",
    "print(ss.lstrip())"
   ]
  },
  {
   "cell_type": "markdown",
   "id": "fe8cee04",
   "metadata": {},
   "source": [
    "## 앞뒤의 특정 문자 삭제 "
   ]
  },
  {
   "cell_type": "code",
   "execution_count": 16,
   "id": "b8dc2239",
   "metadata": {},
   "outputs": [
    {
     "name": "stdout",
     "output_type": "stream",
     "text": [
      "파---이---썬---- \n",
      "파 << 이 >> 썬\n"
     ]
    }
   ],
   "source": [
    "ss = '----파---이---썬---- '\n",
    "print(ss.strip('-'))\n",
    "ss = '<<<파 << 이 >> 썬>>>'\n",
    "print(ss.strip('<>'))"
   ]
  },
  {
   "cell_type": "markdown",
   "id": "8be57d70",
   "metadata": {},
   "source": [
    "## 문자열 변경"
   ]
  },
  {
   "cell_type": "code",
   "execution_count": 17,
   "id": "d011a801",
   "metadata": {},
   "outputs": [
    {
     "data": {
      "text/plain": [
       "'열심히 python 공부 중~~'"
      ]
     },
     "execution_count": 17,
     "metadata": {},
     "output_type": "execute_result"
    }
   ],
   "source": [
    "ss= '열심히 파이썬 공부 중~~'\n",
    "ss.replace('파이썬','python')    "
   ]
  },
  {
   "cell_type": "markdown",
   "id": "052e2533",
   "metadata": {},
   "source": [
    "# 문자열 분리·결합하기 : split(), splitlines(), join()\n",
    "## 해당 결과가 리스트가 되는것을 인지해라!! >>TEST"
   ]
  },
  {
   "cell_type": "code",
   "execution_count": 18,
   "id": "8d00e565",
   "metadata": {},
   "outputs": [
    {
     "name": "stdout",
     "output_type": "stream",
     "text": [
      "['python을', '열심히', '공부', '중']\n",
      "['하나', '둘', '셋']\n",
      "['하나', '둘', '셋']\n"
     ]
    },
    {
     "data": {
      "text/plain": [
       "'파%이%썬'"
      ]
     },
     "execution_count": 18,
     "metadata": {},
     "output_type": "execute_result"
    }
   ],
   "source": [
    "ss='python을 열심히 공부 중 '\n",
    "print(ss.split()) #공백을 제거\n",
    "\n",
    "ss = '하나:둘:셋'\n",
    "print(ss.split(':')) # :을 제거\n",
    "\n",
    "ss = '하나\\n둘\\n셋'\n",
    "print(ss.splitlines()) #줄바꿈표시 없애기   #파일 입출력 할떄 많이 쓴다 >>한 줄 한 줄 문서를 다뤄야 하니까!!!\n",
    "\n",
    "ss = '%'\n",
    "ss.join('파이썬')\n"
   ]
  },
  {
   "cell_type": "code",
   "execution_count": 19,
   "id": "682f46ed",
   "metadata": {},
   "outputs": [
    {
     "name": "stdout",
     "output_type": "stream",
     "text": [
      "   파이썬    \n",
      "---파이썬----\n",
      "파이썬       \n",
      "       파이썬\n",
      "0000000파이썬\n"
     ]
    }
   ],
   "source": [
    "ss='파이썬'\n",
    "print(ss.center(10))\n",
    "print(ss.center(10,'-'))\n",
    "print(ss.ljust(10))\n",
    "print(ss.rjust(10))\n",
    "print(ss.zfill(10))"
   ]
  },
  {
   "cell_type": "code",
   "execution_count": 20,
   "id": "a9ef0007",
   "metadata": {},
   "outputs": [
    {
     "name": "stdout",
     "output_type": "stream",
     "text": [
      "파이썬      -\n",
      "파이썬-------\n",
      "       파이썬 -\n",
      "-------파이썬\n"
     ]
    }
   ],
   "source": [
    "ss='파이썬'#채우는 문자를 지정하는것도 가능하다\n",
    "print(ss.ljust(8),'-') #원하는 위치에 채우기\n",
    "print(ss.ljust(10,'-'))  \n",
    "print(ss.rjust(10),'-')\n",
    "print(ss.rjust(10,'-'))  \n"
   ]
  },
  {
   "cell_type": "code",
   "execution_count": 22,
   "id": "37456c3e",
   "metadata": {},
   "outputs": [
    {
     "data": {
      "text/plain": [
       "True"
      ]
     },
     "execution_count": 22,
     "metadata": {},
     "output_type": "execute_result"
    }
   ],
   "source": [
    "'1234'.isdigit() #숫자로만"
   ]
  },
  {
   "cell_type": "code",
   "execution_count": 23,
   "id": "819e993b",
   "metadata": {},
   "outputs": [
    {
     "data": {
      "text/plain": [
       "True"
      ]
     },
     "execution_count": 23,
     "metadata": {},
     "output_type": "execute_result"
    }
   ],
   "source": [
    "'abcd'.isalpha() #문자로만"
   ]
  },
  {
   "cell_type": "code",
   "execution_count": 24,
   "id": "824677bd",
   "metadata": {},
   "outputs": [
    {
     "data": {
      "text/plain": [
       "True"
      ]
     },
     "execution_count": 24,
     "metadata": {},
     "output_type": "execute_result"
    }
   ],
   "source": [
    "'abc123'.isalnum() #숫자+글자"
   ]
  },
  {
   "cell_type": "code",
   "execution_count": 25,
   "id": "8016fcca",
   "metadata": {},
   "outputs": [
    {
     "data": {
      "text/plain": [
       "True"
      ]
     },
     "execution_count": 25,
     "metadata": {},
     "output_type": "execute_result"
    }
   ],
   "source": [
    "'abcd'.islower()  #소문자"
   ]
  },
  {
   "cell_type": "code",
   "execution_count": 26,
   "id": "f6d211be",
   "metadata": {},
   "outputs": [
    {
     "data": {
      "text/plain": [
       "True"
      ]
     },
     "execution_count": 26,
     "metadata": {},
     "output_type": "execute_result"
    }
   ],
   "source": [
    "'ABCD'.isupper() #대문자"
   ]
  },
  {
   "cell_type": "code",
   "execution_count": 27,
   "id": "7e0c9ef6",
   "metadata": {},
   "outputs": [
    {
     "data": {
      "text/plain": [
       "True"
      ]
     },
     "execution_count": 27,
     "metadata": {},
     "output_type": "execute_result"
    }
   ],
   "source": [
    "'   '.isspace() #공백"
   ]
  },
  {
   "cell_type": "code",
   "execution_count": 28,
   "id": "af2b2c47",
   "metadata": {},
   "outputs": [
    {
     "data": {
      "text/plain": [
       "True"
      ]
     },
     "execution_count": 28,
     "metadata": {},
     "output_type": "execute_result"
    }
   ],
   "source": [
    "ss='abcd123'\n",
    "ss.isalnum()"
   ]
  },
  {
   "cell_type": "code",
   "execution_count": 29,
   "id": "f3629820",
   "metadata": {},
   "outputs": [
    {
     "data": {
      "text/plain": [
       "True"
      ]
     },
     "execution_count": 29,
     "metadata": {},
     "output_type": "execute_result"
    }
   ],
   "source": [
    "ss='안녕123'\n",
    "ss.isalnum()"
   ]
  },
  {
   "attachments": {
    "%EC%BA%A1%EC%B2%98.PNG": {
     "image/png": "[encoded data removed]"
    }
   },
   "cell_type": "markdown",
   "id": "d429a373",
   "metadata": {},
   "source": [
    "![%EC%BA%A1%EC%B2%98.PNG](attachment:%EC%BA%A1%EC%B2%98.PNG)"
   ]
  },
  {
   "cell_type": "code",
   "execution_count": 21,
   "id": "865570b5",
   "metadata": {},
   "outputs": [
    {
     "name": "stdout",
     "output_type": "stream",
     "text": [
      "문자열을 입력하세요\n",
      "12\n",
      "숫자입니다\n"
     ]
    }
   ],
   "source": [
    "ss= input(\"문자열을 입력하세요\\n\")\n",
    "        \n",
    "\n",
    "if ss.isalpha() == True:\n",
    "    print(\"글자입니다\")\n",
    "    \n",
    "elif ss.isdigit() == True:\n",
    "    print(\"숫자입니다\")\n",
    "    \n",
    "elif ss.isalnum() == True:\n",
    "    print(\"글자+숫자입니다\")\n",
    "\n",
    "    \n",
    "else :\n",
    "    print(\"모르겠습니다\")\n",
    "\n",
    "    "
   ]
  }
 ],
 "metadata": {
  "kernelspec": {
   "display_name": "Python 3",
   "language": "python",
   "name": "python3"
  },
  "language_info": {
   "codemirror_mode": {
    "name": "ipython",
    "version": 3
   },
   "file_extension": ".py",
   "mimetype": "text/x-python",
   "name": "python",
   "nbconvert_exporter": "python",
   "pygments_lexer": "ipython3",
   "version": "3.8.8"
  }
 },
 "nbformat": 4,
 "nbformat_minor": 5
}
