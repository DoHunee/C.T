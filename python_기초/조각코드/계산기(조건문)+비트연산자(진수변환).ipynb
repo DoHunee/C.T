{
 "cells": [
  {
   "cell_type": "markdown",
   "id": "dd68b50d",
   "metadata": {},
   "source": [
    "## 기능이 2개인 종합 계산기"
   ]
  },
  {
   "cell_type": "code",
   "execution_count": 3,
   "id": "d1af34de",
   "metadata": {},
   "outputs": [
    {
     "name": "stdout",
     "output_type": "stream",
     "text": [
      "1.입력한 수식 계산 2.두 수 사이의 합계:1\n",
      "***수식을 입력하세요:3*4/2-5\n",
      "3*4/2-5 결과는   1.0입니다\n"
     ]
    }
   ],
   "source": [
    "select,answer,numStr,num1,num2=0,0,\"\",0,0\n",
    "\n",
    "select = int(input(\"1.입력한 수식 계산 2.두 수 사이의 합계:\"))\n",
    "\n",
    "if select == 1:\n",
    "    numStr = input(\"***수식을 입력하세요:\")\n",
    "    answer = eval(numStr)\n",
    "    print(\"%s 결과는 %5.1f입니다\" %(numStr,answer))\n",
    "\n",
    "elif select == 2:\n",
    "    num1=int(input(\"***첫번쨰 숫자를 입력하세요:\"))\n",
    "    num2=int(input(\"***두번쨰 숫자를 입력하세요:\"))\n",
    "    for i in range(num1,num2+1):\n",
    "        answer = answer+1\n",
    "    print(\"%d+...+%d는 %d입니다.\"%(num1,num2,answer))  \n",
    "    \n",
    "else:\n",
    "    print(\"1또는 2만 입력해야합니다\")\n",
    "    "
   ]
  },
  {
   "cell_type": "markdown",
   "id": "5abcbe42",
   "metadata": {},
   "source": [
    "## 학점 계산기"
   ]
  },
  {
   "cell_type": "code",
   "execution_count": null,
   "id": "2401e3cb",
   "metadata": {},
   "outputs": [],
   "source": [
    "#중첨 if문\n",
    "\n",
    "score=int(input(\"점수를 입력하세요:\"))\n",
    "\n",
    "if score >= 95:\n",
    "    print(\"A+\")\n",
    "\n",
    "elif 95> score >= 90:\n",
    "    print(\"A0\")    \n",
    "    \n",
    "elif 90> score >= 85:\n",
    "    print(\"B+\")    \n",
    "        \n",
    "elif 85 >score >= 80:\n",
    "    print(\"B0\")    \n",
    "\n",
    "elif 80 >score >= 75:\n",
    "    print(\"C+\")    \n",
    "    \n",
    "elif 75 >score >= 70:\n",
    "    print(\"C0\")    \n",
    "    \n",
    "elif 70 >score >= 65:\n",
    "    print(\"D+\")    \n",
    "    \n",
    "elif 65 >score >= 60:\n",
    "    print(\"D0\")    \n",
    "\n",
    "else:\n",
    "    print(\"F\")\n",
    "    \n",
    "print(\"학점입니다.^^^\")    "
   ]
  },
  {
   "cell_type": "markdown",
   "id": "0dfda06d",
   "metadata": {},
   "source": [
    "## 합격 불합격"
   ]
  },
  {
   "cell_type": "code",
   "execution_count": 20,
   "id": "018a4afa",
   "metadata": {},
   "outputs": [
    {
     "name": "stdout",
     "output_type": "stream",
     "text": [
      "불합격\n"
     ]
    }
   ],
   "source": [
    "jumsu = 55\n",
    "res=''\n",
    "if jumsu >=60:\n",
    "    res='합격'\n",
    "    \n",
    "else:\n",
    "    res='불합격'\n",
    "    \n",
    "print(res)    \n"
   ]
  },
  {
   "cell_type": "code",
   "execution_count": 21,
   "id": "f7c26153",
   "metadata": {},
   "outputs": [
    {
     "name": "stdout",
     "output_type": "stream",
     "text": [
      "불합격\n"
     ]
    }
   ],
   "source": [
    "#한줄로 줄임'\n",
    "jumsu=55\n",
    "res='합격' if jumsu >=60 else '불합격'\n",
    "print(res)"
   ]
  },
  {
   "cell_type": "markdown",
   "id": "69e72bf6",
   "metadata": {},
   "source": [
    "## 리스트에 있는거 찾기"
   ]
  },
  {
   "cell_type": "code",
   "execution_count": 22,
   "id": "ca072b76",
   "metadata": {},
   "outputs": [
    {
     "name": "stdout",
     "output_type": "stream",
     "text": [
      "['사과', '배', '딸기', '포도']\n",
      "['사과', '배', '딸기', '포도', '귤']\n",
      "딸기가 있네용\n"
     ]
    }
   ],
   "source": [
    "#리스트와 함께 사용\n",
    "fruit=['사과','배','딸기','포도']\n",
    "print(fruit)\n",
    "#리스트에 추가\n",
    "fruit.append(\"귤\")\n",
    "print(fruit)\n",
    "\n",
    "if '딸기' in fruit:\n",
    "    print(\"딸기가 있네용\")"
   ]
  },
  {
   "cell_type": "markdown",
   "id": "6f651d8e",
   "metadata": {},
   "source": [
    "## 리스트에 없는거 찾기"
   ]
  },
  {
   "cell_type": "code",
   "execution_count": 23,
   "id": "603b7be5",
   "metadata": {},
   "outputs": [
    {
     "name": "stdout",
     "output_type": "stream",
     "text": [
      "생성된 리스트 [3, 9, 8, 9, 9, 4, 9, 1, 1, 1]\n",
      "숫자 0는 리스트에 없네요\n",
      "숫자 2는 리스트에 없네요\n",
      "숫자 5는 리스트에 없네요\n",
      "숫자 6는 리스트에 없네요\n",
      "숫자 7는 리스트에 없네요\n"
     ]
    }
   ],
   "source": [
    "#if 응용\n",
    "#0~9까지 숫자중에서 리스트안에 없는 숫자 찾기\n",
    "\n",
    "import random\n",
    "\n",
    "numbers=[]\n",
    "for num in range(0,10):\n",
    "    numbers.append(random.randrange(0,10))\n",
    "    \n",
    "print(\"생성된 리스트\",numbers)\n",
    "\n",
    "for num in range(0,10):\n",
    "    if num not in numbers:\n",
    "        print(\"숫자 %d는 리스트에 없네요\" %num)"
   ]
  },
  {
   "cell_type": "markdown",
   "id": "c1de74f3",
   "metadata": {},
   "source": [
    "# SELF STUDY  5-2:두 숫자의 사이의 합계를 구하는 프로그램"
   ]
  },
  {
   "cell_type": "code",
   "execution_count": 1,
   "id": "8f9b6522",
   "metadata": {},
   "outputs": [
    {
     "name": "stdout",
     "output_type": "stream",
     "text": [
      "첫 번째 숫자를 입력하세요:1\n",
      "두 번째 숫자를 입력하세요:100\n",
      "더할 숫자를 입력하세요:3\n",
      "[1, 4, 7, 10, 13, 16, 19, 22, 25, 28, 31, 34, 37, 40, 43, 46, 49, 52, 55, 58, 61, 64, 67, 70, 73, 76, 79, 82, 85, 88, 91, 94, 97, 100]\n",
      "합은 1717입니다\n"
     ]
    }
   ],
   "source": [
    "a=input(\"첫 번째 숫자를 입력하세요:\")\n",
    "b=input(\"두 번째 숫자를 입력하세요:\")\n",
    "c=input(\"더할 숫자를 입력하세요:\")\n",
    "Li = (range(int(a), int(b)+1 ,int(c)))\n",
    "print(list(Li))\n",
    "sum_list = sum(Li)\n",
    "print(\"합은 %d입니다\"%(sum_list))\n",
    "\n"
   ]
  },
  {
   "cell_type": "code",
   "execution_count": 2,
   "id": "7c7dfc7c",
   "metadata": {},
   "outputs": [
    {
     "name": "stdout",
     "output_type": "stream",
     "text": [
      "첫 번째 숫자를 입력하세요:1\n",
      "두 번째 숫자를 입력하세요:100\n",
      "더할 숫자를 입력하세요:3\n",
      "합계 :1717 \n"
     ]
    }
   ],
   "source": [
    "hap=0\n",
    "hap=int(hap)\n",
    "a=input(\"첫 번째 숫자를 입력하세요:\")\n",
    "b=input(\"두 번째 숫자를 입력하세요:\")\n",
    "c=input(\"더할 숫자를 입력하세요:\")\n",
    "\n",
    "for i in range(int(a),int(b)+1,int(c)):\n",
    "    hap = hap+i\n",
    "\n",
    "print(\"합계 :%d \"%hap)    "
   ]
  },
  {
   "cell_type": "markdown",
   "id": "85de2d9d",
   "metadata": {},
   "source": [
    "## 비트연산자 예제1"
   ]
  },
  {
   "cell_type": "code",
   "execution_count": 2,
   "id": "cfaa3873",
   "metadata": {},
   "outputs": [
    {
     "name": "stdout",
     "output_type": "stream",
     "text": [
      "41 & f =  1\n",
      "41 & F =  4F\n",
      "A ^ 32 =  a\n",
      "a & 32 =  A\n"
     ]
    }
   ],
   "source": [
    "a= ord('A')\n",
    "mask=0x0F\n",
    "\n",
    "print(\"%x & %x =  %x\"%(a,mask,a&mask))\n",
    "print(\"%x & %X =  %X\"%(a,mask,a|mask))\n",
    "\n",
    "mask = ord('a') - ord('A')\n",
    "\n",
    "b=a^mask\n",
    "print(\"%c ^ %d =  %c\"%(a,mask,b))\n",
    "a=b^mask\n",
    "print(\"%c & %d =  %c\"%(b,mask,a))\n",
    "\n"
   ]
  },
  {
   "cell_type": "markdown",
   "id": "8be4d7b2",
   "metadata": {},
   "source": [
    "## 비트연산자 예제2"
   ]
  },
  {
   "cell_type": "code",
   "execution_count": 3,
   "id": "9c3d7691",
   "metadata": {},
   "outputs": [
    {
     "name": "stdout",
     "output_type": "stream",
     "text": [
      "100 << 1 = 200\n",
      "100 << 2 = 400\n",
      "100 << 3 = 800\n",
      "100 << 4 = 1600\n",
      "100 << 1 = 50\n",
      "100 << 2 = 25\n",
      "100 << 3 = 12\n",
      "100 << 4 = 6\n"
     ]
    }
   ],
   "source": [
    "a=100\n",
    "result =0 \n",
    "i=0\n",
    "\n",
    "for i in range(1,5):\n",
    "    result = a << i\n",
    "    print(\"%d << %d = %d\" % (a,i,result))\n",
    "    \n",
    "for i in range(1,5):\n",
    "    result = a >> i\n",
    "    print(\"%d << %d = %d\" % (a,i,result))\n",
    "    "
   ]
  },
  {
   "cell_type": "markdown",
   "id": "797bc7a4",
   "metadata": {},
   "source": [
    "## 학습한 연산자를 활용해서 동전 교환 프로그램 "
   ]
  },
  {
   "cell_type": "code",
   "execution_count": 18,
   "id": "dc5cb9f2",
   "metadata": {},
   "outputs": [
    {
     "name": "stdout",
     "output_type": "stream",
     "text": [
      "교환할 돈은 얼마?7777\n",
      "\n",
      "500원짜리 => 15개\n",
      "\n",
      "100원짜리 => 2개\n",
      "\n",
      "50원짜리 => 1개\n",
      "\n",
      "10원짜리 => 2개\n",
      "\n",
      "바꾸지 못한 잔돈 => 7원\n",
      "\n"
     ]
    }
   ],
   "source": [
    "##변수 선언 부분##\n",
    "money,c500,c100,c50,c10=0,0,0,0,0\n",
    "\n",
    "##메인 코드 부분##\n",
    "money = int(input(\"교환할 돈은 얼마?\"))\n",
    "\n",
    "c500 = money //500\n",
    "money %=500\n",
    "\n",
    "c100 = money //100\n",
    "money %=100\n",
    "\n",
    "c50 = money //50\n",
    "money %=50\n",
    "\n",
    "c10 = money //10\n",
    "money %=10\n",
    "\n",
    "print(\"\\n500원짜리 => %d개\"%c500)\n",
    "print(\"\\n100원짜리 => %d개\"%c100)\n",
    "print(\"\\n50원짜리 => %d개\"%c50)\n",
    "print(\"\\n10원짜리 => %d개\"%c10)\n",
    "print(\"\\n바꾸지 못한 잔돈 => %d원\\n\"%money)\n"
   ]
  },
  {
   "cell_type": "markdown",
   "id": "074cf30f",
   "metadata": {},
   "source": [
    "## 진수변환"
   ]
  },
  {
   "cell_type": "code",
   "execution_count": 19,
   "id": "3333e46e",
   "metadata": {},
   "outputs": [
    {
     "name": "stdout",
     "output_type": "stream",
     "text": [
      "입력 진수를 결정하세용(16/10/8/2)2\n",
      "값 입력:1110101\n",
      "16진수 >>> 0x75\n",
      "8진수 >>> 0o165\n",
      "10진수 >>> 117\n",
      "2진수 >>> 0b1110101\n"
     ]
    }
   ],
   "source": [
    "set= int(input(\"입력 진수를 결정하세용(16/10/8/2)\"))\n",
    "num= input(\"값 입력:\")\n",
    "num10 = 0\n",
    "##이 부분에서 num은 실제로는 문자로 받는다  ex)nf\n",
    "##그 후 if문에서 숫자와 비교를 함으로써 정수화 진행\n",
    "\n",
    "if set == 16:\n",
    "    num10=int(num,16) ##num을 16진수로 바꿔서 읽어라 >>굉장히 간단하다\n",
    "   \n",
    "    \n",
    "if set == 10:\n",
    "    num10=int(num,10)##num을 10진수로 바꿔서 읽어라 >>굉장히 간단하다\n",
    "   \n",
    "    \n",
    "if set == 8:\n",
    "    num10=int(num,8)##num을 8진수로 바꿔서 읽어라 >>굉장히 간단하다\n",
    "   \n",
    "    \n",
    "if set == 2:\n",
    "    num10=int(num,2)##num을 2진수로 바꿔서 읽어라 >>굉장히 간단하다\n",
    "   \n",
    "\n",
    "else:\n",
    "    print(\"올바르지 않은 진수값입니다\")\n",
    "    \n",
    "    \n",
    "#if(set != 16) and (set != 10) and (set != 8) and (set != 2):\n",
    "   # print(\"올바르지 않은 진수값입니다\")\n",
    "   # print(\"프로그램을 다시 실행하세용\")\n",
    "    \n",
    "    \n",
    "    \n",
    "print(\"16진수 >>>\",hex(num10))\n",
    "print(\"8진수 >>>\",oct(num10))\n",
    "print(\"10진수 >>>\",num10)\n",
    "print(\"2진수 >>>\",bin(num10))\n",
    "\n",
    "\n",
    "    \n"
   ]
  },
  {
   "cell_type": "code",
   "execution_count": null,
   "id": "7629a234",
   "metadata": {},
   "outputs": [],
   "source": []
  },
  {
   "cell_type": "code",
   "execution_count": null,
   "id": "9ab1a5ee",
   "metadata": {},
   "outputs": [],
   "source": []
  },
  {
   "cell_type": "code",
   "execution_count": null,
   "id": "de7c49ad",
   "metadata": {},
   "outputs": [],
   "source": []
  },
  {
   "cell_type": "code",
   "execution_count": null,
   "id": "e239fe26",
   "metadata": {},
   "outputs": [],
   "source": []
  },
  {
   "cell_type": "code",
   "execution_count": null,
   "id": "aabc96e3",
   "metadata": {},
   "outputs": [],
   "source": []
  },
  {
   "cell_type": "code",
   "execution_count": 4,
   "id": "e82c3826",
   "metadata": {},
   "outputs": [
    {
     "name": "stdout",
     "output_type": "stream",
     "text": [
      "1.6666666666666667\n",
      "1\n",
      "2\n",
      "125\n"
     ]
    }
   ],
   "source": [
    "a=5/3  #나누기\n",
    "b=5//3 #나누기(몫)\n",
    "c=5%3  #나머지값\n",
    "d=5**3 #제곱\n",
    "\n",
    "print(a)\n",
    "print(b)\n",
    "print(c)\n",
    "print(d)\n"
   ]
  },
  {
   "cell_type": "code",
   "execution_count": 5,
   "id": "1c609bf4",
   "metadata": {},
   "outputs": [
    {
     "name": "stdout",
     "output_type": "stream",
     "text": [
      "1\n",
      "14\n",
      "1.5\n"
     ]
    }
   ],
   "source": [
    "#우선순위\n",
    "a,b,c=2,3,4\n",
    "print(a+b-c)\n",
    "print(a+b*c)\n",
    "print(a*b/c)"
   ]
  },
  {
   "cell_type": "code",
   "execution_count": 6,
   "id": "0c024216",
   "metadata": {},
   "outputs": [
    {
     "name": "stdout",
     "output_type": "stream",
     "text": [
      "101\n",
      "101.123\n",
      "100000000000000\n"
     ]
    }
   ],
   "source": [
    "#문자얄 슷자로 구성시\n",
    "#int나 float함수 사용해서 정수나 실수로 변환\n",
    "\n",
    "s1,s2,s3=\"100\",\"100.123\",\"99999999999999\"\n",
    "print(int(s1)+1)\n",
    "print(float(s2)+1)\n",
    "print(int(s3)+1)"
   ]
  },
  {
   "cell_type": "code",
   "execution_count": 7,
   "id": "293647ca",
   "metadata": {},
   "outputs": [
    {
     "data": {
      "text/plain": [
       "'100.1231'"
      ]
     },
     "execution_count": 7,
     "metadata": {},
     "output_type": "execute_result"
    }
   ],
   "source": [
    "#숫자>>문자열변환시  str 함수 사용\n",
    "a=100;b=100.123\n",
    "str(a)+'1';str(b)+'1'"
   ]
  },
  {
   "cell_type": "code",
   "execution_count": 8,
   "id": "44b93940",
   "metadata": {},
   "outputs": [
    {
     "data": {
      "text/plain": [
       "'100.1231'"
      ]
     },
     "execution_count": 8,
     "metadata": {},
     "output_type": "execute_result"
    }
   ],
   "source": [
    "#숫자>>문자열변환시  str 함수 사용\n",
    "a=100\n",
    "b=100.123\n",
    "str(a)+'1'\n",
    "str(b)+'1'"
   ]
  },
  {
   "cell_type": "code",
   "execution_count": 9,
   "id": "25db0e81",
   "metadata": {},
   "outputs": [
    {
     "name": "stdout",
     "output_type": "stream",
     "text": [
      "15\n",
      "10\n",
      "50\n",
      "10.0\n",
      "2.0\n",
      "2.0\n",
      "32.0\n"
     ]
    }
   ],
   "source": [
    "#산술연산자\n",
    "a=10\n",
    "a+=5;print(a)  #a = a + 3\n",
    "a-=5;print(a)  #a = a - 3\n",
    "a*=5;print(a)  #a = a * 3\n",
    "a/=5;print(a)  #a = a / 3\n",
    "a//=5;print(a) #a = a // 3\n",
    "a%=5;print(a)  #a = a % 3\n",
    "a**=5;print(a)  #a = a ** 3"
   ]
  },
  {
   "cell_type": "code",
   "execution_count": 10,
   "id": "86c7b6d5",
   "metadata": {},
   "outputs": [
    {
     "name": "stdout",
     "output_type": "stream",
     "text": [
      "False\n",
      "True\n",
      "False\n",
      "True\n",
      "False\n",
      "True\n"
     ]
    }
   ],
   "source": [
    "#관계연산자\n",
    "a,b=100,200\n",
    "print(a==b)\n",
    "print(a!=b)\n",
    "print(a>b)\n",
    "print(a<b)\n",
    "print(a>=b)\n",
    "print(a<=b)"
   ]
  },
  {
   "cell_type": "code",
   "execution_count": 11,
   "id": "3292fc45",
   "metadata": {},
   "outputs": [
    {
     "ename": "TypeError",
     "evalue": "'a' is an invalid keyword argument for print()",
     "output_type": "error",
     "traceback": [
      "\u001b[1;31m---------------------------------------------------------------------------\u001b[0m",
      "\u001b[1;31mTypeError\u001b[0m                                 Traceback (most recent call last)",
      "\u001b[1;32m<ipython-input-11-7ef08e51c2e4>\u001b[0m in \u001b[0;36m<module>\u001b[1;34m\u001b[0m\n\u001b[0;32m      1\u001b[0m \u001b[1;31m#이러면 안 돼!\u001b[0m\u001b[1;33m\u001b[0m\u001b[1;33m\u001b[0m\u001b[1;33m\u001b[0m\u001b[0m\n\u001b[1;32m----> 2\u001b[1;33m \u001b[0mprint\u001b[0m\u001b[1;33m(\u001b[0m\u001b[0ma\u001b[0m\u001b[1;33m=\u001b[0m\u001b[0mb\u001b[0m\u001b[1;33m)\u001b[0m\u001b[1;33m\u001b[0m\u001b[1;33m\u001b[0m\u001b[0m\n\u001b[0m",
      "\u001b[1;31mTypeError\u001b[0m: 'a' is an invalid keyword argument for print()"
     ]
    }
   ],
   "source": [
    "#이러면 안 돼!\n",
    "print(a=b)"
   ]
  },
  {
   "cell_type": "code",
   "execution_count": null,
   "id": "617bfe7f",
   "metadata": {},
   "outputs": [],
   "source": [
    "#논리연산자\n",
    "a=99\n",
    "print((a>100) and (a<200))\n",
    "print((a>100) or (a<200))\n",
    "print(not(a==100) )"
   ]
  },
  {
   "cell_type": "code",
   "execution_count": 12,
   "id": "5ad4d983",
   "metadata": {},
   "outputs": [
    {
     "name": "stdout",
     "output_type": "stream",
     "text": [
      "2\n",
      "72\n",
      "0\n"
     ]
    }
   ],
   "source": [
    "# 비트연산자\n",
    "# 논리곱\n",
    "# & 대응되는 비트가 모두 1이면 1을 반환함. (비트 AND 연산)\n",
    "print(10 & 7)   #1010   0111  >>  0010  \n",
    "print(123 & 456)  #11110112  1110010002  >> 10010002\n",
    "print(0xFFFF & 0X0000) "
   ]
  },
  {
   "cell_type": "code",
   "execution_count": 13,
   "id": "0affe886",
   "metadata": {},
   "outputs": [
    {
     "name": "stdout",
     "output_type": "stream",
     "text": [
      "15\n",
      "507\n",
      "65535\n",
      "0xffff\n"
     ]
    }
   ],
   "source": [
    "# 논리합\n",
    "# | 대응되는 비트 중에서 하나라도 1이면 1을 반환함. (비트 OR 연산) \n",
    "print(10 | 7)    \n",
    "print(123 | 456)  \n",
    "print(0xFFFF | 0X0000) \n",
    "print(hex(0xFFFF|0x0000))  #16진수로 표현"
   ]
  },
  {
   "cell_type": "code",
   "execution_count": 14,
   "id": "17ffae67",
   "metadata": {},
   "outputs": [
    {
     "name": "stdout",
     "output_type": "stream",
     "text": [
      "13\n",
      "435\n",
      "65535\n",
      "0xffff\n"
     ]
    }
   ],
   "source": [
    "# 배타적 논리합\n",
    "# ^ 대응되는 비트가 서로 다르면 1을 반환함. (비트 XOR 연산) \n",
    "print(10 ^ 7)    \n",
    "print(123 ^ 456)  \n",
    "print(0xFFFF ^ 0X0000) \n",
    "print(hex(0xFFFF|0x0000))  #16진수로 표현"
   ]
  },
  {
   "cell_type": "code",
   "execution_count": 15,
   "id": "6052c6cc",
   "metadata": {},
   "outputs": [
    {
     "data": {
      "text/plain": [
       "-12346"
      ]
     },
     "execution_count": 15,
     "metadata": {},
     "output_type": "execute_result"
    }
   ],
   "source": [
    "##~ 비트를 1이면 0으로, 0이면 1로 반전시킴. (비트 NOT 연산)\n",
    "a=12345\n",
    "~a"
   ]
  },
  {
   "cell_type": "code",
   "execution_count": 16,
   "id": "16809a75",
   "metadata": {},
   "outputs": [
    {
     "name": "stdout",
     "output_type": "stream",
     "text": [
      "20\n",
      "40\n",
      "80\n",
      "160\n"
     ]
    }
   ],
   "source": [
    "## <<  (left shift 연산)     \n",
    "a=10\n",
    "print(a<<1)\n",
    "print(a<<2)\n",
    "print(a<<3)\n",
    "print(a<<4)\n"
   ]
  },
  {
   "cell_type": "code",
   "execution_count": 17,
   "id": "7ad386cf",
   "metadata": {},
   "outputs": [
    {
     "name": "stdout",
     "output_type": "stream",
     "text": [
      "5\n",
      "2\n",
      "1\n",
      "0\n"
     ]
    }
   ],
   "source": [
    "## >>  (right shift 연산)\n",
    "a=10\n",
    "print(a>>1)\n",
    "print(a>>2)\n",
    "print(a>>3)\n",
    "print(a>>4)\n"
   ]
  }
 ],
 "metadata": {
  "kernelspec": {
   "display_name": "Python 3",
   "language": "python",
   "name": "python3"
  },
  "language_info": {
   "codemirror_mode": {
    "name": "ipython",
    "version": 3
   },
   "file_extension": ".py",
   "mimetype": "text/x-python",
   "name": "python",
   "nbconvert_exporter": "python",
   "pygments_lexer": "ipython3",
   "version": "3.8.8"
  }
 },
 "nbformat": 4,
 "nbformat_minor": 5
}
