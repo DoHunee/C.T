{
 "cells": [
  {
   "cell_type": "code",
   "execution_count": 1,
   "id": "2955f553",
   "metadata": {},
   "outputs": [],
   "source": [
    "score_file = open(\"score.txt\", \"w\", encoding=\"utf8\") # score.txt 파일을 쓰기(\"w\") 모드로 열기\n",
    "print(\"수학 : 0\", file=score_file) # score.txt 파일에 내용 쓰기\n",
    "print(\"영어 : 50\", file=score_file) # score.txt 파일에 내용 쓰기\n",
    "score_file.close() # score.txt 파일 닫기"
   ]
  },
  {
   "cell_type": "code",
   "execution_count": 2,
   "id": "f491bbf3",
   "metadata": {},
   "outputs": [],
   "source": [
    "score_file = open(\"score.txt\", \"a\", encoding=\"utf8\") # score.txt 파일을 쓰기(\"a\") 모드로 열기\n",
    "score_file.write(\"과학 : 80\")\n",
    "score_file.write(\"\\n코딩 : 100\") # write 는 줄바꿈 안해주기 때문에 탈출문자(\\n)로 줄바꿈 추가\n",
    "score_file.close()"
   ]
  },
  {
   "cell_type": "code",
   "execution_count": 3,
   "id": "3a2da7de",
   "metadata": {},
   "outputs": [
    {
     "name": "stdout",
     "output_type": "stream",
     "text": [
      "수학 : 0\n",
      "영어 : 50\n",
      "과학 : 80\n",
      "코딩 : 100\n"
     ]
    }
   ],
   "source": [
    "score_file = open(\"score.txt\", \"r\", encoding=\"utf8\") # score.txt 파일을 읽기(\"r\") 모드로 열기\n",
    "print(score_file.read()) # 파일 전체 읽어오기\n",
    "score_file.close()"
   ]
  },
  {
   "cell_type": "code",
   "execution_count": 4,
   "id": "f3a90a3f",
   "metadata": {},
   "outputs": [
    {
     "name": "stdout",
     "output_type": "stream",
     "text": [
      "수학 : 0\n",
      "영어 : 50\n",
      "과학 : 80\n",
      "코딩 : 100"
     ]
    }
   ],
   "source": [
    "score_file = open(\"score.txt\", \"r\", encoding=\"utf8\")\n",
    "print(score_file.readline(), end=\"\") # 줄별로 읽기. 한 줄 읽고 커서는 다음 줄로 이동\n",
    "print(score_file.readline(), end=\"\") # 줄바꿈 중복을 방지하기 위해 end=\"\" 처리\n",
    "print(score_file.readline(), end=\"\")\n",
    "print(score_file.readline(), end=\"\")\n",
    "score_file.close()"
   ]
  },
  {
   "cell_type": "code",
   "execution_count": 5,
   "id": "4646d402",
   "metadata": {},
   "outputs": [
    {
     "name": "stdout",
     "output_type": "stream",
     "text": [
      "수학 : 0\n",
      "영어 : 50\n",
      "과학 : 80\n",
      "코딩 : 100"
     ]
    }
   ],
   "source": [
    "score_file = open(\"score.txt\", \"r\", encoding=\"utf8\")\n",
    "\n",
    "while True:\n",
    "    line = score_file.readline()\n",
    "    if not line: # 더 이상 읽어올 내용이 없으면?\n",
    "        break # 반복문 탈출\n",
    "    print(line, end=\"\") # 읽어온 줄 출력. 줄바꿈 중복을 방지하기 위해 end=\"\" 처리\n",
    "    \n",
    "score_file.close()"
   ]
  },
  {
   "cell_type": "code",
   "execution_count": 6,
   "id": "e58a2849",
   "metadata": {},
   "outputs": [
    {
     "name": "stdout",
     "output_type": "stream",
     "text": [
      "수학 : 0\n",
      "영어 : 50\n",
      "과학 : 80\n",
      "코딩 : 100"
     ]
    }
   ],
   "source": [
    "score_file = open(\"score.txt\", \"r\", encoding=\"utf8\")\n",
    "\n",
    "lines = score_file.readlines() # 모든 줄을 읽어와서 list 형태로 저장\n",
    "for line in lines:\n",
    "    print(line, end=\"\") # 읽어온 줄 출력. 줄바꿈 중복을 방지하기 위해 end=\"\" 처리\n",
    "    \n",
    "score_file.close()"
   ]
  },
  {
   "cell_type": "code",
   "execution_count": null,
   "id": "264750c1",
   "metadata": {},
   "outputs": [],
   "source": []
  }
 ],
 "metadata": {
  "kernelspec": {
   "display_name": "Python 3",
   "language": "python",
   "name": "python3"
  },
  "language_info": {
   "codemirror_mode": {
    "name": "ipython",
    "version": 3
   },
   "file_extension": ".py",
   "mimetype": "text/x-python",
   "name": "python",
   "nbconvert_exporter": "python",
   "pygments_lexer": "ipython3",
   "version": "3.8.8"
  }
 },
 "nbformat": 4,
 "nbformat_minor": 5
}
