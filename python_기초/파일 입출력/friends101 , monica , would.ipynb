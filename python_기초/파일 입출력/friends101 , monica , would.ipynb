{
 "cells": [
  {
   "cell_type": "code",
   "execution_count": 6,
   "id": "b110364e",
   "metadata": {},
   "outputs": [
    {
     "name": "stdout",
     "output_type": "stream",
     "text": [
      "The One Where Monica Gets a New Roommate (The Pilot-The Uncut Version)\n",
      "Written by: Marta Kauffman & \n"
     ]
    }
   ],
   "source": [
    "import re,os \n",
    "# friends.txt를 다운받아서 같은 폴더에 넣은 다음 프로그램을 실행합니다. \n",
    "f = open('friends101.txt', 'r', encoding = 'utf-8')\n",
    "script101 = f.read()\n",
    "\n",
    "# 문자열 객체 슬라이싱\n",
    "print(script101[:100])  ## 100글자만 출력해보기!"
   ]
  },
  {
   "cell_type": "code",
   "execution_count": 7,
   "id": "7c8f031b",
   "metadata": {},
   "outputs": [
    {
     "name": "stdout",
     "output_type": "stream",
     "text": [
      "[\"Monica: There's nothing to tell! He's just some guy I work with!\", \"Monica: Okay, everybody relax. This is not even a date. It's just two people going out to dinner and- not having sex.\", \"Monica: And they weren't looking at you before?!\"]\n"
     ]
    }
   ],
   "source": [
    "Line = re.findall(r'Monica:.+', script101)\n",
    "\n",
    "#리스트 요소 중 앞에서 3개까지만 출력\n",
    "print(Line[:3])\n",
    "\n",
    "# 모니카의 대사만 모으기 \n",
    "Line = re.findall(r'Monica:.+', script101)"
   ]
  },
  {
   "cell_type": "code",
   "execution_count": 8,
   "id": "6916d960",
   "metadata": {},
   "outputs": [],
   "source": [
    "# monica.txt 파일 만들기\n",
    "f = open('monica.txt', 'w', encoding = 'utf-8')\n",
    "\n",
    "monica = ''\n",
    "for i in Line:\n",
    "    monica += i +'\\n'\n",
    "f.write(monica)\n",
    "\n",
    "\n",
    "f.close()\t"
   ]
  },
  {
   "cell_type": "code",
   "execution_count": 9,
   "id": "967869aa",
   "metadata": {},
   "outputs": [
    {
     "name": "stdout",
     "output_type": "stream",
     "text": [
      "Monica: There's nothing to tell! He's just some guy I work with!\n",
      "Monica: Okay, everybody relax. This is not even a date. It's just two people going out to dinner and- not having sex.\n",
      "Monica: And they weren't looking at you before?!\n"
     ]
    }
   ],
   "source": [
    "# 모니카의 대사만 출력해보기\n",
    "for item in Line[:3]:\n",
    "    print(item)"
   ]
  },
  {
   "cell_type": "code",
   "execution_count": 10,
   "id": "f74a7dd1",
   "metadata": {},
   "outputs": [
    {
     "name": "stdout",
     "output_type": "stream",
     "text": [
      "['Note: ', 'Scene: ', 'Monica: ', 'Joey: ', 'Chandler: ', 'Phoebe: ', 'Phoebe: ', 'Monica: ', 'Chandler: ', 'Chandler: ', 'All: ', 'Chandler: ', 'Joey: ', 'Chandler: ', 'Joey: ', 'Phoebe: ', 'Chandler: ', 'Monica: ', 'Chandler: ', 'Ross: ', 'Joey: ', 'Monica: ', 'Ross: ', 'Chandler: ', 'Monica: ', 'Joey: ', 'Monica: ', 'Ross: ', 'Phoebe: ', 'Ross: ', 'Phoebe: ', 'Ross: ', 'Monica: ', 'Ross: ', 'Joey: ', 'Ross: ', 'Chandler: ', 'Ross: ', 'Monica: ', 'Ross: ', 'Joey: ', 'Joey: ', 'Ross: ', 'Chandler: ', 'Monica: ', 'Rachel: ', 'Waitress: ', 'Monica: ', 'Rachel: ', 'Ross: ', 'Monica: ', 'Rachel: ', 'Monica: ', 'Rachel: ', 'Scene: ', 'Monica: ', 'Chandler: ', 'Ross: ', 'Rachel: ', 'Phoebe: ', 'Chandler: ', 'Joey: ', 'Joey: ', 'Rachel: ', 'Ross: ', 'Rachel: ', 'Monica: ', 'Rachel: ', 'Monica: ', 'Phoebe: ', 'Rachel: ', 'Phoebe: ', 'Monica: ', 'Joey: ', 'Monica: ', 'Joey: ', 'Chandler: ', 'Paul: ', 'Monica: ', 'Joey: ', 'Ross: ', 'Monica: ', 'Joey: ', 'Ross: ', 'Monica: ', 'Chandler: ', 'Monica: ', 'Rachel: ', 'Monica: ', 'Ross: ', 'Monica: ', 'Ross: ', 'Phoebe: ', 'Monica: ', 'All: ', 'Chandler: ', 'Monica: ', 'Ross: ', 'Monica: ', 'Phoebe: ', 'Joey: ', 'Paul: ', 'Joey: ', 'Monica: ', 'Ross: ', 'Rachel: ', 'Ross: ', 'Chandler: ', 'Rachel: ', 'Ross: ', 'Joey: ', 'Phoebe: ', 'Scene: ', 'Phoebe: ', 'Scene: ', 'Ross: ', 'Joey: ', 'Chandler: ', 'Joey: ', 'Chandler: ', 'Joey: ', 'Chandler: ', 'Joey: ', 'Chandler: ', 'Ross: ', 'Joey: ', 'Chandler: ', 'Joey: ', 'Ross: ', 'Chandler: ', 'Joey: ', 'Chandler: ', 'Scene: ', 'Monica: ', 'Paul: ', 'Monica: ', 'Paul: ', 'Monica: ', 'Paul: ', 'Monica: ', 'Paul: ', 'Monica: ', 'Scene: ', 'Rachel: ', 'Scene: ', 'Ross: ', 'Joey: ', 'Chandler: ', 'Ross: ', 'Chandler: ', 'Ross: ', 'Joey: ', 'Ross: ', 'Chandler: ', 'Scene: ', 'Paul: ', 'Monica: ', 'Paul: ', 'Monica: ', 'Paul: ', 'Monica: ', 'Paul: ', 'Monica: ', 'Paul: ', 'Monica: ', 'Paul: ', 'Monica: ', 'Paul: ', 'Monica: ', 'Scene: ', 'Rachel: ', 'Scene: ', 'Ross: ', 'Joey: ', 'Chandler: ', 'Joey: ', 'Ross: ', 'Scene: ', 'Rachel: ', 'Chandler: ', 'Joey: ', 'Rachel: ', 'Chandler: ', 'Joey: ', 'Monica: ', 'All: ', 'Paul: ', 'Joey: ', 'Rachel: ', 'Chandler: ', 'Paul: ', 'Monica: ', 'Paul: ', 'Monica: ', 'Paul: ', 'Joey: ', 'Monica: ', 'All: ', 'Chandler: ', 'Rachel: ', 'Monica: ', 'Joey: ', 'Rachel: ', 'Joey: ', 'Monica: ', 'Joey: ', 'Chandler: ', 'Joey: ', 'Chandler: ', 'Joey: ', 'Monica: ', 'Rachel: ', 'Monica: ', 'Rachel: ', 'Monica: ', 'Rachel: ', 'Monica: ', 'Rachel: ', 'Monica: ', 'Rachel: ', 'Monica: ', 'Rachel: ', 'Scene: ', 'Frannie: ', 'Monica: ', 'Frannie: ', 'Monica: ', 'Frannie: ', 'Monica: ', 'Frannie: ', 'Monica: ', 'Frannie: ', 'Scene: ', 'Joey: ', 'Monica: ', 'Ross: ', 'Monica: ', 'Phoebe: ', 'Monica: ', 'Phoebe: ', 'Monica: ', 'Joey: ', 'Rachel: ', 'Ross: ', 'Rachel: ', 'Chandler: ', 'Rachel: ', 'Chandler: ', 'Rachel: ', 'Monica: ', 'Rachel: ', 'Monica: ', 'Rachel: ', 'Scene: ', 'Rachel: ', 'Monica: ', 'Rachel: ', 'Phoebe: ', 'Rachel: ', 'Phoebe: ', 'Ross: ', 'Monica: ', 'Rachel: ', 'Monica: ', 'Rachel: ', 'Ross: ', 'Ross: ', 'All: ', 'Rachel: ', 'Monica: ', 'All: ', 'Chandler: ', 'Monica: ', 'Monica: ', 'Ross: ', 'Monica: ', 'Ross: ', 'Rachel: ', 'Monica: ', 'Rachel: ', 'Ross: ', 'Rachel: ', 'Ross: ', 'Rachel: ', 'Ross: ', 'Rachel: ', 'Ross: ', 'Rachel: ', 'Ross: ', 'Rachel: ', 'Ross: ', 'Rachel: ', 'Ross: ', 'Rachel: ', 'Ross: ', 'Monica: ', 'Ross: ', 'Scene: ', 'Joey: ', 'Phoebe: ', 'Monica: ', 'Phoebe: ', 'Monica: ', 'Phoebe: ', 'All: ', 'Monica: ', 'Joey: ', 'Ross: ', 'Rachel: ', 'Chandler: ', 'Rachel: ', 'All: ', 'Chandler: ', 'Customer: ', 'Rachel: ', 'Chandler: ']\n"
     ]
    }
   ],
   "source": [
    "# 등장인물 이름 모으기 \n",
    "print(re.findall(r'[A-Z][a-z]+: ', script101) )"
   ]
  },
  {
   "cell_type": "code",
   "execution_count": 11,
   "id": "9152c6bc",
   "metadata": {},
   "outputs": [
    {
     "name": "stdout",
     "output_type": "stream",
     "text": [
      "{'Rachel: ', 'Phoebe: ', 'Frannie: ', 'Scene: ', 'Note: ', 'Chandler: ', 'Waitress: ', 'Paul: ', 'Joey: ', 'Customer: ', 'Monica: ', 'All: ', 'Ross: '}\n"
     ]
    }
   ],
   "source": [
    "# 중복 지우기\n",
    "print(set(re.findall(r'[A-Z][a-z]+: ', script101)))"
   ]
  },
  {
   "cell_type": "code",
   "execution_count": 12,
   "id": "32967554",
   "metadata": {},
   "outputs": [],
   "source": [
    "# 캐릭터 이름 한 줄로 출력하기\n",
    "character = [x[:-2] for x in list(set(re.findall(r'[A-Z][a-z]+: ',script101)))]"
   ]
  },
  {
   "cell_type": "code",
   "execution_count": 13,
   "id": "43ff863b",
   "metadata": {},
   "outputs": [
    {
     "name": "stdout",
     "output_type": "stream",
     "text": [
      "Rachel\n",
      "Phoebe\n",
      "Frannie\n",
      "Scene\n",
      "Note\n",
      "Chandler\n",
      "Waitress\n",
      "Paul\n",
      "Joey\n",
      "Customer\n",
      "Monica\n",
      "All\n",
      "Ross\n"
     ]
    }
   ],
   "source": [
    "# 캐릭터 이름 각각 출력하기 \n",
    "for i in character:\n",
    "    print(i)"
   ]
  },
  {
   "cell_type": "code",
   "execution_count": 14,
   "id": "b747dbb9",
   "metadata": {},
   "outputs": [
    {
     "name": "stdout",
     "output_type": "stream",
     "text": [
      "Monica: There's nothing to tell! He's just some guy I work with!\n",
      "\n",
      "Joey: C'mon, you're going out with the guy! There's gotta be something wrong with him!\n",
      "\n",
      "Chandler: All right Joey, be nice.  So does he have a hump? A hump and a hairpiece?\n",
      "\n",
      "Phoebe: Wait, does he eat chalk?\n",
      "\n",
      "Phoebe: Just, 'cause, I don't want her to go through what I went through with Carl- oh!\n",
      "\n"
     ]
    }
   ],
   "source": [
    "# 지문만 출력하기\n",
    "re.findall(r'\\([A-Za-z].+[a-z|\\.]\\)', script101, re.VERBOSE) [:6]\n",
    "f = open('friends101.txt','r')\n",
    "sentences = f.readlines()\n",
    "\n",
    "# 20개만 출력해보기\n",
    "for i in sentences[:20]:\t\t\t## 먼저 문장 20개만 가져와 실험해 보겠습니다\n",
    "    if re.match(r'[A-Z][a-z]+:', i): \t## match 문으로 문장 맨 앞에서 패턴을 찾습니다 \n",
    "        print(i)"
   ]
  },
  {
   "cell_type": "code",
   "execution_count": 15,
   "id": "b4caf479",
   "metadata": {},
   "outputs": [],
   "source": [
    "# would가 나오는 문장만 추출하기 \n",
    "would = [ i for i in sentences if re.match(r'[A-Z][a-z]+:', i) and re.search('would', i)]"
   ]
  },
  {
   "cell_type": "code",
   "execution_count": 16,
   "id": "94a8f767",
   "metadata": {},
   "outputs": [
    {
     "name": "stdout",
     "output_type": "stream",
     "text": [
      "Ross: I told mom and dad last night, they seemed to take it pretty well.\n",
      "\n",
      "Paul: Well, ever-ev-... ever since she left me, um, I haven't been able to, uh, perform. (Monica takes a sip of her drink.) ...Sexually.\n",
      "\n",
      "Joey: I will not take this abuse. (Walks to the door and opens it to leave.)\n",
      "\n",
      "Frannie: Are you kidding? I take credit for Paul. Y'know before me, there was no snap in his turtle for two years.\n",
      "\n"
     ]
    }
   ],
   "source": [
    "# take가 들어간 문장만 추출하기 \n",
    "take = [ i for i in sentences if re.match(r'[A-Z][a-z]+:', i) and re.search(' take',i)]\n",
    "\n",
    "# take가 들어간 문장 출력하기\n",
    "for i in take:\n",
    "\tprint(i)"
   ]
  },
  {
   "cell_type": "code",
   "execution_count": 17,
   "id": "0ebe9bed",
   "metadata": {},
   "outputs": [],
   "source": [
    "# would가 들어간 문장 파일로 만들기 \n",
    "newf = open('would.txt','w')\t\n",
    "newf.writelines(would)\t\t"
   ]
  },
  {
   "cell_type": "code",
   "execution_count": null,
   "id": "a7c2ab96",
   "metadata": {},
   "outputs": [],
   "source": []
  }
 ],
 "metadata": {
  "kernelspec": {
   "display_name": "Python 3",
   "language": "python",
   "name": "python3"
  },
  "language_info": {
   "codemirror_mode": {
    "name": "ipython",
    "version": 3
   },
   "file_extension": ".py",
   "mimetype": "text/x-python",
   "name": "python",
   "nbconvert_exporter": "python",
   "pygments_lexer": "ipython3",
   "version": "3.8.8"
  }
 },
 "nbformat": 4,
 "nbformat_minor": 5
}
