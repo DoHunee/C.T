{
 "cells": [
  {
   "cell_type": "code",
   "execution_count": 1,
   "id": "5c738072",
   "metadata": {},
   "outputs": [
    {
     "name": "stdout",
     "output_type": "stream",
     "text": [
      "A.py의 func1()이 호출됨\n",
      "A.py의 func2()이 호출됨\n",
      "A.py의 func3()이 호출됨\n"
     ]
    }
   ],
   "source": [
    "import A\n",
    "\n",
    "A.func1()\n",
    "A.func2()\n",
    "A.func3()"
   ]
  },
  {
   "cell_type": "code",
   "execution_count": 7,
   "id": "3de0fb87",
   "metadata": {},
   "outputs": [
    {
     "data": {
      "text/plain": [
       "[40, -20, 2000]"
      ]
     },
     "execution_count": 7,
     "metadata": {},
     "output_type": "execute_result"
    }
   ],
   "source": [
    "import module1  ##이런식으로 진행\n",
    "\n",
    "calc(10,20,10)"
   ]
  },
  {
   "cell_type": "code",
   "execution_count": 5,
   "id": "3b9404e4",
   "metadata": {},
   "outputs": [
    {
     "data": {
      "text/plain": [
       "[40, -20, 2000]"
      ]
     },
     "execution_count": 5,
     "metadata": {},
     "output_type": "execute_result"
    }
   ],
   "source": [
    "from module1 import calc\n",
    "\n",
    "calc(10,20,10)"
   ]
  },
  {
   "cell_type": "code",
   "execution_count": 6,
   "id": "cdea825f",
   "metadata": {},
   "outputs": [],
   "source": [
    "from myTurtle import *\n",
    "import turtle\n",
    "\n",
    "inStr = ''\n",
    "swidth,sheight = 300,300\n",
    "tX,tY,tAngle, tSize = [0] * 4\n",
    "\n",
    "turtle.title('거북이 글자쓰기(모듈버전)')\n",
    "turtle.shape('turtle')\n",
    "turtle.setup(width = swidth+50,height = sheight + 50)\n",
    "turtle.screensize(swidth,sheight)\n",
    "turtle.penup()\n",
    "turtle.speed(5)\n",
    "inStr = getString()\n",
    "\n",
    "for ch in inStr:\n",
    "    \n",
    "    tX,tY,tAngle,txtSize = getXYAS(swidth,sheight)\n",
    "    r,g,b = getRGB()\n",
    "    \n",
    "    turtle.goto(tX,tY)\n",
    "    turtle.left(tAngle)\n",
    "    \n",
    "    turtle.pencolor((r,g,b))\n",
    "    turtle.write(ch,font=('맑은고딕',txtSize,'bold'))\n",
    "    \n",
    "    \n",
    "turtle.done()\n"
   ]
  },
  {
   "cell_type": "code",
   "execution_count": 10,
   "id": "f17a2040",
   "metadata": {},
   "outputs": [],
   "source": [
    "from package.myTurtle import *\n",
    "import turtle\n",
    "\n",
    "inStr = ''\n",
    "swidth,sheight = 300,300\n",
    "tX,tY,tAngle, tSize = [0] * 4\n",
    "\n",
    "turtle.title('거북이 글자쓰기(모듈버전)')\n",
    "turtle.shape('turtle')\n",
    "turtle.setup(width = swidth+50,height = sheight + 50)\n",
    "turtle.screensize(swidth,sheight)\n",
    "turtle.penup()\n",
    "turtle.speed(5)\n",
    "inStr = getString()\n",
    "\n",
    "for ch in inStr:\n",
    "    \n",
    "    tX,tY,tAngle,txtSize = getXYAS(swidth,sheight)\n",
    "    r,g,b = getRGB()\n",
    "    \n",
    "    turtle.goto(tX,tY)\n",
    "    turtle.left(tAngle)\n",
    "    \n",
    "    turtle.pencolor((r,g,b))\n",
    "    turtle.write(ch,font=('맑은고딕',txtSize,'bold'))\n",
    "    \n",
    "    \n",
    "turtle.done()\n"
   ]
  },
  {
   "cell_type": "markdown",
   "id": "cff4eba6",
   "metadata": {},
   "source": [
    "## 후의 모듈 내용?\n",
    "https://nadocoding.tistory.com/79"
   ]
  },
  {
   "cell_type": "code",
   "execution_count": null,
   "id": "5ce48c63",
   "metadata": {},
   "outputs": [],
   "source": []
  }
 ],
 "metadata": {
  "kernelspec": {
   "display_name": "Python 3",
   "language": "python",
   "name": "python3"
  },
  "language_info": {
   "codemirror_mode": {
    "name": "ipython",
    "version": 3
   },
   "file_extension": ".py",
   "mimetype": "text/x-python",
   "name": "python",
   "nbconvert_exporter": "python",
   "pygments_lexer": "ipython3",
   "version": "3.8.8"
  }
 },
 "nbformat": 4,
 "nbformat_minor": 5
}
