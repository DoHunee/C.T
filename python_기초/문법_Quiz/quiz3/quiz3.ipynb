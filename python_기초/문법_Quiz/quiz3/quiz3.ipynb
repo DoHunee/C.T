{
 "cells": [
  {
   "cell_type": "markdown",
   "id": "6c34cc9a",
   "metadata": {},
   "source": [
    "# Quiz 3\n",
    "1에서 10 사이의 랜덤한 숫자를 50개 가진 randint50.txt 라는 파일을 생성하시오. 이때 각 숫자사이는 공백으로 구분하여 나열하시오. \n",
    "Ex) 1 7 9 10 4 2 3\n",
    "\n",
    "randint50.txt 파일을 읽어서 1에서 10까지의 정수의 출현 횟수를 출력하시오.\n",
    "Ex) 1 : 5번\n",
    "    2 : 3번\n",
    "    3 : 7번\n",
    "    \n",
    "### 3 >>  그냥 함수를 만드는것  메뉴를 만드는것이 아님  핵심 >>숫자와 문자를 분리시키는것!\n"
   ]
  },
  {
   "cell_type": "code",
   "execution_count": 15,
   "id": "0b2cc7e1",
   "metadata": {},
   "outputs": [
    {
     "name": "stdout",
     "output_type": "stream",
     "text": [
      "정상적으로 끝났슴둥\n"
     ]
    }
   ],
   "source": [
    "import random\n",
    "from random import randrange\n",
    "\n",
    "f = open(\"randint50.txt\", 'w')  ##쓰기 모드로 열어주고\n",
    "\n",
    "list = []\n",
    "for i in range (1,51):\n",
    "    number = randrange(0, 11)  #1부터 10사이의 랜덤한 숫자\n",
    "    ##print(number)\n",
    "    list.append(number)\n",
    "    \n",
    "f.write(' '.join(map(str,list)))##공백으로 나열\n",
    "#f.writelines(str(list))   ##이러면 리스트로 쓰여진다\n",
    "\n",
    "print(\"정상적으로 끝났슴둥\")\n",
    "f.close()\n",
    "    \n",
    "\n"
   ]
  },
  {
   "cell_type": "code",
   "execution_count": 16,
   "id": "62d1af08",
   "metadata": {},
   "outputs": [
    {
     "name": "stdout",
     "output_type": "stream",
     "text": [
      "7 6 9 10 7 10 8 0 10 2 3 3 2 7 0 9 9 10 5 0 2 8 3 2 8 2 0 6 9 8 4 0 1 3 7 8 8 3 4 6 2 1 8 7 1 3 8 5 7 7\n",
      "정상적으로 끝났슴둥\n"
     ]
    }
   ],
   "source": [
    "import random\n",
    "from random import randrange\n",
    "\n",
    "f = open(\"randint50.txt\", 'r')  ##읽기 모드로 열어주고\n",
    "\n",
    "for i in f:\n",
    "    print(i)\n",
    "    \n",
    "print(\"정상적으로 끝났슴둥\")\n",
    "f.close()\n",
    "    \n",
    "\n"
   ]
  },
  {
   "cell_type": "code",
   "execution_count": 59,
   "id": "2e34ea8b",
   "metadata": {},
   "outputs": [
    {
     "name": "stdout",
     "output_type": "stream",
     "text": [
      "1:3번 2:6번 3:6번 4:2번 5:2번 6:3번 7:7번 8:8번 9:4번 10:4번 "
     ]
    }
   ],
   "source": [
    "import random\n",
    "from random import randrange\n",
    "\n",
    "f = open(\"randint50.txt\", 'r')  ##읽기 모드로 열어주고\n",
    "\n",
    "\n",
    "list =[]\n",
    "\n",
    "for i in f:\n",
    "    a=i.count('1')\n",
    "    b=i.count('10')\n",
    "    c= a-b\n",
    "    print(\"1:%d번\"%c,end =' ')\n",
    "    print(\"2:%d번\"%(i.count('2')),end =' ')\n",
    "    print(\"3:%d번\"%(i.count('3')),end =' ')\n",
    "    print(\"4:%d번\"%(i.count('4')),end =' ')\n",
    "    print(\"5:%d번\"%(i.count('5')),end =' ')\n",
    "    print(\"6:%d번\"%(i.count('6')),end =' ')\n",
    "    print(\"7:%d번\"%(i.count('7')),end =' ')\n",
    "    print(\"8:%d번\"%(i.count('8')),end =' ')\n",
    "    print(\"9:%d번\"%(i.count('9')),end =' ')\n",
    "    print(\"10:%d번\"%(i.count('10')),end =' ')\n",
    "    \n",
    "    #print(a)\n",
    "\n",
    "\n",
    "#f1.write(''.join(map(str, list)))\n",
    " \n",
    "    \n",
    "#print(\"2:%d번\\n 3:%d번\\n\"%a%b)\n",
    "f.close()\n",
    "    \n",
    "\n"
   ]
  },
  {
   "cell_type": "code",
   "execution_count": null,
   "id": "b6e12fbf",
   "metadata": {},
   "outputs": [],
   "source": []
  }
 ],
 "metadata": {
  "kernelspec": {
   "display_name": "Python 3",
   "language": "python",
   "name": "python3"
  },
  "language_info": {
   "codemirror_mode": {
    "name": "ipython",
    "version": 3
   },
   "file_extension": ".py",
   "mimetype": "text/x-python",
   "name": "python",
   "nbconvert_exporter": "python",
   "pygments_lexer": "ipython3",
   "version": "3.8.8"
  }
 },
 "nbformat": 4,
 "nbformat_minor": 5
}
