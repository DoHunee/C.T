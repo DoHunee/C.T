{
 "cells": [
  {
   "cell_type": "markdown",
   "id": "2263c7a8",
   "metadata": {},
   "source": [
    "# Quiz 2\n",
    "random 모듈의 randint() 함수를 사용하여 1에서 1000까지의 임의의 정수를 20개 생성하여 ‘rand_nums.txt’ 라는 이름의 파일로 저장하시오.\n",
    "‘rand_nums.txt’ 파일로부터 숫자를 읽은 후 짝수인 정수를 ‘rand_even.txt’ 라는 이름의 파일로 저장하시오.\n",
    "‘rand_nums.txt’ 파일로부터 숫자를 읽은 후 369게임에 해당하는 수를 순서대로 ‘rand_369.txt’ 라는 이름의 파일로 저장하시오.\n",
    "### 2 >>전체적인 문자열 함수 활용하는 방향으로 \n",
    "### find함수는 찾는 문자의 휘치를 반환한다!\n",
    "\n"
   ]
  },
  {
   "cell_type": "code",
   "execution_count": 14,
   "id": "54e9dee9",
   "metadata": {},
   "outputs": [
    {
     "name": "stdout",
     "output_type": "stream",
     "text": [
      "정상적으로 끝났슴둥\n"
     ]
    }
   ],
   "source": [
    "import random\n",
    "from random import randrange\n",
    "\n",
    "f = open(\"rand_nums.txt\", 'w')  ##쓰기 모드로 열어주고\n",
    "\n",
    "list = []\n",
    "for i in range (1,21):\n",
    "    number = randrange(0, 1001)\n",
    "    ##print(number)\n",
    "    list.append(number)\n",
    "    \n",
    "f.write('\\n'.join(map(str,list)))##이게 더 깔꼼\n",
    "#f.writelines(str(list))   ##이러면 리스트로 쓰여진다\n",
    "\n",
    "print(\"정상적으로 끝났슴둥\")\n",
    "f.close()\n",
    "    \n",
    "\n"
   ]
  },
  {
   "cell_type": "code",
   "execution_count": 17,
   "id": "7a0a3a11",
   "metadata": {},
   "outputs": [
    {
     "name": "stdout",
     "output_type": "stream",
     "text": [
      "576\n",
      "\n",
      "254\n",
      "\n",
      "944\n",
      "\n",
      "796\n",
      "\n",
      "476\n",
      "\n",
      "436\n",
      "\n",
      "662\n",
      "\n",
      "734\n",
      "정상적으로 끝났슴둥\n"
     ]
    }
   ],
   "source": [
    "import random\n",
    "from random import randrange\n",
    "\n",
    "f = open(\"rand_nums.txt\", 'r')  ##읽기 모드로 열어주고\n",
    "f1 = open(\"rand_even.txt\", 'w')  ##쓰기 모드로 열어주고\n",
    "\n",
    "\n",
    "list =[]\n",
    "\n",
    "for i in f:\n",
    "    if(int(i) % 2 ==0):\n",
    "        print(i)\n",
    "        list.append(i)\n",
    "        \n",
    "\n",
    "\n",
    "#f1.write('\\n'.join(map(str, list))) #줄바꿈으로 구분하면 읽을때 헷갈림\n",
    "f1.write(''.join(map(str, list)))\n",
    " \n",
    "    \n",
    "print(\"정상적으로 끝났슴둥\")\n",
    "f.close()\n",
    "f1.close()\n",
    "    \n",
    "\n"
   ]
  },
  {
   "cell_type": "code",
   "execution_count": 33,
   "id": "0a4acd46",
   "metadata": {},
   "outputs": [
    {
     "name": "stdout",
     "output_type": "stream",
     "text": [
      "576\n",
      "\n",
      "796\n",
      "\n",
      "476\n",
      "\n",
      "436\n",
      "\n",
      "정상적으로 끝났슴둥\n"
     ]
    }
   ],
   "source": [
    "f1 = open(\"rand_even.txt\", 'r')  ##쓰기 모드로 열어주고\n",
    "f2 = open(\"rand_369.txt\", 'w')  ##쓰기 모드로 열어주고\n",
    "\n",
    "list2 = []\n",
    "\n",
    "\n",
    "for j in f1:\n",
    "    if((j.find(\"3\")==2) or (j.find(\"6\")==2) or (j.find(\"9\")==2)):\n",
    "        print(j)\n",
    "        list2.append(j)\n",
    "        \n",
    "    \n",
    "        \n",
    "f2.write(''.join(map(str, list2)))\n",
    "\n",
    "\n",
    "print(\"정상적으로 끝났슴둥\")\n",
    "f1.close()\n",
    "f2.close()\n",
    "\n",
    "\n",
    "\n",
    "\n"
   ]
  },
  {
   "cell_type": "code",
   "execution_count": null,
   "id": "197fc568",
   "metadata": {},
   "outputs": [],
   "source": []
  }
 ],
 "metadata": {
  "kernelspec": {
   "display_name": "Python 3",
   "language": "python",
   "name": "python3"
  },
  "language_info": {
   "codemirror_mode": {
    "name": "ipython",
    "version": 3
   },
   "file_extension": ".py",
   "mimetype": "text/x-python",
   "name": "python",
   "nbconvert_exporter": "python",
   "pygments_lexer": "ipython3",
   "version": "3.8.8"
  }
 },
 "nbformat": 4,
 "nbformat_minor": 5
}
